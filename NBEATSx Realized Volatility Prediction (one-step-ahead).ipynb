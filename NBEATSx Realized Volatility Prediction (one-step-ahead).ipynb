{
 "cells": [
  {
   "cell_type": "code",
   "execution_count": 1,
   "id": "4984b7d3",
   "metadata": {},
   "outputs": [],
   "source": [
    "import pandas as pd\n",
    "import numpy as np\n",
    "import matplotlib.pyplot as plt\n",
    "import random"
   ]
  },
  {
   "cell_type": "code",
   "execution_count": 2,
   "id": "9922c45c",
   "metadata": {},
   "outputs": [],
   "source": [
    "from ray import tune"
   ]
  },
  {
   "cell_type": "code",
   "execution_count": 3,
   "id": "be034bcf",
   "metadata": {},
   "outputs": [],
   "source": [
    "from neuralforecast import NeuralForecast\n",
    "from neuralforecast.models import NBEATSx\n",
    "from neuralforecast.losses.pytorch import MQLoss, DistributionLoss, MAE, MSE, RMSE\n",
    "from neuralforecast.tsdataset import TimeSeriesDataset\n",
    "from neuralforecast.losses.numpy import rmse, mape\n",
    "from pandas.tseries.holiday import USFederalHolidayCalendar\n",
    "from pandas.tseries.offsets import CustomBusinessDay"
   ]
  },
  {
   "cell_type": "code",
   "execution_count": 4,
   "id": "b1fa69be",
   "metadata": {},
   "outputs": [],
   "source": [
    "from neuralforecast.models import NHITS"
   ]
  },
  {
   "cell_type": "code",
   "execution_count": 5,
   "id": "66445f54",
   "metadata": {},
   "outputs": [],
   "source": [
    "from neuralforecast.utils import AirPassengers, AirPassengersPanel, AirPassengersStatic"
   ]
  },
  {
   "cell_type": "code",
   "execution_count": 6,
   "id": "3e12b6ea",
   "metadata": {},
   "outputs": [],
   "source": [
    "df = pd.read_excel('S&P 500 Realized Volatility (NBEATSx).xlsx',index_col='Date',parse_dates=True)"
   ]
  },
  {
   "cell_type": "code",
   "execution_count": 7,
   "id": "d9f9b003",
   "metadata": {},
   "outputs": [],
   "source": [
    "Y_train = df"
   ]
  },
  {
   "cell_type": "code",
   "execution_count": 8,
   "id": "6a837566",
   "metadata": {},
   "outputs": [],
   "source": [
    "Y_train.reset_index(inplace=True)"
   ]
  },
  {
   "cell_type": "code",
   "execution_count": 10,
   "id": "19a690ee",
   "metadata": {},
   "outputs": [],
   "source": [
    "Y_train.rename(columns={'Date':'ds'}, inplace=True)"
   ]
  },
  {
   "cell_type": "code",
   "execution_count": 11,
   "id": "8c817b25",
   "metadata": {},
   "outputs": [],
   "source": [
    "Y_train.rename(columns={'Realised':'y'}, inplace=True)"
   ]
  },
  {
   "cell_type": "code",
   "execution_count": 12,
   "id": "2fd1b941",
   "metadata": {},
   "outputs": [
    {
     "data": {
      "text/html": [
       "<div>\n",
       "<style scoped>\n",
       "    .dataframe tbody tr th:only-of-type {\n",
       "        vertical-align: middle;\n",
       "    }\n",
       "\n",
       "    .dataframe tbody tr th {\n",
       "        vertical-align: top;\n",
       "    }\n",
       "\n",
       "    .dataframe thead th {\n",
       "        text-align: right;\n",
       "    }\n",
       "</style>\n",
       "<table border=\"1\" class=\"dataframe\">\n",
       "  <thead>\n",
       "    <tr style=\"text-align: right;\">\n",
       "      <th></th>\n",
       "      <th>ds</th>\n",
       "      <th>unique_id</th>\n",
       "      <th>y</th>\n",
       "      <th>S&amp;P 500 Financial Turbulence</th>\n",
       "      <th>VIX</th>\n",
       "      <th>Covid</th>\n",
       "    </tr>\n",
       "  </thead>\n",
       "  <tbody>\n",
       "    <tr>\n",
       "      <th>0</th>\n",
       "      <td>2017-11-02</td>\n",
       "      <td>Airline1</td>\n",
       "      <td>0.004873</td>\n",
       "      <td>806.442547</td>\n",
       "      <td>9.93</td>\n",
       "      <td>0</td>\n",
       "    </tr>\n",
       "    <tr>\n",
       "      <th>1</th>\n",
       "      <td>2017-11-03</td>\n",
       "      <td>Airline1</td>\n",
       "      <td>0.003036</td>\n",
       "      <td>702.337034</td>\n",
       "      <td>9.14</td>\n",
       "      <td>0</td>\n",
       "    </tr>\n",
       "    <tr>\n",
       "      <th>2</th>\n",
       "      <td>2017-11-06</td>\n",
       "      <td>Airline1</td>\n",
       "      <td>0.001808</td>\n",
       "      <td>529.197112</td>\n",
       "      <td>9.40</td>\n",
       "      <td>0</td>\n",
       "    </tr>\n",
       "    <tr>\n",
       "      <th>3</th>\n",
       "      <td>2017-11-07</td>\n",
       "      <td>Airline1</td>\n",
       "      <td>0.003225</td>\n",
       "      <td>512.157114</td>\n",
       "      <td>9.89</td>\n",
       "      <td>0</td>\n",
       "    </tr>\n",
       "    <tr>\n",
       "      <th>4</th>\n",
       "      <td>2017-11-08</td>\n",
       "      <td>Airline1</td>\n",
       "      <td>0.002568</td>\n",
       "      <td>493.752126</td>\n",
       "      <td>9.78</td>\n",
       "      <td>0</td>\n",
       "    </tr>\n",
       "  </tbody>\n",
       "</table>\n",
       "</div>"
      ],
      "text/plain": [
       "          ds unique_id         y  S&P 500 Financial Turbulence   VIX  Covid\n",
       "0 2017-11-02  Airline1  0.004873                    806.442547  9.93      0\n",
       "1 2017-11-03  Airline1  0.003036                    702.337034  9.14      0\n",
       "2 2017-11-06  Airline1  0.001808                    529.197112  9.40      0\n",
       "3 2017-11-07  Airline1  0.003225                    512.157114  9.89      0\n",
       "4 2017-11-08  Airline1  0.002568                    493.752126  9.78      0"
      ]
     },
     "execution_count": 12,
     "metadata": {},
     "output_type": "execute_result"
    }
   ],
   "source": [
    "Y_train.head()"
   ]
  },
  {
   "cell_type": "code",
   "execution_count": 13,
   "id": "08c4dea5",
   "metadata": {},
   "outputs": [
    {
     "data": {
      "text/plain": [
       "<AxesSubplot:>"
      ]
     },
     "execution_count": 13,
     "metadata": {},
     "output_type": "execute_result"
    },
    {
     "data": {
      "image/png": "[encoded data removed]",
      "text/plain": [
       "<Figure size 864x432 with 1 Axes>"
      ]
     },
     "metadata": {
      "needs_background": "light"
     },
     "output_type": "display_data"
    }
   ],
   "source": [
    "Y_train[\"y\"].plot(figsize=(12,6))"
   ]
  },
  {
   "cell_type": "code",
   "execution_count": 41,
   "id": "3cb16031",
   "metadata": {},
   "outputs": [],
   "source": [
    "RMSE=[]\n",
    "Accuracy=[]"
   ]
  },
  {
   "cell_type": "code",
   "execution_count": 227,
   "id": "a0f3c253",
   "metadata": {},
   "outputs": [
    {
     "name": "stderr",
     "output_type": "stream",
     "text": [
      "Global seed set to 26\n"
     ]
    }
   ],
   "source": [
    "model = NBEATSx(h=1, input_size=21,\n",
    "                loss=MSE(),\n",
    "                scaler_type='robust',\n",
    "                stat_exog_list=['Covid'],\n",
    "                learning_rate=0.0001,\n",
    "                stack_types=['identity','identity'],\n",
    "                n_blocks=[4, 4],\n",
    "                mlp_units=[[712, 712], [712, 712]],\n",
    "                windows_batch_size=30,\n",
    "                num_lr_decays=4,\n",
    "                val_check_steps=10,\n",
    "                n_harmonics=0, n_polynomials=0,\n",
    "                hist_exog_list=['S&P 500 Financial Turbulence','VIX'],\n",
    "                max_steps=50,\n",
    "                early_stop_patience_steps=0,\n",
    "                random_seed=random.randint(0, 100))\n"
   ]
  },
  {
   "cell_type": "code",
   "execution_count": 228,
   "id": "046dbcd5",
   "metadata": {},
   "outputs": [],
   "source": [
    "fcst = NeuralForecast(\n",
    "    models=[model],\n",
    "    freq=CustomBusinessDay(calendar=USFederalHolidayCalendar())\n",
    ")"
   ]
  },
  {
   "cell_type": "code",
   "execution_count": 229,
   "id": "82f3b6f7",
   "metadata": {
    "scrolled": true
   },
   "outputs": [
    {
     "data": {
      "application/vnd.jupyter.widget-view+json": {
       "model_id": "",
       "version_major": 2,
       "version_minor": 0
      },
      "text/plain": [
       "Sanity Checking: 0it [00:00, ?it/s]"
      ]
     },
     "metadata": {},
     "output_type": "display_data"
    },
    {
     "data": {
      "application/vnd.jupyter.widget-view+json": {
       "model_id": "79432aaf54e649dbb87b1290767ec66f",
       "version_major": 2,
       "version_minor": 0
      },
      "text/plain": [
       "Training: 0it [00:00, ?it/s]"
      ]
     },
     "metadata": {},
     "output_type": "display_data"
    },
    {
     "data": {
      "application/vnd.jupyter.widget-view+json": {
       "model_id": "",
       "version_major": 2,
       "version_minor": 0
      },
      "text/plain": [
       "Validation: 0it [00:00, ?it/s]"
      ]
     },
     "metadata": {},
     "output_type": "display_data"
    },
    {
     "data": {
      "application/vnd.jupyter.widget-view+json": {
       "model_id": "",
       "version_major": 2,
       "version_minor": 0
      },
      "text/plain": [
       "Validation: 0it [00:00, ?it/s]"
      ]
     },
     "metadata": {},
     "output_type": "display_data"
    },
    {
     "data": {
      "application/vnd.jupyter.widget-view+json": {
       "model_id": "",
       "version_major": 2,
       "version_minor": 0
      },
      "text/plain": [
       "Validation: 0it [00:00, ?it/s]"
      ]
     },
     "metadata": {},
     "output_type": "display_data"
    },
    {
     "data": {
      "application/vnd.jupyter.widget-view+json": {
       "model_id": "",
       "version_major": 2,
       "version_minor": 0
      },
      "text/plain": [
       "Validation: 0it [00:00, ?it/s]"
      ]
     },
     "metadata": {},
     "output_type": "display_data"
    },
    {
     "data": {
      "application/vnd.jupyter.widget-view+json": {
       "model_id": "",
       "version_major": 2,
       "version_minor": 0
      },
      "text/plain": [
       "Validation: 0it [00:00, ?it/s]"
      ]
     },
     "metadata": {},
     "output_type": "display_data"
    },
    {
     "data": {
      "application/vnd.jupyter.widget-view+json": {
       "model_id": "a61cea6a5d464573a4276ddd79f59751",
       "version_major": 2,
       "version_minor": 0
      },
      "text/plain": [
       "Predicting: 0it [00:00, ?it/s]"
      ]
     },
     "metadata": {},
     "output_type": "display_data"
    }
   ],
   "source": [
    "forecasts = fcst.cross_validation(df=Y_train,val_size=100,static_df=AirPassengersStatic,n_windows=None, test_size=252,step_size=1)"
   ]
  },
  {
   "cell_type": "code",
   "execution_count": 230,
   "id": "75b4722f",
   "metadata": {},
   "outputs": [],
   "source": [
    "Y_hat_df = forecasts.reset_index(drop=False).drop(columns=['unique_id','ds','S&P 500 Financial Turbulence','VIX','Covid'])"
   ]
  },
  {
   "cell_type": "code",
   "execution_count": 231,
   "id": "9f388d89",
   "metadata": {},
   "outputs": [],
   "source": [
    "Y_hat_df = Y_hat_df.drop(columns=['index','cutoff'])"
   ]
  },
  {
   "cell_type": "code",
   "execution_count": 232,
   "id": "99a31e1b",
   "metadata": {},
   "outputs": [],
   "source": [
    "Y_hat=Y_hat_df[\"NBEATSx\"].values"
   ]
  },
  {
   "cell_type": "code",
   "execution_count": 233,
   "id": "a5c5cc6c",
   "metadata": {},
   "outputs": [],
   "source": [
    "Y_true=Y_hat_df[\"y\"].values"
   ]
  },
  {
   "cell_type": "code",
   "execution_count": 234,
   "id": "f6cc51a2",
   "metadata": {},
   "outputs": [],
   "source": [
    "RMSE.append(rmse(y=Y_true, y_hat=Y_hat))"
   ]
  },
  {
   "cell_type": "code",
   "execution_count": 235,
   "id": "4dc514c8",
   "metadata": {},
   "outputs": [],
   "source": [
    "Accuracy.append((1-mape(y=Y_true, y_hat=Y_hat))*100)"
   ]
  },
  {
   "cell_type": "code",
   "execution_count": 239,
   "id": "40930127",
   "metadata": {},
   "outputs": [
    {
     "data": {
      "text/plain": [
       "[0.0034578374960992832,\n",
       " 0.0036921198473281206,\n",
       " 0.0036914316201903086,\n",
       " 0.003454194036698932,\n",
       " 0.0035027951942144075,\n",
       " 0.0038012887710242205,\n",
       " 0.0035486062301417058,\n",
       " 0.0037651377187715735,\n",
       " 0.0035540697206776152,\n",
       " 0.003587378584503499,\n",
       " 0.003544848525643436,\n",
       " 0.0035579088014889883,\n",
       " 0.0034293556097826404,\n",
       " 0.003470983302764081,\n",
       " 0.003635093673781768]"
      ]
     },
     "execution_count": 239,
     "metadata": {},
     "output_type": "execute_result"
    }
   ],
   "source": [
    "RMSE"
   ]
  },
  {
   "cell_type": "code",
   "execution_count": 244,
   "id": "3e2c8b20",
   "metadata": {},
   "outputs": [
    {
     "name": "stdout",
     "output_type": "stream",
     "text": [
      "mean: 0.358%\n"
     ]
    }
   ],
   "source": [
    "print(\"mean: %s\" %(round(np.mean(RMSE),5)*100)+\"%\")"
   ]
  },
  {
   "cell_type": "code",
   "execution_count": 245,
   "id": "f304f25f",
   "metadata": {},
   "outputs": [
    {
     "name": "stdout",
     "output_type": "stream",
     "text": [
      "stdv: 0.011000000000000001%\n"
     ]
    }
   ],
   "source": [
    "print(\"stdv: %s\" %(round(np.std(RMSE),5)*100)+\"%\")"
   ]
  },
  {
   "cell_type": "code",
   "execution_count": 246,
   "id": "c16dbc8e",
   "metadata": {},
   "outputs": [
    {
     "name": "stdout",
     "output_type": "stream",
     "text": [
      "95 percent CI lower bound: 0.336%\n",
      "95 percent CI upper bound: 0.38%\n"
     ]
    }
   ],
   "source": [
    "RMSE_CI_95_lower_bound=np.mean(RMSE)-2*np.std(RMSE)\n",
    "RMSE_CI_95_upper_bound=np.mean(RMSE)+2*np.std(RMSE)\n",
    "print(\"95 percent CI lower bound: %s\" %(round(RMSE_CI_95_lower_bound,5)*100)+\"%\")\n",
    "print(\"95 percent CI upper bound: %s\" %(round(RMSE_CI_95_upper_bound,5)*100)+\"%\")"
   ]
  },
  {
   "cell_type": "code",
   "execution_count": 247,
   "id": "6670ce18",
   "metadata": {},
   "outputs": [
    {
     "name": "stdout",
     "output_type": "stream",
     "text": [
      "99.7 percent CI lower bound: 0.325%\n",
      "99.7 percent CI upper bound: 0.391%\n"
     ]
    }
   ],
   "source": [
    "RMSE_CI_99_lower_bound=np.mean(RMSE)-3*np.std(RMSE)\n",
    "RMSE_CI_99_upper_bound=np.mean(RMSE)+3*np.std(RMSE)\n",
    "print(\"99.7 percent CI lower bound: %s\" %(round(RMSE_CI_99_lower_bound,5)*100)+\"%\")\n",
    "print(\"99.7 percent CI upper bound: %s\" %(round(RMSE_CI_99_upper_bound,5)*100)+\"%\")"
   ]
  },
  {
   "cell_type": "code",
   "execution_count": 237,
   "id": "82a3587f",
   "metadata": {},
   "outputs": [
    {
     "data": {
      "text/plain": [
       "[77.31009334323973,\n",
       " 76.66075361246834,\n",
       " 76.94936286972779,\n",
       " 79.31145620317592,\n",
       " 78.70540414365549,\n",
       " 75.52047221394855,\n",
       " 77.83368519894873,\n",
       " 76.82472317350575,\n",
       " 77.06588907051368,\n",
       " 76.55698827558378,\n",
       " 77.95164440491756,\n",
       " 78.77113061772125,\n",
       " 78.02617863992728,\n",
       " 80.25014738284312,\n",
       " 76.19640482602486]"
      ]
     },
     "execution_count": 237,
     "metadata": {},
     "output_type": "execute_result"
    }
   ],
   "source": [
    "Accuracy"
   ]
  },
  {
   "cell_type": "code",
   "execution_count": 240,
   "id": "0f54f231",
   "metadata": {},
   "outputs": [
    {
     "name": "stdout",
     "output_type": "stream",
     "text": [
      "mean: 77.6%\n"
     ]
    }
   ],
   "source": [
    "print(\"mean: %s\" %(round(np.mean(Accuracy),2))+\"%\")"
   ]
  },
  {
   "cell_type": "code",
   "execution_count": 241,
   "id": "9d84917f",
   "metadata": {},
   "outputs": [
    {
     "name": "stdout",
     "output_type": "stream",
     "text": [
      "stdv: 1.23%\n"
     ]
    }
   ],
   "source": [
    "print(\"stdv: %s\" %(round(np.std(Accuracy),2))+\"%\")"
   ]
  },
  {
   "cell_type": "code",
   "execution_count": 242,
   "id": "99eb3918",
   "metadata": {},
   "outputs": [
    {
     "name": "stdout",
     "output_type": "stream",
     "text": [
      "95 percent CI lower bound: 75.14%\n",
      "95 percent CI upper bound: 80.05%\n"
     ]
    }
   ],
   "source": [
    "Accuracy_CI_95_lower_bound=np.mean(Accuracy)-2*np.std(Accuracy)\n",
    "Accuracy_CI_95_upper_bound=np.mean(Accuracy)+2*np.std(Accuracy)\n",
    "print(\"95 percent CI lower bound: %s\" %round(Accuracy_CI_95_lower_bound,2)+\"%\")\n",
    "print(\"95 percent CI upper bound: %s\" %round(Accuracy_CI_95_upper_bound,2)+\"%\")"
   ]
  },
  {
   "cell_type": "code",
   "execution_count": 243,
   "id": "98cae2ca",
   "metadata": {},
   "outputs": [
    {
     "name": "stdout",
     "output_type": "stream",
     "text": [
      "99.7 percent CI lower bound: 73.92%\n",
      "99.7 percent CI upper bound: 81.28%\n"
     ]
    }
   ],
   "source": [
    "Accuracy_CI_99_lower_bound=np.mean(Accuracy)-3*np.std(Accuracy)\n",
    "Accuracy_CI_99_upper_bound=np.mean(Accuracy)+3*np.std(Accuracy)\n",
    "print(\"99.7 percent CI lower bound: %s\" %round(Accuracy_CI_99_lower_bound,2)+\"%\")\n",
    "print(\"99.7 percent CI upper bound: %s\" %round(Accuracy_CI_99_upper_bound,2)+\"%\")"
   ]
  },
  {
   "cell_type": "code",
   "execution_count": 224,
   "id": "eda9f41c",
   "metadata": {},
   "outputs": [
    {
     "data": {
      "text/plain": [
       "[<matplotlib.lines.Line2D at 0x2170fff18b0>]"
      ]
     },
     "execution_count": 224,
     "metadata": {},
     "output_type": "execute_result"
    },
    {
     "data": {
      "image/png": "[encoded data removed]",
      "text/plain": [
       "<Figure size 432x288 with 1 Axes>"
      ]
     },
     "metadata": {
      "needs_background": "light"
     },
     "output_type": "display_data"
    }
   ],
   "source": [
    "plt.plot(range(len(Y_hat)),Y_true)\n",
    "plt.plot(range(len(Y_hat)),Y_hat)"
   ]
  },
  {
   "cell_type": "code",
   "execution_count": 225,
   "id": "817e4242",
   "metadata": {},
   "outputs": [
    {
     "data": {
      "text/plain": [
       "(array([19012., 19013., 19014., 19015., 19016., 19017., 19018.]),\n",
       " [Text(0, 0, ''),\n",
       "  Text(0, 0, ''),\n",
       "  Text(0, 0, ''),\n",
       "  Text(0, 0, ''),\n",
       "  Text(0, 0, ''),\n",
       "  Text(0, 0, ''),\n",
       "  Text(0, 0, '')])"
      ]
     },
     "execution_count": 225,
     "metadata": {},
     "output_type": "execute_result"
    },
    {
     "data": {
      "image/png": "[encoded data removed]",
      "text/plain": [
       "<Figure size 432x288 with 1 Axes>"
      ]
     },
     "metadata": {
      "needs_background": "light"
     },
     "output_type": "display_data"
    }
   ],
   "source": [
    "plt.plot(forecasts[\"ds\"][55:60],Y_true[55:60])\n",
    "plt.plot(forecasts[\"ds\"][55:60],Y_hat[55:60])\n",
    "plt.xticks(rotation=30)"
   ]
  },
  {
   "cell_type": "code",
   "execution_count": 226,
   "id": "ad6ce738",
   "metadata": {},
   "outputs": [
    {
     "data": {
      "text/plain": [
       "(0.006, 0.028)"
      ]
     },
     "execution_count": 226,
     "metadata": {},
     "output_type": "execute_result"
    },
    {
     "data": {
      "image/png": "[encoded data removed]",
      "text/plain": [
       "<Figure size 432x288 with 1 Axes>"
      ]
     },
     "metadata": {
      "needs_background": "light"
     },
     "output_type": "display_data"
    }
   ],
   "source": [
    "plt.plot(forecasts[\"ds\"][175:180],Y_true[175:180])\n",
    "plt.plot(forecasts[\"ds\"][175:180],Y_hat[175:180])\n",
    "plt.xticks(rotation=30)\n",
    "ax = plt.gca()\n",
    "ax.set_ylim(0.006, 0.028)"
   ]
  },
  {
   "cell_type": "code",
   "execution_count": null,
   "id": "4bf0d683",
   "metadata": {},
   "outputs": [],
   "source": []
  }
 ],
 "metadata": {
  "kernelspec": {
   "display_name": "Python 3 (ipykernel)",
   "language": "python",
   "name": "python3"
  },
  "language_info": {
   "codemirror_mode": {
    "name": "ipython",
    "version": 3
   },
   "file_extension": ".py",
   "mimetype": "text/x-python",
   "name": "python",
   "nbconvert_exporter": "python",
   "pygments_lexer": "ipython3",
   "version": "3.9.12"
  }
 },
 "nbformat": 4,
 "nbformat_minor": 5
}
