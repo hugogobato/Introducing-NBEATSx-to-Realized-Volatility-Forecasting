{
 "cells": [
  {
   "cell_type": "code",
   "execution_count": 1,
   "id": "4984b7d3",
   "metadata": {},
   "outputs": [],
   "source": [
    "import pandas as pd\n",
    "import numpy as np\n",
    "import matplotlib.pyplot as plt\n",
    "import random"
   ]
  },
  {
   "cell_type": "code",
   "execution_count": 2,
   "id": "9922c45c",
   "metadata": {},
   "outputs": [],
   "source": [
    "from ray import tune"
   ]
  },
  {
   "cell_type": "code",
   "execution_count": 3,
   "id": "be034bcf",
   "metadata": {},
   "outputs": [],
   "source": [
    "from neuralforecast import NeuralForecast\n",
    "from neuralforecast.models import NBEATSx\n",
    "from neuralforecast.losses.pytorch import MQLoss, DistributionLoss, MAE, MSE, RMSE\n",
    "from neuralforecast.tsdataset import TimeSeriesDataset\n",
    "from neuralforecast.losses.numpy import rmse, mape\n",
    "from pandas.tseries.holiday import USFederalHolidayCalendar\n",
    "from pandas.tseries.offsets import CustomBusinessDay"
   ]
  },
  {
   "cell_type": "code",
   "execution_count": 4,
   "id": "b1fa69be",
   "metadata": {},
   "outputs": [],
   "source": [
    "from neuralforecast.models import NHITS"
   ]
  },
  {
   "cell_type": "code",
   "execution_count": 5,
   "id": "66445f54",
   "metadata": {},
   "outputs": [],
   "source": [
    "from neuralforecast.utils import AirPassengers, AirPassengersPanel, AirPassengersStatic"
   ]
  },
  {
   "cell_type": "code",
   "execution_count": 6,
   "id": "3e12b6ea",
   "metadata": {},
   "outputs": [],
   "source": [
    "df = pd.read_excel('S&P 500 Realized Volatility (NBEATSx).xlsx',index_col='Date',parse_dates=True)"
   ]
  },
  {
   "cell_type": "code",
   "execution_count": 7,
   "id": "d9f9b003",
   "metadata": {},
   "outputs": [],
   "source": [
    "Y_train = df[:1005]"
   ]
  },
  {
   "cell_type": "code",
   "execution_count": 8,
   "id": "6a837566",
   "metadata": {},
   "outputs": [],
   "source": [
    "Y_train.reset_index(inplace=True)"
   ]
  },
  {
   "cell_type": "code",
   "execution_count": 9,
   "id": "19a690ee",
   "metadata": {},
   "outputs": [],
   "source": [
    "Y_train.rename(columns={'Date':'ds'}, inplace=True)"
   ]
  },
  {
   "cell_type": "code",
   "execution_count": 10,
   "id": "8c817b25",
   "metadata": {},
   "outputs": [],
   "source": [
    "Y_train.rename(columns={'Realised':'y'}, inplace=True)"
   ]
  },
  {
   "cell_type": "code",
   "execution_count": 11,
   "id": "2fd1b941",
   "metadata": {},
   "outputs": [
    {
     "data": {
      "text/html": [
       "<div>\n",
       "<style scoped>\n",
       "    .dataframe tbody tr th:only-of-type {\n",
       "        vertical-align: middle;\n",
       "    }\n",
       "\n",
       "    .dataframe tbody tr th {\n",
       "        vertical-align: top;\n",
       "    }\n",
       "\n",
       "    .dataframe thead th {\n",
       "        text-align: right;\n",
       "    }\n",
       "</style>\n",
       "<table border=\"1\" class=\"dataframe\">\n",
       "  <thead>\n",
       "    <tr style=\"text-align: right;\">\n",
       "      <th></th>\n",
       "      <th>ds</th>\n",
       "      <th>unique_id</th>\n",
       "      <th>y</th>\n",
       "      <th>S&amp;P 500 Financial Turbulence</th>\n",
       "      <th>VIX</th>\n",
       "      <th>Covid</th>\n",
       "    </tr>\n",
       "  </thead>\n",
       "  <tbody>\n",
       "    <tr>\n",
       "      <th>0</th>\n",
       "      <td>2017-11-02</td>\n",
       "      <td>Airline1</td>\n",
       "      <td>0.004873</td>\n",
       "      <td>806.442547</td>\n",
       "      <td>9.93</td>\n",
       "      <td>0</td>\n",
       "    </tr>\n",
       "    <tr>\n",
       "      <th>1</th>\n",
       "      <td>2017-11-03</td>\n",
       "      <td>Airline1</td>\n",
       "      <td>0.003036</td>\n",
       "      <td>702.337034</td>\n",
       "      <td>9.14</td>\n",
       "      <td>0</td>\n",
       "    </tr>\n",
       "    <tr>\n",
       "      <th>2</th>\n",
       "      <td>2017-11-06</td>\n",
       "      <td>Airline1</td>\n",
       "      <td>0.001808</td>\n",
       "      <td>529.197112</td>\n",
       "      <td>9.40</td>\n",
       "      <td>0</td>\n",
       "    </tr>\n",
       "    <tr>\n",
       "      <th>3</th>\n",
       "      <td>2017-11-07</td>\n",
       "      <td>Airline1</td>\n",
       "      <td>0.003225</td>\n",
       "      <td>512.157114</td>\n",
       "      <td>9.89</td>\n",
       "      <td>0</td>\n",
       "    </tr>\n",
       "    <tr>\n",
       "      <th>4</th>\n",
       "      <td>2017-11-08</td>\n",
       "      <td>Airline1</td>\n",
       "      <td>0.002568</td>\n",
       "      <td>493.752126</td>\n",
       "      <td>9.78</td>\n",
       "      <td>0</td>\n",
       "    </tr>\n",
       "  </tbody>\n",
       "</table>\n",
       "</div>"
      ],
      "text/plain": [
       "          ds unique_id         y  S&P 500 Financial Turbulence   VIX  Covid\n",
       "0 2017-11-02  Airline1  0.004873                    806.442547  9.93      0\n",
       "1 2017-11-03  Airline1  0.003036                    702.337034  9.14      0\n",
       "2 2017-11-06  Airline1  0.001808                    529.197112  9.40      0\n",
       "3 2017-11-07  Airline1  0.003225                    512.157114  9.89      0\n",
       "4 2017-11-08  Airline1  0.002568                    493.752126  9.78      0"
      ]
     },
     "execution_count": 11,
     "metadata": {},
     "output_type": "execute_result"
    }
   ],
   "source": [
    "Y_train.head()"
   ]
  },
  {
   "cell_type": "code",
   "execution_count": 12,
   "id": "08c4dea5",
   "metadata": {},
   "outputs": [
    {
     "data": {
      "text/plain": [
       "<AxesSubplot:>"
      ]
     },
     "execution_count": 12,
     "metadata": {},
     "output_type": "execute_result"
    },
    {
     "data": {
      "image/png": "[encoded data removed]",
      "text/plain": [
       "<Figure size 864x432 with 1 Axes>"
      ]
     },
     "metadata": {
      "needs_background": "light"
     },
     "output_type": "display_data"
    }
   ],
   "source": [
    "Y_train[\"y\"].plot(figsize=(12,6))"
   ]
  },
  {
   "cell_type": "markdown",
   "id": "6865f74c",
   "metadata": {},
   "source": [
    "# Validation"
   ]
  },
  {
   "cell_type": "code",
   "execution_count": 62,
   "id": "6e746c9a",
   "metadata": {},
   "outputs": [],
   "source": [
    "RMSE=[]\n",
    "Accuracy=[]"
   ]
  },
  {
   "cell_type": "code",
   "execution_count": 87,
   "id": "70f23940",
   "metadata": {},
   "outputs": [
    {
     "name": "stderr",
     "output_type": "stream",
     "text": [
      "Global seed set to 38273928\n"
     ]
    },
    {
     "data": {
      "application/vnd.jupyter.widget-view+json": {
       "model_id": "",
       "version_major": 2,
       "version_minor": 0
      },
      "text/plain": [
       "Sanity Checking: 0it [00:00, ?it/s]"
      ]
     },
     "metadata": {},
     "output_type": "display_data"
    },
    {
     "data": {
      "application/vnd.jupyter.widget-view+json": {
       "model_id": "73c349ebd0e545b28ec8c30405a1c2cd",
       "version_major": 2,
       "version_minor": 0
      },
      "text/plain": [
       "Training: 0it [00:00, ?it/s]"
      ]
     },
     "metadata": {},
     "output_type": "display_data"
    },
    {
     "data": {
      "application/vnd.jupyter.widget-view+json": {
       "model_id": "",
       "version_major": 2,
       "version_minor": 0
      },
      "text/plain": [
       "Validation: 0it [00:00, ?it/s]"
      ]
     },
     "metadata": {},
     "output_type": "display_data"
    },
    {
     "data": {
      "application/vnd.jupyter.widget-view+json": {
       "model_id": "",
       "version_major": 2,
       "version_minor": 0
      },
      "text/plain": [
       "Validation: 0it [00:00, ?it/s]"
      ]
     },
     "metadata": {},
     "output_type": "display_data"
    },
    {
     "data": {
      "application/vnd.jupyter.widget-view+json": {
       "model_id": "",
       "version_major": 2,
       "version_minor": 0
      },
      "text/plain": [
       "Validation: 0it [00:00, ?it/s]"
      ]
     },
     "metadata": {},
     "output_type": "display_data"
    },
    {
     "data": {
      "application/vnd.jupyter.widget-view+json": {
       "model_id": "",
       "version_major": 2,
       "version_minor": 0
      },
      "text/plain": [
       "Validation: 0it [00:00, ?it/s]"
      ]
     },
     "metadata": {},
     "output_type": "display_data"
    },
    {
     "data": {
      "application/vnd.jupyter.widget-view+json": {
       "model_id": "",
       "version_major": 2,
       "version_minor": 0
      },
      "text/plain": [
       "Validation: 0it [00:00, ?it/s]"
      ]
     },
     "metadata": {},
     "output_type": "display_data"
    },
    {
     "data": {
      "application/vnd.jupyter.widget-view+json": {
       "model_id": "",
       "version_major": 2,
       "version_minor": 0
      },
      "text/plain": [
       "Validation: 0it [00:00, ?it/s]"
      ]
     },
     "metadata": {},
     "output_type": "display_data"
    },
    {
     "data": {
      "application/vnd.jupyter.widget-view+json": {
       "model_id": "",
       "version_major": 2,
       "version_minor": 0
      },
      "text/plain": [
       "Validation: 0it [00:00, ?it/s]"
      ]
     },
     "metadata": {},
     "output_type": "display_data"
    },
    {
     "data": {
      "application/vnd.jupyter.widget-view+json": {
       "model_id": "",
       "version_major": 2,
       "version_minor": 0
      },
      "text/plain": [
       "Validation: 0it [00:00, ?it/s]"
      ]
     },
     "metadata": {},
     "output_type": "display_data"
    },
    {
     "data": {
      "application/vnd.jupyter.widget-view+json": {
       "model_id": "",
       "version_major": 2,
       "version_minor": 0
      },
      "text/plain": [
       "Validation: 0it [00:00, ?it/s]"
      ]
     },
     "metadata": {},
     "output_type": "display_data"
    },
    {
     "data": {
      "application/vnd.jupyter.widget-view+json": {
       "model_id": "",
       "version_major": 2,
       "version_minor": 0
      },
      "text/plain": [
       "Validation: 0it [00:00, ?it/s]"
      ]
     },
     "metadata": {},
     "output_type": "display_data"
    },
    {
     "data": {
      "application/vnd.jupyter.widget-view+json": {
       "model_id": "654ccefb0adf4a399aa08cb31b95d8af",
       "version_major": 2,
       "version_minor": 0
      },
      "text/plain": [
       "Predicting: 0it [00:00, ?it/s]"
      ]
     },
     "metadata": {},
     "output_type": "display_data"
    }
   ],
   "source": [
    "model = NBEATSx(h=1, input_size=189,\n",
    "                loss=MSE(),\n",
    "                scaler_type='robust',\n",
    "                stat_exog_list=['Covid'],\n",
    "                learning_rate=0.0001,\n",
    "                stack_types=['identity','identity'],\n",
    "                n_blocks=[4, 4],\n",
    "                mlp_units=[[712, 712], [712, 712]],\n",
    "                windows_batch_size=30,\n",
    "                num_lr_decays=4,\n",
    "                val_check_steps=10,\n",
    "                n_harmonics=0, n_polynomials=0,\n",
    "                hist_exog_list=['S&P 500 Financial Turbulence','VIX'],\n",
    "                max_steps=100,\n",
    "                early_stop_patience_steps=0,\n",
    "                random_seed=38273928)\n",
    "fcst = NeuralForecast(\n",
    "    models=[model],\n",
    "    freq=CustomBusinessDay(calendar=USFederalHolidayCalendar())\n",
    ")\n",
    "forecasts = fcst.cross_validation(df=Y_train,val_size=1,static_df=AirPassengersStatic,n_windows=None, test_size=99,step_size=1)"
   ]
  },
  {
   "cell_type": "code",
   "execution_count": 88,
   "id": "5264122b",
   "metadata": {},
   "outputs": [],
   "source": [
    "Y_hat_df = forecasts.reset_index(drop=False).drop(columns=['unique_id','ds','S&P 500 Financial Turbulence','VIX','Covid','index','cutoff'])\n",
    "Y_hat=Y_hat_df[\"NBEATSx\"].values\n",
    "Y_true=Y_hat_df[\"y\"].values\n",
    "RMSE.append(rmse(y=Y_true, y_hat=Y_hat))\n",
    "Accuracy.append((1-mape(y=Y_true, y_hat=Y_hat))*100)"
   ]
  },
  {
   "cell_type": "code",
   "execution_count": 89,
   "id": "1ddad21e",
   "metadata": {
    "scrolled": true
   },
   "outputs": [
    {
     "data": {
      "text/plain": [
       "[0.0010270720165727956,\n",
       " 0.0010500036324722177,\n",
       " 0.0010848920032899248,\n",
       " 0.0010906660923845415,\n",
       " 0.0011375208644977882,\n",
       " 0.001148475448881578,\n",
       " 0.0011989914916691576]"
      ]
     },
     "execution_count": 89,
     "metadata": {},
     "output_type": "execute_result"
    }
   ],
   "source": [
    "RMSE"
   ]
  },
  {
   "cell_type": "code",
   "execution_count": 90,
   "id": "425b4515",
   "metadata": {},
   "outputs": [
    {
     "data": {
      "text/plain": [
       "[85.79613158244774,\n",
       " 85.47662802772894,\n",
       " 84.087921570478,\n",
       " 84.70186892563936,\n",
       " 83.01027563655087,\n",
       " 81.61734905323208,\n",
       " 80.20333007285424]"
      ]
     },
     "execution_count": 90,
     "metadata": {},
     "output_type": "execute_result"
    }
   ],
   "source": [
    "Accuracy"
   ]
  },
  {
   "cell_type": "markdown",
   "id": "7987c3e6",
   "metadata": {},
   "source": [
    "Random seed was chosen as the day, month and year of the experiment\n",
    "Input size 21\n",
    "model = NBEATSx(h=1, input_size=21,\n",
    "                loss=MSE(),\n",
    "                scaler_type='robust',\n",
    "                stat_exog_list=['Covid'],\n",
    "                learning_rate=0.0001,\n",
    "                stack_types=['identity','identity'],\n",
    "                n_blocks=[1, 1],\n",
    "                mlp_units=[[712, 712], [712, 712]],\n",
    "                windows_batch_size=30,\n",
    "                num_lr_decays=4,\n",
    "                val_check_steps=10,\n",
    "                n_harmonics=0, n_polynomials=0,\n",
    "                hist_exog_list=['S&P 500 Financial Turbulence','VIX'],\n",
    "                max_steps=100,\n",
    "                early_stop_patience_steps=0,\n",
    "                random_seed=542023)\n",
    "\n",
    "RMSE=0.0012750256725123019\n",
    "Accuracy=77.80546741444739\n",
    "\n",
    "Input size 63\n",
    "model = NBEATSx(h=1, input_size=63,\n",
    "                loss=MSE(),\n",
    "                scaler_type='robust',\n",
    "                stat_exog_list=['Covid'],\n",
    "                learning_rate=0.0001,\n",
    "                stack_types=['identity','identity'],\n",
    "                n_blocks=[1, 1],\n",
    "                mlp_units=[[712, 712], [712, 712]],\n",
    "                windows_batch_size=30,\n",
    "                num_lr_decays=4,\n",
    "                val_check_steps=10,\n",
    "                n_harmonics=0, n_polynomials=0,\n",
    "                hist_exog_list=['S&P 500 Financial Turbulence','VIX'],\n",
    "                max_steps=100,\n",
    "                early_stop_patience_steps=0,\n",
    "                random_seed=542023)\n",
    "\n",
    "RMSE=0.0010755322612348156\n",
    "Accuracy=82.3072127877507\n",
    "\n",
    "Input size 84\n",
    "model = NBEATSx(h=1, input_size=84,\n",
    "                loss=MSE(),\n",
    "                scaler_type='robust',\n",
    "                stat_exog_list=['Covid'],\n",
    "                learning_rate=0.0001,\n",
    "                stack_types=['identity','identity'],\n",
    "                n_blocks=[1, 1],\n",
    "                mlp_units=[[712, 712], [712, 712]],\n",
    "                windows_batch_size=30,\n",
    "                num_lr_decays=4,\n",
    "                val_check_steps=10,\n",
    "                n_harmonics=0, n_polynomials=0,\n",
    "                hist_exog_list=['S&P 500 Financial Turbulence','VIX'],\n",
    "                max_steps=100,\n",
    "                early_stop_patience_steps=0,\n",
    "                random_seed=542023)\n",
    "\n",
    "RMSE=0.0010273686277538063\n",
    "Accuracy=85.51925881155009\n",
    "\n",
    "Input size 126\n",
    "model = NBEATSx(h=1, input_size=126,\n",
    "                loss=MSE(),\n",
    "                scaler_type='robust',\n",
    "                stat_exog_list=['Covid'],\n",
    "                learning_rate=0.0001,\n",
    "                stack_types=['identity','identity'],\n",
    "                n_blocks=[1, 1],\n",
    "                mlp_units=[[712, 712], [712, 712]],\n",
    "                windows_batch_size=30,\n",
    "                num_lr_decays=4,\n",
    "                val_check_steps=10,\n",
    "                n_harmonics=0, n_polynomials=0,\n",
    "                hist_exog_list=['S&P 500 Financial Turbulence','VIX'],\n",
    "                max_steps=100,\n",
    "                early_stop_patience_steps=0,\n",
    "                random_seed=542023)\n",
    "\n",
    "RMSE=0.0011649990783474116\n",
    "Accuracy=82.24982139829756\n",
    "\n",
    "Input size 189\n",
    "model = NBEATSx(h=1, input_size=189,\n",
    "                loss=MSE(),\n",
    "                scaler_type='robust',\n",
    "                stat_exog_list=['Covid'],\n",
    "                learning_rate=0.0001,\n",
    "                stack_types=['identity','identity'],\n",
    "                n_blocks=[1, 1],\n",
    "                mlp_units=[[712, 712], [712, 712]],\n",
    "                windows_batch_size=30,\n",
    "                num_lr_decays=4,\n",
    "                val_check_steps=10,\n",
    "                n_harmonics=0, n_polynomials=0,\n",
    "                hist_exog_list=['S&P 500 Financial Turbulence','VIX'],\n",
    "                max_steps=100,\n",
    "                early_stop_patience_steps=0,\n",
    "                random_seed=542023)\n",
    "\n",
    "RMSE=0.0010618705548875766\n",
    "Accuracy=81.86580782354214\n",
    "\n",
    "Input size 252\n",
    "model = NBEATSx(h=1, input_size=252,\n",
    "                loss=MSE(),\n",
    "                scaler_type='robust',\n",
    "                stat_exog_list=['Covid'],\n",
    "                learning_rate=0.0001,\n",
    "                stack_types=['identity','identity'],\n",
    "                n_blocks=[1, 1],\n",
    "                mlp_units=[[712, 712], [712, 712]],\n",
    "                windows_batch_size=30,\n",
    "                num_lr_decays=4,\n",
    "                val_check_steps=10,\n",
    "                n_harmonics=0, n_polynomials=0,\n",
    "                hist_exog_list=['S&P 500 Financial Turbulence','VIX'],\n",
    "                max_steps=100,\n",
    "                early_stop_patience_steps=0,\n",
    "                random_seed=542023)\n",
    "                \n",
    "RMSE=0.0010955727333856354\n",
    "Accuracy=82.84625280456127\n",
    "\n",
    "Having random seed 30082001 (main author's birthday) to assess the best inputs\n",
    "\n",
    "Input size 63\n",
    "model = NBEATSx(h=1, input_size=63,\n",
    "                loss=MSE(),\n",
    "                scaler_type='robust',\n",
    "                stat_exog_list=['Covid'],\n",
    "                learning_rate=0.0001,\n",
    "                stack_types=['identity','identity'],\n",
    "                n_blocks=[1, 1],\n",
    "                mlp_units=[[712, 712], [712, 712]],\n",
    "                windows_batch_size=30,\n",
    "                num_lr_decays=4,\n",
    "                val_check_steps=10,\n",
    "                n_harmonics=0, n_polynomials=0,\n",
    "                hist_exog_list=['S&P 500 Financial Turbulence','VIX'],\n",
    "                max_steps=100,\n",
    "                early_stop_patience_steps=0,\n",
    "                random_seed=30082001)\n",
    "\n",
    "RMSE=0.0010755322612348156\n",
    "Accuracy=81.91526795443387\n",
    "\n",
    "Input size 84\n",
    "model = NBEATSx(h=1, input_size=84,\n",
    "                loss=MSE(),\n",
    "                scaler_type='robust',\n",
    "                stat_exog_list=['Covid'],\n",
    "                learning_rate=0.0001,\n",
    "                stack_types=['identity','identity'],\n",
    "                n_blocks=[1, 1],\n",
    "                mlp_units=[[712, 712], [712, 712]],\n",
    "                windows_batch_size=30,\n",
    "                num_lr_decays=4,\n",
    "                val_check_steps=10,\n",
    "                n_harmonics=0, n_polynomials=0,\n",
    "                hist_exog_list=['S&P 500 Financial Turbulence','VIX'],\n",
    "                max_steps=100,\n",
    "                early_stop_patience_steps=0,\n",
    "                random_seed=30082001)\n",
    "\n",
    "RMSE=0.0010756347388265707\n",
    "Accuracy=85.11723977923722\n",
    "\n",
    "Input size 189\n",
    "model = NBEATSx(h=1, input_size=189,\n",
    "                loss=MSE(),\n",
    "                scaler_type='robust',\n",
    "                stat_exog_list=['Covid'],\n",
    "                learning_rate=0.0001,\n",
    "                stack_types=['identity','identity'],\n",
    "                n_blocks=[1, 1],\n",
    "                mlp_units=[[712, 712], [712, 712]],\n",
    "                windows_batch_size=30,\n",
    "                num_lr_decays=4,\n",
    "                val_check_steps=10,\n",
    "                n_harmonics=0, n_polynomials=0,\n",
    "                hist_exog_list=['S&P 500 Financial Turbulence','VIX'],\n",
    "                max_steps=100,\n",
    "                early_stop_patience_steps=0,\n",
    "                random_seed=30082001)\n",
    "\n",
    "RMSE=0.0010150318294162904\n",
    "Accuracy=87.01580616696137\n",
    "\n",
    "Having random seed 164808 to assess the best inputs\n",
    "\n",
    "Input size 84\n",
    "model = NBEATSx(h=1, input_size=84,\n",
    "                loss=MSE(),\n",
    "                scaler_type='robust',\n",
    "                stat_exog_list=['Covid'],\n",
    "                learning_rate=0.0001,\n",
    "                stack_types=['identity','identity'],\n",
    "                n_blocks=[1, 1],\n",
    "                mlp_units=[[712, 712], [712, 712]],\n",
    "                windows_batch_size=30,\n",
    "                num_lr_decays=4,\n",
    "                val_check_steps=10,\n",
    "                n_harmonics=0, n_polynomials=0,\n",
    "                hist_exog_list=['S&P 500 Financial Turbulence','VIX'],\n",
    "                max_steps=100,\n",
    "                early_stop_patience_steps=0,\n",
    "                random_seed=164808)\n",
    "\n",
    "RMSE=0.0010744056750138413\n",
    "Accuracy=84.29002774532431\n",
    "\n",
    "Input size 189\n",
    "model = NBEATSx(h=1, input_size=189,\n",
    "                loss=MSE(),\n",
    "                scaler_type='robust',\n",
    "                stat_exog_list=['Covid'],\n",
    "                learning_rate=0.0001,\n",
    "                stack_types=['identity','identity'],\n",
    "                n_blocks=[1, 1],\n",
    "                mlp_units=[[712, 712], [712, 712]],\n",
    "                windows_batch_size=30,\n",
    "                num_lr_decays=4,\n",
    "                val_check_steps=10,\n",
    "                n_harmonics=0, n_polynomials=0,\n",
    "                hist_exog_list=['S&P 500 Financial Turbulence','VIX'],\n",
    "                max_steps=100,\n",
    "                early_stop_patience_steps=0,\n",
    "                random_seed=164808)\n",
    "\n",
    "RMSE=0.0010270720165727956\n",
    "Accuracy=85.79613158244774\n",
    "\n",
    "Input size of 189 was chosen\n",
    "Having random seed as 1\n",
    "model = NBEATSx(h=1, input_size=189,\n",
    "                loss=MSE(),\n",
    "                scaler_type='robust',\n",
    "                stat_exog_list=['Covid'],\n",
    "                learning_rate=0.0001,\n",
    "                stack_types=['identity','identity'],\n",
    "                n_blocks=[1, 1],\n",
    "                mlp_units=[[712, 712], [712, 712]],\n",
    "                windows_batch_size=30,\n",
    "                num_lr_decays=4,\n",
    "                val_check_steps=10,\n",
    "                n_harmonics=0, n_polynomials=0,\n",
    "                hist_exog_list=['S&P 500 Financial Turbulence','VIX'],\n",
    "                max_steps=100,\n",
    "                early_stop_patience_steps=0,\n",
    "                random_seed=1)\n",
    "\n",
    "RMSE=0.0010500036324722177\n",
    "Accuracy=85.47662802772894\n",
    "\n",
    "Scaler type = standard\n",
    "model = NBEATSx(h=1, input_size=189,\n",
    "                loss=MSE(),\n",
    "                scaler_type='standard',\n",
    "                stat_exog_list=['Covid'],\n",
    "                learning_rate=0.0001,\n",
    "                stack_types=['identity','identity'],\n",
    "                n_blocks=[1, 1],\n",
    "                mlp_units=[[712, 712], [712, 712]],\n",
    "                windows_batch_size=30,\n",
    "                num_lr_decays=4,\n",
    "                val_check_steps=10,\n",
    "                n_harmonics=0, n_polynomials=0,\n",
    "                hist_exog_list=['S&P 500 Financial Turbulence','VIX'],\n",
    "                max_steps=100,\n",
    "                early_stop_patience_steps=0,\n",
    "                random_seed=1)\n",
    "\n",
    "RMSE=0.0010848920032899248\n",
    "Accuracy=84.087921570478\n",
    "\n",
    "Robust was chosen\n",
    "\n",
    "Having random seed as 38273928\n",
    "model = NBEATSx(h=1, input_size=189,\n",
    "                loss=MSE(),\n",
    "                scaler_type='robust',\n",
    "                stat_exog_list=['Covid'],\n",
    "                learning_rate=0.0001,\n",
    "                stack_types=['identity','identity'],\n",
    "                n_blocks=[1, 1],\n",
    "                mlp_units=[[712, 712], [712, 712]],\n",
    "                windows_batch_size=30,\n",
    "                num_lr_decays=4,\n",
    "                val_check_steps=10,\n",
    "                n_harmonics=0, n_polynomials=0,\n",
    "                hist_exog_list=['S&P 500 Financial Turbulence','VIX'],\n",
    "                max_steps=100,\n",
    "                early_stop_patience_steps=0,\n",
    "                random_seed=38273928)\n",
    "\n",
    "RMSE=0.0010906660923845415\n",
    "Accuracy=84.70186892563936\n",
    "\n",
    "n_blocks = [2,2]\n",
    "Having random seed as 38273928\n",
    "model = NBEATSx(h=1, input_size=189,\n",
    "                loss=MSE(),\n",
    "                scaler_type='robust',\n",
    "                stat_exog_list=['Covid'],\n",
    "                learning_rate=0.0001,\n",
    "                stack_types=['identity','identity'],\n",
    "                n_blocks=[2, 2],\n",
    "                mlp_units=[[712, 712], [712, 712]],\n",
    "                windows_batch_size=30,\n",
    "                num_lr_decays=4,\n",
    "                val_check_steps=10,\n",
    "                n_harmonics=0, n_polynomials=0,\n",
    "                hist_exog_list=['S&P 500 Financial Turbulence','VIX'],\n",
    "                max_steps=100,\n",
    "                early_stop_patience_steps=0,\n",
    "                random_seed=38273928)\n",
    "\n",
    "RMSE=0.0011375208644977882\n",
    "Accuracy=83.01027563655087\n",
    "\n",
    "n_blocks = [3,3]\n",
    "Having random seed as 38273928\n",
    "model = NBEATSx(h=1, input_size=189,\n",
    "                loss=MSE(),\n",
    "                scaler_type='robust',\n",
    "                stat_exog_list=['Covid'],\n",
    "                learning_rate=0.0001,\n",
    "                stack_types=['identity','identity'],\n",
    "                n_blocks=[3, 3],\n",
    "                mlp_units=[[712, 712], [712, 712]],\n",
    "                windows_batch_size=30,\n",
    "                num_lr_decays=4,\n",
    "                val_check_steps=10,\n",
    "                n_harmonics=0, n_polynomials=0,\n",
    "                hist_exog_list=['S&P 500 Financial Turbulence','VIX'],\n",
    "                max_steps=100,\n",
    "                early_stop_patience_steps=0,\n",
    "                random_seed=38273928)\n",
    "\n",
    "RMSE=0.001148475448881578\n",
    "Accuracy=81.61734905323208\n",
    "\n",
    "n_blocks = [4,4]\n",
    "Having random seed as 38273928\n",
    "model = NBEATSx(h=1, input_size=189,\n",
    "                loss=MSE(),\n",
    "                scaler_type='robust',\n",
    "                stat_exog_list=['Covid'],\n",
    "                learning_rate=0.0001,\n",
    "                stack_types=['identity','identity'],\n",
    "                n_blocks=[4, 4],\n",
    "                mlp_units=[[712, 712], [712, 712]],\n",
    "                windows_batch_size=30,\n",
    "                num_lr_decays=4,\n",
    "                val_check_steps=10,\n",
    "                n_harmonics=0, n_polynomials=0,\n",
    "                hist_exog_list=['S&P 500 Financial Turbulence','VIX'],\n",
    "                max_steps=100,\n",
    "                early_stop_patience_steps=0,\n",
    "                random_seed=38273928)\n",
    "\n",
    "RMSE=0.0011989914916691576\n",
    "Accuracy=80.20333007285424\n",
    "\n",
    "n_blocks = [1,1] was chosen\n",
    "Hyperparameters selection finalized"
   ]
  },
  {
   "cell_type": "markdown",
   "id": "dc6689cc",
   "metadata": {},
   "source": [
    "Chosen model\n",
    "model = NBEATSx(h=1, input_size=189,\n",
    "                loss=MSE(),\n",
    "                scaler_type='robust',\n",
    "                stat_exog_list=['Covid'],\n",
    "                learning_rate=0.0001,\n",
    "                stack_types=['identity','identity'],\n",
    "                n_blocks=[1, 1],\n",
    "                mlp_units=[[712, 712], [712, 712]],\n",
    "                windows_batch_size=30,\n",
    "                num_lr_decays=4,\n",
    "                val_check_steps=10,\n",
    "                n_harmonics=0, n_polynomials=1,\n",
    "                hist_exog_list=['S&P 500 Financial Turbulence','VIX'],\n",
    "                max_steps=100,\n",
    "                early_stop_patience_steps=0,\n",
    "                random_seed=random.randint(0, 10000000))\n"
   ]
  },
  {
   "cell_type": "code",
   "execution_count": 97,
   "id": "d1910038",
   "metadata": {},
   "outputs": [],
   "source": [
    "Y_train = df\n",
    "Y_train.reset_index(inplace=True)\n",
    "Y_train.rename(columns={'Date':'ds'}, inplace=True)\n",
    "Y_train.rename(columns={'Realised':'y'}, inplace=True)"
   ]
  },
  {
   "cell_type": "code",
   "execution_count": 98,
   "id": "3cb16031",
   "metadata": {},
   "outputs": [],
   "source": [
    "RMSE=[]\n",
    "Accuracy=[]"
   ]
  },
  {
   "cell_type": "code",
   "execution_count": 170,
   "id": "a0f3c253",
   "metadata": {},
   "outputs": [
    {
     "name": "stderr",
     "output_type": "stream",
     "text": [
      "Global seed set to 3875327\n"
     ]
    },
    {
     "data": {
      "application/vnd.jupyter.widget-view+json": {
       "model_id": "",
       "version_major": 2,
       "version_minor": 0
      },
      "text/plain": [
       "Sanity Checking: 0it [00:00, ?it/s]"
      ]
     },
     "metadata": {},
     "output_type": "display_data"
    },
    {
     "data": {
      "application/vnd.jupyter.widget-view+json": {
       "model_id": "3da9d5be0a5a40259ccdb97e5b68bbd9",
       "version_major": 2,
       "version_minor": 0
      },
      "text/plain": [
       "Training: 0it [00:00, ?it/s]"
      ]
     },
     "metadata": {},
     "output_type": "display_data"
    },
    {
     "data": {
      "application/vnd.jupyter.widget-view+json": {
       "model_id": "",
       "version_major": 2,
       "version_minor": 0
      },
      "text/plain": [
       "Validation: 0it [00:00, ?it/s]"
      ]
     },
     "metadata": {},
     "output_type": "display_data"
    },
    {
     "data": {
      "application/vnd.jupyter.widget-view+json": {
       "model_id": "",
       "version_major": 2,
       "version_minor": 0
      },
      "text/plain": [
       "Validation: 0it [00:00, ?it/s]"
      ]
     },
     "metadata": {},
     "output_type": "display_data"
    },
    {
     "data": {
      "application/vnd.jupyter.widget-view+json": {
       "model_id": "",
       "version_major": 2,
       "version_minor": 0
      },
      "text/plain": [
       "Validation: 0it [00:00, ?it/s]"
      ]
     },
     "metadata": {},
     "output_type": "display_data"
    },
    {
     "data": {
      "application/vnd.jupyter.widget-view+json": {
       "model_id": "",
       "version_major": 2,
       "version_minor": 0
      },
      "text/plain": [
       "Validation: 0it [00:00, ?it/s]"
      ]
     },
     "metadata": {},
     "output_type": "display_data"
    },
    {
     "data": {
      "application/vnd.jupyter.widget-view+json": {
       "model_id": "",
       "version_major": 2,
       "version_minor": 0
      },
      "text/plain": [
       "Validation: 0it [00:00, ?it/s]"
      ]
     },
     "metadata": {},
     "output_type": "display_data"
    },
    {
     "data": {
      "application/vnd.jupyter.widget-view+json": {
       "model_id": "",
       "version_major": 2,
       "version_minor": 0
      },
      "text/plain": [
       "Validation: 0it [00:00, ?it/s]"
      ]
     },
     "metadata": {},
     "output_type": "display_data"
    },
    {
     "data": {
      "application/vnd.jupyter.widget-view+json": {
       "model_id": "",
       "version_major": 2,
       "version_minor": 0
      },
      "text/plain": [
       "Validation: 0it [00:00, ?it/s]"
      ]
     },
     "metadata": {},
     "output_type": "display_data"
    },
    {
     "data": {
      "application/vnd.jupyter.widget-view+json": {
       "model_id": "",
       "version_major": 2,
       "version_minor": 0
      },
      "text/plain": [
       "Validation: 0it [00:00, ?it/s]"
      ]
     },
     "metadata": {},
     "output_type": "display_data"
    },
    {
     "data": {
      "application/vnd.jupyter.widget-view+json": {
       "model_id": "",
       "version_major": 2,
       "version_minor": 0
      },
      "text/plain": [
       "Validation: 0it [00:00, ?it/s]"
      ]
     },
     "metadata": {},
     "output_type": "display_data"
    },
    {
     "data": {
      "application/vnd.jupyter.widget-view+json": {
       "model_id": "",
       "version_major": 2,
       "version_minor": 0
      },
      "text/plain": [
       "Validation: 0it [00:00, ?it/s]"
      ]
     },
     "metadata": {},
     "output_type": "display_data"
    },
    {
     "data": {
      "application/vnd.jupyter.widget-view+json": {
       "model_id": "",
       "version_major": 2,
       "version_minor": 0
      },
      "text/plain": [
       "Validation: 0it [00:00, ?it/s]"
      ]
     },
     "metadata": {},
     "output_type": "display_data"
    },
    {
     "data": {
      "application/vnd.jupyter.widget-view+json": {
       "model_id": "",
       "version_major": 2,
       "version_minor": 0
      },
      "text/plain": [
       "Validation: 0it [00:00, ?it/s]"
      ]
     },
     "metadata": {},
     "output_type": "display_data"
    },
    {
     "data": {
      "application/vnd.jupyter.widget-view+json": {
       "model_id": "",
       "version_major": 2,
       "version_minor": 0
      },
      "text/plain": [
       "Validation: 0it [00:00, ?it/s]"
      ]
     },
     "metadata": {},
     "output_type": "display_data"
    },
    {
     "data": {
      "application/vnd.jupyter.widget-view+json": {
       "model_id": "",
       "version_major": 2,
       "version_minor": 0
      },
      "text/plain": [
       "Validation: 0it [00:00, ?it/s]"
      ]
     },
     "metadata": {},
     "output_type": "display_data"
    },
    {
     "data": {
      "application/vnd.jupyter.widget-view+json": {
       "model_id": "",
       "version_major": 2,
       "version_minor": 0
      },
      "text/plain": [
       "Validation: 0it [00:00, ?it/s]"
      ]
     },
     "metadata": {},
     "output_type": "display_data"
    },
    {
     "data": {
      "application/vnd.jupyter.widget-view+json": {
       "model_id": "f846bc07167c4badab0f326278263aeb",
       "version_major": 2,
       "version_minor": 0
      },
      "text/plain": [
       "Predicting: 0it [00:00, ?it/s]"
      ]
     },
     "metadata": {},
     "output_type": "display_data"
    }
   ],
   "source": [
    "model = NBEATSx(h=1, input_size=189,\n",
    "                loss=MSE(),\n",
    "                scaler_type='robust',\n",
    "                stat_exog_list=['Covid'],\n",
    "                learning_rate=0.0001,\n",
    "                stack_types=['identity','identity'],\n",
    "                n_blocks=[1, 1],\n",
    "                mlp_units=[[712, 712], [712, 712]],\n",
    "                windows_batch_size=30,\n",
    "                num_lr_decays=4,\n",
    "                val_check_steps=10,\n",
    "                n_harmonics=0, n_polynomials=0,\n",
    "                hist_exog_list=['S&P 500 Financial Turbulence','VIX'],\n",
    "                max_steps=100,\n",
    "                early_stop_patience_steps=0,\n",
    "                random_seed=random.randint(0, 10000000))\n",
    "fcst = NeuralForecast(\n",
    "    models=[model],\n",
    "    freq=CustomBusinessDay(calendar=USFederalHolidayCalendar())\n",
    ")\n",
    "forecasts = fcst.cross_validation(df=Y_train,val_size=1,static_df=AirPassengersStatic,n_windows=None, test_size=252,step_size=1)"
   ]
  },
  {
   "cell_type": "code",
   "execution_count": 171,
   "id": "452c34f3",
   "metadata": {},
   "outputs": [],
   "source": [
    "Y_hat_df = forecasts.reset_index(drop=False).drop(columns=['unique_id','ds','S&P 500 Financial Turbulence','VIX','Covid','index','cutoff'])\n",
    "Y_hat=Y_hat_df[\"NBEATSx\"].values\n",
    "Y_true=Y_hat_df[\"y\"].values\n",
    "RMSE.append(rmse(y=Y_true, y_hat=Y_hat))\n",
    "Accuracy.append((1-mape(y=Y_true, y_hat=Y_hat))*100)"
   ]
  },
  {
   "cell_type": "code",
   "execution_count": 172,
   "id": "40930127",
   "metadata": {},
   "outputs": [
    {
     "data": {
      "text/plain": [
       "[0.0037449405598716503,\n",
       " 0.003765792743967503,\n",
       " 0.0037370779363994086,\n",
       " 0.003776236967893844,\n",
       " 0.003734888349977097,\n",
       " 0.0037384231225195404,\n",
       " 0.0037785803767120944,\n",
       " 0.0037407233906606046,\n",
       " 0.0037407681608780993,\n",
       " 0.0037780651329522488,\n",
       " 0.003738412794224599,\n",
       " 0.003776460905382644,\n",
       " 0.003762699578307295,\n",
       " 0.0037474797298412805,\n",
       " 0.0037513275551501377]"
      ]
     },
     "execution_count": 172,
     "metadata": {},
     "output_type": "execute_result"
    }
   ],
   "source": [
    "RMSE"
   ]
  },
  {
   "cell_type": "code",
   "execution_count": 173,
   "id": "15613169",
   "metadata": {},
   "outputs": [
    {
     "data": {
      "text/plain": [
       "[83.05230628215683,\n",
       " 83.05579597842298,\n",
       " 82.95856572093021,\n",
       " 82.76367258467413,\n",
       " 83.18062304862288,\n",
       " 83.10439149516871,\n",
       " 82.77140544446635,\n",
       " 83.4068118220175,\n",
       " 82.87749303836353,\n",
       " 83.05449472099849,\n",
       " 83.19360830587401,\n",
       " 82.52835790141167,\n",
       " 82.5828382824075,\n",
       " 83.00888942682403,\n",
       " 83.25953030803154]"
      ]
     },
     "execution_count": 173,
     "metadata": {},
     "output_type": "execute_result"
    }
   ],
   "source": [
    "Accuracy"
   ]
  },
  {
   "cell_type": "code",
   "execution_count": 127,
   "id": "54da4442",
   "metadata": {},
   "outputs": [
    {
     "data": {
      "text/plain": [
       "Text(0, 0.5, 'S&P 500 Realized Volatility')"
      ]
     },
     "execution_count": 127,
     "metadata": {},
     "output_type": "execute_result"
    },
    {
     "data": {
      "image/png": "[encoded data removed]",
      "text/plain": [
       "<Figure size 432x288 with 1 Axes>"
      ]
     },
     "metadata": {
      "needs_background": "light"
     },
     "output_type": "display_data"
    }
   ],
   "source": [
    "plt.plot(range(len(Y_hat)),Y_true)\n",
    "plt.plot(range(len(Y_hat)),Y_hat)\n",
    "plt.ylabel(\"S&P 500 Realized Volatility\")"
   ]
  },
  {
   "cell_type": "code",
   "execution_count": 175,
   "id": "3e2c8b20",
   "metadata": {},
   "outputs": [
    {
     "name": "stdout",
     "output_type": "stream",
     "text": [
      "mean: 0.375%\n"
     ]
    }
   ],
   "source": [
    "print(\"mean: %s\" %(round(np.mean(RMSE),5)*100)+\"%\")"
   ]
  },
  {
   "cell_type": "code",
   "execution_count": 176,
   "id": "f304f25f",
   "metadata": {},
   "outputs": [
    {
     "name": "stdout",
     "output_type": "stream",
     "text": [
      "stdv: 0.002%\n"
     ]
    }
   ],
   "source": [
    "print(\"stdv: %s\" %(round(np.std(RMSE),5)*100)+\"%\")"
   ]
  },
  {
   "cell_type": "code",
   "execution_count": 177,
   "id": "c16dbc8e",
   "metadata": {},
   "outputs": [
    {
     "name": "stdout",
     "output_type": "stream",
     "text": [
      "95 percent CI lower bound: 0.372%\n",
      "95 percent CI upper bound: 0.379%\n"
     ]
    }
   ],
   "source": [
    "RMSE_CI_95_lower_bound=np.mean(RMSE)-2*np.std(RMSE)\n",
    "RMSE_CI_95_upper_bound=np.mean(RMSE)+2*np.std(RMSE)\n",
    "print(\"95 percent CI lower bound: %s\" %(round(RMSE_CI_95_lower_bound,5)*100)+\"%\")\n",
    "print(\"95 percent CI upper bound: %s\" %(round(RMSE_CI_95_upper_bound,5)*100)+\"%\")"
   ]
  },
  {
   "cell_type": "code",
   "execution_count": 178,
   "id": "6670ce18",
   "metadata": {},
   "outputs": [
    {
     "name": "stdout",
     "output_type": "stream",
     "text": [
      "99.7 percent CI lower bound: 0.371%\n",
      "99.7 percent CI upper bound: 0.38%\n"
     ]
    }
   ],
   "source": [
    "RMSE_CI_99_lower_bound=np.mean(RMSE)-3*np.std(RMSE)\n",
    "RMSE_CI_99_upper_bound=np.mean(RMSE)+3*np.std(RMSE)\n",
    "print(\"99.7 percent CI lower bound: %s\" %(round(RMSE_CI_99_lower_bound,5)*100)+\"%\")\n",
    "print(\"99.7 percent CI upper bound: %s\" %(round(RMSE_CI_99_upper_bound,5)*100)+\"%\")"
   ]
  },
  {
   "cell_type": "code",
   "execution_count": 179,
   "id": "82a3587f",
   "metadata": {},
   "outputs": [
    {
     "data": {
      "text/plain": [
       "[83.05230628215683,\n",
       " 83.05579597842298,\n",
       " 82.95856572093021,\n",
       " 82.76367258467413,\n",
       " 83.18062304862288,\n",
       " 83.10439149516871,\n",
       " 82.77140544446635,\n",
       " 83.4068118220175,\n",
       " 82.87749303836353,\n",
       " 83.05449472099849,\n",
       " 83.19360830587401,\n",
       " 82.52835790141167,\n",
       " 82.5828382824075,\n",
       " 83.00888942682403,\n",
       " 83.25953030803154]"
      ]
     },
     "execution_count": 179,
     "metadata": {},
     "output_type": "execute_result"
    }
   ],
   "source": [
    "Accuracy"
   ]
  },
  {
   "cell_type": "code",
   "execution_count": 180,
   "id": "0f54f231",
   "metadata": {},
   "outputs": [
    {
     "name": "stdout",
     "output_type": "stream",
     "text": [
      "mean: 82.99%\n"
     ]
    }
   ],
   "source": [
    "print(\"mean: %s\" %(round(np.mean(Accuracy),2))+\"%\")"
   ]
  },
  {
   "cell_type": "code",
   "execution_count": 181,
   "id": "9d84917f",
   "metadata": {},
   "outputs": [
    {
     "name": "stdout",
     "output_type": "stream",
     "text": [
      "stdv: 0.24%\n"
     ]
    }
   ],
   "source": [
    "print(\"stdv: %s\" %(round(np.std(Accuracy),2))+\"%\")"
   ]
  },
  {
   "cell_type": "code",
   "execution_count": 182,
   "id": "99eb3918",
   "metadata": {},
   "outputs": [
    {
     "name": "stdout",
     "output_type": "stream",
     "text": [
      "95 percent CI lower bound: 82.51%\n",
      "95 percent CI upper bound: 83.46%\n"
     ]
    }
   ],
   "source": [
    "Accuracy_CI_95_lower_bound=np.mean(Accuracy)-2*np.std(Accuracy)\n",
    "Accuracy_CI_95_upper_bound=np.mean(Accuracy)+2*np.std(Accuracy)\n",
    "print(\"95 percent CI lower bound: %s\" %round(Accuracy_CI_95_lower_bound,2)+\"%\")\n",
    "print(\"95 percent CI upper bound: %s\" %round(Accuracy_CI_95_upper_bound,2)+\"%\")"
   ]
  },
  {
   "cell_type": "code",
   "execution_count": 183,
   "id": "98cae2ca",
   "metadata": {},
   "outputs": [
    {
     "name": "stdout",
     "output_type": "stream",
     "text": [
      "99.7 percent CI lower bound: 82.28%\n",
      "99.7 percent CI upper bound: 83.7%\n"
     ]
    }
   ],
   "source": [
    "Accuracy_CI_99_lower_bound=np.mean(Accuracy)-3*np.std(Accuracy)\n",
    "Accuracy_CI_99_upper_bound=np.mean(Accuracy)+3*np.std(Accuracy)\n",
    "print(\"99.7 percent CI lower bound: %s\" %round(Accuracy_CI_99_lower_bound,2)+\"%\")\n",
    "print(\"99.7 percent CI upper bound: %s\" %round(Accuracy_CI_99_upper_bound,2)+\"%\")"
   ]
  },
  {
   "cell_type": "code",
   "execution_count": 129,
   "id": "817e4242",
   "metadata": {},
   "outputs": [
    {
     "data": {
      "text/plain": [
       "(array([19012., 19013., 19014., 19015., 19016., 19017., 19018.]),\n",
       " [Text(0, 0, ''),\n",
       "  Text(0, 0, ''),\n",
       "  Text(0, 0, ''),\n",
       "  Text(0, 0, ''),\n",
       "  Text(0, 0, ''),\n",
       "  Text(0, 0, ''),\n",
       "  Text(0, 0, '')])"
      ]
     },
     "execution_count": 129,
     "metadata": {},
     "output_type": "execute_result"
    },
    {
     "data": {
      "image/png": "[encoded data removed]",
      "text/plain": [
       "<Figure size 432x288 with 1 Axes>"
      ]
     },
     "metadata": {
      "needs_background": "light"
     },
     "output_type": "display_data"
    }
   ],
   "source": [
    "plt.plot(forecasts[\"ds\"][55:60],Y_true[55:60])\n",
    "plt.plot(forecasts[\"ds\"][55:60],Y_hat[55:60])\n",
    "plt.ylabel(\"S&P 500 Realized Volatility\")\n",
    "plt.xticks(rotation=30)"
   ]
  },
  {
   "cell_type": "code",
   "execution_count": 130,
   "id": "ad6ce738",
   "metadata": {},
   "outputs": [
    {
     "data": {
      "text/plain": [
       "(0.006, 0.028)"
      ]
     },
     "execution_count": 130,
     "metadata": {},
     "output_type": "execute_result"
    },
    {
     "data": {
      "image/png": "[encoded data removed]",
      "text/plain": [
       "<Figure size 432x288 with 1 Axes>"
      ]
     },
     "metadata": {
      "needs_background": "light"
     },
     "output_type": "display_data"
    }
   ],
   "source": [
    "plt.plot(forecasts[\"ds\"][175:180],Y_true[175:180])\n",
    "plt.plot(forecasts[\"ds\"][175:180],Y_hat[175:180])\n",
    "plt.ylabel(\"S&P 500 Realized Volatility\")\n",
    "plt.xticks(rotation=30)\n",
    "ax = plt.gca()\n",
    "ax.set_ylim(0.006, 0.028)"
   ]
  },
  {
   "cell_type": "code",
   "execution_count": null,
   "id": "4bf0d683",
   "metadata": {},
   "outputs": [],
   "source": []
  }
 ],
 "metadata": {
  "kernelspec": {
   "display_name": "Python 3 (ipykernel)",
   "language": "python",
   "name": "python3"
  },
  "language_info": {
   "codemirror_mode": {
    "name": "ipython",
    "version": 3
   },
   "file_extension": ".py",
   "mimetype": "text/x-python",
   "name": "python",
   "nbconvert_exporter": "python",
   "pygments_lexer": "ipython3",
   "version": "3.9.12"
  }
 },
 "nbformat": 4,
 "nbformat_minor": 5
}
