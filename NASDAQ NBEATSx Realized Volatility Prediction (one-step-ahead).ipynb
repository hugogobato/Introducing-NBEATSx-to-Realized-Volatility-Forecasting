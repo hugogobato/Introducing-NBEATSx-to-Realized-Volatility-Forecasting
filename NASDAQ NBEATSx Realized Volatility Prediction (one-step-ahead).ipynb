{
 "cells": [
  {
   "cell_type": "code",
   "execution_count": 1,
   "id": "4984b7d3",
   "metadata": {},
   "outputs": [],
   "source": [
    "import pandas as pd\n",
    "import numpy as np\n",
    "import matplotlib.pyplot as plt\n",
    "import random"
   ]
  },
  {
   "cell_type": "code",
   "execution_count": 2,
   "id": "9922c45c",
   "metadata": {},
   "outputs": [],
   "source": [
    "from ray import tune"
   ]
  },
  {
   "cell_type": "code",
   "execution_count": 179,
   "id": "be034bcf",
   "metadata": {},
   "outputs": [],
   "source": [
    "from neuralforecast import NeuralForecast\n",
    "from neuralforecast.models import NBEATSx\n",
    "from neuralforecast.losses.pytorch import MQLoss, DistributionLoss, MAE, MSE, RMSE\n",
    "from neuralforecast.tsdataset import TimeSeriesDataset\n",
    "from neuralforecast.losses.numpy import rmse, mape\n",
    "from pandas.tseries.holiday import USFederalHolidayCalendar\n",
    "from pandas.tseries.offsets import CustomBusinessDay"
   ]
  },
  {
   "cell_type": "code",
   "execution_count": 4,
   "id": "b1fa69be",
   "metadata": {},
   "outputs": [],
   "source": [
    "from neuralforecast.models import NHITS"
   ]
  },
  {
   "cell_type": "code",
   "execution_count": 5,
   "id": "66445f54",
   "metadata": {},
   "outputs": [],
   "source": [
    "from neuralforecast.utils import AirPassengers, AirPassengersPanel, AirPassengersStatic"
   ]
  },
  {
   "cell_type": "code",
   "execution_count": 6,
   "id": "3e12b6ea",
   "metadata": {},
   "outputs": [],
   "source": [
    "df = pd.read_excel('NASDAQ Realized Volatility (NBEATSx).xlsx',index_col='Date',parse_dates=True)"
   ]
  },
  {
   "cell_type": "code",
   "execution_count": 13,
   "id": "d9f9b003",
   "metadata": {},
   "outputs": [],
   "source": [
    "Y_train = df[:1005]"
   ]
  },
  {
   "cell_type": "code",
   "execution_count": 14,
   "id": "6a837566",
   "metadata": {},
   "outputs": [],
   "source": [
    "Y_train.reset_index(inplace=True)"
   ]
  },
  {
   "cell_type": "code",
   "execution_count": 15,
   "id": "19a690ee",
   "metadata": {},
   "outputs": [],
   "source": [
    "Y_train.rename(columns={'Date':'ds'}, inplace=True)"
   ]
  },
  {
   "cell_type": "code",
   "execution_count": 16,
   "id": "8c817b25",
   "metadata": {},
   "outputs": [],
   "source": [
    "Y_train.rename(columns={'Realised':'y'}, inplace=True)"
   ]
  },
  {
   "cell_type": "code",
   "execution_count": 17,
   "id": "2fd1b941",
   "metadata": {},
   "outputs": [
    {
     "data": {
      "text/html": [
       "<div>\n",
       "<style scoped>\n",
       "    .dataframe tbody tr th:only-of-type {\n",
       "        vertical-align: middle;\n",
       "    }\n",
       "\n",
       "    .dataframe tbody tr th {\n",
       "        vertical-align: top;\n",
       "    }\n",
       "\n",
       "    .dataframe thead th {\n",
       "        text-align: right;\n",
       "    }\n",
       "</style>\n",
       "<table border=\"1\" class=\"dataframe\">\n",
       "  <thead>\n",
       "    <tr style=\"text-align: right;\">\n",
       "      <th></th>\n",
       "      <th>index</th>\n",
       "      <th>ds</th>\n",
       "      <th>unique_id</th>\n",
       "      <th>y</th>\n",
       "      <th>US Financial Turbulence</th>\n",
       "      <th>Covid</th>\n",
       "      <th>VIX</th>\n",
       "    </tr>\n",
       "  </thead>\n",
       "  <tbody>\n",
       "    <tr>\n",
       "      <th>753</th>\n",
       "      <td>753</td>\n",
       "      <td>2020-10-30</td>\n",
       "      <td>Airline1</td>\n",
       "      <td>0.017831</td>\n",
       "      <td>715.890512</td>\n",
       "      <td>0</td>\n",
       "      <td>38.02</td>\n",
       "    </tr>\n",
       "    <tr>\n",
       "      <th>754</th>\n",
       "      <td>754</td>\n",
       "      <td>2020-11-02</td>\n",
       "      <td>Airline1</td>\n",
       "      <td>0.017217</td>\n",
       "      <td>615.136341</td>\n",
       "      <td>0</td>\n",
       "      <td>37.13</td>\n",
       "    </tr>\n",
       "    <tr>\n",
       "      <th>755</th>\n",
       "      <td>755</td>\n",
       "      <td>2020-11-03</td>\n",
       "      <td>Airline1</td>\n",
       "      <td>0.013149</td>\n",
       "      <td>751.131348</td>\n",
       "      <td>0</td>\n",
       "      <td>35.55</td>\n",
       "    </tr>\n",
       "    <tr>\n",
       "      <th>756</th>\n",
       "      <td>756</td>\n",
       "      <td>2020-11-04</td>\n",
       "      <td>Airline1</td>\n",
       "      <td>0.028572</td>\n",
       "      <td>833.304523</td>\n",
       "      <td>0</td>\n",
       "      <td>29.57</td>\n",
       "    </tr>\n",
       "    <tr>\n",
       "      <th>757</th>\n",
       "      <td>757</td>\n",
       "      <td>2020-11-05</td>\n",
       "      <td>Airline1</td>\n",
       "      <td>0.020493</td>\n",
       "      <td>780.247181</td>\n",
       "      <td>0</td>\n",
       "      <td>27.58</td>\n",
       "    </tr>\n",
       "    <tr>\n",
       "      <th>...</th>\n",
       "      <td>...</td>\n",
       "      <td>...</td>\n",
       "      <td>...</td>\n",
       "      <td>...</td>\n",
       "      <td>...</td>\n",
       "      <td>...</td>\n",
       "      <td>...</td>\n",
       "    </tr>\n",
       "    <tr>\n",
       "      <th>1000</th>\n",
       "      <td>1000</td>\n",
       "      <td>2021-10-25</td>\n",
       "      <td>Airline1</td>\n",
       "      <td>0.008532</td>\n",
       "      <td>404.686444</td>\n",
       "      <td>0</td>\n",
       "      <td>15.24</td>\n",
       "    </tr>\n",
       "    <tr>\n",
       "      <th>1001</th>\n",
       "      <td>1001</td>\n",
       "      <td>2021-10-26</td>\n",
       "      <td>Airline1</td>\n",
       "      <td>0.009583</td>\n",
       "      <td>616.042317</td>\n",
       "      <td>0</td>\n",
       "      <td>15.98</td>\n",
       "    </tr>\n",
       "    <tr>\n",
       "      <th>1002</th>\n",
       "      <td>1002</td>\n",
       "      <td>2021-10-27</td>\n",
       "      <td>Airline1</td>\n",
       "      <td>0.007038</td>\n",
       "      <td>739.161544</td>\n",
       "      <td>0</td>\n",
       "      <td>16.98</td>\n",
       "    </tr>\n",
       "    <tr>\n",
       "      <th>1003</th>\n",
       "      <td>1003</td>\n",
       "      <td>2021-10-28</td>\n",
       "      <td>Airline1</td>\n",
       "      <td>0.006594</td>\n",
       "      <td>679.375691</td>\n",
       "      <td>0</td>\n",
       "      <td>16.53</td>\n",
       "    </tr>\n",
       "    <tr>\n",
       "      <th>1004</th>\n",
       "      <td>1004</td>\n",
       "      <td>2021-10-29</td>\n",
       "      <td>Airline1</td>\n",
       "      <td>0.009396</td>\n",
       "      <td>596.161184</td>\n",
       "      <td>0</td>\n",
       "      <td>16.26</td>\n",
       "    </tr>\n",
       "  </tbody>\n",
       "</table>\n",
       "<p>252 rows × 7 columns</p>\n",
       "</div>"
      ],
      "text/plain": [
       "      index         ds unique_id         y  US Financial Turbulence  Covid  \\\n",
       "753     753 2020-10-30  Airline1  0.017831               715.890512      0   \n",
       "754     754 2020-11-02  Airline1  0.017217               615.136341      0   \n",
       "755     755 2020-11-03  Airline1  0.013149               751.131348      0   \n",
       "756     756 2020-11-04  Airline1  0.028572               833.304523      0   \n",
       "757     757 2020-11-05  Airline1  0.020493               780.247181      0   \n",
       "...     ...        ...       ...       ...                      ...    ...   \n",
       "1000   1000 2021-10-25  Airline1  0.008532               404.686444      0   \n",
       "1001   1001 2021-10-26  Airline1  0.009583               616.042317      0   \n",
       "1002   1002 2021-10-27  Airline1  0.007038               739.161544      0   \n",
       "1003   1003 2021-10-28  Airline1  0.006594               679.375691      0   \n",
       "1004   1004 2021-10-29  Airline1  0.009396               596.161184      0   \n",
       "\n",
       "        VIX  \n",
       "753   38.02  \n",
       "754   37.13  \n",
       "755   35.55  \n",
       "756   29.57  \n",
       "757   27.58  \n",
       "...     ...  \n",
       "1000  15.24  \n",
       "1001  15.98  \n",
       "1002  16.98  \n",
       "1003  16.53  \n",
       "1004  16.26  \n",
       "\n",
       "[252 rows x 7 columns]"
      ]
     },
     "execution_count": 17,
     "metadata": {},
     "output_type": "execute_result"
    }
   ],
   "source": [
    "Y_train.tail(252)"
   ]
  },
  {
   "cell_type": "code",
   "execution_count": 18,
   "id": "08c4dea5",
   "metadata": {},
   "outputs": [
    {
     "data": {
      "text/plain": [
       "<AxesSubplot:>"
      ]
     },
     "execution_count": 18,
     "metadata": {},
     "output_type": "execute_result"
    },
    {
     "data": {
      "image/png": "[encoded data removed]",
      "text/plain": [
       "<Figure size 864x432 with 1 Axes>"
      ]
     },
     "metadata": {
      "needs_background": "light"
     },
     "output_type": "display_data"
    }
   ],
   "source": [
    "Y_train[\"y\"].plot(figsize=(12,6))"
   ]
  },
  {
   "cell_type": "markdown",
   "id": "dc81df57",
   "metadata": {},
   "source": [
    "# Validation"
   ]
  },
  {
   "cell_type": "code",
   "execution_count": 86,
   "id": "3cb16031",
   "metadata": {},
   "outputs": [],
   "source": [
    "RMSE=[]\n",
    "Accuracy=[]"
   ]
  },
  {
   "cell_type": "code",
   "execution_count": 87,
   "id": "a0f3c253",
   "metadata": {},
   "outputs": [
    {
     "name": "stderr",
     "output_type": "stream",
     "text": [
      "Global seed set to 27621\n"
     ]
    },
    {
     "data": {
      "application/vnd.jupyter.widget-view+json": {
       "model_id": "",
       "version_major": 2,
       "version_minor": 0
      },
      "text/plain": [
       "Sanity Checking: 0it [00:00, ?it/s]"
      ]
     },
     "metadata": {},
     "output_type": "display_data"
    },
    {
     "data": {
      "application/vnd.jupyter.widget-view+json": {
       "model_id": "d604559725ea40eb8a1283bcd99a9b61",
       "version_major": 2,
       "version_minor": 0
      },
      "text/plain": [
       "Training: 0it [00:00, ?it/s]"
      ]
     },
     "metadata": {},
     "output_type": "display_data"
    },
    {
     "data": {
      "application/vnd.jupyter.widget-view+json": {
       "model_id": "",
       "version_major": 2,
       "version_minor": 0
      },
      "text/plain": [
       "Validation: 0it [00:00, ?it/s]"
      ]
     },
     "metadata": {},
     "output_type": "display_data"
    },
    {
     "data": {
      "application/vnd.jupyter.widget-view+json": {
       "model_id": "",
       "version_major": 2,
       "version_minor": 0
      },
      "text/plain": [
       "Validation: 0it [00:00, ?it/s]"
      ]
     },
     "metadata": {},
     "output_type": "display_data"
    },
    {
     "data": {
      "application/vnd.jupyter.widget-view+json": {
       "model_id": "",
       "version_major": 2,
       "version_minor": 0
      },
      "text/plain": [
       "Validation: 0it [00:00, ?it/s]"
      ]
     },
     "metadata": {},
     "output_type": "display_data"
    },
    {
     "data": {
      "application/vnd.jupyter.widget-view+json": {
       "model_id": "",
       "version_major": 2,
       "version_minor": 0
      },
      "text/plain": [
       "Validation: 0it [00:00, ?it/s]"
      ]
     },
     "metadata": {},
     "output_type": "display_data"
    },
    {
     "data": {
      "application/vnd.jupyter.widget-view+json": {
       "model_id": "",
       "version_major": 2,
       "version_minor": 0
      },
      "text/plain": [
       "Validation: 0it [00:00, ?it/s]"
      ]
     },
     "metadata": {},
     "output_type": "display_data"
    },
    {
     "data": {
      "application/vnd.jupyter.widget-view+json": {
       "model_id": "4e47bb4728844618a3d679fb82ea7807",
       "version_major": 2,
       "version_minor": 0
      },
      "text/plain": [
       "Predicting: 0it [00:00, ?it/s]"
      ]
     },
     "metadata": {},
     "output_type": "display_data"
    }
   ],
   "source": [
    "model = NBEATSx(h=1, input_size=126,\n",
    "                loss=MSE(),\n",
    "                scaler_type='robust',\n",
    "                stat_exog_list=['Covid'],\n",
    "                learning_rate=0.0001,\n",
    "                stack_types=['identity','identity'],\n",
    "                n_blocks=[1, 1],\n",
    "                mlp_units=[[712, 712], [712, 712]],\n",
    "                windows_batch_size=30,\n",
    "                num_lr_decays=4,\n",
    "                val_check_steps=10,\n",
    "                n_harmonics=0, n_polynomials=0,\n",
    "                hist_exog_list=['US Financial Turbulence','VIX'],\n",
    "                max_steps=50,\n",
    "                early_stop_patience_steps=0,\n",
    "                random_seed=27621)\n",
    "fcst = NeuralForecast(\n",
    "    models=[model],\n",
    "    freq=CustomBusinessDay(calendar=USFederalHolidayCalendar())\n",
    ")\n",
    "forecasts = fcst.cross_validation(df=Y_train,val_size=1,static_df=AirPassengersStatic,n_windows=None, test_size=99,step_size=1)"
   ]
  },
  {
   "cell_type": "code",
   "execution_count": 88,
   "id": "75b4722f",
   "metadata": {},
   "outputs": [],
   "source": [
    "Y_hat_df = forecasts.reset_index(drop=False).drop(columns=['unique_id','ds','US Financial Turbulence','VIX','Covid','index','cutoff'])\n",
    "Y_hat=Y_hat_df[\"NBEATSx\"].values\n",
    "Y_true=Y_hat_df[\"y\"].values\n",
    "RMSE.append(rmse(y=Y_true, y_hat=Y_hat))\n",
    "Accuracy.append((1-mape(y=Y_true, y_hat=Y_hat))*100)"
   ]
  },
  {
   "cell_type": "code",
   "execution_count": 89,
   "id": "40930127",
   "metadata": {},
   "outputs": [
    {
     "data": {
      "text/plain": [
       "[0.0013721540735898824]"
      ]
     },
     "execution_count": 89,
     "metadata": {},
     "output_type": "execute_result"
    }
   ],
   "source": [
    "RMSE"
   ]
  },
  {
   "cell_type": "code",
   "execution_count": 90,
   "id": "0d7b483f",
   "metadata": {},
   "outputs": [
    {
     "data": {
      "text/plain": [
       "[88.15465603841177]"
      ]
     },
     "execution_count": 90,
     "metadata": {},
     "output_type": "execute_result"
    }
   ],
   "source": [
    "Accuracy"
   ]
  },
  {
   "cell_type": "markdown",
   "id": "0f9a5089",
   "metadata": {},
   "source": [
    "Random seed was chosen as the day, month and year of the experiment\n",
    "Input size 21\n",
    "model = NBEATSx(h=1, input_size=21,\n",
    "                loss=MSE(),\n",
    "                scaler_type='robust',\n",
    "                stat_exog_list=['Covid'],\n",
    "                learning_rate=0.0001,\n",
    "                stack_types=['identity','identity'],\n",
    "                n_blocks=[4, 4],\n",
    "                mlp_units=[[712, 712], [712, 712]],\n",
    "                windows_batch_size=30,\n",
    "                num_lr_decays=4,\n",
    "                val_check_steps=10,\n",
    "                n_harmonics=0, n_polynomials=1,\n",
    "                hist_exog_list=['US Financial Turbulence','VIX'],\n",
    "                max_steps=50,\n",
    "                early_stop_patience_steps=0,\n",
    "                random_seed=542023)\n",
    "\n",
    "RMSE=0.0019209189527758714\n",
    "Accuracy=76.46680565288551\n",
    "\n",
    "Input size 63\n",
    "model = NBEATSx(h=1, input_size=63,\n",
    "                loss=MSE(),\n",
    "                scaler_type='robust',\n",
    "                stat_exog_list=['Covid'],\n",
    "                learning_rate=0.0001,\n",
    "                stack_types=['identity','identity'],\n",
    "                n_blocks=[4, 4],\n",
    "                mlp_units=[[712, 712], [712, 712]],\n",
    "                windows_batch_size=30,\n",
    "                num_lr_decays=4,\n",
    "                val_check_steps=10,\n",
    "                n_harmonics=0, n_polynomials=1,\n",
    "                hist_exog_list=['US Financial Turbulence','VIX'],\n",
    "                max_steps=50,\n",
    "                early_stop_patience_steps=0,\n",
    "                random_seed=542023)\n",
    "\n",
    "RMSE=  0.0015901751063493199\n",
    "Accuracy= 80.4665783376845\n",
    "\n",
    "Input size 84\n",
    "model = NBEATSx(h=1, input_size=84,\n",
    "                loss=MSE(),\n",
    "                scaler_type='robust',\n",
    "                stat_exog_list=['Covid'],\n",
    "                learning_rate=0.0001,\n",
    "                stack_types=['identity','identity'],\n",
    "                n_blocks=[4, 4],\n",
    "                mlp_units=[[712, 712], [712, 712]],\n",
    "                windows_batch_size=30,\n",
    "                num_lr_decays=4,\n",
    "                val_check_steps=10,\n",
    "                n_harmonics=0, n_polynomials=1,\n",
    "                hist_exog_list=['US Financial Turbulence','VIX'],\n",
    "                max_steps=50,\n",
    "                early_stop_patience_steps=0,\n",
    "                random_seed=542023)\n",
    "\n",
    "RMSE= 0.0017459611821857245\n",
    "Accuracy= 77.40359060744498\n",
    "\n",
    "Input size 126\n",
    "model = NBEATSx(h=1, input_size=126,\n",
    "                loss=MSE(),\n",
    "                scaler_type='robust',\n",
    "                stat_exog_list=['Covid'],\n",
    "                learning_rate=0.0001,\n",
    "                stack_types=['identity','identity'],\n",
    "                n_blocks=[4, 4],\n",
    "                mlp_units=[[712, 712], [712, 712]],\n",
    "                windows_batch_size=30,\n",
    "                num_lr_decays=4,\n",
    "                val_check_steps=10,\n",
    "                n_harmonics=0, n_polynomials=1,\n",
    "                hist_exog_list=['US Financial Turbulence','VIX'],\n",
    "                max_steps=50,\n",
    "                early_stop_patience_steps=0,\n",
    "                random_seed=542023)\n",
    "\n",
    "RMSE= 0.0016509567403592213\n",
    "Accuracy= 82.18769553060771\n",
    "\n",
    "Input size 189\n",
    "model = NBEATSx(h=1, input_size=189,\n",
    "                loss=MSE(),\n",
    "                scaler_type='robust',\n",
    "                stat_exog_list=['Covid'],\n",
    "                learning_rate=0.0001,\n",
    "                stack_types=['identity','identity'],\n",
    "                n_blocks=[4, 4],\n",
    "                mlp_units=[[712, 712], [712, 712]],\n",
    "                windows_batch_size=30,\n",
    "                num_lr_decays=4,\n",
    "                val_check_steps=10,\n",
    "                n_harmonics=0, n_polynomials=1,\n",
    "                hist_exog_list=['US Financial Turbulence','VIX'],\n",
    "                max_steps=50,\n",
    "                early_stop_patience_steps=0,\n",
    "                random_seed=542023)\n",
    "\n",
    "RMSE= 0.0017743114368821472\n",
    "Accuracy=77.18262064108016\n",
    "\n",
    "Input size 252\n",
    "model = NBEATSx(h=1, input_size=252,\n",
    "                loss=MSE(),\n",
    "                scaler_type='robust',\n",
    "                stat_exog_list=['Covid'],\n",
    "                learning_rate=0.0001,\n",
    "                stack_types=['identity','identity'],\n",
    "                n_blocks=[4, 4],\n",
    "                mlp_units=[[712, 712], [712, 712]],\n",
    "                windows_batch_size=30,\n",
    "                num_lr_decays=4,\n",
    "                val_check_steps=10,\n",
    "                n_harmonics=0, n_polynomials=1,\n",
    "                hist_exog_list=['US Financial Turbulence','VIX'],\n",
    "                max_steps=50,\n",
    "                early_stop_patience_steps=0,\n",
    "                random_seed=542023)\n",
    "\n",
    "RMSE= 0.0018063788221766826\n",
    "Accuracy= 78.43570641825191\n",
    "\n",
    "Input size 126 was chosen\n",
    "Changing random seed to 1 for other hyperparameters selection\n",
    "\n",
    "model = NBEATSx(h=1, input_size=126,\n",
    "                loss=MSE(),\n",
    "                scaler_type='robust',\n",
    "                stat_exog_list=['Covid'],\n",
    "                learning_rate=0.0001,\n",
    "                stack_types=['identity','identity'],\n",
    "                n_blocks=[4, 4],\n",
    "                mlp_units=[[712, 712], [712, 712]],\n",
    "                windows_batch_size=30,\n",
    "                num_lr_decays=4,\n",
    "                val_check_steps=10,\n",
    "                n_harmonics=0, n_polynomials=1,\n",
    "                hist_exog_list=['US Financial Turbulence','VIX'],\n",
    "                max_steps=50,\n",
    "                early_stop_patience_steps=0,\n",
    "                random_seed=1)\n",
    "\n",
    "RMSE=0.0016566171817311754\n",
    "Accuracy=81.90063883472072\n",
    "\n",
    "Scaler type = standard\n",
    "model = NBEATSx(h=1, input_size=126,\n",
    "                loss=MSE(),\n",
    "                scaler_type='standard',\n",
    "                stat_exog_list=['Covid'],\n",
    "                learning_rate=0.0001,\n",
    "                stack_types=['identity','identity'],\n",
    "                n_blocks=[4, 4],\n",
    "                mlp_units=[[712, 712], [712, 712]],\n",
    "                windows_batch_size=30,\n",
    "                num_lr_decays=4,\n",
    "                val_check_steps=10,\n",
    "                n_harmonics=0, n_polynomials=1,\n",
    "                hist_exog_list=['US Financial Turbulence','VIX'],\n",
    "                max_steps=50,\n",
    "                early_stop_patience_steps=0,\n",
    "                random_seed=1)\n",
    "\n",
    "RMSE= 0.001812425523393104\n",
    "Accuracy= 80.16449978829955\n",
    "\n",
    "Robust was chosen as scaler type\n",
    "\n",
    "n_blocks = [1,1]\n",
    "model = NBEATSx(h=1, input_size=126,\n",
    "                loss=MSE(),\n",
    "                scaler_type='robust',\n",
    "                stat_exog_list=['Covid'],\n",
    "                learning_rate=0.0001,\n",
    "                stack_types=['identity','identity'],\n",
    "                n_blocks=[1, 1],\n",
    "                mlp_units=[[712, 712], [712, 712]],\n",
    "                windows_batch_size=30,\n",
    "                num_lr_decays=4,\n",
    "                val_check_steps=10,\n",
    "                n_harmonics=0, n_polynomials=1,\n",
    "                hist_exog_list=['US Financial Turbulence','VIX'],\n",
    "                max_steps=50,\n",
    "                early_stop_patience_steps=0,\n",
    "                random_seed=1)\n",
    "\n",
    "RMSE=0.0013741592039604566\n",
    "Accuracy=88.28505239806672\n",
    "\n",
    "n_blocks = [2,2]\n",
    "model = NBEATSx(h=1, input_size=126,\n",
    "                loss=MSE(),\n",
    "                scaler_type='robust',\n",
    "                stat_exog_list=['Covid'],\n",
    "                learning_rate=0.0001,\n",
    "                stack_types=['identity','identity'],\n",
    "                n_blocks=[2, 2],\n",
    "                mlp_units=[[712, 712], [712, 712]],\n",
    "                windows_batch_size=30,\n",
    "                num_lr_decays=4,\n",
    "                val_check_steps=10,\n",
    "                n_harmonics=0, n_polynomials=1,\n",
    "                hist_exog_list=['US Financial Turbulence','VIX'],\n",
    "                max_steps=50,\n",
    "                early_stop_patience_steps=0,\n",
    "                random_seed=1)\n",
    "\n",
    "RMSE=0.001479153514437873\n",
    "Accuracy=86.11517336186496\n",
    "\n",
    "n_blocks = [3,3]\n",
    "model = NBEATSx(h=1, input_size=126,\n",
    "                loss=MSE(),\n",
    "                scaler_type='robust',\n",
    "                stat_exog_list=['Covid'],\n",
    "                learning_rate=0.0001,\n",
    "                stack_types=['identity','identity'],\n",
    "                n_blocks=[3, 3],\n",
    "                mlp_units=[[712, 712], [712, 712]],\n",
    "                windows_batch_size=30,\n",
    "                num_lr_decays=4,\n",
    "                val_check_steps=10,\n",
    "                n_harmonics=0, n_polynomials=1,\n",
    "                hist_exog_list=['US Financial Turbulence','VIX'],\n",
    "                max_steps=50,\n",
    "                early_stop_patience_steps=0,\n",
    "                random_seed=1)\n",
    "\n",
    "RMSE=0.001554342911871\n",
    "Accuracy=83.85793741609127\n",
    "\n",
    "n_blocks = [1,1] was chosen\n",
    "Changing random seed to 27621 for remaning hyperparameters selection\n",
    "\n",
    "model = NBEATSx(h=1, input_size=126,\n",
    "                loss=MSE(),\n",
    "                scaler_type='robust',\n",
    "                stat_exog_list=['Covid'],\n",
    "                learning_rate=0.0001,\n",
    "                stack_types=['identity','identity'],\n",
    "                n_blocks=[4, 4],\n",
    "                mlp_units=[[712, 712], [712, 712]],\n",
    "                windows_batch_size=30,\n",
    "                num_lr_decays=4,\n",
    "                val_check_steps=10,\n",
    "                n_harmonics=0, n_polynomials=1,\n",
    "                hist_exog_list=['US Financial Turbulence','VIX'],\n",
    "                max_steps=50,\n",
    "                early_stop_patience_steps=0,\n",
    "                random_seed=27621)\n",
    "\n",
    "RMSE=0.0013721540735898824\n",
    "Accuracy=88.15465603841177\n",
    "\n",
    "n_harmonics=0, n_polynomials=0,\n",
    "model = NBEATSx(h=1, input_size=126,\n",
    "                loss=MSE(),\n",
    "                scaler_type='robust',\n",
    "                stat_exog_list=['Covid'],\n",
    "                learning_rate=0.0001,\n",
    "                stack_types=['identity','identity'],\n",
    "                n_blocks=[4, 4],\n",
    "                mlp_units=[[712, 712], [712, 712]],\n",
    "                windows_batch_size=30,\n",
    "                num_lr_decays=4,\n",
    "                val_check_steps=10,\n",
    "                n_harmonics=0, n_polynomials=0,\n",
    "                hist_exog_list=['US Financial Turbulence','VIX'],\n",
    "                max_steps=50,\n",
    "                early_stop_patience_steps=0,\n",
    "                random_seed=27621)\n",
    "\n",
    "RMSE=0.0013721540735898824 (no change as only identity stack types are being use due to the lack of seasonality or trend in the time series)\n",
    "Accuracy=88.15465603841177 (no change as only identity stack types are being use due to the lack of seasonality or trend in the time series)\n",
    "\n",
    "Hyperparameters selection finalized\n"
   ]
  },
  {
   "cell_type": "markdown",
   "id": "b028a5ae",
   "metadata": {},
   "source": [
    "Model choice\n",
    "\n",
    "model = NBEATSx(h=1, input_size=126,\n",
    "                loss=MSE(),\n",
    "                scaler_type='robust',\n",
    "                stat_exog_list=['Covid'],\n",
    "                learning_rate=0.0001,\n",
    "                stack_types=['identity','identity'],\n",
    "                n_blocks=[1, 1],\n",
    "                mlp_units=[[712, 712], [712, 712]],\n",
    "                windows_batch_size=30,\n",
    "                num_lr_decays=4,\n",
    "                val_check_steps=10,\n",
    "                n_harmonics=0, n_polynomials=0,\n",
    "                hist_exog_list=['US Financial Turbulence','VIX'],\n",
    "                max_steps=50,\n",
    "                early_stop_patience_steps=0,\n",
    "                random_seed=27621)"
   ]
  },
  {
   "cell_type": "code",
   "execution_count": 91,
   "id": "5d64c366",
   "metadata": {},
   "outputs": [],
   "source": [
    "Y_train = df\n",
    "Y_train.reset_index(inplace=True)\n",
    "Y_train.rename(columns={'Date':'ds'}, inplace=True)\n",
    "Y_train.rename(columns={'Realised':'y'}, inplace=True)"
   ]
  },
  {
   "cell_type": "code",
   "execution_count": 184,
   "id": "6867f0ab",
   "metadata": {},
   "outputs": [],
   "source": [
    "RMSEs=[]\n",
    "Accuracy=[]"
   ]
  },
  {
   "cell_type": "code",
   "execution_count": 263,
   "id": "b14370da",
   "metadata": {},
   "outputs": [
    {
     "name": "stderr",
     "output_type": "stream",
     "text": [
      "Global seed set to 280017\n"
     ]
    },
    {
     "data": {
      "application/vnd.jupyter.widget-view+json": {
       "model_id": "",
       "version_major": 2,
       "version_minor": 0
      },
      "text/plain": [
       "Sanity Checking: 0it [00:00, ?it/s]"
      ]
     },
     "metadata": {},
     "output_type": "display_data"
    },
    {
     "data": {
      "application/vnd.jupyter.widget-view+json": {
       "model_id": "a045ed58f50646248a1529d76d32c400",
       "version_major": 2,
       "version_minor": 0
      },
      "text/plain": [
       "Training: 0it [00:00, ?it/s]"
      ]
     },
     "metadata": {},
     "output_type": "display_data"
    },
    {
     "data": {
      "application/vnd.jupyter.widget-view+json": {
       "model_id": "",
       "version_major": 2,
       "version_minor": 0
      },
      "text/plain": [
       "Validation: 0it [00:00, ?it/s]"
      ]
     },
     "metadata": {},
     "output_type": "display_data"
    },
    {
     "data": {
      "application/vnd.jupyter.widget-view+json": {
       "model_id": "",
       "version_major": 2,
       "version_minor": 0
      },
      "text/plain": [
       "Validation: 0it [00:00, ?it/s]"
      ]
     },
     "metadata": {},
     "output_type": "display_data"
    },
    {
     "data": {
      "application/vnd.jupyter.widget-view+json": {
       "model_id": "",
       "version_major": 2,
       "version_minor": 0
      },
      "text/plain": [
       "Validation: 0it [00:00, ?it/s]"
      ]
     },
     "metadata": {},
     "output_type": "display_data"
    },
    {
     "data": {
      "application/vnd.jupyter.widget-view+json": {
       "model_id": "",
       "version_major": 2,
       "version_minor": 0
      },
      "text/plain": [
       "Validation: 0it [00:00, ?it/s]"
      ]
     },
     "metadata": {},
     "output_type": "display_data"
    },
    {
     "data": {
      "application/vnd.jupyter.widget-view+json": {
       "model_id": "",
       "version_major": 2,
       "version_minor": 0
      },
      "text/plain": [
       "Validation: 0it [00:00, ?it/s]"
      ]
     },
     "metadata": {},
     "output_type": "display_data"
    },
    {
     "data": {
      "application/vnd.jupyter.widget-view+json": {
       "model_id": "b32f9d2cce5d4b598f7468f8415821a5",
       "version_major": 2,
       "version_minor": 0
      },
      "text/plain": [
       "Predicting: 0it [00:00, ?it/s]"
      ]
     },
     "metadata": {},
     "output_type": "display_data"
    }
   ],
   "source": [
    "model = NBEATSx(h=1, input_size=126,\n",
    "                loss=MSE(),\n",
    "                scaler_type='robust',\n",
    "                stat_exog_list=['Covid'],\n",
    "                learning_rate=0.0001,\n",
    "                stack_types=['identity','identity'],\n",
    "                n_blocks=[1, 1],\n",
    "                mlp_units=[[712, 712], [712, 712]],\n",
    "                windows_batch_size=30,\n",
    "                num_lr_decays=4,\n",
    "                val_check_steps=10,\n",
    "                n_harmonics=0, n_polynomials=0,\n",
    "                hist_exog_list=['S&P 500 Financial Turbulence','VIX'],\n",
    "                max_steps=50,\n",
    "                early_stop_patience_steps=0,\n",
    "                random_seed=random.randint(0, 1000000))\n",
    "fcst = NeuralForecast(\n",
    "    models=[model],\n",
    "    freq=CustomBusinessDay(calendar=USFederalHolidayCalendar())\n",
    ")\n",
    "forecasts = fcst.cross_validation(df=Y_train,val_size=1,static_df=AirPassengersStatic,n_windows=None, test_size=252,step_size=1)"
   ]
  },
  {
   "cell_type": "code",
   "execution_count": 264,
   "id": "4b81a365",
   "metadata": {},
   "outputs": [],
   "source": [
    "Y_hat_df = forecasts.reset_index(drop=False).drop(columns=['unique_id','ds','US Financial Turbulence','VIX','Covid','index','cutoff'])\n",
    "Y_hat=Y_hat_df[\"NBEATSx\"].values\n",
    "Y_true=Y_hat_df[\"y\"].values\n",
    "RMSEs.append(rmse(y=Y_true, y_hat=Y_hat))\n",
    "Accuracy.append((1-mape(y=Y_true, y_hat=Y_hat))*100)"
   ]
  },
  {
   "cell_type": "code",
   "execution_count": 269,
   "id": "c4662204",
   "metadata": {},
   "outputs": [
    {
     "data": {
      "text/plain": [
       "[0.005606242019738068,\n",
       " 0.005556576517844948,\n",
       " 0.005606642097227177,\n",
       " 0.005545649079077254,\n",
       " 0.005449401574528888,\n",
       " 0.005486061487513864,\n",
       " 0.005577229987547367,\n",
       " 0.005573649025580699,\n",
       " 0.005576544994803288,\n",
       " 0.005594343687544902,\n",
       " 0.0055945588803096085,\n",
       " 0.005601072170149676,\n",
       " 0.005591997867656445,\n",
       " 0.00563526546840566,\n",
       " 0.005602541251600176]"
      ]
     },
     "execution_count": 269,
     "metadata": {},
     "output_type": "execute_result"
    }
   ],
   "source": [
    "RMSEs"
   ]
  },
  {
   "cell_type": "code",
   "execution_count": 270,
   "id": "b6da2a39",
   "metadata": {},
   "outputs": [
    {
     "data": {
      "text/plain": [
       "[82.63423117717745,\n",
       " 82.87249698182926,\n",
       " 82.48455621328958,\n",
       " 82.48114711490275,\n",
       " 82.2410590341587,\n",
       " 81.99532386107241,\n",
       " 82.68932164042596,\n",
       " 82.61363913689436,\n",
       " 82.59477695856596,\n",
       " 82.18339658819107,\n",
       " 82.40138032600304,\n",
       " 82.12382746272233,\n",
       " 82.46293397666133,\n",
       " 82.04594650816847,\n",
       " 81.77403330544001]"
      ]
     },
     "execution_count": 270,
     "metadata": {},
     "output_type": "execute_result"
    }
   ],
   "source": [
    "Accuracy"
   ]
  },
  {
   "cell_type": "code",
   "execution_count": 217,
   "id": "19ca8a9f",
   "metadata": {},
   "outputs": [
    {
     "data": {
      "text/plain": [
       "Text(0, 0.5, 'NASDAQ Realized Volatility')"
      ]
     },
     "execution_count": 217,
     "metadata": {},
     "output_type": "execute_result"
    },
    {
     "data": {
      "image/png": "[encoded data removed]",
      "text/plain": [
       "<Figure size 432x288 with 1 Axes>"
      ]
     },
     "metadata": {
      "needs_background": "light"
     },
     "output_type": "display_data"
    }
   ],
   "source": [
    "plt.plot(range(len(Y_hat)),Y_true)\n",
    "plt.plot(range(len(Y_hat)),Y_hat)\n",
    "plt.ylabel(\"NASDAQ Realized Volatility\")"
   ]
  },
  {
   "cell_type": "code",
   "execution_count": 271,
   "id": "f7294c07",
   "metadata": {},
   "outputs": [],
   "source": [
    "RMSE=RMSEs"
   ]
  },
  {
   "cell_type": "code",
   "execution_count": 272,
   "id": "3e2c8b20",
   "metadata": {},
   "outputs": [
    {
     "name": "stdout",
     "output_type": "stream",
     "text": [
      "mean: 0.557%\n"
     ]
    }
   ],
   "source": [
    "print(\"mean: %s\" %(round(np.mean(RMSE),5)*100)+\"%\")"
   ]
  },
  {
   "cell_type": "code",
   "execution_count": 273,
   "id": "f304f25f",
   "metadata": {},
   "outputs": [
    {
     "name": "stdout",
     "output_type": "stream",
     "text": [
      "stdv: 0.005%\n"
     ]
    }
   ],
   "source": [
    "print(\"stdv: %s\" %(round(np.std(RMSE),5)*100)+\"%\")"
   ]
  },
  {
   "cell_type": "code",
   "execution_count": 274,
   "id": "c16dbc8e",
   "metadata": {},
   "outputs": [
    {
     "name": "stdout",
     "output_type": "stream",
     "text": [
      "95 percent CI lower bound: 0.5479999999999999%\n",
      "95 percent CI upper bound: 0.567%\n"
     ]
    }
   ],
   "source": [
    "RMSE_CI_95_lower_bound=np.mean(RMSE)-2*np.std(RMSE)\n",
    "RMSE_CI_95_upper_bound=np.mean(RMSE)+2*np.std(RMSE)\n",
    "print(\"95 percent CI lower bound: %s\" %(round(RMSE_CI_95_lower_bound,5)*100)+\"%\")\n",
    "print(\"95 percent CI upper bound: %s\" %(round(RMSE_CI_95_upper_bound,5)*100)+\"%\")"
   ]
  },
  {
   "cell_type": "code",
   "execution_count": 275,
   "id": "6670ce18",
   "metadata": {},
   "outputs": [
    {
     "name": "stdout",
     "output_type": "stream",
     "text": [
      "99.7 percent CI lower bound: 0.543%\n",
      "99.7 percent CI upper bound: 0.571%\n"
     ]
    }
   ],
   "source": [
    "RMSE_CI_99_lower_bound=np.mean(RMSE)-3*np.std(RMSE)\n",
    "RMSE_CI_99_upper_bound=np.mean(RMSE)+3*np.std(RMSE)\n",
    "print(\"99.7 percent CI lower bound: %s\" %(round(RMSE_CI_99_lower_bound,5)*100)+\"%\")\n",
    "print(\"99.7 percent CI upper bound: %s\" %(round(RMSE_CI_99_upper_bound,5)*100)+\"%\")"
   ]
  },
  {
   "cell_type": "code",
   "execution_count": 276,
   "id": "82a3587f",
   "metadata": {},
   "outputs": [
    {
     "data": {
      "text/plain": [
       "[82.63423117717745,\n",
       " 82.87249698182926,\n",
       " 82.48455621328958,\n",
       " 82.48114711490275,\n",
       " 82.2410590341587,\n",
       " 81.99532386107241,\n",
       " 82.68932164042596,\n",
       " 82.61363913689436,\n",
       " 82.59477695856596,\n",
       " 82.18339658819107,\n",
       " 82.40138032600304,\n",
       " 82.12382746272233,\n",
       " 82.46293397666133,\n",
       " 82.04594650816847,\n",
       " 81.77403330544001]"
      ]
     },
     "execution_count": 276,
     "metadata": {},
     "output_type": "execute_result"
    }
   ],
   "source": [
    "Accuracy"
   ]
  },
  {
   "cell_type": "code",
   "execution_count": 277,
   "id": "0f54f231",
   "metadata": {},
   "outputs": [
    {
     "name": "stdout",
     "output_type": "stream",
     "text": [
      "mean: 82.37%\n"
     ]
    }
   ],
   "source": [
    "print(\"mean: %s\" %(round(np.mean(Accuracy),2))+\"%\")"
   ]
  },
  {
   "cell_type": "code",
   "execution_count": 278,
   "id": "9d84917f",
   "metadata": {},
   "outputs": [
    {
     "name": "stdout",
     "output_type": "stream",
     "text": [
      "stdv: 0.29%\n"
     ]
    }
   ],
   "source": [
    "print(\"stdv: %s\" %(round(np.std(Accuracy),2))+\"%\")"
   ]
  },
  {
   "cell_type": "code",
   "execution_count": 279,
   "id": "99eb3918",
   "metadata": {},
   "outputs": [
    {
     "name": "stdout",
     "output_type": "stream",
     "text": [
      "95 percent CI lower bound: 81.79%\n",
      "95 percent CI upper bound: 82.96%\n"
     ]
    }
   ],
   "source": [
    "Accuracy_CI_95_lower_bound=np.mean(Accuracy)-2*np.std(Accuracy)\n",
    "Accuracy_CI_95_upper_bound=np.mean(Accuracy)+2*np.std(Accuracy)\n",
    "print(\"95 percent CI lower bound: %s\" %round(Accuracy_CI_95_lower_bound,2)+\"%\")\n",
    "print(\"95 percent CI upper bound: %s\" %round(Accuracy_CI_95_upper_bound,2)+\"%\")"
   ]
  },
  {
   "cell_type": "code",
   "execution_count": 280,
   "id": "98cae2ca",
   "metadata": {},
   "outputs": [
    {
     "name": "stdout",
     "output_type": "stream",
     "text": [
      "99.7 percent CI lower bound: 81.5%\n",
      "99.7 percent CI upper bound: 83.25%\n"
     ]
    }
   ],
   "source": [
    "Accuracy_CI_99_lower_bound=np.mean(Accuracy)-3*np.std(Accuracy)\n",
    "Accuracy_CI_99_upper_bound=np.mean(Accuracy)+3*np.std(Accuracy)\n",
    "print(\"99.7 percent CI lower bound: %s\" %round(Accuracy_CI_99_lower_bound,2)+\"%\")\n",
    "print(\"99.7 percent CI upper bound: %s\" %round(Accuracy_CI_99_upper_bound,2)+\"%\")"
   ]
  },
  {
   "cell_type": "code",
   "execution_count": 261,
   "id": "817e4242",
   "metadata": {},
   "outputs": [
    {
     "data": {
      "text/plain": [
       "(array([19012., 19013., 19014., 19015., 19016., 19017., 19018.]),\n",
       " [Text(0, 0, ''),\n",
       "  Text(0, 0, ''),\n",
       "  Text(0, 0, ''),\n",
       "  Text(0, 0, ''),\n",
       "  Text(0, 0, ''),\n",
       "  Text(0, 0, ''),\n",
       "  Text(0, 0, '')])"
      ]
     },
     "execution_count": 261,
     "metadata": {},
     "output_type": "execute_result"
    },
    {
     "data": {
      "image/png": "[encoded data removed]",
      "text/plain": [
       "<Figure size 432x288 with 1 Axes>"
      ]
     },
     "metadata": {
      "needs_background": "light"
     },
     "output_type": "display_data"
    }
   ],
   "source": [
    "plt.plot(forecasts[\"ds\"][55:60],Y_true[55:60])\n",
    "plt.plot(forecasts[\"ds\"][55:60],Y_hat[55:60])\n",
    "plt.xticks(rotation=30)"
   ]
  },
  {
   "cell_type": "code",
   "execution_count": 262,
   "id": "ad6ce738",
   "metadata": {},
   "outputs": [
    {
     "data": {
      "text/plain": [
       "(0.006, 0.028)"
      ]
     },
     "execution_count": 262,
     "metadata": {},
     "output_type": "execute_result"
    },
    {
     "data": {
      "image/png": "[encoded data removed]",
      "text/plain": [
       "<Figure size 432x288 with 1 Axes>"
      ]
     },
     "metadata": {
      "needs_background": "light"
     },
     "output_type": "display_data"
    }
   ],
   "source": [
    "plt.plot(forecasts[\"ds\"][175:180],Y_true[175:180])\n",
    "plt.plot(forecasts[\"ds\"][175:180],Y_hat[175:180])\n",
    "plt.xticks(rotation=30)\n",
    "ax = plt.gca()\n",
    "ax.set_ylim(0.006, 0.028)"
   ]
  },
  {
   "cell_type": "code",
   "execution_count": null,
   "id": "4bf0d683",
   "metadata": {},
   "outputs": [],
   "source": []
  }
 ],
 "metadata": {
  "kernelspec": {
   "display_name": "Python 3 (ipykernel)",
   "language": "python",
   "name": "python3"
  },
  "language_info": {
   "codemirror_mode": {
    "name": "ipython",
    "version": 3
   },
   "file_extension": ".py",
   "mimetype": "text/x-python",
   "name": "python",
   "nbconvert_exporter": "python",
   "pygments_lexer": "ipython3",
   "version": "3.9.12"
  }
 },
 "nbformat": 4,
 "nbformat_minor": 5
}
