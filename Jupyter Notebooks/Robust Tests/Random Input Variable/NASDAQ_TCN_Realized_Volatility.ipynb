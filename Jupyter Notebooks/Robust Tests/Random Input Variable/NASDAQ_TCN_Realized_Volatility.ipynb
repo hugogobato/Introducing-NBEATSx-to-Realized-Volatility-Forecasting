{
  "cells": [
    {
      "cell_type": "code",
      "source": [
        "!pip install keras-tcn"
      ],
      "metadata": {
        "id": "rEvkwuZ4m6rf",
        "colab": {
          "base_uri": "https://localhost:8080/"
        },
        "outputId": "00cd499d-2ba4-43c8-9499-c8345e91dd5f"
      },
      "id": "rEvkwuZ4m6rf",
      "execution_count": 1,
      "outputs": [
        {
          "output_type": "stream",
          "name": "stdout",
          "text": [
            "Looking in indexes: https://pypi.org/simple, https://us-python.pkg.dev/colab-wheels/public/simple/\n",
            "Collecting keras-tcn\n",
            "  Downloading keras_tcn-3.5.0-py3-none-any.whl (13 kB)\n",
            "Requirement already satisfied: numpy in /usr/local/lib/python3.10/dist-packages (from keras-tcn) (1.22.4)\n",
            "Requirement already satisfied: tensorflow in /usr/local/lib/python3.10/dist-packages (from keras-tcn) (2.12.0)\n",
            "Collecting tensorflow-addons (from keras-tcn)\n",
            "  Downloading tensorflow_addons-0.20.0-cp310-cp310-manylinux_2_17_x86_64.manylinux2014_x86_64.whl (591 kB)\n",
            "\u001b[2K     \u001b[90m━━━━━━━━━━━━━━━━━━━━━━━━━━━━━━━━━━━━━━\u001b[0m \u001b[32m591.0/591.0 kB\u001b[0m \u001b[31m10.5 MB/s\u001b[0m eta \u001b[36m0:00:00\u001b[0m\n",
            "\u001b[?25hRequirement already satisfied: absl-py>=1.0.0 in /usr/local/lib/python3.10/dist-packages (from tensorflow->keras-tcn) (1.4.0)\n",
            "Requirement already satisfied: astunparse>=1.6.0 in /usr/local/lib/python3.10/dist-packages (from tensorflow->keras-tcn) (1.6.3)\n",
            "Requirement already satisfied: flatbuffers>=2.0 in /usr/local/lib/python3.10/dist-packages (from tensorflow->keras-tcn) (23.3.3)\n",
            "Requirement already satisfied: gast<=0.4.0,>=0.2.1 in /usr/local/lib/python3.10/dist-packages (from tensorflow->keras-tcn) (0.4.0)\n",
            "Requirement already satisfied: google-pasta>=0.1.1 in /usr/local/lib/python3.10/dist-packages (from tensorflow->keras-tcn) (0.2.0)\n",
            "Requirement already satisfied: grpcio<2.0,>=1.24.3 in /usr/local/lib/python3.10/dist-packages (from tensorflow->keras-tcn) (1.54.0)\n",
            "Requirement already satisfied: h5py>=2.9.0 in /usr/local/lib/python3.10/dist-packages (from tensorflow->keras-tcn) (3.8.0)\n",
            "Requirement already satisfied: jax>=0.3.15 in /usr/local/lib/python3.10/dist-packages (from tensorflow->keras-tcn) (0.4.8)\n",
            "Requirement already satisfied: keras<2.13,>=2.12.0 in /usr/local/lib/python3.10/dist-packages (from tensorflow->keras-tcn) (2.12.0)\n",
            "Requirement already satisfied: libclang>=13.0.0 in /usr/local/lib/python3.10/dist-packages (from tensorflow->keras-tcn) (16.0.0)\n",
            "Requirement already satisfied: opt-einsum>=2.3.2 in /usr/local/lib/python3.10/dist-packages (from tensorflow->keras-tcn) (3.3.0)\n",
            "Requirement already satisfied: packaging in /usr/local/lib/python3.10/dist-packages (from tensorflow->keras-tcn) (23.1)\n",
            "Requirement already satisfied: protobuf!=4.21.0,!=4.21.1,!=4.21.2,!=4.21.3,!=4.21.4,!=4.21.5,<5.0.0dev,>=3.20.3 in /usr/local/lib/python3.10/dist-packages (from tensorflow->keras-tcn) (3.20.3)\n",
            "Requirement already satisfied: setuptools in /usr/local/lib/python3.10/dist-packages (from tensorflow->keras-tcn) (67.7.2)\n",
            "Requirement already satisfied: six>=1.12.0 in /usr/local/lib/python3.10/dist-packages (from tensorflow->keras-tcn) (1.16.0)\n",
            "Requirement already satisfied: tensorboard<2.13,>=2.12 in /usr/local/lib/python3.10/dist-packages (from tensorflow->keras-tcn) (2.12.2)\n",
            "Requirement already satisfied: tensorflow-estimator<2.13,>=2.12.0 in /usr/local/lib/python3.10/dist-packages (from tensorflow->keras-tcn) (2.12.0)\n",
            "Requirement already satisfied: termcolor>=1.1.0 in /usr/local/lib/python3.10/dist-packages (from tensorflow->keras-tcn) (2.3.0)\n",
            "Requirement already satisfied: typing-extensions>=3.6.6 in /usr/local/lib/python3.10/dist-packages (from tensorflow->keras-tcn) (4.5.0)\n",
            "Requirement already satisfied: wrapt<1.15,>=1.11.0 in /usr/local/lib/python3.10/dist-packages (from tensorflow->keras-tcn) (1.14.1)\n",
            "Requirement already satisfied: tensorflow-io-gcs-filesystem>=0.23.1 in /usr/local/lib/python3.10/dist-packages (from tensorflow->keras-tcn) (0.32.0)\n",
            "Collecting typeguard<3.0.0,>=2.7 (from tensorflow-addons->keras-tcn)\n",
            "  Downloading typeguard-2.13.3-py3-none-any.whl (17 kB)\n",
            "Requirement already satisfied: wheel<1.0,>=0.23.0 in /usr/local/lib/python3.10/dist-packages (from astunparse>=1.6.0->tensorflow->keras-tcn) (0.40.0)\n",
            "Requirement already satisfied: ml-dtypes>=0.0.3 in /usr/local/lib/python3.10/dist-packages (from jax>=0.3.15->tensorflow->keras-tcn) (0.1.0)\n",
            "Requirement already satisfied: scipy>=1.7 in /usr/local/lib/python3.10/dist-packages (from jax>=0.3.15->tensorflow->keras-tcn) (1.10.1)\n",
            "Requirement already satisfied: google-auth<3,>=1.6.3 in /usr/local/lib/python3.10/dist-packages (from tensorboard<2.13,>=2.12->tensorflow->keras-tcn) (2.17.3)\n",
            "Requirement already satisfied: google-auth-oauthlib<1.1,>=0.5 in /usr/local/lib/python3.10/dist-packages (from tensorboard<2.13,>=2.12->tensorflow->keras-tcn) (1.0.0)\n",
            "Requirement already satisfied: markdown>=2.6.8 in /usr/local/lib/python3.10/dist-packages (from tensorboard<2.13,>=2.12->tensorflow->keras-tcn) (3.4.3)\n",
            "Requirement already satisfied: requests<3,>=2.21.0 in /usr/local/lib/python3.10/dist-packages (from tensorboard<2.13,>=2.12->tensorflow->keras-tcn) (2.27.1)\n",
            "Requirement already satisfied: tensorboard-data-server<0.8.0,>=0.7.0 in /usr/local/lib/python3.10/dist-packages (from tensorboard<2.13,>=2.12->tensorflow->keras-tcn) (0.7.0)\n",
            "Requirement already satisfied: tensorboard-plugin-wit>=1.6.0 in /usr/local/lib/python3.10/dist-packages (from tensorboard<2.13,>=2.12->tensorflow->keras-tcn) (1.8.1)\n",
            "Requirement already satisfied: werkzeug>=1.0.1 in /usr/local/lib/python3.10/dist-packages (from tensorboard<2.13,>=2.12->tensorflow->keras-tcn) (2.3.0)\n",
            "Requirement already satisfied: cachetools<6.0,>=2.0.0 in /usr/local/lib/python3.10/dist-packages (from google-auth<3,>=1.6.3->tensorboard<2.13,>=2.12->tensorflow->keras-tcn) (5.3.0)\n",
            "Requirement already satisfied: pyasn1-modules>=0.2.1 in /usr/local/lib/python3.10/dist-packages (from google-auth<3,>=1.6.3->tensorboard<2.13,>=2.12->tensorflow->keras-tcn) (0.3.0)\n",
            "Requirement already satisfied: rsa<5,>=3.1.4 in /usr/local/lib/python3.10/dist-packages (from google-auth<3,>=1.6.3->tensorboard<2.13,>=2.12->tensorflow->keras-tcn) (4.9)\n",
            "Requirement already satisfied: requests-oauthlib>=0.7.0 in /usr/local/lib/python3.10/dist-packages (from google-auth-oauthlib<1.1,>=0.5->tensorboard<2.13,>=2.12->tensorflow->keras-tcn) (1.3.1)\n",
            "Requirement already satisfied: urllib3<1.27,>=1.21.1 in /usr/local/lib/python3.10/dist-packages (from requests<3,>=2.21.0->tensorboard<2.13,>=2.12->tensorflow->keras-tcn) (1.26.15)\n",
            "Requirement already satisfied: certifi>=2017.4.17 in /usr/local/lib/python3.10/dist-packages (from requests<3,>=2.21.0->tensorboard<2.13,>=2.12->tensorflow->keras-tcn) (2022.12.7)\n",
            "Requirement already satisfied: charset-normalizer~=2.0.0 in /usr/local/lib/python3.10/dist-packages (from requests<3,>=2.21.0->tensorboard<2.13,>=2.12->tensorflow->keras-tcn) (2.0.12)\n",
            "Requirement already satisfied: idna<4,>=2.5 in /usr/local/lib/python3.10/dist-packages (from requests<3,>=2.21.0->tensorboard<2.13,>=2.12->tensorflow->keras-tcn) (3.4)\n",
            "Requirement already satisfied: MarkupSafe>=2.1.1 in /usr/local/lib/python3.10/dist-packages (from werkzeug>=1.0.1->tensorboard<2.13,>=2.12->tensorflow->keras-tcn) (2.1.2)\n",
            "Requirement already satisfied: pyasn1<0.6.0,>=0.4.6 in /usr/local/lib/python3.10/dist-packages (from pyasn1-modules>=0.2.1->google-auth<3,>=1.6.3->tensorboard<2.13,>=2.12->tensorflow->keras-tcn) (0.5.0)\n",
            "Requirement already satisfied: oauthlib>=3.0.0 in /usr/local/lib/python3.10/dist-packages (from requests-oauthlib>=0.7.0->google-auth-oauthlib<1.1,>=0.5->tensorboard<2.13,>=2.12->tensorflow->keras-tcn) (3.2.2)\n",
            "Installing collected packages: typeguard, tensorflow-addons, keras-tcn\n",
            "Successfully installed keras-tcn-3.5.0 tensorflow-addons-0.20.0 typeguard-2.13.3\n"
          ]
        }
      ]
    },
    {
      "cell_type": "code",
      "execution_count": 2,
      "id": "79f12d44",
      "metadata": {
        "id": "79f12d44"
      },
      "outputs": [],
      "source": [
        "import numpy as np\n",
        "import pandas as pd\n",
        "import matplotlib.pyplot as plt\n",
        "from tcn import TCN, tcn_full_summary\n",
        "from tensorflow.keras.layers import Dense, Dropout\n",
        "from tensorflow.keras.models import Sequential\n",
        "from sklearn.preprocessing import MinMaxScaler\n",
        "from keras.preprocessing.sequence import TimeseriesGenerator\n",
        "from numpy.random import seed\n",
        "seed(1052023)\n",
        "from random import randrange\n",
        "scaler = MinMaxScaler()"
      ]
    },
    {
      "cell_type": "code",
      "source": [
        "df = pd.read_excel(\"Temperature in Sao Paulo.xlsx\",index_col='Date',parse_dates=True, sheet_name=\"NASDAQ\")\n",
        "df_for_date=df[int(len(df['Realised'])*0.7):].reset_index()\n",
        "def df_to_X_y(window_size,test,scaled_test_input):\n",
        "  X=[]\n",
        "  y=[]\n",
        "  for i in range(len(test)-window_size):\n",
        "    row = [[a] for a in scaled_test_input[i:i+window_size]]\n",
        "    X.append(row)\n",
        "    y.append(test[i+window_size])\n",
        "  return np.array(X), np.array(y)"
      ],
      "metadata": {
        "id": "zUCQKTifAGCx"
      },
      "id": "zUCQKTifAGCx",
      "execution_count": 3,
      "outputs": []
    },
    {
      "cell_type": "markdown",
      "source": [
        "Best hyperparameters\n",
        "\n",
        "Epoch: 3 | Inputs: 189 | Kernel: 3 | Dropout: 0.2 | Loss: mae\n",
        "\n",
        "\n"
      ],
      "metadata": {
        "id": "FzvPu66H7xg1"
      },
      "id": "FzvPu66H7xg1"
    },
    {
      "cell_type": "markdown",
      "source": [
        "# H=1 Forecasts"
      ],
      "metadata": {
        "id": "gyDJu9xz2953"
      },
      "id": "gyDJu9xz2953"
    },
    {
      "cell_type": "code",
      "source": [
        "RMSE = []\n",
        "Accuracy = []\n",
        "Quasilikelihood=[]"
      ],
      "metadata": {
        "id": "NVIHgVQ73wvr"
      },
      "id": "NVIHgVQ73wvr",
      "execution_count": 4,
      "outputs": []
    },
    {
      "cell_type": "code",
      "execution_count": 5,
      "id": "3fabc48e",
      "metadata": {
        "scrolled": true,
        "colab": {
          "base_uri": "https://localhost:8080/"
        },
        "id": "3fabc48e",
        "outputId": "5e00e9f5-2f50-43a7-81b1-e01af38be0d7"
      },
      "outputs": [
        {
          "output_type": "stream",
          "name": "stdout",
          "text": [
            "Epoch 1/3\n",
            "107/107 [==============================] - 16s 12ms/step - loss: 0.7068 - accuracy: 2.9438e-04 - mean_absolute_error: 0.7068\n",
            "Epoch 2/3\n",
            "107/107 [==============================] - 1s 9ms/step - loss: 0.1412 - accuracy: 2.9438e-04 - mean_absolute_error: 0.1412\n",
            "Epoch 3/3\n",
            "107/107 [==============================] - 1s 10ms/step - loss: 0.0796 - accuracy: 2.9438e-04 - mean_absolute_error: 0.0796\n",
            "49/49 [==============================] - 1s 4ms/step\n"
          ]
        },
        {
          "output_type": "stream",
          "name": "stderr",
          "text": [
            "/usr/local/lib/python3.10/dist-packages/pandas/core/arrays/numpy_.py:161: RuntimeWarning: invalid value encountered in log\n",
            "  result = getattr(ufunc, method)(*inputs, **kwargs)\n"
          ]
        },
        {
          "output_type": "stream",
          "name": "stdout",
          "text": [
            "Epoch 1/3\n",
            "107/107 [==============================] - 7s 10ms/step - loss: 0.6001 - accuracy: 0.0000e+00 - mean_absolute_error: 0.6001\n",
            "Epoch 2/3\n",
            "107/107 [==============================] - 1s 9ms/step - loss: 0.1133 - accuracy: 2.9438e-04 - mean_absolute_error: 0.1133\n",
            "Epoch 3/3\n",
            "107/107 [==============================] - 1s 9ms/step - loss: 0.0605 - accuracy: 2.9438e-04 - mean_absolute_error: 0.0605\n",
            "49/49 [==============================] - 0s 3ms/step\n"
          ]
        },
        {
          "output_type": "stream",
          "name": "stderr",
          "text": [
            "/usr/local/lib/python3.10/dist-packages/pandas/core/arrays/numpy_.py:161: RuntimeWarning: invalid value encountered in log\n",
            "  result = getattr(ufunc, method)(*inputs, **kwargs)\n"
          ]
        },
        {
          "output_type": "stream",
          "name": "stdout",
          "text": [
            "Epoch 1/3\n",
            "107/107 [==============================] - 7s 12ms/step - loss: 0.8530 - accuracy: 2.9438e-04 - mean_absolute_error: 0.8530\n",
            "Epoch 2/3\n",
            "107/107 [==============================] - 1s 9ms/step - loss: 0.1303 - accuracy: 2.9438e-04 - mean_absolute_error: 0.1303\n",
            "Epoch 3/3\n",
            "107/107 [==============================] - 1s 9ms/step - loss: 0.0687 - accuracy: 2.9438e-04 - mean_absolute_error: 0.0687\n",
            "49/49 [==============================] - 0s 3ms/step\n"
          ]
        },
        {
          "output_type": "stream",
          "name": "stderr",
          "text": [
            "/usr/local/lib/python3.10/dist-packages/pandas/core/arrays/numpy_.py:161: RuntimeWarning: invalid value encountered in log\n",
            "  result = getattr(ufunc, method)(*inputs, **kwargs)\n"
          ]
        },
        {
          "output_type": "stream",
          "name": "stdout",
          "text": [
            "Epoch 1/3\n",
            "107/107 [==============================] - 6s 11ms/step - loss: 1.2980 - accuracy: 2.9438e-04 - mean_absolute_error: 1.2980\n",
            "Epoch 2/3\n",
            "107/107 [==============================] - 1s 10ms/step - loss: 0.1760 - accuracy: 2.9438e-04 - mean_absolute_error: 0.1760\n",
            "Epoch 3/3\n",
            "107/107 [==============================] - 1s 10ms/step - loss: 0.0853 - accuracy: 2.9438e-04 - mean_absolute_error: 0.0853\n",
            "49/49 [==============================] - 0s 3ms/step\n"
          ]
        },
        {
          "output_type": "stream",
          "name": "stderr",
          "text": [
            "/usr/local/lib/python3.10/dist-packages/pandas/core/arrays/numpy_.py:161: RuntimeWarning: invalid value encountered in log\n",
            "  result = getattr(ufunc, method)(*inputs, **kwargs)\n"
          ]
        },
        {
          "output_type": "stream",
          "name": "stdout",
          "text": [
            "Epoch 1/3\n",
            "107/107 [==============================] - 6s 11ms/step - loss: 0.9527 - accuracy: 2.9438e-04 - mean_absolute_error: 0.9527\n",
            "Epoch 2/3\n",
            "107/107 [==============================] - 1s 10ms/step - loss: 0.1352 - accuracy: 2.9438e-04 - mean_absolute_error: 0.1352\n",
            "Epoch 3/3\n",
            "107/107 [==============================] - 1s 9ms/step - loss: 0.0653 - accuracy: 2.9438e-04 - mean_absolute_error: 0.0653\n",
            "49/49 [==============================] - 0s 3ms/step\n"
          ]
        },
        {
          "output_type": "stream",
          "name": "stderr",
          "text": [
            "/usr/local/lib/python3.10/dist-packages/pandas/core/arrays/numpy_.py:161: RuntimeWarning: invalid value encountered in log\n",
            "  result = getattr(ufunc, method)(*inputs, **kwargs)\n"
          ]
        },
        {
          "output_type": "stream",
          "name": "stdout",
          "text": [
            "Epoch 1/3\n",
            "107/107 [==============================] - 6s 11ms/step - loss: 0.7108 - accuracy: 0.0000e+00 - mean_absolute_error: 0.7108\n",
            "Epoch 2/3\n",
            "107/107 [==============================] - 1s 10ms/step - loss: 0.1197 - accuracy: 2.9438e-04 - mean_absolute_error: 0.1197\n",
            "Epoch 3/3\n",
            "107/107 [==============================] - 1s 9ms/step - loss: 0.0701 - accuracy: 2.9438e-04 - mean_absolute_error: 0.0701\n",
            "49/49 [==============================] - 0s 3ms/step\n"
          ]
        },
        {
          "output_type": "stream",
          "name": "stderr",
          "text": [
            "/usr/local/lib/python3.10/dist-packages/pandas/core/arrays/numpy_.py:161: RuntimeWarning: invalid value encountered in log\n",
            "  result = getattr(ufunc, method)(*inputs, **kwargs)\n"
          ]
        },
        {
          "output_type": "stream",
          "name": "stdout",
          "text": [
            "Epoch 1/3\n",
            "107/107 [==============================] - 6s 12ms/step - loss: 0.7957 - accuracy: 2.9438e-04 - mean_absolute_error: 0.7957\n",
            "Epoch 2/3\n",
            "107/107 [==============================] - 1s 13ms/step - loss: 0.1555 - accuracy: 2.9438e-04 - mean_absolute_error: 0.1555\n",
            "Epoch 3/3\n",
            "107/107 [==============================] - 1s 11ms/step - loss: 0.0733 - accuracy: 2.9438e-04 - mean_absolute_error: 0.0733\n",
            "49/49 [==============================] - 0s 3ms/step\n"
          ]
        },
        {
          "output_type": "stream",
          "name": "stderr",
          "text": [
            "/usr/local/lib/python3.10/dist-packages/pandas/core/arrays/numpy_.py:161: RuntimeWarning: invalid value encountered in log\n",
            "  result = getattr(ufunc, method)(*inputs, **kwargs)\n"
          ]
        },
        {
          "output_type": "stream",
          "name": "stdout",
          "text": [
            "Epoch 1/3\n",
            "107/107 [==============================] - 6s 10ms/step - loss: 1.2779 - accuracy: 2.9438e-04 - mean_absolute_error: 1.2779\n",
            "Epoch 2/3\n",
            "107/107 [==============================] - 1s 10ms/step - loss: 0.2008 - accuracy: 2.9438e-04 - mean_absolute_error: 0.2008\n",
            "Epoch 3/3\n",
            "107/107 [==============================] - 1s 9ms/step - loss: 0.0948 - accuracy: 2.9438e-04 - mean_absolute_error: 0.0948\n",
            "49/49 [==============================] - 0s 3ms/step\n"
          ]
        },
        {
          "output_type": "stream",
          "name": "stderr",
          "text": [
            "/usr/local/lib/python3.10/dist-packages/pandas/core/arrays/numpy_.py:161: RuntimeWarning: invalid value encountered in log\n",
            "  result = getattr(ufunc, method)(*inputs, **kwargs)\n"
          ]
        },
        {
          "output_type": "stream",
          "name": "stdout",
          "text": [
            "Epoch 1/3\n",
            "107/107 [==============================] - 7s 11ms/step - loss: 0.9833 - accuracy: 2.9438e-04 - mean_absolute_error: 0.9833\n",
            "Epoch 2/3\n",
            "107/107 [==============================] - 1s 10ms/step - loss: 0.1635 - accuracy: 0.0000e+00 - mean_absolute_error: 0.1635\n",
            "Epoch 3/3\n",
            "107/107 [==============================] - 1s 10ms/step - loss: 0.0810 - accuracy: 2.9438e-04 - mean_absolute_error: 0.0810\n",
            "49/49 [==============================] - 0s 3ms/step\n"
          ]
        },
        {
          "output_type": "stream",
          "name": "stderr",
          "text": [
            "/usr/local/lib/python3.10/dist-packages/pandas/core/arrays/numpy_.py:161: RuntimeWarning: invalid value encountered in log\n",
            "  result = getattr(ufunc, method)(*inputs, **kwargs)\n"
          ]
        },
        {
          "output_type": "stream",
          "name": "stdout",
          "text": [
            "Epoch 1/3\n",
            "107/107 [==============================] - 6s 11ms/step - loss: 0.8256 - accuracy: 0.0000e+00 - mean_absolute_error: 0.8256\n",
            "Epoch 2/3\n",
            "107/107 [==============================] - 1s 10ms/step - loss: 0.1301 - accuracy: 2.9438e-04 - mean_absolute_error: 0.1301\n",
            "Epoch 3/3\n",
            "107/107 [==============================] - 1s 10ms/step - loss: 0.0672 - accuracy: 2.9438e-04 - mean_absolute_error: 0.0672\n",
            "49/49 [==============================] - 0s 3ms/step\n"
          ]
        },
        {
          "output_type": "stream",
          "name": "stderr",
          "text": [
            "/usr/local/lib/python3.10/dist-packages/pandas/core/arrays/numpy_.py:161: RuntimeWarning: invalid value encountered in log\n",
            "  result = getattr(ufunc, method)(*inputs, **kwargs)\n"
          ]
        },
        {
          "output_type": "stream",
          "name": "stdout",
          "text": [
            "Epoch 1/3\n",
            "107/107 [==============================] - 7s 13ms/step - loss: 0.9170 - accuracy: 2.9438e-04 - mean_absolute_error: 0.9170\n",
            "Epoch 2/3\n",
            "107/107 [==============================] - 1s 12ms/step - loss: 0.1514 - accuracy: 2.9438e-04 - mean_absolute_error: 0.1514\n",
            "Epoch 3/3\n",
            "107/107 [==============================] - 1s 9ms/step - loss: 0.0702 - accuracy: 2.9438e-04 - mean_absolute_error: 0.0702\n",
            "49/49 [==============================] - 0s 3ms/step\n"
          ]
        },
        {
          "output_type": "stream",
          "name": "stderr",
          "text": [
            "/usr/local/lib/python3.10/dist-packages/pandas/core/arrays/numpy_.py:161: RuntimeWarning: invalid value encountered in log\n",
            "  result = getattr(ufunc, method)(*inputs, **kwargs)\n"
          ]
        },
        {
          "output_type": "stream",
          "name": "stdout",
          "text": [
            "Epoch 1/3\n",
            "107/107 [==============================] - 7s 13ms/step - loss: 0.8129 - accuracy: 2.9438e-04 - mean_absolute_error: 0.8129\n",
            "Epoch 2/3\n",
            "107/107 [==============================] - 1s 9ms/step - loss: 0.1625 - accuracy: 2.9438e-04 - mean_absolute_error: 0.1625\n",
            "Epoch 3/3\n",
            "107/107 [==============================] - 1s 9ms/step - loss: 0.0915 - accuracy: 2.9438e-04 - mean_absolute_error: 0.0915\n",
            "49/49 [==============================] - 0s 3ms/step\n"
          ]
        },
        {
          "output_type": "stream",
          "name": "stderr",
          "text": [
            "/usr/local/lib/python3.10/dist-packages/pandas/core/arrays/numpy_.py:161: RuntimeWarning: invalid value encountered in log\n",
            "  result = getattr(ufunc, method)(*inputs, **kwargs)\n"
          ]
        },
        {
          "output_type": "stream",
          "name": "stdout",
          "text": [
            "Epoch 1/3\n",
            "107/107 [==============================] - 7s 13ms/step - loss: 0.5122 - accuracy: 2.9438e-04 - mean_absolute_error: 0.5122\n",
            "Epoch 2/3\n",
            "107/107 [==============================] - 1s 10ms/step - loss: 0.0952 - accuracy: 2.9438e-04 - mean_absolute_error: 0.0952\n",
            "Epoch 3/3\n",
            "107/107 [==============================] - 1s 9ms/step - loss: 0.0505 - accuracy: 2.9438e-04 - mean_absolute_error: 0.0505\n",
            "49/49 [==============================] - 0s 3ms/step\n"
          ]
        },
        {
          "output_type": "stream",
          "name": "stderr",
          "text": [
            "/usr/local/lib/python3.10/dist-packages/pandas/core/arrays/numpy_.py:161: RuntimeWarning: invalid value encountered in log\n",
            "  result = getattr(ufunc, method)(*inputs, **kwargs)\n"
          ]
        },
        {
          "output_type": "stream",
          "name": "stdout",
          "text": [
            "Epoch 1/3\n",
            "107/107 [==============================] - 7s 13ms/step - loss: 0.7655 - accuracy: 2.9438e-04 - mean_absolute_error: 0.7655\n",
            "Epoch 2/3\n",
            "107/107 [==============================] - 1s 9ms/step - loss: 0.1156 - accuracy: 2.9438e-04 - mean_absolute_error: 0.1156\n",
            "Epoch 3/3\n",
            "107/107 [==============================] - 1s 9ms/step - loss: 0.0575 - accuracy: 2.9438e-04 - mean_absolute_error: 0.0575\n",
            "49/49 [==============================] - 0s 3ms/step\n"
          ]
        },
        {
          "output_type": "stream",
          "name": "stderr",
          "text": [
            "/usr/local/lib/python3.10/dist-packages/pandas/core/arrays/numpy_.py:161: RuntimeWarning: invalid value encountered in log\n",
            "  result = getattr(ufunc, method)(*inputs, **kwargs)\n"
          ]
        },
        {
          "output_type": "stream",
          "name": "stdout",
          "text": [
            "Epoch 1/3\n",
            "107/107 [==============================] - 7s 14ms/step - loss: 0.9568 - accuracy: 2.9438e-04 - mean_absolute_error: 0.9568\n",
            "Epoch 2/3\n",
            "107/107 [==============================] - 1s 10ms/step - loss: 0.1648 - accuracy: 2.9438e-04 - mean_absolute_error: 0.1648\n",
            "Epoch 3/3\n",
            "107/107 [==============================] - 1s 9ms/step - loss: 0.1047 - accuracy: 2.9438e-04 - mean_absolute_error: 0.1047\n",
            "49/49 [==============================] - 0s 3ms/step\n"
          ]
        },
        {
          "output_type": "stream",
          "name": "stderr",
          "text": [
            "/usr/local/lib/python3.10/dist-packages/pandas/core/arrays/numpy_.py:161: RuntimeWarning: invalid value encountered in log\n",
            "  result = getattr(ufunc, method)(*inputs, **kwargs)\n"
          ]
        }
      ],
      "source": [
        "for i in range(15):\n",
        "  n_features = 3\n",
        "  n_input = 189\n",
        "  train = df.iloc[:int(len(df['Realised'])*0.7)]\n",
        "  test = df.iloc[int(len(df['Realised'])*0.7)-n_input:]\n",
        "  scaler.fit(train)\n",
        "  scaled_train_input = scaler.transform(train)\n",
        "  scaled_test_input = scaler.transform(test)\n",
        "  train = df[\"Realised\"].iloc[:int(len(df['Realised'])*0.7)]\n",
        "  test = df[\"Realised\"].iloc[int(len(df['Realised'])*0.7)-n_input:]\n",
        "  train = train.array.reshape(-1, 1)\n",
        "  test = test.array.reshape(-1, 1)\n",
        "  scaler.fit(train)\n",
        "  scaled_train_target = scaler.transform(train)\n",
        "  scaled_test_target = scaler.transform(test)\n",
        "  generator = TimeseriesGenerator(scaled_train_input, scaled_train_target, length=n_input, batch_size=32)\n",
        "  model = Sequential()\n",
        "  model.add(TCN(kernel_size=3, dilations=[1,2,4,2,1], nb_stacks=1,padding='causal',\n",
        "                dropout_rate=0.2,activation='relu',kernel_initializer='he_normal', input_shape=(n_input, n_features)))\n",
        "  model.add(Dense(1))\n",
        "  model.compile(optimizer='adam', loss='mae', metrics=[\"accuracy\", \"mean_absolute_error\"])\n",
        "  model.fit(generator,epochs=3)\n",
        "  X, y = df_to_X_y(n_input,test,scaled_test_input)\n",
        "  X=X.reshape(len(y), n_input, n_features)\n",
        "  y_hat=model.predict(X)\n",
        "  true_predictions = scaler.inverse_transform(y_hat)\n",
        "  test=test[n_input:]\n",
        "  RMSE.append(np.sum(np.sqrt((test-true_predictions)**2))/len(test))\n",
        "  Accuracy.append((1-np.sum(np.sqrt((test-true_predictions)**2)/test)/(len(test)))*100)\n",
        "  Quasilikelihood.append(np.sum(true_predictions/test-np.log(true_predictions/test)-1)/len(test))"
      ]
    },
    {
      "cell_type": "code",
      "execution_count": 6,
      "id": "54cb21c0",
      "metadata": {
        "scrolled": true,
        "colab": {
          "base_uri": "https://localhost:8080/"
        },
        "id": "54cb21c0",
        "outputId": "d6cf7faf-20e7-447e-bbfc-275b05aed81c"
      },
      "outputs": [
        {
          "output_type": "execute_result",
          "data": {
            "text/plain": [
              "[39.5495342122096,\n",
              " 55.73378264973934,\n",
              " 39.05873213878013,\n",
              " 48.31913672927182,\n",
              " 49.01654462537706,\n",
              " 49.96195933999671,\n",
              " 54.16854946992664,\n",
              " 40.33966440952593,\n",
              " 22.69736996094195,\n",
              " 49.804509860957644,\n",
              " 43.89081085136699,\n",
              " 54.46748524381013,\n",
              " 51.581902625276484,\n",
              " 55.649304019464395,\n",
              " 14.321124594406998]"
            ]
          },
          "metadata": {},
          "execution_count": 6
        }
      ],
      "source": [
        "Accuracy"
      ]
    },
    {
      "cell_type": "code",
      "source": [
        "RMSE"
      ],
      "metadata": {
        "colab": {
          "base_uri": "https://localhost:8080/"
        },
        "id": "ubuTcY_R4FpJ",
        "outputId": "4e1cda94-302c-43d0-84ed-e88679b553ea"
      },
      "id": "ubuTcY_R4FpJ",
      "execution_count": 7,
      "outputs": [
        {
          "output_type": "execute_result",
          "data": {
            "text/plain": [
              "[0.00408522747812331,\n",
              " 0.003655993534873488,\n",
              " 0.00524313775217186,\n",
              " 0.004545115833032247,\n",
              " 0.003740935884660696,\n",
              " 0.0038862741488792565,\n",
              " 0.0039378519693798976,\n",
              " 0.004339715789437359,\n",
              " 0.0047997703362659344,\n",
              " 0.0038160701839047555,\n",
              " 0.0043609064764580634,\n",
              " 0.0041502592204030395,\n",
              " 0.003626632697250981,\n",
              " 0.004252946167135287,\n",
              " 0.005313842693788301]"
            ]
          },
          "metadata": {},
          "execution_count": 7
        }
      ]
    },
    {
      "cell_type": "code",
      "source": [
        "Quasilikelihood"
      ],
      "metadata": {
        "colab": {
          "base_uri": "https://localhost:8080/"
        },
        "id": "Fx4BKcdPSJ0u",
        "outputId": "e04baf10-90d4-43c6-de49-352e50af594c"
      },
      "id": "Fx4BKcdPSJ0u",
      "execution_count": 8,
      "outputs": [
        {
          "output_type": "execute_result",
          "data": {
            "text/plain": [
              "[0.19810932497491648,\n",
              " 0.1431843686358403,\n",
              " 0.4661592286802494,\n",
              " 0.20823736059582343,\n",
              " 0.15734176112700876,\n",
              " 0.16701505541304534,\n",
              " 0.1642934967292374,\n",
              " 0.19972068268379328,\n",
              " 0.28424597702554666,\n",
              " 0.1637154820110409,\n",
              " 0.17753946877344665,\n",
              " 0.19333982899397914,\n",
              " 0.15086350618071817,\n",
              " 0.1418036106622745,\n",
              " 0.31470291478239854]"
            ]
          },
          "metadata": {},
          "execution_count": 8
        }
      ]
    },
    {
      "cell_type": "code",
      "execution_count": 9,
      "id": "44f85a97",
      "metadata": {
        "colab": {
          "base_uri": "https://localhost:8080/",
          "height": 448
        },
        "id": "44f85a97",
        "outputId": "33a4626a-ee14-4904-fee4-ca36cc0a390c"
      },
      "outputs": [
        {
          "output_type": "execute_result",
          "data": {
            "text/plain": [
              "Text(0, 0.5, 'NASDAQ Realized Volatility')"
            ]
          },
          "metadata": {},
          "execution_count": 9
        },
        {
          "output_type": "display_data",
          "data": {
            "text/plain": [
              "<Figure size 640x480 with 1 Axes>"
            ],
            "image/png": "[encoded data removed]"
          },
          "metadata": {}
        }
      ],
      "source": [
        "# Best model\n",
        "plt.plot(df_for_date[\"Date\"], test)\n",
        "plt.plot(df_for_date[\"Date\"], true_predictions) \n",
        "plt.ylabel(\"NASDAQ Realized Volatility\")"
      ]
    },
    {
      "cell_type": "code",
      "source": [
        "def df_to_X_y(window_size,test,scaled_test_input):\n",
        "  X=[]\n",
        "  y=[]\n",
        "  for i in range(int(len(test)/3)):\n",
        "    row = [[a] for a in scaled_test_input[i*3:(i*3)+window_size]]\n",
        "    X.append(row)\n",
        "  return np.array(X)"
      ],
      "metadata": {
        "id": "4LV7ETqJyCbl"
      },
      "id": "4LV7ETqJyCbl",
      "execution_count": 10,
      "outputs": []
    },
    {
      "cell_type": "markdown",
      "source": [
        "# H=3 Forecasts"
      ],
      "metadata": {
        "id": "RUNuZNQ_Sjhe"
      },
      "id": "RUNuZNQ_Sjhe"
    },
    {
      "cell_type": "code",
      "execution_count": 11,
      "id": "b5f74db6",
      "metadata": {
        "id": "b5f74db6"
      },
      "outputs": [],
      "source": [
        "RMSE = []\n",
        "Accuracy = []\n",
        "Quasilikelihood=[]"
      ]
    },
    {
      "cell_type": "code",
      "source": [
        "for i in range (15):\n",
        "  n_features = 3\n",
        "  n_input = 189\n",
        "  train = df.iloc[:int(len(df['Realised'])*0.7)]\n",
        "  test = df.iloc[int(len(df['Realised'])*0.7)-n_input:]\n",
        "  scaler.fit(train)\n",
        "  scaled_train_input = scaler.transform(train)\n",
        "  scaled_test_input = scaler.transform(test)\n",
        "  train = df[\"Realised\"].iloc[:int(len(df['Realised'])*0.7)]\n",
        "  test = df[\"Realised\"].iloc[int(len(df['Realised'])*0.7):]\n",
        "  train = train.array.reshape(-1, 1)\n",
        "  test = test.array.reshape(-1, 1)\n",
        "  scaler.fit(train)\n",
        "  scaled_train_target = scaler.transform(train)\n",
        "  scaled_test_target = scaler.transform(test)\n",
        "  generator = TimeseriesGenerator(scaled_train_input, scaled_train_target, length=n_input, batch_size=32)\n",
        "  model = Sequential()\n",
        "  model.add(TCN(kernel_size=3, dilations=[1,2,4,2,1], nb_stacks=1,padding='causal',\n",
        "                dropout_rate=0.2,activation='relu',kernel_initializer='he_normal', input_shape=(n_input, n_features)))\n",
        "  model.add(Dense(3))\n",
        "  model.compile(optimizer='adam', loss='mae', metrics=[\"accuracy\", \"mean_absolute_error\"])\n",
        "  model.fit(generator,epochs=3)\n",
        "  test=test[:len(test)-1]\n",
        "  X = df_to_X_y(n_input,test,scaled_test_input)\n",
        "  X=X.reshape(int(((len(test)/3))), n_input, n_features)\n",
        "  y_hat=model.predict(X)\n",
        "  y_hat=y_hat.reshape(len(test),1)\n",
        "  true_predictions = scaler.inverse_transform(y_hat)\n",
        "  RMSE.append(np.sum(np.sqrt((test-true_predictions)**2))/len(test))\n",
        "  Accuracy.append((1-np.sum(np.sqrt((test-true_predictions)**2)/test)/(len(test)))*100)\n",
        "  Quasilikelihood.append(np.sum(true_predictions/test-np.log(true_predictions/test)-1)/len(test))"
      ],
      "metadata": {
        "colab": {
          "base_uri": "https://localhost:8080/"
        },
        "id": "08h0LWc2Klyf",
        "outputId": "cf5d88de-6ef6-4424-9577-2e14519baf96"
      },
      "id": "08h0LWc2Klyf",
      "execution_count": 12,
      "outputs": [
        {
          "output_type": "stream",
          "name": "stdout",
          "text": [
            "Epoch 1/3\n",
            "107/107 [==============================] - 7s 13ms/step - loss: 0.9347 - accuracy: 0.3418 - mean_absolute_error: 0.9347\n",
            "Epoch 2/3\n",
            "107/107 [==============================] - 1s 10ms/step - loss: 0.1077 - accuracy: 0.3415 - mean_absolute_error: 0.1077\n",
            "Epoch 3/3\n",
            "107/107 [==============================] - 1s 10ms/step - loss: 0.0500 - accuracy: 0.3503 - mean_absolute_error: 0.0500\n",
            "16/16 [==============================] - 0s 3ms/step\n"
          ]
        },
        {
          "output_type": "stream",
          "name": "stderr",
          "text": [
            "/usr/local/lib/python3.10/dist-packages/pandas/core/arrays/numpy_.py:161: RuntimeWarning: invalid value encountered in log\n",
            "  result = getattr(ufunc, method)(*inputs, **kwargs)\n"
          ]
        },
        {
          "output_type": "stream",
          "name": "stdout",
          "text": [
            "Epoch 1/3\n",
            "107/107 [==============================] - 7s 19ms/step - loss: 0.7241 - accuracy: 0.3453 - mean_absolute_error: 0.7241\n",
            "Epoch 2/3\n",
            "107/107 [==============================] - 2s 21ms/step - loss: 0.0829 - accuracy: 0.3067 - mean_absolute_error: 0.0829\n",
            "Epoch 3/3\n",
            "107/107 [==============================] - 2s 17ms/step - loss: 0.0447 - accuracy: 0.2685 - mean_absolute_error: 0.0447\n",
            "16/16 [==============================] - 0s 3ms/step\n"
          ]
        },
        {
          "output_type": "stream",
          "name": "stderr",
          "text": [
            "/usr/local/lib/python3.10/dist-packages/pandas/core/arrays/numpy_.py:161: RuntimeWarning: invalid value encountered in log\n",
            "  result = getattr(ufunc, method)(*inputs, **kwargs)\n"
          ]
        },
        {
          "output_type": "stream",
          "name": "stdout",
          "text": [
            "Epoch 1/3\n",
            "107/107 [==============================] - 7s 14ms/step - loss: 0.5992 - accuracy: 0.3059 - mean_absolute_error: 0.5992\n",
            "Epoch 2/3\n",
            "107/107 [==============================] - 1s 10ms/step - loss: 0.0801 - accuracy: 0.3438 - mean_absolute_error: 0.0801\n",
            "Epoch 3/3\n",
            "107/107 [==============================] - 1s 10ms/step - loss: 0.0414 - accuracy: 0.2850 - mean_absolute_error: 0.0414\n",
            "16/16 [==============================] - 0s 3ms/step\n"
          ]
        },
        {
          "output_type": "stream",
          "name": "stderr",
          "text": [
            "/usr/local/lib/python3.10/dist-packages/pandas/core/arrays/numpy_.py:161: RuntimeWarning: invalid value encountered in log\n",
            "  result = getattr(ufunc, method)(*inputs, **kwargs)\n"
          ]
        },
        {
          "output_type": "stream",
          "name": "stdout",
          "text": [
            "Epoch 1/3\n",
            "107/107 [==============================] - 6s 10ms/step - loss: 0.7555 - accuracy: 0.3047 - mean_absolute_error: 0.7555\n",
            "Epoch 2/3\n",
            "107/107 [==============================] - 1s 13ms/step - loss: 0.0935 - accuracy: 0.3229 - mean_absolute_error: 0.0935\n",
            "Epoch 3/3\n",
            "107/107 [==============================] - 1s 10ms/step - loss: 0.0454 - accuracy: 0.3232 - mean_absolute_error: 0.0454\n",
            "16/16 [==============================] - 0s 3ms/step\n"
          ]
        },
        {
          "output_type": "stream",
          "name": "stderr",
          "text": [
            "/usr/local/lib/python3.10/dist-packages/pandas/core/arrays/numpy_.py:161: RuntimeWarning: invalid value encountered in log\n",
            "  result = getattr(ufunc, method)(*inputs, **kwargs)\n"
          ]
        },
        {
          "output_type": "stream",
          "name": "stdout",
          "text": [
            "Epoch 1/3\n",
            "107/107 [==============================] - 6s 10ms/step - loss: 0.6581 - accuracy: 0.3347 - mean_absolute_error: 0.6581\n",
            "Epoch 2/3\n",
            "107/107 [==============================] - 1s 9ms/step - loss: 0.0705 - accuracy: 0.3165 - mean_absolute_error: 0.0705\n",
            "Epoch 3/3\n",
            "107/107 [==============================] - 1s 13ms/step - loss: 0.0395 - accuracy: 0.3029 - mean_absolute_error: 0.0395\n",
            "16/16 [==============================] - 0s 4ms/step\n"
          ]
        },
        {
          "output_type": "stream",
          "name": "stderr",
          "text": [
            "/usr/local/lib/python3.10/dist-packages/pandas/core/arrays/numpy_.py:161: RuntimeWarning: invalid value encountered in log\n",
            "  result = getattr(ufunc, method)(*inputs, **kwargs)\n"
          ]
        },
        {
          "output_type": "stream",
          "name": "stdout",
          "text": [
            "Epoch 1/3\n",
            "107/107 [==============================] - 6s 10ms/step - loss: 0.9114 - accuracy: 0.3506 - mean_absolute_error: 0.9114\n",
            "Epoch 2/3\n",
            "107/107 [==============================] - 1s 9ms/step - loss: 0.1321 - accuracy: 0.3309 - mean_absolute_error: 0.1321\n",
            "Epoch 3/3\n",
            "107/107 [==============================] - 1s 11ms/step - loss: 0.0628 - accuracy: 0.3918 - mean_absolute_error: 0.0628\n",
            "16/16 [==============================] - 0s 4ms/step\n"
          ]
        },
        {
          "output_type": "stream",
          "name": "stderr",
          "text": [
            "/usr/local/lib/python3.10/dist-packages/pandas/core/arrays/numpy_.py:161: RuntimeWarning: invalid value encountered in log\n",
            "  result = getattr(ufunc, method)(*inputs, **kwargs)\n"
          ]
        },
        {
          "output_type": "stream",
          "name": "stdout",
          "text": [
            "Epoch 1/3\n",
            "107/107 [==============================] - 7s 10ms/step - loss: 0.6183 - accuracy: 0.3262 - mean_absolute_error: 0.6183\n",
            "Epoch 2/3\n",
            "107/107 [==============================] - 1s 10ms/step - loss: 0.0942 - accuracy: 0.3435 - mean_absolute_error: 0.0942\n",
            "Epoch 3/3\n",
            "107/107 [==============================] - 1s 10ms/step - loss: 0.0475 - accuracy: 0.3220 - mean_absolute_error: 0.0475\n",
            "16/16 [==============================] - 0s 3ms/step\n"
          ]
        },
        {
          "output_type": "stream",
          "name": "stderr",
          "text": [
            "/usr/local/lib/python3.10/dist-packages/pandas/core/arrays/numpy_.py:161: RuntimeWarning: invalid value encountered in log\n",
            "  result = getattr(ufunc, method)(*inputs, **kwargs)\n"
          ]
        },
        {
          "output_type": "stream",
          "name": "stdout",
          "text": [
            "Epoch 1/3\n",
            "107/107 [==============================] - 7s 10ms/step - loss: 0.4928 - accuracy: 0.3400 - mean_absolute_error: 0.4928\n",
            "Epoch 2/3\n",
            "107/107 [==============================] - 1s 9ms/step - loss: 0.0886 - accuracy: 0.3939 - mean_absolute_error: 0.0886\n",
            "Epoch 3/3\n",
            "107/107 [==============================] - 2s 16ms/step - loss: 0.0406 - accuracy: 0.3780 - mean_absolute_error: 0.0406\n",
            "16/16 [==============================] - 0s 4ms/step\n"
          ]
        },
        {
          "output_type": "stream",
          "name": "stderr",
          "text": [
            "/usr/local/lib/python3.10/dist-packages/pandas/core/arrays/numpy_.py:161: RuntimeWarning: invalid value encountered in log\n",
            "  result = getattr(ufunc, method)(*inputs, **kwargs)\n"
          ]
        },
        {
          "output_type": "stream",
          "name": "stdout",
          "text": [
            "Epoch 1/3\n",
            "107/107 [==============================] - 9s 10ms/step - loss: 0.6596 - accuracy: 0.3268 - mean_absolute_error: 0.6596\n",
            "Epoch 2/3\n",
            "107/107 [==============================] - 1s 10ms/step - loss: 0.0812 - accuracy: 0.3209 - mean_absolute_error: 0.0812\n",
            "Epoch 3/3\n",
            "107/107 [==============================] - 1s 10ms/step - loss: 0.0437 - accuracy: 0.3150 - mean_absolute_error: 0.0437\n",
            "16/16 [==============================] - 0s 3ms/step\n"
          ]
        },
        {
          "output_type": "stream",
          "name": "stderr",
          "text": [
            "/usr/local/lib/python3.10/dist-packages/pandas/core/arrays/numpy_.py:161: RuntimeWarning: invalid value encountered in log\n",
            "  result = getattr(ufunc, method)(*inputs, **kwargs)\n"
          ]
        },
        {
          "output_type": "stream",
          "name": "stdout",
          "text": [
            "Epoch 1/3\n",
            "107/107 [==============================] - 7s 10ms/step - loss: 0.5473 - accuracy: 0.3391 - mean_absolute_error: 0.5473\n",
            "Epoch 2/3\n",
            "107/107 [==============================] - 1s 9ms/step - loss: 0.0593 - accuracy: 0.3562 - mean_absolute_error: 0.0593\n",
            "Epoch 3/3\n",
            "107/107 [==============================] - 1s 9ms/step - loss: 0.0381 - accuracy: 0.3477 - mean_absolute_error: 0.0381\n",
            "16/16 [==============================] - 0s 3ms/step\n"
          ]
        },
        {
          "output_type": "stream",
          "name": "stderr",
          "text": [
            "/usr/local/lib/python3.10/dist-packages/pandas/core/arrays/numpy_.py:161: RuntimeWarning: invalid value encountered in log\n",
            "  result = getattr(ufunc, method)(*inputs, **kwargs)\n"
          ]
        },
        {
          "output_type": "stream",
          "name": "stdout",
          "text": [
            "Epoch 1/3\n",
            "107/107 [==============================] - 8s 10ms/step - loss: 0.8725 - accuracy: 0.3047 - mean_absolute_error: 0.8725\n",
            "Epoch 2/3\n",
            "107/107 [==============================] - 1s 9ms/step - loss: 0.1415 - accuracy: 0.2997 - mean_absolute_error: 0.1415\n",
            "Epoch 3/3\n",
            "107/107 [==============================] - 1s 9ms/step - loss: 0.0736 - accuracy: 0.3011 - mean_absolute_error: 0.0736\n",
            "16/16 [==============================] - 0s 3ms/step\n"
          ]
        },
        {
          "output_type": "stream",
          "name": "stderr",
          "text": [
            "/usr/local/lib/python3.10/dist-packages/pandas/core/arrays/numpy_.py:161: RuntimeWarning: invalid value encountered in log\n",
            "  result = getattr(ufunc, method)(*inputs, **kwargs)\n"
          ]
        },
        {
          "output_type": "stream",
          "name": "stdout",
          "text": [
            "Epoch 1/3\n",
            "107/107 [==============================] - 7s 13ms/step - loss: 0.6360 - accuracy: 0.3512 - mean_absolute_error: 0.6360\n",
            "Epoch 2/3\n",
            "107/107 [==============================] - 1s 10ms/step - loss: 0.0734 - accuracy: 0.3432 - mean_absolute_error: 0.0734\n",
            "Epoch 3/3\n",
            "107/107 [==============================] - 1s 9ms/step - loss: 0.0435 - accuracy: 0.3041 - mean_absolute_error: 0.0435\n",
            "16/16 [==============================] - 0s 3ms/step\n"
          ]
        },
        {
          "output_type": "stream",
          "name": "stderr",
          "text": [
            "/usr/local/lib/python3.10/dist-packages/pandas/core/arrays/numpy_.py:161: RuntimeWarning: invalid value encountered in log\n",
            "  result = getattr(ufunc, method)(*inputs, **kwargs)\n"
          ]
        },
        {
          "output_type": "stream",
          "name": "stdout",
          "text": [
            "Epoch 1/3\n",
            "107/107 [==============================] - 6s 10ms/step - loss: 0.7716 - accuracy: 0.3559 - mean_absolute_error: 0.7716\n",
            "Epoch 2/3\n",
            "107/107 [==============================] - 1s 14ms/step - loss: 0.0865 - accuracy: 0.3565 - mean_absolute_error: 0.0865\n",
            "Epoch 3/3\n",
            "107/107 [==============================] - 1s 13ms/step - loss: 0.0457 - accuracy: 0.3647 - mean_absolute_error: 0.0457\n",
            "16/16 [==============================] - 0s 3ms/step\n"
          ]
        },
        {
          "output_type": "stream",
          "name": "stderr",
          "text": [
            "/usr/local/lib/python3.10/dist-packages/pandas/core/arrays/numpy_.py:161: RuntimeWarning: invalid value encountered in log\n",
            "  result = getattr(ufunc, method)(*inputs, **kwargs)\n"
          ]
        },
        {
          "output_type": "stream",
          "name": "stdout",
          "text": [
            "Epoch 1/3\n",
            "107/107 [==============================] - 6s 10ms/step - loss: 0.7059 - accuracy: 0.3273 - mean_absolute_error: 0.7059\n",
            "Epoch 2/3\n",
            "107/107 [==============================] - 1s 12ms/step - loss: 0.0951 - accuracy: 0.2941 - mean_absolute_error: 0.0951\n",
            "Epoch 3/3\n",
            "107/107 [==============================] - 1s 10ms/step - loss: 0.0416 - accuracy: 0.3547 - mean_absolute_error: 0.0416\n",
            "16/16 [==============================] - 0s 3ms/step\n"
          ]
        },
        {
          "output_type": "stream",
          "name": "stderr",
          "text": [
            "/usr/local/lib/python3.10/dist-packages/pandas/core/arrays/numpy_.py:161: RuntimeWarning: invalid value encountered in log\n",
            "  result = getattr(ufunc, method)(*inputs, **kwargs)\n"
          ]
        },
        {
          "output_type": "stream",
          "name": "stdout",
          "text": [
            "Epoch 1/3\n",
            "107/107 [==============================] - 6s 9ms/step - loss: 0.8346 - accuracy: 0.3020 - mean_absolute_error: 0.8346\n",
            "Epoch 2/3\n",
            "107/107 [==============================] - 1s 9ms/step - loss: 0.1313 - accuracy: 0.2805 - mean_absolute_error: 0.1313\n",
            "Epoch 3/3\n",
            "107/107 [==============================] - 1s 12ms/step - loss: 0.0572 - accuracy: 0.2858 - mean_absolute_error: 0.0572\n",
            "16/16 [==============================] - 0s 4ms/step\n"
          ]
        },
        {
          "output_type": "stream",
          "name": "stderr",
          "text": [
            "/usr/local/lib/python3.10/dist-packages/pandas/core/arrays/numpy_.py:161: RuntimeWarning: invalid value encountered in log\n",
            "  result = getattr(ufunc, method)(*inputs, **kwargs)\n"
          ]
        }
      ]
    },
    {
      "cell_type": "code",
      "source": [
        "Accuracy"
      ],
      "metadata": {
        "id": "Evr0r9-ZKoya",
        "colab": {
          "base_uri": "https://localhost:8080/"
        },
        "outputId": "c85ec9de-e3a7-4fcf-d903-c7279842da55"
      },
      "id": "Evr0r9-ZKoya",
      "execution_count": 13,
      "outputs": [
        {
          "output_type": "execute_result",
          "data": {
            "text/plain": [
              "[33.48530110769153,\n",
              " 46.064278504714295,\n",
              " 48.22008874297059,\n",
              " 42.860418877048275,\n",
              " 50.35704893175896,\n",
              " 45.743592590965044,\n",
              " 53.200419030615855,\n",
              " 43.81171993261512,\n",
              " 53.662897829365285,\n",
              " 46.136402683641144,\n",
              " 7.047307397049396,\n",
              " 49.326668338927234,\n",
              " 50.28759174675286,\n",
              " 47.556666060480865,\n",
              " 52.51163838169295]"
            ]
          },
          "metadata": {},
          "execution_count": 13
        }
      ]
    },
    {
      "cell_type": "code",
      "source": [
        "RMSE"
      ],
      "metadata": {
        "id": "BE3dGqh6Kr-W",
        "colab": {
          "base_uri": "https://localhost:8080/"
        },
        "outputId": "9c64bcdd-586e-441e-aa28-cc5ef28a4fa0"
      },
      "id": "BE3dGqh6Kr-W",
      "execution_count": 14,
      "outputs": [
        {
          "output_type": "execute_result",
          "data": {
            "text/plain": [
              "[0.004473587055963102,\n",
              " 0.003917273890602959,\n",
              " 0.004106853381337945,\n",
              " 0.004066314568295863,\n",
              " 0.003823575461972871,\n",
              " 0.004166740578926943,\n",
              " 0.003957657163420436,\n",
              " 0.003933671261953468,\n",
              " 0.0037252846196756686,\n",
              " 0.003966156759275405,\n",
              " 0.0072322204162424296,\n",
              " 0.0039563251694521365,\n",
              " 0.0038270015738183527,\n",
              " 0.003986038646677272,\n",
              " 0.003967835254531722]"
            ]
          },
          "metadata": {},
          "execution_count": 14
        }
      ]
    },
    {
      "cell_type": "code",
      "source": [
        "Quasilikelihood"
      ],
      "metadata": {
        "id": "EnAR6m9VKs2V",
        "colab": {
          "base_uri": "https://localhost:8080/"
        },
        "outputId": "c5d7c1c1-db11-4589-81b3-05f5c7b8d234"
      },
      "id": "EnAR6m9VKs2V",
      "execution_count": 15,
      "outputs": [
        {
          "output_type": "execute_result",
          "data": {
            "text/plain": [
              "[0.2330825381654097,\n",
              " 0.18140890974809307,\n",
              " 0.1761401743168711,\n",
              " 0.18706777947392741,\n",
              " 0.16608005930328595,\n",
              " 0.18805697113045197,\n",
              " 0.1602089393897767,\n",
              " 0.1863590028451446,\n",
              " 0.1430930527052766,\n",
              " 0.176605670154241,\n",
              " 0.46827091293644574,\n",
              " 0.1648375927677882,\n",
              " 0.16393918583156733,\n",
              " 0.18230300224788407,\n",
              " 0.16508413948860412]"
            ]
          },
          "metadata": {},
          "execution_count": 15
        }
      ]
    },
    {
      "cell_type": "code",
      "source": [
        "# Best model\n",
        "plt.plot(df_for_date[\"Date\"][:len(test)], test)\n",
        "plt.plot(df_for_date[\"Date\"][:len(test)], true_predictions) \n",
        "plt.ylabel(\"NASDAQ Realized Volatility\")"
      ],
      "metadata": {
        "colab": {
          "base_uri": "https://localhost:8080/",
          "height": 448
        },
        "id": "dVHclPtwMZvR",
        "outputId": "15c1f3e9-691a-4371-e3b4-9e4c985f2513"
      },
      "id": "dVHclPtwMZvR",
      "execution_count": 16,
      "outputs": [
        {
          "output_type": "execute_result",
          "data": {
            "text/plain": [
              "Text(0, 0.5, 'NASDAQ Realized Volatility')"
            ]
          },
          "metadata": {},
          "execution_count": 16
        },
        {
          "output_type": "display_data",
          "data": {
            "text/plain": [
              "<Figure size 640x480 with 1 Axes>"
            ],
            "image/png": "[encoded data removed]"
          },
          "metadata": {}
        }
      ]
    },
    {
      "cell_type": "code",
      "source": [],
      "metadata": {
        "id": "cWA4y7fkO226"
      },
      "id": "cWA4y7fkO226",
      "execution_count": null,
      "outputs": []
    },
    {
      "cell_type": "markdown",
      "source": [
        "# H=5 Forecasts"
      ],
      "metadata": {
        "id": "1XELAbp9Sma7"
      },
      "id": "1XELAbp9Sma7"
    },
    {
      "cell_type": "code",
      "source": [
        "def df_to_X_y(window_size,test,scaled_test_input):\n",
        "  X=[]\n",
        "  y=[]\n",
        "  for i in range(int(len(test)/5)):\n",
        "    row = [[a] for a in scaled_test_input[i*5:(i*5)+window_size]]\n",
        "    X.append(row)\n",
        "  return np.array(X)"
      ],
      "metadata": {
        "id": "vSmLnxnfVyFK"
      },
      "id": "vSmLnxnfVyFK",
      "execution_count": 17,
      "outputs": []
    },
    {
      "cell_type": "code",
      "source": [
        "RMSE = []\n",
        "Accuracy = []\n",
        "Quasilikelihood=[]"
      ],
      "metadata": {
        "id": "zRxm1H1KSoLe"
      },
      "id": "zRxm1H1KSoLe",
      "execution_count": 18,
      "outputs": []
    },
    {
      "cell_type": "code",
      "source": [
        "for i in range (15):\n",
        "  n_features = 3\n",
        "  n_input = 189\n",
        "  train = df.iloc[:int(len(df['Realised'])*0.7)]\n",
        "  test = df.iloc[int(len(df['Realised'])*0.7)-n_input:]\n",
        "  scaler.fit(train)\n",
        "  scaled_train_input = scaler.transform(train)\n",
        "  scaled_test_input = scaler.transform(test)\n",
        "  train = df[\"Realised\"].iloc[:int(len(df['Realised'])*0.7)]\n",
        "  test = df[\"Realised\"].iloc[int(len(df['Realised'])*0.7):]\n",
        "  train = train.array.reshape(-1, 1)\n",
        "  test = test.array.reshape(-1, 1)\n",
        "  scaler.fit(train)\n",
        "  scaled_train_target = scaler.transform(train)\n",
        "  scaled_test_target = scaler.transform(test)\n",
        "  generator = TimeseriesGenerator(scaled_train_input, scaled_train_target, length=n_input, batch_size=32)\n",
        "  model = Sequential()\n",
        "  model.add(TCN(kernel_size=3, dilations=[1,2,4,2,1], nb_stacks=1,padding='causal',\n",
        "                dropout_rate=0.2,activation='relu',kernel_initializer='he_normal', input_shape=(n_input, n_features)))\n",
        "  model.add(Dense(5))\n",
        "  model.compile(optimizer='adam', loss='mae', metrics=[\"accuracy\", \"mean_absolute_error\"])\n",
        "  model.fit(generator,epochs=3)\n",
        "  test=test[:len(test)-2]\n",
        "  X = df_to_X_y(n_input,test,scaled_test_input)\n",
        "  X=X.reshape(int(((len(test)/5))), n_input, n_features)\n",
        "  y_hat=model.predict(X)\n",
        "  y_hat=y_hat.reshape(len(test),1)\n",
        "  true_predictions = scaler.inverse_transform(y_hat)\n",
        "  RMSE.append(np.sum(np.sqrt((test-true_predictions)**2))/len(test))\n",
        "  Accuracy.append((1-np.sum(np.sqrt((test-true_predictions)**2)/test)/(len(test)))*100)\n",
        "  Quasilikelihood.append(np.sum(true_predictions/test-np.log(true_predictions/test)-1)/len(test))"
      ],
      "metadata": {
        "colab": {
          "base_uri": "https://localhost:8080/"
        },
        "id": "Q5ijFylJSqd4",
        "outputId": "6d0cd937-0965-462f-c2c5-d31e66725195"
      },
      "id": "Q5ijFylJSqd4",
      "execution_count": 19,
      "outputs": [
        {
          "output_type": "stream",
          "name": "stdout",
          "text": [
            "Epoch 1/3\n",
            "107/107 [==============================] - 6s 10ms/step - loss: 0.5966 - accuracy: 0.1610 - mean_absolute_error: 0.5966\n",
            "Epoch 2/3\n",
            "107/107 [==============================] - 1s 10ms/step - loss: 0.0767 - accuracy: 0.1863 - mean_absolute_error: 0.0767\n",
            "Epoch 3/3\n",
            "107/107 [==============================] - 1s 12ms/step - loss: 0.0401 - accuracy: 0.2025 - mean_absolute_error: 0.0401\n",
            "10/10 [==============================] - 1s 16ms/step\n"
          ]
        },
        {
          "output_type": "stream",
          "name": "stderr",
          "text": [
            "/usr/local/lib/python3.10/dist-packages/pandas/core/arrays/numpy_.py:161: RuntimeWarning: invalid value encountered in log\n",
            "  result = getattr(ufunc, method)(*inputs, **kwargs)\n"
          ]
        },
        {
          "output_type": "stream",
          "name": "stdout",
          "text": [
            "Epoch 1/3\n",
            "107/107 [==============================] - 6s 10ms/step - loss: 0.5477 - accuracy: 0.1934 - mean_absolute_error: 0.5477\n",
            "Epoch 2/3\n",
            "107/107 [==============================] - 1s 9ms/step - loss: 0.0770 - accuracy: 0.1713 - mean_absolute_error: 0.0770\n",
            "Epoch 3/3\n",
            "107/107 [==============================] - 1s 9ms/step - loss: 0.0386 - accuracy: 0.1504 - mean_absolute_error: 0.0386\n",
            "10/10 [==============================] - 0s 3ms/step\n"
          ]
        },
        {
          "output_type": "stream",
          "name": "stderr",
          "text": [
            "/usr/local/lib/python3.10/dist-packages/pandas/core/arrays/numpy_.py:161: RuntimeWarning: invalid value encountered in log\n",
            "  result = getattr(ufunc, method)(*inputs, **kwargs)\n"
          ]
        },
        {
          "output_type": "stream",
          "name": "stdout",
          "text": [
            "Epoch 1/3\n",
            "107/107 [==============================] - 7s 9ms/step - loss: 0.4808 - accuracy: 0.1896 - mean_absolute_error: 0.4808\n",
            "Epoch 2/3\n",
            "107/107 [==============================] - 1s 9ms/step - loss: 0.0560 - accuracy: 0.2161 - mean_absolute_error: 0.0560\n",
            "Epoch 3/3\n",
            "107/107 [==============================] - 1s 10ms/step - loss: 0.0381 - accuracy: 0.2361 - mean_absolute_error: 0.0381\n",
            "10/10 [==============================] - 0s 3ms/step\n"
          ]
        },
        {
          "output_type": "stream",
          "name": "stderr",
          "text": [
            "/usr/local/lib/python3.10/dist-packages/pandas/core/arrays/numpy_.py:161: RuntimeWarning: invalid value encountered in log\n",
            "  result = getattr(ufunc, method)(*inputs, **kwargs)\n"
          ]
        },
        {
          "output_type": "stream",
          "name": "stdout",
          "text": [
            "Epoch 1/3\n",
            "107/107 [==============================] - 7s 10ms/step - loss: 0.7293 - accuracy: 0.1802 - mean_absolute_error: 0.7293\n",
            "Epoch 2/3\n",
            "107/107 [==============================] - 1s 9ms/step - loss: 0.0738 - accuracy: 0.2167 - mean_absolute_error: 0.0738\n",
            "Epoch 3/3\n",
            "107/107 [==============================] - 1s 10ms/step - loss: 0.0399 - accuracy: 0.2623 - mean_absolute_error: 0.0399\n",
            "10/10 [==============================] - 0s 3ms/step\n"
          ]
        },
        {
          "output_type": "stream",
          "name": "stderr",
          "text": [
            "/usr/local/lib/python3.10/dist-packages/pandas/core/arrays/numpy_.py:161: RuntimeWarning: invalid value encountered in log\n",
            "  result = getattr(ufunc, method)(*inputs, **kwargs)\n"
          ]
        },
        {
          "output_type": "stream",
          "name": "stdout",
          "text": [
            "Epoch 1/3\n",
            "107/107 [==============================] - 8s 14ms/step - loss: 0.5309 - accuracy: 0.1981 - mean_absolute_error: 0.5309\n",
            "Epoch 2/3\n",
            "107/107 [==============================] - 1s 9ms/step - loss: 0.0587 - accuracy: 0.1760 - mean_absolute_error: 0.0587\n",
            "Epoch 3/3\n",
            "107/107 [==============================] - 1s 9ms/step - loss: 0.0386 - accuracy: 0.1678 - mean_absolute_error: 0.0386\n",
            "10/10 [==============================] - 0s 4ms/step\n"
          ]
        },
        {
          "output_type": "stream",
          "name": "stderr",
          "text": [
            "/usr/local/lib/python3.10/dist-packages/pandas/core/arrays/numpy_.py:161: RuntimeWarning: invalid value encountered in log\n",
            "  result = getattr(ufunc, method)(*inputs, **kwargs)\n"
          ]
        },
        {
          "output_type": "stream",
          "name": "stdout",
          "text": [
            "Epoch 1/3\n",
            "107/107 [==============================] - 6s 10ms/step - loss: 0.9227 - accuracy: 0.2149 - mean_absolute_error: 0.9227\n",
            "Epoch 2/3\n",
            "107/107 [==============================] - 1s 11ms/step - loss: 0.0916 - accuracy: 0.1793 - mean_absolute_error: 0.0916\n",
            "Epoch 3/3\n",
            "107/107 [==============================] - 1s 13ms/step - loss: 0.0416 - accuracy: 0.1145 - mean_absolute_error: 0.0416\n",
            "10/10 [==============================] - 0s 3ms/step\n"
          ]
        },
        {
          "output_type": "stream",
          "name": "stderr",
          "text": [
            "/usr/local/lib/python3.10/dist-packages/pandas/core/arrays/numpy_.py:161: RuntimeWarning: invalid value encountered in log\n",
            "  result = getattr(ufunc, method)(*inputs, **kwargs)\n"
          ]
        },
        {
          "output_type": "stream",
          "name": "stdout",
          "text": [
            "Epoch 1/3\n",
            "107/107 [==============================] - 6s 10ms/step - loss: 0.4730 - accuracy: 0.1949 - mean_absolute_error: 0.4730\n",
            "Epoch 2/3\n",
            "107/107 [==============================] - 1s 10ms/step - loss: 0.0550 - accuracy: 0.1963 - mean_absolute_error: 0.0550\n",
            "Epoch 3/3\n",
            "107/107 [==============================] - 1s 10ms/step - loss: 0.0352 - accuracy: 0.2302 - mean_absolute_error: 0.0352\n",
            "10/10 [==============================] - 0s 3ms/step\n"
          ]
        },
        {
          "output_type": "stream",
          "name": "stderr",
          "text": [
            "/usr/local/lib/python3.10/dist-packages/pandas/core/arrays/numpy_.py:161: RuntimeWarning: invalid value encountered in log\n",
            "  result = getattr(ufunc, method)(*inputs, **kwargs)\n"
          ]
        },
        {
          "output_type": "stream",
          "name": "stdout",
          "text": [
            "Epoch 1/3\n",
            "107/107 [==============================] - 8s 10ms/step - loss: 0.6454 - accuracy: 0.2108 - mean_absolute_error: 0.6454\n",
            "Epoch 2/3\n",
            "107/107 [==============================] - 1s 9ms/step - loss: 0.0649 - accuracy: 0.2025 - mean_absolute_error: 0.0649\n",
            "Epoch 3/3\n",
            "107/107 [==============================] - 1s 9ms/step - loss: 0.0383 - accuracy: 0.1472 - mean_absolute_error: 0.0383\n",
            "10/10 [==============================] - 0s 3ms/step\n"
          ]
        },
        {
          "output_type": "stream",
          "name": "stderr",
          "text": [
            "/usr/local/lib/python3.10/dist-packages/pandas/core/arrays/numpy_.py:161: RuntimeWarning: invalid value encountered in log\n",
            "  result = getattr(ufunc, method)(*inputs, **kwargs)\n"
          ]
        },
        {
          "output_type": "stream",
          "name": "stdout",
          "text": [
            "Epoch 1/3\n",
            "107/107 [==============================] - 7s 10ms/step - loss: 0.4674 - accuracy: 0.1987 - mean_absolute_error: 0.4674\n",
            "Epoch 2/3\n",
            "107/107 [==============================] - 1s 9ms/step - loss: 0.0653 - accuracy: 0.2016 - mean_absolute_error: 0.0653\n",
            "Epoch 3/3\n",
            "107/107 [==============================] - 1s 9ms/step - loss: 0.0378 - accuracy: 0.2193 - mean_absolute_error: 0.0378\n",
            "10/10 [==============================] - 0s 4ms/step\n"
          ]
        },
        {
          "output_type": "stream",
          "name": "stderr",
          "text": [
            "/usr/local/lib/python3.10/dist-packages/pandas/core/arrays/numpy_.py:161: RuntimeWarning: invalid value encountered in log\n",
            "  result = getattr(ufunc, method)(*inputs, **kwargs)\n"
          ]
        },
        {
          "output_type": "stream",
          "name": "stdout",
          "text": [
            "Epoch 1/3\n",
            "107/107 [==============================] - 7s 11ms/step - loss: 0.4611 - accuracy: 0.1937 - mean_absolute_error: 0.4611\n",
            "Epoch 2/3\n",
            "107/107 [==============================] - 1s 10ms/step - loss: 0.0600 - accuracy: 0.1787 - mean_absolute_error: 0.0600\n",
            "Epoch 3/3\n",
            "107/107 [==============================] - 1s 10ms/step - loss: 0.0404 - accuracy: 0.2014 - mean_absolute_error: 0.0404\n",
            "10/10 [==============================] - 0s 3ms/step\n"
          ]
        },
        {
          "output_type": "stream",
          "name": "stderr",
          "text": [
            "/usr/local/lib/python3.10/dist-packages/pandas/core/arrays/numpy_.py:161: RuntimeWarning: invalid value encountered in log\n",
            "  result = getattr(ufunc, method)(*inputs, **kwargs)\n"
          ]
        },
        {
          "output_type": "stream",
          "name": "stdout",
          "text": [
            "Epoch 1/3\n",
            "107/107 [==============================] - 7s 13ms/step - loss: 0.6323 - accuracy: 0.2267 - mean_absolute_error: 0.6323\n",
            "Epoch 2/3\n",
            "107/107 [==============================] - 1s 10ms/step - loss: 0.0672 - accuracy: 0.2349 - mean_absolute_error: 0.0672\n",
            "Epoch 3/3\n",
            "107/107 [==============================] - 1s 10ms/step - loss: 0.0405 - accuracy: 0.3120 - mean_absolute_error: 0.0405\n",
            "10/10 [==============================] - 0s 3ms/step\n"
          ]
        },
        {
          "output_type": "stream",
          "name": "stderr",
          "text": [
            "/usr/local/lib/python3.10/dist-packages/pandas/core/arrays/numpy_.py:161: RuntimeWarning: invalid value encountered in log\n",
            "  result = getattr(ufunc, method)(*inputs, **kwargs)\n"
          ]
        },
        {
          "output_type": "stream",
          "name": "stdout",
          "text": [
            "Epoch 1/3\n",
            "107/107 [==============================] - 6s 10ms/step - loss: 0.7617 - accuracy: 0.2008 - mean_absolute_error: 0.7617\n",
            "Epoch 2/3\n",
            "107/107 [==============================] - 1s 12ms/step - loss: 0.0933 - accuracy: 0.1872 - mean_absolute_error: 0.0933\n",
            "Epoch 3/3\n",
            "107/107 [==============================] - 1s 14ms/step - loss: 0.0405 - accuracy: 0.2426 - mean_absolute_error: 0.0405\n",
            "10/10 [==============================] - 0s 4ms/step\n"
          ]
        },
        {
          "output_type": "stream",
          "name": "stderr",
          "text": [
            "/usr/local/lib/python3.10/dist-packages/pandas/core/arrays/numpy_.py:161: RuntimeWarning: invalid value encountered in log\n",
            "  result = getattr(ufunc, method)(*inputs, **kwargs)\n"
          ]
        },
        {
          "output_type": "stream",
          "name": "stdout",
          "text": [
            "Epoch 1/3\n",
            "107/107 [==============================] - 6s 10ms/step - loss: 0.5300 - accuracy: 0.2122 - mean_absolute_error: 0.5300\n",
            "Epoch 2/3\n",
            "107/107 [==============================] - 1s 9ms/step - loss: 0.0741 - accuracy: 0.1590 - mean_absolute_error: 0.0741\n",
            "Epoch 3/3\n",
            "107/107 [==============================] - 1s 12ms/step - loss: 0.0409 - accuracy: 0.1351 - mean_absolute_error: 0.0409\n",
            "10/10 [==============================] - 0s 4ms/step\n"
          ]
        },
        {
          "output_type": "stream",
          "name": "stderr",
          "text": [
            "/usr/local/lib/python3.10/dist-packages/pandas/core/arrays/numpy_.py:161: RuntimeWarning: invalid value encountered in log\n",
            "  result = getattr(ufunc, method)(*inputs, **kwargs)\n"
          ]
        },
        {
          "output_type": "stream",
          "name": "stdout",
          "text": [
            "Epoch 1/3\n",
            "107/107 [==============================] - 7s 10ms/step - loss: 0.6592 - accuracy: 0.1990 - mean_absolute_error: 0.6592\n",
            "Epoch 2/3\n",
            "107/107 [==============================] - 1s 10ms/step - loss: 0.0807 - accuracy: 0.2120 - mean_absolute_error: 0.0807\n",
            "Epoch 3/3\n",
            "107/107 [==============================] - 1s 10ms/step - loss: 0.0425 - accuracy: 0.2373 - mean_absolute_error: 0.0425\n",
            "10/10 [==============================] - 0s 3ms/step\n"
          ]
        },
        {
          "output_type": "stream",
          "name": "stderr",
          "text": [
            "/usr/local/lib/python3.10/dist-packages/pandas/core/arrays/numpy_.py:161: RuntimeWarning: invalid value encountered in log\n",
            "  result = getattr(ufunc, method)(*inputs, **kwargs)\n"
          ]
        },
        {
          "output_type": "stream",
          "name": "stdout",
          "text": [
            "Epoch 1/3\n",
            "107/107 [==============================] - 7s 10ms/step - loss: 0.8659 - accuracy: 0.1875 - mean_absolute_error: 0.8659\n",
            "Epoch 2/3\n",
            "107/107 [==============================] - 1s 10ms/step - loss: 0.0955 - accuracy: 0.1831 - mean_absolute_error: 0.0955\n",
            "Epoch 3/3\n",
            "107/107 [==============================] - 1s 9ms/step - loss: 0.0479 - accuracy: 0.2184 - mean_absolute_error: 0.0479\n",
            "10/10 [==============================] - 0s 3ms/step\n"
          ]
        },
        {
          "output_type": "stream",
          "name": "stderr",
          "text": [
            "/usr/local/lib/python3.10/dist-packages/pandas/core/arrays/numpy_.py:161: RuntimeWarning: invalid value encountered in log\n",
            "  result = getattr(ufunc, method)(*inputs, **kwargs)\n"
          ]
        }
      ]
    },
    {
      "cell_type": "code",
      "source": [
        "Accuracy"
      ],
      "metadata": {
        "colab": {
          "base_uri": "https://localhost:8080/"
        },
        "id": "zSyMbQOOS01b",
        "outputId": "17257633-e236-4222-ddd1-0a0e91bfbe53"
      },
      "id": "zSyMbQOOS01b",
      "execution_count": 20,
      "outputs": [
        {
          "output_type": "execute_result",
          "data": {
            "text/plain": [
              "[49.99025656189213,\n",
              " 52.01295895938114,\n",
              " 45.88577230564952,\n",
              " 33.29916091191885,\n",
              " 41.57480086683537,\n",
              " 45.98000746039995,\n",
              " 50.00632844784043,\n",
              " 42.990607315178394,\n",
              " 46.2388594028996,\n",
              " 45.89848279632995,\n",
              " 44.71933317918912,\n",
              " 44.568855313106546,\n",
              " 49.257808834351835,\n",
              " 42.301117258837614,\n",
              " 52.34087940682768]"
            ]
          },
          "metadata": {},
          "execution_count": 20
        }
      ]
    },
    {
      "cell_type": "code",
      "source": [
        "RMSE"
      ],
      "metadata": {
        "colab": {
          "base_uri": "https://localhost:8080/"
        },
        "id": "lx3G3_soS2uX",
        "outputId": "aa907b65-36bc-45d5-f0b0-07219c209f1b"
      },
      "id": "lx3G3_soS2uX",
      "execution_count": 21,
      "outputs": [
        {
          "output_type": "execute_result",
          "data": {
            "text/plain": [
              "[0.003835063370666967,\n",
              " 0.0038591291743682653,\n",
              " 0.003900631750099277,\n",
              " 0.0043054266472068465,\n",
              " 0.0040972481696806146,\n",
              " 0.004004171140929216,\n",
              " 0.0037422128793203556,\n",
              " 0.0038965643770313522,\n",
              " 0.003934068010997128,\n",
              " 0.004105181836424144,\n",
              " 0.004048340243557318,\n",
              " 0.004133156719537541,\n",
              " 0.0039236101003482385,\n",
              " 0.004082973622018191,\n",
              " 0.0038500307040533087]"
            ]
          },
          "metadata": {},
          "execution_count": 21
        }
      ]
    },
    {
      "cell_type": "code",
      "source": [
        "Quasilikelihood"
      ],
      "metadata": {
        "colab": {
          "base_uri": "https://localhost:8080/"
        },
        "id": "sIE-N19kS3Uz",
        "outputId": "1b83a473-2351-4a5c-e6bc-8108a988643c"
      },
      "id": "sIE-N19kS3Uz",
      "execution_count": 22,
      "outputs": [
        {
          "output_type": "execute_result",
          "data": {
            "text/plain": [
              "[0.16360061313694585,\n",
              " 0.15026492746988324,\n",
              " 0.17836747808230027,\n",
              " 0.23630708788845067,\n",
              " 0.19554980081790632,\n",
              " 0.17934359926443944,\n",
              " 0.15966789555500052,\n",
              " 0.18839155715215306,\n",
              " 0.17976211122302485,\n",
              " 0.1850474411546352,\n",
              " 0.18303310706330211,\n",
              " 0.1853315398461647,\n",
              " 0.16924906653314775,\n",
              " 0.19876839093354173,\n",
              " 0.1583262136055777]"
            ]
          },
          "metadata": {},
          "execution_count": 22
        }
      ]
    },
    {
      "cell_type": "code",
      "source": [
        "# Best model\n",
        "plt.plot(df_for_date[\"Date\"][:len(test)], test)\n",
        "plt.plot(df_for_date[\"Date\"][:len(test)], true_predictions) \n",
        "plt.ylabel(\"NASDAQ Realized Volatility\")"
      ],
      "metadata": {
        "colab": {
          "base_uri": "https://localhost:8080/",
          "height": 448
        },
        "id": "o2Cr_8rFS5H5",
        "outputId": "bf2adcee-ec2d-441a-e759-8535de2069d0"
      },
      "id": "o2Cr_8rFS5H5",
      "execution_count": 23,
      "outputs": [
        {
          "output_type": "execute_result",
          "data": {
            "text/plain": [
              "Text(0, 0.5, 'NASDAQ Realized Volatility')"
            ]
          },
          "metadata": {},
          "execution_count": 23
        },
        {
          "output_type": "display_data",
          "data": {
            "text/plain": [
              "<Figure size 640x480 with 1 Axes>"
            ],
            "image/png": "[encoded data removed]"
          },
          "metadata": {}
        }
      ]
    },
    {
      "cell_type": "code",
      "source": [],
      "metadata": {
        "id": "bS0K2Q3US7AA"
      },
      "id": "bS0K2Q3US7AA",
      "execution_count": null,
      "outputs": []
    },
    {
      "cell_type": "markdown",
      "source": [
        "# H=10 Forecasts"
      ],
      "metadata": {
        "id": "T0W3_pqk--_v"
      },
      "id": "T0W3_pqk--_v"
    },
    {
      "cell_type": "code",
      "source": [
        "def df_to_X_y(window_size,test,scaled_test_input):\n",
        "  X=[]\n",
        "  y=[]\n",
        "  for i in range(int(len(test)/10)):\n",
        "    row = [[a] for a in scaled_test_input[i*10:(i*10)+window_size]]\n",
        "    X.append(row)\n",
        "  return np.array(X)"
      ],
      "metadata": {
        "id": "oN4jFWuyWzgs"
      },
      "id": "oN4jFWuyWzgs",
      "execution_count": 24,
      "outputs": []
    },
    {
      "cell_type": "code",
      "source": [
        "RMSE = []\n",
        "Accuracy = []\n",
        "Quasilikelihood=[]"
      ],
      "metadata": {
        "id": "m7FYa-Xm_AeR"
      },
      "id": "m7FYa-Xm_AeR",
      "execution_count": 25,
      "outputs": []
    },
    {
      "cell_type": "code",
      "source": [
        "for i in range (15):\n",
        "  n_features = 3\n",
        "  n_input = 189\n",
        "  train = df.iloc[:int(len(df['Realised'])*0.7)]\n",
        "  test = df.iloc[int(len(df['Realised'])*0.7)-n_input:]\n",
        "  scaler.fit(train)\n",
        "  scaled_train_input = scaler.transform(train)\n",
        "  scaled_test_input = scaler.transform(test)\n",
        "  train = df[\"Realised\"].iloc[:int(len(df['Realised'])*0.7)]\n",
        "  test = df[\"Realised\"].iloc[int(len(df['Realised'])*0.7):]\n",
        "  train = train.array.reshape(-1, 1)\n",
        "  test = test.array.reshape(-1, 1)\n",
        "  scaler.fit(train)\n",
        "  scaled_train_target = scaler.transform(train)\n",
        "  scaled_test_target = scaler.transform(test)\n",
        "  generator = TimeseriesGenerator(scaled_train_input, scaled_train_target, length=n_input, batch_size=32)\n",
        "  model = Sequential()\n",
        "  model.add(TCN(kernel_size=3, dilations=[1,2,4,2,1], nb_stacks=1,padding='causal',\n",
        "                dropout_rate=0.2,activation='relu',kernel_initializer='he_normal', input_shape=(n_input, n_features)))\n",
        "  model.add(Dense(10))\n",
        "  model.compile(optimizer='adam', loss='mae', metrics=[\"accuracy\", \"mean_absolute_error\"])\n",
        "  model.fit(generator,epochs=3)\n",
        "  test=test[:len(test)-7]\n",
        "  X = df_to_X_y(n_input,test,scaled_test_input)\n",
        "  X=X.reshape(int(((len(test)/10))), n_input, n_features)\n",
        "  y_hat=model.predict(X)\n",
        "  y_hat=y_hat.reshape(len(test),1)\n",
        "  true_predictions = scaler.inverse_transform(y_hat)\n",
        "  RMSE.append(np.sum(np.sqrt((test-true_predictions)**2))/len(test))\n",
        "  Accuracy.append((1-np.sum(np.sqrt((test-true_predictions)**2)/test)/(len(test)))*100)\n",
        "  Quasilikelihood.append(np.sum(true_predictions/test-np.log(true_predictions/test)-1)/len(test))"
      ],
      "metadata": {
        "id": "0TIhDaY2_Dk1",
        "colab": {
          "base_uri": "https://localhost:8080/"
        },
        "outputId": "64707fd3-c142-45a1-83ec-5b56300566d2"
      },
      "id": "0TIhDaY2_Dk1",
      "execution_count": 26,
      "outputs": [
        {
          "output_type": "stream",
          "name": "stdout",
          "text": [
            "Epoch 1/3\n",
            "107/107 [==============================] - 7s 10ms/step - loss: 0.7809 - accuracy: 0.0889 - mean_absolute_error: 0.7809\n",
            "Epoch 2/3\n",
            "107/107 [==============================] - 1s 9ms/step - loss: 0.0675 - accuracy: 0.0977 - mean_absolute_error: 0.0675\n",
            "Epoch 3/3\n",
            "107/107 [==============================] - 1s 9ms/step - loss: 0.0404 - accuracy: 0.1072 - mean_absolute_error: 0.0404\n",
            "5/5 [==============================] - 0s 24ms/step\n"
          ]
        },
        {
          "output_type": "stream",
          "name": "stderr",
          "text": [
            "/usr/local/lib/python3.10/dist-packages/pandas/core/arrays/numpy_.py:161: RuntimeWarning: invalid value encountered in log\n",
            "  result = getattr(ufunc, method)(*inputs, **kwargs)\n"
          ]
        },
        {
          "output_type": "stream",
          "name": "stdout",
          "text": [
            "Epoch 1/3\n",
            "107/107 [==============================] - 7s 10ms/step - loss: 0.4426 - accuracy: 0.0921 - mean_absolute_error: 0.4426\n",
            "Epoch 2/3\n",
            "107/107 [==============================] - 1s 9ms/step - loss: 0.0431 - accuracy: 0.0718 - mean_absolute_error: 0.0431\n",
            "Epoch 3/3\n",
            "107/107 [==============================] - 1s 9ms/step - loss: 0.0341 - accuracy: 0.1013 - mean_absolute_error: 0.0341\n",
            "5/5 [==============================] - 0s 4ms/step\n"
          ]
        },
        {
          "output_type": "stream",
          "name": "stderr",
          "text": [
            "/usr/local/lib/python3.10/dist-packages/pandas/core/arrays/numpy_.py:161: RuntimeWarning: invalid value encountered in log\n",
            "  result = getattr(ufunc, method)(*inputs, **kwargs)\n"
          ]
        },
        {
          "output_type": "stream",
          "name": "stdout",
          "text": [
            "Epoch 1/3\n",
            "107/107 [==============================] - 7s 13ms/step - loss: 0.3804 - accuracy: 0.1030 - mean_absolute_error: 0.3804\n",
            "Epoch 2/3\n",
            "107/107 [==============================] - 1s 10ms/step - loss: 0.0440 - accuracy: 0.0689 - mean_absolute_error: 0.0440\n",
            "Epoch 3/3\n",
            "107/107 [==============================] - 1s 9ms/step - loss: 0.0350 - accuracy: 0.0798 - mean_absolute_error: 0.0350\n",
            "5/5 [==============================] - 0s 4ms/step\n"
          ]
        },
        {
          "output_type": "stream",
          "name": "stderr",
          "text": [
            "/usr/local/lib/python3.10/dist-packages/pandas/core/arrays/numpy_.py:161: RuntimeWarning: invalid value encountered in log\n",
            "  result = getattr(ufunc, method)(*inputs, **kwargs)\n"
          ]
        },
        {
          "output_type": "stream",
          "name": "stdout",
          "text": [
            "Epoch 1/3\n",
            "107/107 [==============================] - 6s 10ms/step - loss: 0.5394 - accuracy: 0.0871 - mean_absolute_error: 0.5394\n",
            "Epoch 2/3\n",
            "107/107 [==============================] - 1s 10ms/step - loss: 0.0503 - accuracy: 0.0916 - mean_absolute_error: 0.0503\n",
            "Epoch 3/3\n",
            "107/107 [==============================] - 1s 9ms/step - loss: 0.0375 - accuracy: 0.0742 - mean_absolute_error: 0.0375\n",
            "5/5 [==============================] - 0s 4ms/step\n"
          ]
        },
        {
          "output_type": "stream",
          "name": "stderr",
          "text": [
            "/usr/local/lib/python3.10/dist-packages/pandas/core/arrays/numpy_.py:161: RuntimeWarning: invalid value encountered in log\n",
            "  result = getattr(ufunc, method)(*inputs, **kwargs)\n"
          ]
        },
        {
          "output_type": "stream",
          "name": "stdout",
          "text": [
            "Epoch 1/3\n",
            "107/107 [==============================] - 7s 12ms/step - loss: 0.6413 - accuracy: 0.0830 - mean_absolute_error: 0.6413\n",
            "Epoch 2/3\n",
            "107/107 [==============================] - 1s 10ms/step - loss: 0.0709 - accuracy: 0.0810 - mean_absolute_error: 0.0709\n",
            "Epoch 3/3\n",
            "107/107 [==============================] - 1s 9ms/step - loss: 0.0406 - accuracy: 0.0904 - mean_absolute_error: 0.0406\n",
            "5/5 [==============================] - 0s 4ms/step\n"
          ]
        },
        {
          "output_type": "stream",
          "name": "stderr",
          "text": [
            "/usr/local/lib/python3.10/dist-packages/pandas/core/arrays/numpy_.py:161: RuntimeWarning: invalid value encountered in log\n",
            "  result = getattr(ufunc, method)(*inputs, **kwargs)\n"
          ]
        },
        {
          "output_type": "stream",
          "name": "stdout",
          "text": [
            "Epoch 1/3\n",
            "107/107 [==============================] - 6s 10ms/step - loss: 0.4904 - accuracy: 0.1225 - mean_absolute_error: 0.4904\n",
            "Epoch 2/3\n",
            "107/107 [==============================] - 1s 13ms/step - loss: 0.0516 - accuracy: 0.1369 - mean_absolute_error: 0.0516\n",
            "Epoch 3/3\n",
            "107/107 [==============================] - 1s 13ms/step - loss: 0.0377 - accuracy: 0.0712 - mean_absolute_error: 0.0377\n",
            "5/5 [==============================] - 0s 4ms/step\n"
          ]
        },
        {
          "output_type": "stream",
          "name": "stderr",
          "text": [
            "/usr/local/lib/python3.10/dist-packages/pandas/core/arrays/numpy_.py:161: RuntimeWarning: invalid value encountered in log\n",
            "  result = getattr(ufunc, method)(*inputs, **kwargs)\n"
          ]
        },
        {
          "output_type": "stream",
          "name": "stdout",
          "text": [
            "Epoch 1/3\n",
            "107/107 [==============================] - 6s 9ms/step - loss: 0.5246 - accuracy: 0.0777 - mean_absolute_error: 0.5246\n",
            "Epoch 2/3\n",
            "107/107 [==============================] - 1s 9ms/step - loss: 0.0575 - accuracy: 0.0765 - mean_absolute_error: 0.0575\n",
            "Epoch 3/3\n",
            "107/107 [==============================] - 1s 11ms/step - loss: 0.0387 - accuracy: 0.1304 - mean_absolute_error: 0.0387\n",
            "5/5 [==============================] - 0s 5ms/step\n"
          ]
        },
        {
          "output_type": "stream",
          "name": "stderr",
          "text": [
            "/usr/local/lib/python3.10/dist-packages/pandas/core/arrays/numpy_.py:161: RuntimeWarning: invalid value encountered in log\n",
            "  result = getattr(ufunc, method)(*inputs, **kwargs)\n"
          ]
        },
        {
          "output_type": "stream",
          "name": "stdout",
          "text": [
            "Epoch 1/3\n",
            "107/107 [==============================] - 7s 10ms/step - loss: 0.5591 - accuracy: 0.0815 - mean_absolute_error: 0.5591\n",
            "Epoch 2/3\n",
            "107/107 [==============================] - 1s 10ms/step - loss: 0.0566 - accuracy: 0.0863 - mean_absolute_error: 0.0566\n",
            "Epoch 3/3\n",
            "107/107 [==============================] - 1s 9ms/step - loss: 0.0391 - accuracy: 0.0704 - mean_absolute_error: 0.0391\n",
            "5/5 [==============================] - 0s 4ms/step\n"
          ]
        },
        {
          "output_type": "stream",
          "name": "stderr",
          "text": [
            "/usr/local/lib/python3.10/dist-packages/pandas/core/arrays/numpy_.py:161: RuntimeWarning: invalid value encountered in log\n",
            "  result = getattr(ufunc, method)(*inputs, **kwargs)\n"
          ]
        },
        {
          "output_type": "stream",
          "name": "stdout",
          "text": [
            "Epoch 1/3\n",
            "107/107 [==============================] - 7s 10ms/step - loss: 0.5473 - accuracy: 0.0868 - mean_absolute_error: 0.5473\n",
            "Epoch 2/3\n",
            "107/107 [==============================] - 1s 10ms/step - loss: 0.0555 - accuracy: 0.0951 - mean_absolute_error: 0.0555\n",
            "Epoch 3/3\n",
            "107/107 [==============================] - 1s 9ms/step - loss: 0.0367 - accuracy: 0.1013 - mean_absolute_error: 0.0367\n",
            "5/5 [==============================] - 0s 4ms/step\n"
          ]
        },
        {
          "output_type": "stream",
          "name": "stderr",
          "text": [
            "/usr/local/lib/python3.10/dist-packages/pandas/core/arrays/numpy_.py:161: RuntimeWarning: invalid value encountered in log\n",
            "  result = getattr(ufunc, method)(*inputs, **kwargs)\n"
          ]
        },
        {
          "output_type": "stream",
          "name": "stdout",
          "text": [
            "Epoch 1/3\n",
            "107/107 [==============================] - 7s 10ms/step - loss: 0.5752 - accuracy: 0.1089 - mean_absolute_error: 0.5752\n",
            "Epoch 2/3\n",
            "107/107 [==============================] - 1s 9ms/step - loss: 0.0521 - accuracy: 0.1042 - mean_absolute_error: 0.0521\n",
            "Epoch 3/3\n",
            "107/107 [==============================] - 1s 9ms/step - loss: 0.0372 - accuracy: 0.1004 - mean_absolute_error: 0.0372\n",
            "5/5 [==============================] - 0s 4ms/step\n"
          ]
        },
        {
          "output_type": "stream",
          "name": "stderr",
          "text": [
            "/usr/local/lib/python3.10/dist-packages/pandas/core/arrays/numpy_.py:161: RuntimeWarning: invalid value encountered in log\n",
            "  result = getattr(ufunc, method)(*inputs, **kwargs)\n"
          ]
        },
        {
          "output_type": "stream",
          "name": "stdout",
          "text": [
            "Epoch 1/3\n",
            "107/107 [==============================] - 7s 9ms/step - loss: 0.4610 - accuracy: 0.0874 - mean_absolute_error: 0.4610\n",
            "Epoch 2/3\n",
            "107/107 [==============================] - 1s 9ms/step - loss: 0.0471 - accuracy: 0.0889 - mean_absolute_error: 0.0471\n",
            "Epoch 3/3\n",
            "107/107 [==============================] - 1s 9ms/step - loss: 0.0355 - accuracy: 0.0512 - mean_absolute_error: 0.0355\n",
            "5/5 [==============================] - 0s 4ms/step\n"
          ]
        },
        {
          "output_type": "stream",
          "name": "stderr",
          "text": [
            "/usr/local/lib/python3.10/dist-packages/pandas/core/arrays/numpy_.py:161: RuntimeWarning: invalid value encountered in log\n",
            "  result = getattr(ufunc, method)(*inputs, **kwargs)\n"
          ]
        },
        {
          "output_type": "stream",
          "name": "stdout",
          "text": [
            "Epoch 1/3\n",
            "107/107 [==============================] - 8s 11ms/step - loss: 0.4942 - accuracy: 0.1407 - mean_absolute_error: 0.4942\n",
            "Epoch 2/3\n",
            "107/107 [==============================] - 1s 10ms/step - loss: 0.0509 - accuracy: 0.1528 - mean_absolute_error: 0.0509\n",
            "Epoch 3/3\n",
            "107/107 [==============================] - 1s 9ms/step - loss: 0.0396 - accuracy: 0.1699 - mean_absolute_error: 0.0396\n",
            "5/5 [==============================] - 0s 4ms/step\n"
          ]
        },
        {
          "output_type": "stream",
          "name": "stderr",
          "text": [
            "/usr/local/lib/python3.10/dist-packages/pandas/core/arrays/numpy_.py:161: RuntimeWarning: invalid value encountered in log\n",
            "  result = getattr(ufunc, method)(*inputs, **kwargs)\n"
          ]
        },
        {
          "output_type": "stream",
          "name": "stdout",
          "text": [
            "Epoch 1/3\n",
            "107/107 [==============================] - 6s 10ms/step - loss: 0.5359 - accuracy: 0.0854 - mean_absolute_error: 0.5359\n",
            "Epoch 2/3\n",
            "107/107 [==============================] - 1s 14ms/step - loss: 0.0529 - accuracy: 0.1080 - mean_absolute_error: 0.0529\n",
            "Epoch 3/3\n",
            "107/107 [==============================] - 1s 10ms/step - loss: 0.0381 - accuracy: 0.0601 - mean_absolute_error: 0.0381\n",
            "5/5 [==============================] - 0s 4ms/step\n"
          ]
        },
        {
          "output_type": "stream",
          "name": "stderr",
          "text": [
            "/usr/local/lib/python3.10/dist-packages/pandas/core/arrays/numpy_.py:161: RuntimeWarning: invalid value encountered in log\n",
            "  result = getattr(ufunc, method)(*inputs, **kwargs)\n"
          ]
        },
        {
          "output_type": "stream",
          "name": "stdout",
          "text": [
            "Epoch 1/3\n",
            "107/107 [==============================] - 7s 9ms/step - loss: 0.5834 - accuracy: 0.0495 - mean_absolute_error: 0.5834\n",
            "Epoch 2/3\n",
            "107/107 [==============================] - 1s 12ms/step - loss: 0.0513 - accuracy: 0.0430 - mean_absolute_error: 0.0513\n",
            "Epoch 3/3\n",
            "107/107 [==============================] - 1s 13ms/step - loss: 0.0387 - accuracy: 0.0321 - mean_absolute_error: 0.0387\n",
            "5/5 [==============================] - 0s 4ms/step\n"
          ]
        },
        {
          "output_type": "stream",
          "name": "stderr",
          "text": [
            "/usr/local/lib/python3.10/dist-packages/pandas/core/arrays/numpy_.py:161: RuntimeWarning: invalid value encountered in log\n",
            "  result = getattr(ufunc, method)(*inputs, **kwargs)\n"
          ]
        },
        {
          "output_type": "stream",
          "name": "stdout",
          "text": [
            "Epoch 1/3\n",
            "107/107 [==============================] - 6s 10ms/step - loss: 0.4514 - accuracy: 0.1063 - mean_absolute_error: 0.4514\n",
            "Epoch 2/3\n",
            "107/107 [==============================] - 1s 9ms/step - loss: 0.0587 - accuracy: 0.0742 - mean_absolute_error: 0.0587\n",
            "Epoch 3/3\n",
            "107/107 [==============================] - 1s 10ms/step - loss: 0.0371 - accuracy: 0.0736 - mean_absolute_error: 0.0371\n",
            "5/5 [==============================] - 0s 4ms/step\n"
          ]
        },
        {
          "output_type": "stream",
          "name": "stderr",
          "text": [
            "/usr/local/lib/python3.10/dist-packages/pandas/core/arrays/numpy_.py:161: RuntimeWarning: invalid value encountered in log\n",
            "  result = getattr(ufunc, method)(*inputs, **kwargs)\n"
          ]
        }
      ]
    },
    {
      "cell_type": "code",
      "source": [
        "Accuracy"
      ],
      "metadata": {
        "id": "MNr7XOQK_Dhu",
        "colab": {
          "base_uri": "https://localhost:8080/"
        },
        "outputId": "baea0a23-c8b7-4234-e4f0-f773db142967"
      },
      "id": "MNr7XOQK_Dhu",
      "execution_count": 27,
      "outputs": [
        {
          "output_type": "execute_result",
          "data": {
            "text/plain": [
              "[35.96699354802808,\n",
              " 48.34801823808469,\n",
              " 50.91102956222937,\n",
              " 41.71944071335717,\n",
              " 43.43585663003958,\n",
              " 42.71764856924728,\n",
              " 39.958086543341906,\n",
              " 34.94428378720427,\n",
              " 39.733668631504415,\n",
              " 46.283730895348604,\n",
              " 44.15626796937785,\n",
              " 33.237616270486356,\n",
              " 44.55701571540344,\n",
              " 26.529041713495605,\n",
              " 47.918712381222676]"
            ]
          },
          "metadata": {},
          "execution_count": 27
        }
      ]
    },
    {
      "cell_type": "code",
      "source": [
        "RMSE"
      ],
      "metadata": {
        "id": "Du-FhKl5_Mkv",
        "colab": {
          "base_uri": "https://localhost:8080/"
        },
        "outputId": "5841e862-9bc7-4e90-b5d7-48d76d5bc467"
      },
      "id": "Du-FhKl5_Mkv",
      "execution_count": 28,
      "outputs": [
        {
          "output_type": "execute_result",
          "data": {
            "text/plain": [
              "[0.004503783589205245,\n",
              " 0.003930880109298221,\n",
              " 0.004035645991630584,\n",
              " 0.004119477024179112,\n",
              " 0.004058586633833886,\n",
              " 0.004265698418831662,\n",
              " 0.0042725009973750925,\n",
              " 0.004496794808025005,\n",
              " 0.004256083193280861,\n",
              " 0.003968525269255437,\n",
              " 0.004054708062813981,\n",
              " 0.004425648837368163,\n",
              " 0.004122943019117511,\n",
              " 0.004716776165214602,\n",
              " 0.004061555384070464]"
            ]
          },
          "metadata": {},
          "execution_count": 28
        }
      ]
    },
    {
      "cell_type": "code",
      "source": [
        "Quasilikelihood"
      ],
      "metadata": {
        "id": "gBhrIf6X_MiK",
        "colab": {
          "base_uri": "https://localhost:8080/"
        },
        "outputId": "0f52c6fe-adff-47a3-a887-8d7820f26a79"
      },
      "id": "gBhrIf6X_MiK",
      "execution_count": 29,
      "outputs": [
        {
          "output_type": "execute_result",
          "data": {
            "text/plain": [
              "[0.22252724405691532,\n",
              " 0.17375215223737994,\n",
              " 0.17136103591732382,\n",
              " 0.19616754978075757,\n",
              " 0.19042154076198103,\n",
              " 0.20388550668809616,\n",
              " 0.21407825018515395,\n",
              " 0.23866679053454212,\n",
              " 0.21145687903018975,\n",
              " 0.18367671165510635,\n",
              " 0.18726193924952747,\n",
              " 0.24357267697258003,\n",
              " 0.1884919512068973,\n",
              " 0.26497438076583774,\n",
              " 0.17610086268355368]"
            ]
          },
          "metadata": {},
          "execution_count": 29
        }
      ]
    },
    {
      "cell_type": "code",
      "source": [
        "# Best model\n",
        "plt.plot(df_for_date[\"Date\"][:len(test)], test)\n",
        "plt.plot(df_for_date[\"Date\"][:len(test)], true_predictions) \n",
        "plt.ylabel(\"NASDAQ Realized Volatility\")"
      ],
      "metadata": {
        "id": "VXvzEG89_DfF",
        "colab": {
          "base_uri": "https://localhost:8080/",
          "height": 448
        },
        "outputId": "076c5e79-513e-4a80-bb1d-8197f39d7140"
      },
      "id": "VXvzEG89_DfF",
      "execution_count": 30,
      "outputs": [
        {
          "output_type": "execute_result",
          "data": {
            "text/plain": [
              "Text(0, 0.5, 'NASDAQ Realized Volatility')"
            ]
          },
          "metadata": {},
          "execution_count": 30
        },
        {
          "output_type": "display_data",
          "data": {
            "text/plain": [
              "<Figure size 640x480 with 1 Axes>"
            ],
            "image/png": "[encoded data removed]"
          },
          "metadata": {}
        }
      ]
    },
    {
      "cell_type": "markdown",
      "source": [
        "# H=22 Forecasts"
      ],
      "metadata": {
        "id": "XQncAgX5_BJy"
      },
      "id": "XQncAgX5_BJy"
    },
    {
      "cell_type": "code",
      "source": [
        "def df_to_X_y(window_size,test,scaled_test_input):\n",
        "  X=[]\n",
        "  y=[]\n",
        "  for i in range(int(len(test)/22)):\n",
        "    row = [[a] for a in scaled_test_input[i*22:(i*22)+window_size]]\n",
        "    X.append(row)\n",
        "  return np.array(X)"
      ],
      "metadata": {
        "id": "uSq1DuG0XqXY"
      },
      "id": "uSq1DuG0XqXY",
      "execution_count": 31,
      "outputs": []
    },
    {
      "cell_type": "code",
      "source": [
        "RMSE = []\n",
        "Accuracy = []\n",
        "Quasilikelihood=[]"
      ],
      "metadata": {
        "id": "zl3k9qGE_DF3"
      },
      "id": "zl3k9qGE_DF3",
      "execution_count": 32,
      "outputs": []
    },
    {
      "cell_type": "code",
      "source": [
        "for i in range (15):\n",
        "  n_features = 3\n",
        "  n_input = 189\n",
        "  train = df.iloc[:int(len(df['Realised'])*0.7)]\n",
        "  test = df.iloc[int(len(df['Realised'])*0.7)-n_input:]\n",
        "  scaler.fit(train)\n",
        "  scaled_train_input = scaler.transform(train)\n",
        "  scaled_test_input = scaler.transform(test)\n",
        "  train = df[\"Realised\"].iloc[:int(len(df['Realised'])*0.7)]\n",
        "  test = df[\"Realised\"].iloc[int(len(df['Realised'])*0.7):]\n",
        "  train = train.array.reshape(-1, 1)\n",
        "  test = test.array.reshape(-1, 1)\n",
        "  scaler.fit(train)\n",
        "  scaled_train_target = scaler.transform(train)\n",
        "  scaled_test_target = scaler.transform(test)\n",
        "  generator = TimeseriesGenerator(scaled_train_input, scaled_train_target, length=n_input, batch_size=32)\n",
        "  model = Sequential()\n",
        "  model.add(TCN(kernel_size=3, dilations=[1,2,4,2,1], nb_stacks=1,padding='causal',\n",
        "                dropout_rate=0.2,activation='relu',kernel_initializer='he_normal', input_shape=(n_input, n_features)))\n",
        "  model.add(Dense(22))\n",
        "  model.compile(optimizer='adam', loss='mae', metrics=[\"accuracy\", \"mean_absolute_error\"])\n",
        "  model.fit(generator,epochs=3)\n",
        "  test=test[:len(test)-19]\n",
        "  X = df_to_X_y(n_input,test,scaled_test_input)\n",
        "  X=X.reshape(int(((len(test)/22))), n_input, n_features)\n",
        "  y_hat=model.predict(X)\n",
        "  y_hat=y_hat.reshape(len(test),1)\n",
        "  true_predictions = scaler.inverse_transform(y_hat)\n",
        "  RMSE.append(np.sum(np.sqrt((test-true_predictions)**2))/len(test))\n",
        "  Accuracy.append((1-np.sum(np.sqrt((test-true_predictions)**2)/test)/(len(test)))*100)\n",
        "  Quasilikelihood.append(np.sum(true_predictions/test-np.log(true_predictions/test)-1)/len(test))"
      ],
      "metadata": {
        "id": "J72QzSOk_Xfd",
        "colab": {
          "base_uri": "https://localhost:8080/"
        },
        "outputId": "c114a37b-5d87-4342-c66a-ddf32f377879"
      },
      "id": "J72QzSOk_Xfd",
      "execution_count": 33,
      "outputs": [
        {
          "output_type": "stream",
          "name": "stdout",
          "text": [
            "Epoch 1/3\n",
            "107/107 [==============================] - 7s 10ms/step - loss: 0.3971 - accuracy: 0.0527 - mean_absolute_error: 0.3971\n",
            "Epoch 2/3\n",
            "107/107 [==============================] - 1s 9ms/step - loss: 0.0444 - accuracy: 0.0489 - mean_absolute_error: 0.0444\n",
            "Epoch 3/3\n",
            "107/107 [==============================] - 1s 9ms/step - loss: 0.0362 - accuracy: 0.0180 - mean_absolute_error: 0.0362\n",
            "3/3 [==============================] - 0s 5ms/step\n"
          ]
        },
        {
          "output_type": "stream",
          "name": "stderr",
          "text": [
            "/usr/local/lib/python3.10/dist-packages/pandas/core/arrays/numpy_.py:161: RuntimeWarning: invalid value encountered in log\n",
            "  result = getattr(ufunc, method)(*inputs, **kwargs)\n"
          ]
        },
        {
          "output_type": "stream",
          "name": "stdout",
          "text": [
            "Epoch 1/3\n",
            "107/107 [==============================] - 7s 10ms/step - loss: 0.5714 - accuracy: 0.0286 - mean_absolute_error: 0.5714\n",
            "Epoch 2/3\n",
            "107/107 [==============================] - 1s 9ms/step - loss: 0.0486 - accuracy: 0.0515 - mean_absolute_error: 0.0486\n",
            "Epoch 3/3\n",
            "107/107 [==============================] - 1s 10ms/step - loss: 0.0386 - accuracy: 0.0339 - mean_absolute_error: 0.0386\n",
            "3/3 [==============================] - 0s 4ms/step\n"
          ]
        },
        {
          "output_type": "stream",
          "name": "stderr",
          "text": [
            "/usr/local/lib/python3.10/dist-packages/pandas/core/arrays/numpy_.py:161: RuntimeWarning: invalid value encountered in log\n",
            "  result = getattr(ufunc, method)(*inputs, **kwargs)\n"
          ]
        },
        {
          "output_type": "stream",
          "name": "stdout",
          "text": [
            "Epoch 1/3\n",
            "107/107 [==============================] - 7s 10ms/step - loss: 0.5253 - accuracy: 0.0368 - mean_absolute_error: 0.5253\n",
            "Epoch 2/3\n",
            "107/107 [==============================] - 1s 10ms/step - loss: 0.0494 - accuracy: 0.0353 - mean_absolute_error: 0.0494\n",
            "Epoch 3/3\n",
            "107/107 [==============================] - 1s 9ms/step - loss: 0.0395 - accuracy: 0.0283 - mean_absolute_error: 0.0395\n",
            "3/3 [==============================] - 0s 5ms/step\n"
          ]
        },
        {
          "output_type": "stream",
          "name": "stderr",
          "text": [
            "/usr/local/lib/python3.10/dist-packages/pandas/core/arrays/numpy_.py:161: RuntimeWarning: invalid value encountered in log\n",
            "  result = getattr(ufunc, method)(*inputs, **kwargs)\n"
          ]
        },
        {
          "output_type": "stream",
          "name": "stdout",
          "text": [
            "Epoch 1/3\n",
            "107/107 [==============================] - 6s 12ms/step - loss: 0.4183 - accuracy: 0.0592 - mean_absolute_error: 0.4183\n",
            "Epoch 2/3\n",
            "107/107 [==============================] - 1s 10ms/step - loss: 0.0437 - accuracy: 0.0533 - mean_absolute_error: 0.0437\n",
            "Epoch 3/3\n",
            "107/107 [==============================] - 1s 9ms/step - loss: 0.0367 - accuracy: 0.0306 - mean_absolute_error: 0.0367\n"
          ]
        },
        {
          "output_type": "stream",
          "name": "stderr",
          "text": [
            "WARNING:tensorflow:5 out of the last 15 calls to <function Model.make_predict_function.<locals>.predict_function at 0x7f64ccc62710> triggered tf.function retracing. Tracing is expensive and the excessive number of tracings could be due to (1) creating @tf.function repeatedly in a loop, (2) passing tensors with different shapes, (3) passing Python objects instead of tensors. For (1), please define your @tf.function outside of the loop. For (2), @tf.function has reduce_retracing=True option that can avoid unnecessary retracing. For (3), please refer to https://www.tensorflow.org/guide/function#controlling_retracing and https://www.tensorflow.org/api_docs/python/tf/function for  more details.\n"
          ]
        },
        {
          "output_type": "stream",
          "name": "stdout",
          "text": [
            "3/3 [==============================] - 0s 6ms/step\n"
          ]
        },
        {
          "output_type": "stream",
          "name": "stderr",
          "text": [
            "/usr/local/lib/python3.10/dist-packages/pandas/core/arrays/numpy_.py:161: RuntimeWarning: invalid value encountered in log\n",
            "  result = getattr(ufunc, method)(*inputs, **kwargs)\n"
          ]
        },
        {
          "output_type": "stream",
          "name": "stdout",
          "text": [
            "Epoch 1/3\n",
            "107/107 [==============================] - 7s 12ms/step - loss: 0.4450 - accuracy: 0.0518 - mean_absolute_error: 0.4450\n",
            "Epoch 2/3\n",
            "107/107 [==============================] - 1s 10ms/step - loss: 0.0433 - accuracy: 0.0362 - mean_absolute_error: 0.0433\n",
            "Epoch 3/3\n",
            "107/107 [==============================] - 1s 9ms/step - loss: 0.0372 - accuracy: 0.0400 - mean_absolute_error: 0.0372\n"
          ]
        },
        {
          "output_type": "stream",
          "name": "stderr",
          "text": [
            "WARNING:tensorflow:5 out of the last 13 calls to <function Model.make_predict_function.<locals>.predict_function at 0x7f64f58423b0> triggered tf.function retracing. Tracing is expensive and the excessive number of tracings could be due to (1) creating @tf.function repeatedly in a loop, (2) passing tensors with different shapes, (3) passing Python objects instead of tensors. For (1), please define your @tf.function outside of the loop. For (2), @tf.function has reduce_retracing=True option that can avoid unnecessary retracing. For (3), please refer to https://www.tensorflow.org/guide/function#controlling_retracing and https://www.tensorflow.org/api_docs/python/tf/function for  more details.\n"
          ]
        },
        {
          "output_type": "stream",
          "name": "stdout",
          "text": [
            "3/3 [==============================] - 0s 5ms/step\n"
          ]
        },
        {
          "output_type": "stream",
          "name": "stderr",
          "text": [
            "/usr/local/lib/python3.10/dist-packages/pandas/core/arrays/numpy_.py:161: RuntimeWarning: invalid value encountered in log\n",
            "  result = getattr(ufunc, method)(*inputs, **kwargs)\n"
          ]
        },
        {
          "output_type": "stream",
          "name": "stdout",
          "text": [
            "Epoch 1/3\n",
            "107/107 [==============================] - 6s 10ms/step - loss: 0.4314 - accuracy: 0.0639 - mean_absolute_error: 0.4314\n",
            "Epoch 2/3\n",
            "107/107 [==============================] - 1s 13ms/step - loss: 0.0476 - accuracy: 0.0374 - mean_absolute_error: 0.0476\n",
            "Epoch 3/3\n",
            "107/107 [==============================] - 1s 9ms/step - loss: 0.0380 - accuracy: 0.0168 - mean_absolute_error: 0.0380\n",
            "3/3 [==============================] - 0s 6ms/step\n"
          ]
        },
        {
          "output_type": "stream",
          "name": "stderr",
          "text": [
            "/usr/local/lib/python3.10/dist-packages/pandas/core/arrays/numpy_.py:161: RuntimeWarning: invalid value encountered in log\n",
            "  result = getattr(ufunc, method)(*inputs, **kwargs)\n"
          ]
        },
        {
          "output_type": "stream",
          "name": "stdout",
          "text": [
            "Epoch 1/3\n",
            "107/107 [==============================] - 6s 10ms/step - loss: 0.6534 - accuracy: 0.0539 - mean_absolute_error: 0.6534\n",
            "Epoch 2/3\n",
            "107/107 [==============================] - 1s 9ms/step - loss: 0.0549 - accuracy: 0.0394 - mean_absolute_error: 0.0549\n",
            "Epoch 3/3\n",
            "107/107 [==============================] - 1s 13ms/step - loss: 0.0384 - accuracy: 0.0315 - mean_absolute_error: 0.0384\n",
            "3/3 [==============================] - 0s 5ms/step\n"
          ]
        },
        {
          "output_type": "stream",
          "name": "stderr",
          "text": [
            "/usr/local/lib/python3.10/dist-packages/pandas/core/arrays/numpy_.py:161: RuntimeWarning: invalid value encountered in log\n",
            "  result = getattr(ufunc, method)(*inputs, **kwargs)\n"
          ]
        },
        {
          "output_type": "stream",
          "name": "stdout",
          "text": [
            "Epoch 1/3\n",
            "107/107 [==============================] - 6s 10ms/step - loss: 0.4658 - accuracy: 0.0344 - mean_absolute_error: 0.4658\n",
            "Epoch 2/3\n",
            "107/107 [==============================] - 1s 9ms/step - loss: 0.0467 - accuracy: 0.0185 - mean_absolute_error: 0.0467\n",
            "Epoch 3/3\n",
            "107/107 [==============================] - 1s 9ms/step - loss: 0.0385 - accuracy: 0.0197 - mean_absolute_error: 0.0385\n",
            "3/3 [==============================] - 0s 5ms/step\n"
          ]
        },
        {
          "output_type": "stream",
          "name": "stderr",
          "text": [
            "/usr/local/lib/python3.10/dist-packages/pandas/core/arrays/numpy_.py:161: RuntimeWarning: invalid value encountered in log\n",
            "  result = getattr(ufunc, method)(*inputs, **kwargs)\n"
          ]
        },
        {
          "output_type": "stream",
          "name": "stdout",
          "text": [
            "Epoch 1/3\n",
            "107/107 [==============================] - 7s 9ms/step - loss: 0.4793 - accuracy: 0.0327 - mean_absolute_error: 0.4793\n",
            "Epoch 2/3\n",
            "107/107 [==============================] - 1s 9ms/step - loss: 0.0474 - accuracy: 0.0165 - mean_absolute_error: 0.0474\n",
            "Epoch 3/3\n",
            "107/107 [==============================] - 1s 9ms/step - loss: 0.0370 - accuracy: 0.0256 - mean_absolute_error: 0.0370\n",
            "3/3 [==============================] - 0s 5ms/step\n"
          ]
        },
        {
          "output_type": "stream",
          "name": "stderr",
          "text": [
            "/usr/local/lib/python3.10/dist-packages/pandas/core/arrays/numpy_.py:161: RuntimeWarning: invalid value encountered in log\n",
            "  result = getattr(ufunc, method)(*inputs, **kwargs)\n"
          ]
        },
        {
          "output_type": "stream",
          "name": "stdout",
          "text": [
            "Epoch 1/3\n",
            "107/107 [==============================] - 7s 10ms/step - loss: 0.7375 - accuracy: 0.0468 - mean_absolute_error: 0.7375\n",
            "Epoch 2/3\n",
            "107/107 [==============================] - 1s 10ms/step - loss: 0.0540 - accuracy: 0.1151 - mean_absolute_error: 0.0540\n",
            "Epoch 3/3\n",
            "107/107 [==============================] - 1s 9ms/step - loss: 0.0406 - accuracy: 0.0668 - mean_absolute_error: 0.0406\n",
            "3/3 [==============================] - 0s 5ms/step\n"
          ]
        },
        {
          "output_type": "stream",
          "name": "stderr",
          "text": [
            "/usr/local/lib/python3.10/dist-packages/pandas/core/arrays/numpy_.py:161: RuntimeWarning: invalid value encountered in log\n",
            "  result = getattr(ufunc, method)(*inputs, **kwargs)\n"
          ]
        },
        {
          "output_type": "stream",
          "name": "stdout",
          "text": [
            "Epoch 1/3\n",
            "107/107 [==============================] - 8s 10ms/step - loss: 0.5448 - accuracy: 0.0436 - mean_absolute_error: 0.5448\n",
            "Epoch 2/3\n",
            "107/107 [==============================] - 1s 10ms/step - loss: 0.0480 - accuracy: 0.2387 - mean_absolute_error: 0.0480\n",
            "Epoch 3/3\n",
            "107/107 [==============================] - 1s 10ms/step - loss: 0.0399 - accuracy: 0.0424 - mean_absolute_error: 0.0399\n",
            "3/3 [==============================] - 0s 5ms/step\n"
          ]
        },
        {
          "output_type": "stream",
          "name": "stderr",
          "text": [
            "/usr/local/lib/python3.10/dist-packages/pandas/core/arrays/numpy_.py:161: RuntimeWarning: invalid value encountered in log\n",
            "  result = getattr(ufunc, method)(*inputs, **kwargs)\n"
          ]
        },
        {
          "output_type": "stream",
          "name": "stdout",
          "text": [
            "Epoch 1/3\n",
            "107/107 [==============================] - 7s 12ms/step - loss: 0.4445 - accuracy: 0.0527 - mean_absolute_error: 0.4445\n",
            "Epoch 2/3\n",
            "107/107 [==============================] - 1s 10ms/step - loss: 0.0460 - accuracy: 0.0562 - mean_absolute_error: 0.0460\n",
            "Epoch 3/3\n",
            "107/107 [==============================] - 1s 10ms/step - loss: 0.0385 - accuracy: 0.0621 - mean_absolute_error: 0.0385\n",
            "3/3 [==============================] - 0s 5ms/step\n"
          ]
        },
        {
          "output_type": "stream",
          "name": "stderr",
          "text": [
            "/usr/local/lib/python3.10/dist-packages/pandas/core/arrays/numpy_.py:161: RuntimeWarning: invalid value encountered in log\n",
            "  result = getattr(ufunc, method)(*inputs, **kwargs)\n"
          ]
        },
        {
          "output_type": "stream",
          "name": "stdout",
          "text": [
            "Epoch 1/3\n",
            "107/107 [==============================] - 6s 10ms/step - loss: 0.4421 - accuracy: 0.0603 - mean_absolute_error: 0.4421\n",
            "Epoch 2/3\n",
            "107/107 [==============================] - 1s 11ms/step - loss: 0.0460 - accuracy: 0.0762 - mean_absolute_error: 0.0460\n",
            "Epoch 3/3\n",
            "107/107 [==============================] - 1s 14ms/step - loss: 0.0379 - accuracy: 0.0830 - mean_absolute_error: 0.0379\n",
            "3/3 [==============================] - 0s 5ms/step\n"
          ]
        },
        {
          "output_type": "stream",
          "name": "stderr",
          "text": [
            "/usr/local/lib/python3.10/dist-packages/pandas/core/arrays/numpy_.py:161: RuntimeWarning: invalid value encountered in log\n",
            "  result = getattr(ufunc, method)(*inputs, **kwargs)\n"
          ]
        },
        {
          "output_type": "stream",
          "name": "stdout",
          "text": [
            "Epoch 1/3\n",
            "107/107 [==============================] - 7s 10ms/step - loss: 0.4770 - accuracy: 0.0218 - mean_absolute_error: 0.4770\n",
            "Epoch 2/3\n",
            "107/107 [==============================] - 1s 10ms/step - loss: 0.0494 - accuracy: 0.0247 - mean_absolute_error: 0.0494\n",
            "Epoch 3/3\n",
            "107/107 [==============================] - 1s 10ms/step - loss: 0.0388 - accuracy: 0.0103 - mean_absolute_error: 0.0388\n",
            "3/3 [==============================] - 0s 6ms/step\n"
          ]
        },
        {
          "output_type": "stream",
          "name": "stderr",
          "text": [
            "/usr/local/lib/python3.10/dist-packages/pandas/core/arrays/numpy_.py:161: RuntimeWarning: invalid value encountered in log\n",
            "  result = getattr(ufunc, method)(*inputs, **kwargs)\n"
          ]
        },
        {
          "output_type": "stream",
          "name": "stdout",
          "text": [
            "Epoch 1/3\n",
            "107/107 [==============================] - 7s 9ms/step - loss: 0.5599 - accuracy: 0.0648 - mean_absolute_error: 0.5599\n",
            "Epoch 2/3\n",
            "107/107 [==============================] - 1s 9ms/step - loss: 0.0479 - accuracy: 0.0668 - mean_absolute_error: 0.0479\n",
            "Epoch 3/3\n",
            "107/107 [==============================] - 1s 9ms/step - loss: 0.0379 - accuracy: 0.0456 - mean_absolute_error: 0.0379\n",
            "3/3 [==============================] - 0s 5ms/step\n"
          ]
        },
        {
          "output_type": "stream",
          "name": "stderr",
          "text": [
            "/usr/local/lib/python3.10/dist-packages/pandas/core/arrays/numpy_.py:161: RuntimeWarning: invalid value encountered in log\n",
            "  result = getattr(ufunc, method)(*inputs, **kwargs)\n"
          ]
        }
      ]
    },
    {
      "cell_type": "code",
      "source": [
        "Accuracy"
      ],
      "metadata": {
        "id": "Of7LScIx_XZ3",
        "colab": {
          "base_uri": "https://localhost:8080/"
        },
        "outputId": "36501a1c-1e30-482a-bdf1-c0315e1a559b"
      },
      "id": "Of7LScIx_XZ3",
      "execution_count": 34,
      "outputs": [
        {
          "output_type": "execute_result",
          "data": {
            "text/plain": [
              "[37.07418867671931,\n",
              " 22.68528795349426,\n",
              " 39.75737220884458,\n",
              " 34.05647799732795,\n",
              " 24.340032155492253,\n",
              " 31.890526950754637,\n",
              " 31.126028659871697,\n",
              " 30.00070941015022,\n",
              " 37.1369213265327,\n",
              " 40.48065533352363,\n",
              " 31.57974358883513,\n",
              " 34.09401548901616,\n",
              " 37.830448417193196,\n",
              " 31.471640283970725,\n",
              " 30.787801274713857]"
            ]
          },
          "metadata": {},
          "execution_count": 34
        }
      ]
    },
    {
      "cell_type": "code",
      "source": [
        "RMSE"
      ],
      "metadata": {
        "id": "JakJ5sME_i3r",
        "colab": {
          "base_uri": "https://localhost:8080/"
        },
        "outputId": "4f7c77f3-f96a-474d-828f-632962beaf5b"
      },
      "id": "JakJ5sME_i3r",
      "execution_count": 35,
      "outputs": [
        {
          "output_type": "execute_result",
          "data": {
            "text/plain": [
              "[0.0043492385322223956,\n",
              " 0.005148262205922523,\n",
              " 0.004370029528221361,\n",
              " 0.004478321212017032,\n",
              " 0.005109580545879089,\n",
              " 0.004746429257743457,\n",
              " 0.004702645245776601,\n",
              " 0.004722948340809544,\n",
              " 0.004500930044539137,\n",
              " 0.004433451834180639,\n",
              " 0.004619290727845526,\n",
              " 0.004617206992228976,\n",
              " 0.004362874649902467,\n",
              " 0.004575887149061788,\n",
              " 0.004663600419688731]"
            ]
          },
          "metadata": {},
          "execution_count": 35
        }
      ]
    },
    {
      "cell_type": "code",
      "source": [
        "Quasilikelihood"
      ],
      "metadata": {
        "id": "CIYuM7lB_XQA",
        "colab": {
          "base_uri": "https://localhost:8080/"
        },
        "outputId": "8288596c-27ce-4311-9b62-325ba3736490"
      },
      "id": "CIYuM7lB_XQA",
      "execution_count": 36,
      "outputs": [
        {
          "output_type": "execute_result",
          "data": {
            "text/plain": [
              "[0.22828470491347239,\n",
              " 0.2996950603539389,\n",
              " 0.21462238995235464,\n",
              " 0.2488220642574124,\n",
              " 0.2815250542319998,\n",
              " 0.25184113800431196,\n",
              " 0.2551170339158703,\n",
              " 0.2583805010616726,\n",
              " 0.2307609422623765,\n",
              " 0.2193498758277866,\n",
              " 0.24792881947788045,\n",
              " 0.23884699912996463,\n",
              " 0.22326504696086258,\n",
              " 0.2514098935921846,\n",
              " 0.2578949127448991]"
            ]
          },
          "metadata": {},
          "execution_count": 36
        }
      ]
    },
    {
      "cell_type": "code",
      "source": [
        "# Best model\n",
        "plt.plot(df_for_date[\"Date\"][:len(test)], test)\n",
        "plt.plot(df_for_date[\"Date\"][:len(test)], true_predictions) \n",
        "plt.ylabel(\"NASDAQ Realized Volatility\")"
      ],
      "metadata": {
        "id": "6L-QjSUh_XM4",
        "colab": {
          "base_uri": "https://localhost:8080/",
          "height": 448
        },
        "outputId": "de6457aa-915b-4b6b-e43f-b0499c260a89"
      },
      "id": "6L-QjSUh_XM4",
      "execution_count": 37,
      "outputs": [
        {
          "output_type": "execute_result",
          "data": {
            "text/plain": [
              "Text(0, 0.5, 'NASDAQ Realized Volatility')"
            ]
          },
          "metadata": {},
          "execution_count": 37
        },
        {
          "output_type": "display_data",
          "data": {
            "text/plain": [
              "<Figure size 640x480 with 1 Axes>"
            ],
            "image/png": "[encoded data removed]"
          },
          "metadata": {}
        }
      ]
    },
    {
      "cell_type": "code",
      "source": [],
      "metadata": {
        "id": "ylvbnMehKVop"
      },
      "id": "ylvbnMehKVop",
      "execution_count": null,
      "outputs": []
    }
  ],
  "metadata": {
    "kernelspec": {
      "display_name": "Python 3 (ipykernel)",
      "language": "python",
      "name": "python3"
    },
    "language_info": {
      "codemirror_mode": {
        "name": "ipython",
        "version": 3
      },
      "file_extension": ".py",
      "mimetype": "text/x-python",
      "name": "python",
      "nbconvert_exporter": "python",
      "pygments_lexer": "ipython3",
      "version": "3.9.12"
    },
    "colab": {
      "provenance": [],
      "gpuType": "T4"
    },
    "gpuClass": "standard"
  },
  "nbformat": 4,
  "nbformat_minor": 5
}