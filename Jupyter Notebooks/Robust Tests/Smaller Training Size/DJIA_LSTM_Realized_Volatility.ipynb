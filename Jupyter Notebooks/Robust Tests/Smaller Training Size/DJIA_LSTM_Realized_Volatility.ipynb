{
  "cells": [
    {
      "cell_type": "code",
      "execution_count": 1,
      "id": "79f12d44",
      "metadata": {
        "id": "79f12d44"
      },
      "outputs": [],
      "source": [
        "import pandas as pd\n",
        "import numpy as np\n",
        "import matplotlib.pyplot as plt\n",
        "import scipy\n",
        "import scipy.stats\n",
        "from sklearn.preprocessing import MinMaxScaler\n",
        "from keras.preprocessing.sequence import TimeseriesGenerator\n",
        "from keras.models import Sequential\n",
        "from keras.layers import Dense, Dropout\n",
        "from keras.layers import LSTM\n",
        "scaler = MinMaxScaler()"
      ]
    },
    {
      "cell_type": "code",
      "execution_count": 3,
      "id": "ec788e16",
      "metadata": {
        "id": "ec788e16"
      },
      "outputs": [],
      "source": [
        "df = pd.read_excel(\"DJIA Realized Volatility.xlsx\",index_col='Date',parse_dates=True)\n",
        "df_for_date=df[int(len(df['Realised'])*0.7):].reset_index()"
      ]
    },
    {
      "cell_type": "code",
      "execution_count": 4,
      "id": "b5f74db6",
      "metadata": {
        "id": "b5f74db6"
      },
      "outputs": [],
      "source": [
        "def df_to_X_y(window_size,test,scaled_test_input):\n",
        "  X=[]\n",
        "  for i in range(len(test)):\n",
        "    row = [[a] for a in scaled_test_input[i:i+window_size]]\n",
        "    X.append(row)\n",
        "  return np.array(X)"
      ]
    },
    {
      "cell_type": "markdown",
      "source": [
        "Epoch: 7 | Inputs: 126 | Nodes: 126 | Dropout: 0 | Loss: mse"
      ],
      "metadata": {
        "id": "_0CLI50y_inT"
      },
      "id": "_0CLI50y_inT"
    },
    {
      "cell_type": "markdown",
      "source": [
        "# H=1 Forecasts"
      ],
      "metadata": {
        "id": "t4rGQYEW-8Gm"
      },
      "id": "t4rGQYEW-8Gm"
    },
    {
      "cell_type": "code",
      "source": [
        "RMSE = []\n",
        "Accuracy = []\n",
        "Quasilikelihood=[]"
      ],
      "metadata": {
        "id": "T0xTEIGf-_Xm"
      },
      "id": "T0xTEIGf-_Xm",
      "execution_count": 5,
      "outputs": []
    },
    {
      "cell_type": "code",
      "source": [
        "for i in range (15):\n",
        "  n_features = 2\n",
        "  n_input = 126\n",
        "  train = df.iloc[:int(len(df['Realised'])*0.7)]\n",
        "  train = train[int(len(train)*0.5):]\n",
        "  test = df.iloc[int(len(df['Realised'])*0.7)-n_input:]\n",
        "  scaler.fit(train)\n",
        "  scaled_train_input = scaler.transform(train)\n",
        "  scaled_test_input = scaler.transform(test)\n",
        "  train = df[\"Realised\"].iloc[:int(len(df['Realised'])*0.7)]\n",
        "  train = train[int(len(train)*0.5):]\n",
        "  test = df[\"Realised\"].iloc[int(len(df['Realised'])*0.7):]\n",
        "  train = train.array.reshape(-1, 1)\n",
        "  test = test.array.reshape(-1, 1)\n",
        "  scaler.fit(train)\n",
        "  scaled_train_target = scaler.transform(train)\n",
        "  scaled_test_target = scaler.transform(test)\n",
        "  generator = TimeseriesGenerator(scaled_train_input, scaled_train_target, length=n_input, batch_size=32)\n",
        "  model = Sequential()\n",
        "  model.add(LSTM(126, activation='tanh', input_shape=(n_input, n_features)))\n",
        "  model.add(Dense(1))\n",
        "  model.compile(optimizer='adam', loss='mse', metrics=[\"accuracy\", \"mean_absolute_error\"])\n",
        "  model.fit(generator,epochs=7)\n",
        "  X = df_to_X_y(n_input,test,scaled_test_input)\n",
        "  X=X.reshape(len(test), n_input, n_features)\n",
        "  y_hat=model.predict(X)\n",
        "  true_predictions = scaler.inverse_transform(y_hat)\n",
        "  RMSE.append(np.sum(np.sqrt((test-true_predictions)**2))/len(test))\n",
        "  Accuracy.append((1-np.sum(np.sqrt((test-true_predictions)**2)/test)/(len(test)))*100)\n",
        "  Quasilikelihood.append(np.sum(true_predictions/test-np.log(true_predictions/test)-1)/len(test))"
      ],
      "metadata": {
        "colab": {
          "base_uri": "https://localhost:8080/"
        },
        "id": "IqU_B_o-_CoX",
        "outputId": "5615cc18-3c32-4174-f804-ce69e8014dab"
      },
      "id": "IqU_B_o-_CoX",
      "execution_count": 6,
      "outputs": [
        {
          "output_type": "stream",
          "name": "stdout",
          "text": [
            "Epoch 1/7\n",
            "60/60 [==============================] - 8s 11ms/step - loss: 0.0043 - accuracy: 5.2083e-04 - mean_absolute_error: 0.0407\n",
            "Epoch 2/7\n",
            "60/60 [==============================] - 0s 8ms/step - loss: 0.0035 - accuracy: 5.2083e-04 - mean_absolute_error: 0.0351\n",
            "Epoch 3/7\n",
            "60/60 [==============================] - 1s 8ms/step - loss: 0.0031 - accuracy: 5.2083e-04 - mean_absolute_error: 0.0335\n",
            "Epoch 4/7\n",
            "60/60 [==============================] - 1s 8ms/step - loss: 0.0030 - accuracy: 5.2083e-04 - mean_absolute_error: 0.0329\n",
            "Epoch 5/7\n",
            "60/60 [==============================] - 1s 8ms/step - loss: 0.0029 - accuracy: 5.2083e-04 - mean_absolute_error: 0.0315\n",
            "Epoch 6/7\n",
            "60/60 [==============================] - 0s 8ms/step - loss: 0.0028 - accuracy: 5.2083e-04 - mean_absolute_error: 0.0314\n",
            "Epoch 7/7\n",
            "60/60 [==============================] - 1s 8ms/step - loss: 0.0029 - accuracy: 5.2083e-04 - mean_absolute_error: 0.0324\n",
            "55/55 [==============================] - 1s 3ms/step\n",
            "Epoch 1/7\n",
            "60/60 [==============================] - 4s 11ms/step - loss: 0.0103 - accuracy: 5.2083e-04 - mean_absolute_error: 0.0499\n",
            "Epoch 2/7\n",
            "60/60 [==============================] - 1s 8ms/step - loss: 0.0037 - accuracy: 5.2083e-04 - mean_absolute_error: 0.0370\n",
            "Epoch 3/7\n",
            "60/60 [==============================] - 0s 8ms/step - loss: 0.0035 - accuracy: 5.2083e-04 - mean_absolute_error: 0.0345\n",
            "Epoch 4/7\n",
            "60/60 [==============================] - 0s 8ms/step - loss: 0.0036 - accuracy: 5.2083e-04 - mean_absolute_error: 0.0364\n",
            "Epoch 5/7\n",
            "60/60 [==============================] - 1s 9ms/step - loss: 0.0032 - accuracy: 5.2083e-04 - mean_absolute_error: 0.0333\n",
            "Epoch 6/7\n",
            "60/60 [==============================] - 1s 8ms/step - loss: 0.0031 - accuracy: 5.2083e-04 - mean_absolute_error: 0.0336\n",
            "Epoch 7/7\n",
            "60/60 [==============================] - 0s 8ms/step - loss: 0.0030 - accuracy: 5.2083e-04 - mean_absolute_error: 0.0329\n",
            "55/55 [==============================] - 1s 3ms/step\n",
            "Epoch 1/7\n",
            "60/60 [==============================] - 3s 10ms/step - loss: 0.0038 - accuracy: 5.2083e-04 - mean_absolute_error: 0.0384\n",
            "Epoch 2/7\n",
            "60/60 [==============================] - 1s 8ms/step - loss: 0.0033 - accuracy: 5.2083e-04 - mean_absolute_error: 0.0355\n",
            "Epoch 3/7\n",
            "60/60 [==============================] - 1s 8ms/step - loss: 0.0032 - accuracy: 5.2083e-04 - mean_absolute_error: 0.0340\n",
            "Epoch 4/7\n",
            "60/60 [==============================] - 1s 9ms/step - loss: 0.0029 - accuracy: 5.2083e-04 - mean_absolute_error: 0.0319\n",
            "Epoch 5/7\n",
            "60/60 [==============================] - 1s 11ms/step - loss: 0.0028 - accuracy: 5.2083e-04 - mean_absolute_error: 0.0313\n",
            "Epoch 6/7\n",
            "60/60 [==============================] - 1s 11ms/step - loss: 0.0029 - accuracy: 5.2083e-04 - mean_absolute_error: 0.0319\n",
            "Epoch 7/7\n",
            "60/60 [==============================] - 1s 11ms/step - loss: 0.0030 - accuracy: 5.2083e-04 - mean_absolute_error: 0.0327\n",
            "55/55 [==============================] - 1s 4ms/step\n",
            "Epoch 1/7\n",
            "60/60 [==============================] - 3s 10ms/step - loss: 0.0041 - accuracy: 5.2083e-04 - mean_absolute_error: 0.0401\n",
            "Epoch 2/7\n",
            "60/60 [==============================] - 0s 8ms/step - loss: 0.0033 - accuracy: 5.2083e-04 - mean_absolute_error: 0.0346\n",
            "Epoch 3/7\n",
            "60/60 [==============================] - 1s 8ms/step - loss: 0.0033 - accuracy: 5.2083e-04 - mean_absolute_error: 0.0346\n",
            "Epoch 4/7\n",
            "60/60 [==============================] - 1s 8ms/step - loss: 0.0029 - accuracy: 5.2083e-04 - mean_absolute_error: 0.0317\n",
            "Epoch 5/7\n",
            "60/60 [==============================] - 0s 8ms/step - loss: 0.0031 - accuracy: 5.2083e-04 - mean_absolute_error: 0.0341\n",
            "Epoch 6/7\n",
            "60/60 [==============================] - 1s 9ms/step - loss: 0.0029 - accuracy: 5.2083e-04 - mean_absolute_error: 0.0320\n",
            "Epoch 7/7\n",
            "60/60 [==============================] - 1s 8ms/step - loss: 0.0029 - accuracy: 5.2083e-04 - mean_absolute_error: 0.0324\n",
            "55/55 [==============================] - 1s 3ms/step\n",
            "Epoch 1/7\n",
            "60/60 [==============================] - 4s 13ms/step - loss: 0.0039 - accuracy: 5.2083e-04 - mean_absolute_error: 0.0382\n",
            "Epoch 2/7\n",
            "60/60 [==============================] - 1s 12ms/step - loss: 0.0033 - accuracy: 5.2083e-04 - mean_absolute_error: 0.0344\n",
            "Epoch 3/7\n",
            "60/60 [==============================] - 1s 8ms/step - loss: 0.0029 - accuracy: 5.2083e-04 - mean_absolute_error: 0.0320\n",
            "Epoch 4/7\n",
            "60/60 [==============================] - 1s 8ms/step - loss: 0.0029 - accuracy: 5.2083e-04 - mean_absolute_error: 0.0323\n",
            "Epoch 5/7\n",
            "60/60 [==============================] - 1s 9ms/step - loss: 0.0028 - accuracy: 5.2083e-04 - mean_absolute_error: 0.0315\n",
            "Epoch 6/7\n",
            "60/60 [==============================] - 1s 8ms/step - loss: 0.0029 - accuracy: 5.2083e-04 - mean_absolute_error: 0.0323\n",
            "Epoch 7/7\n",
            "60/60 [==============================] - 0s 8ms/step - loss: 0.0033 - accuracy: 5.2083e-04 - mean_absolute_error: 0.0358\n",
            "55/55 [==============================] - 1s 3ms/step\n",
            "Epoch 1/7\n",
            "60/60 [==============================] - 3s 11ms/step - loss: 0.0038 - accuracy: 5.2083e-04 - mean_absolute_error: 0.0380\n",
            "Epoch 2/7\n",
            "60/60 [==============================] - 1s 8ms/step - loss: 0.0034 - accuracy: 5.2083e-04 - mean_absolute_error: 0.0349\n",
            "Epoch 3/7\n",
            "60/60 [==============================] - 0s 8ms/step - loss: 0.0031 - accuracy: 5.2083e-04 - mean_absolute_error: 0.0334\n",
            "Epoch 4/7\n",
            "60/60 [==============================] - 0s 8ms/step - loss: 0.0029 - accuracy: 5.2083e-04 - mean_absolute_error: 0.0320\n",
            "Epoch 5/7\n",
            "60/60 [==============================] - 1s 8ms/step - loss: 0.0031 - accuracy: 5.2083e-04 - mean_absolute_error: 0.0337\n",
            "Epoch 6/7\n",
            "60/60 [==============================] - 1s 8ms/step - loss: 0.0030 - accuracy: 5.2083e-04 - mean_absolute_error: 0.0330\n",
            "Epoch 7/7\n",
            "60/60 [==============================] - 0s 8ms/step - loss: 0.0029 - accuracy: 5.2083e-04 - mean_absolute_error: 0.0327\n",
            "55/55 [==============================] - 1s 4ms/step\n",
            "Epoch 1/7\n",
            "60/60 [==============================] - 3s 11ms/step - loss: 0.0042 - accuracy: 5.2083e-04 - mean_absolute_error: 0.0407\n",
            "Epoch 2/7\n",
            "60/60 [==============================] - 1s 8ms/step - loss: 0.0035 - accuracy: 5.2083e-04 - mean_absolute_error: 0.0370\n",
            "Epoch 3/7\n",
            "60/60 [==============================] - 0s 8ms/step - loss: 0.0030 - accuracy: 5.2083e-04 - mean_absolute_error: 0.0321\n",
            "Epoch 4/7\n",
            "60/60 [==============================] - 1s 8ms/step - loss: 0.0029 - accuracy: 5.2083e-04 - mean_absolute_error: 0.0320\n",
            "Epoch 5/7\n",
            "60/60 [==============================] - 1s 9ms/step - loss: 0.0029 - accuracy: 5.2083e-04 - mean_absolute_error: 0.0315\n",
            "Epoch 6/7\n",
            "60/60 [==============================] - 1s 8ms/step - loss: 0.0028 - accuracy: 5.2083e-04 - mean_absolute_error: 0.0318\n",
            "Epoch 7/7\n",
            "60/60 [==============================] - 0s 8ms/step - loss: 0.0028 - accuracy: 5.2083e-04 - mean_absolute_error: 0.0312\n",
            "55/55 [==============================] - 1s 3ms/step\n",
            "Epoch 1/7\n",
            "60/60 [==============================] - 3s 11ms/step - loss: 0.0038 - accuracy: 5.2083e-04 - mean_absolute_error: 0.0369\n",
            "Epoch 2/7\n",
            "60/60 [==============================] - 1s 12ms/step - loss: 0.0034 - accuracy: 5.2083e-04 - mean_absolute_error: 0.0349\n",
            "Epoch 3/7\n",
            "60/60 [==============================] - 1s 12ms/step - loss: 0.0032 - accuracy: 5.2083e-04 - mean_absolute_error: 0.0336\n",
            "Epoch 4/7\n",
            "60/60 [==============================] - 1s 10ms/step - loss: 0.0029 - accuracy: 5.2083e-04 - mean_absolute_error: 0.0317\n",
            "Epoch 5/7\n",
            "60/60 [==============================] - 1s 8ms/step - loss: 0.0029 - accuracy: 5.2083e-04 - mean_absolute_error: 0.0320\n",
            "Epoch 6/7\n",
            "60/60 [==============================] - 1s 8ms/step - loss: 0.0029 - accuracy: 5.2083e-04 - mean_absolute_error: 0.0321\n",
            "Epoch 7/7\n",
            "60/60 [==============================] - 1s 8ms/step - loss: 0.0028 - accuracy: 5.2083e-04 - mean_absolute_error: 0.0313\n",
            "55/55 [==============================] - 1s 3ms/step\n",
            "Epoch 1/7\n",
            "60/60 [==============================] - 3s 11ms/step - loss: 0.0035 - accuracy: 5.2083e-04 - mean_absolute_error: 0.0367\n",
            "Epoch 2/7\n",
            "60/60 [==============================] - 1s 9ms/step - loss: 0.0035 - accuracy: 5.2083e-04 - mean_absolute_error: 0.0345\n",
            "Epoch 3/7\n",
            "60/60 [==============================] - 0s 8ms/step - loss: 0.0031 - accuracy: 5.2083e-04 - mean_absolute_error: 0.0333\n",
            "Epoch 4/7\n",
            "60/60 [==============================] - 1s 8ms/step - loss: 0.0029 - accuracy: 5.2083e-04 - mean_absolute_error: 0.0315\n",
            "Epoch 5/7\n",
            "60/60 [==============================] - 1s 8ms/step - loss: 0.0028 - accuracy: 5.2083e-04 - mean_absolute_error: 0.0318\n",
            "Epoch 6/7\n",
            "60/60 [==============================] - 1s 8ms/step - loss: 0.0029 - accuracy: 5.2083e-04 - mean_absolute_error: 0.0324\n",
            "Epoch 7/7\n",
            "60/60 [==============================] - 1s 9ms/step - loss: 0.0028 - accuracy: 5.2083e-04 - mean_absolute_error: 0.0309\n",
            "55/55 [==============================] - 1s 5ms/step\n",
            "Epoch 1/7\n",
            "60/60 [==============================] - 3s 11ms/step - loss: 0.0036 - accuracy: 5.2083e-04 - mean_absolute_error: 0.0356\n",
            "Epoch 2/7\n",
            "60/60 [==============================] - 1s 8ms/step - loss: 0.0032 - accuracy: 5.2083e-04 - mean_absolute_error: 0.0341\n",
            "Epoch 3/7\n",
            "60/60 [==============================] - 1s 8ms/step - loss: 0.0031 - accuracy: 5.2083e-04 - mean_absolute_error: 0.0335\n",
            "Epoch 4/7\n",
            "60/60 [==============================] - 1s 9ms/step - loss: 0.0031 - accuracy: 5.2083e-04 - mean_absolute_error: 0.0343\n",
            "Epoch 5/7\n",
            "60/60 [==============================] - 0s 8ms/step - loss: 0.0029 - accuracy: 5.2083e-04 - mean_absolute_error: 0.0327\n",
            "Epoch 6/7\n",
            "60/60 [==============================] - 1s 8ms/step - loss: 0.0028 - accuracy: 5.2083e-04 - mean_absolute_error: 0.0312\n",
            "Epoch 7/7\n",
            "60/60 [==============================] - 0s 8ms/step - loss: 0.0029 - accuracy: 5.2083e-04 - mean_absolute_error: 0.0316\n",
            "55/55 [==============================] - 1s 3ms/step\n",
            "Epoch 1/7\n",
            "60/60 [==============================] - 3s 11ms/step - loss: 0.0041 - accuracy: 5.2083e-04 - mean_absolute_error: 0.0395\n",
            "Epoch 2/7\n",
            "60/60 [==============================] - 1s 10ms/step - loss: 0.0030 - accuracy: 5.2083e-04 - mean_absolute_error: 0.0335\n",
            "Epoch 3/7\n",
            "60/60 [==============================] - 1s 11ms/step - loss: 0.0030 - accuracy: 5.2083e-04 - mean_absolute_error: 0.0329\n",
            "Epoch 4/7\n",
            "60/60 [==============================] - 1s 11ms/step - loss: 0.0030 - accuracy: 5.2083e-04 - mean_absolute_error: 0.0320\n",
            "Epoch 5/7\n",
            "60/60 [==============================] - 0s 8ms/step - loss: 0.0029 - accuracy: 5.2083e-04 - mean_absolute_error: 0.0323\n",
            "Epoch 6/7\n",
            "60/60 [==============================] - 1s 8ms/step - loss: 0.0031 - accuracy: 5.2083e-04 - mean_absolute_error: 0.0341\n",
            "Epoch 7/7\n",
            "60/60 [==============================] - 1s 9ms/step - loss: 0.0028 - accuracy: 5.2083e-04 - mean_absolute_error: 0.0316\n",
            "55/55 [==============================] - 1s 3ms/step\n",
            "Epoch 1/7\n",
            "60/60 [==============================] - 3s 11ms/step - loss: 0.0040 - accuracy: 5.2083e-04 - mean_absolute_error: 0.0374\n",
            "Epoch 2/7\n",
            "60/60 [==============================] - 1s 8ms/step - loss: 0.0035 - accuracy: 5.2083e-04 - mean_absolute_error: 0.0346\n",
            "Epoch 3/7\n",
            "60/60 [==============================] - 1s 9ms/step - loss: 0.0030 - accuracy: 5.2083e-04 - mean_absolute_error: 0.0337\n",
            "Epoch 4/7\n",
            "60/60 [==============================] - 1s 8ms/step - loss: 0.0030 - accuracy: 5.2083e-04 - mean_absolute_error: 0.0324\n",
            "Epoch 5/7\n",
            "60/60 [==============================] - 1s 8ms/step - loss: 0.0028 - accuracy: 5.2083e-04 - mean_absolute_error: 0.0318\n",
            "Epoch 6/7\n",
            "60/60 [==============================] - 0s 8ms/step - loss: 0.0029 - accuracy: 5.2083e-04 - mean_absolute_error: 0.0321\n",
            "Epoch 7/7\n",
            "60/60 [==============================] - 1s 9ms/step - loss: 0.0028 - accuracy: 5.2083e-04 - mean_absolute_error: 0.0317\n",
            "55/55 [==============================] - 1s 4ms/step\n",
            "Epoch 1/7\n",
            "60/60 [==============================] - 3s 11ms/step - loss: 0.0048 - accuracy: 5.2083e-04 - mean_absolute_error: 0.0415\n",
            "Epoch 2/7\n",
            "60/60 [==============================] - 0s 8ms/step - loss: 0.0034 - accuracy: 5.2083e-04 - mean_absolute_error: 0.0359\n",
            "Epoch 3/7\n",
            "60/60 [==============================] - 1s 8ms/step - loss: 0.0033 - accuracy: 5.2083e-04 - mean_absolute_error: 0.0339\n",
            "Epoch 4/7\n",
            "60/60 [==============================] - 1s 9ms/step - loss: 0.0032 - accuracy: 5.2083e-04 - mean_absolute_error: 0.0333\n",
            "Epoch 5/7\n",
            "60/60 [==============================] - 1s 8ms/step - loss: 0.0031 - accuracy: 5.2083e-04 - mean_absolute_error: 0.0335\n",
            "Epoch 6/7\n",
            "60/60 [==============================] - 1s 8ms/step - loss: 0.0030 - accuracy: 5.2083e-04 - mean_absolute_error: 0.0326\n",
            "Epoch 7/7\n",
            "60/60 [==============================] - 1s 8ms/step - loss: 0.0029 - accuracy: 5.2083e-04 - mean_absolute_error: 0.0321\n",
            "55/55 [==============================] - 0s 3ms/step\n",
            "Epoch 1/7\n",
            "60/60 [==============================] - 3s 11ms/step - loss: 0.0041 - accuracy: 5.2083e-04 - mean_absolute_error: 0.0390\n",
            "Epoch 2/7\n",
            "60/60 [==============================] - 1s 8ms/step - loss: 0.0035 - accuracy: 5.2083e-04 - mean_absolute_error: 0.0356\n",
            "Epoch 3/7\n",
            "60/60 [==============================] - 1s 10ms/step - loss: 0.0033 - accuracy: 5.2083e-04 - mean_absolute_error: 0.0348\n",
            "Epoch 4/7\n",
            "60/60 [==============================] - 1s 11ms/step - loss: 0.0031 - accuracy: 5.2083e-04 - mean_absolute_error: 0.0336\n",
            "Epoch 5/7\n",
            "60/60 [==============================] - 1s 9ms/step - loss: 0.0028 - accuracy: 5.2083e-04 - mean_absolute_error: 0.0315\n",
            "Epoch 6/7\n",
            "60/60 [==============================] - 1s 8ms/step - loss: 0.0028 - accuracy: 5.2083e-04 - mean_absolute_error: 0.0313\n",
            "Epoch 7/7\n",
            "60/60 [==============================] - 1s 9ms/step - loss: 0.0028 - accuracy: 5.2083e-04 - mean_absolute_error: 0.0315\n",
            "55/55 [==============================] - 0s 3ms/step\n",
            "Epoch 1/7\n",
            "60/60 [==============================] - 3s 11ms/step - loss: 0.0038 - accuracy: 5.2083e-04 - mean_absolute_error: 0.0384\n",
            "Epoch 2/7\n",
            "60/60 [==============================] - 0s 8ms/step - loss: 0.0033 - accuracy: 5.2083e-04 - mean_absolute_error: 0.0348\n",
            "Epoch 3/7\n",
            "60/60 [==============================] - 1s 9ms/step - loss: 0.0030 - accuracy: 5.2083e-04 - mean_absolute_error: 0.0330\n",
            "Epoch 4/7\n",
            "60/60 [==============================] - 1s 8ms/step - loss: 0.0030 - accuracy: 5.2083e-04 - mean_absolute_error: 0.0327\n",
            "Epoch 5/7\n",
            "60/60 [==============================] - 1s 9ms/step - loss: 0.0030 - accuracy: 5.2083e-04 - mean_absolute_error: 0.0325\n",
            "Epoch 6/7\n",
            "60/60 [==============================] - 1s 8ms/step - loss: 0.0028 - accuracy: 5.2083e-04 - mean_absolute_error: 0.0316\n",
            "Epoch 7/7\n",
            "60/60 [==============================] - 1s 9ms/step - loss: 0.0027 - accuracy: 5.2083e-04 - mean_absolute_error: 0.0308\n",
            "55/55 [==============================] - 1s 4ms/step\n"
          ]
        }
      ]
    },
    {
      "cell_type": "code",
      "source": [
        "Accuracy"
      ],
      "metadata": {
        "colab": {
          "base_uri": "https://localhost:8080/"
        },
        "id": "aXp4_OJk_Hbz",
        "outputId": "aa388c13-244c-4d87-a82f-4eb57bccdc5a"
      },
      "id": "aXp4_OJk_Hbz",
      "execution_count": 7,
      "outputs": [
        {
          "output_type": "execute_result",
          "data": {
            "text/plain": [
              "[65.3045086171102,\n",
              " 50.29601147773135,\n",
              " 64.49022145393099,\n",
              " 57.45472275622958,\n",
              " 66.286758020297,\n",
              " 60.71958225236285,\n",
              " 57.85114744866511,\n",
              " 67.4383483270467,\n",
              " 58.48371664377731,\n",
              " 52.132227696351976,\n",
              " 56.44899007668042,\n",
              " 68.72487174180525,\n",
              " 64.94437354192763,\n",
              " 59.400441563782294,\n",
              " 59.88053635801529]"
            ]
          },
          "metadata": {},
          "execution_count": 7
        }
      ]
    },
    {
      "cell_type": "code",
      "source": [
        "RMSE"
      ],
      "metadata": {
        "colab": {
          "base_uri": "https://localhost:8080/"
        },
        "id": "Ds8bf16Z_HTE",
        "outputId": "f72880e0-152c-4717-d153-86facecb0323"
      },
      "id": "Ds8bf16Z_HTE",
      "execution_count": 8,
      "outputs": [
        {
          "output_type": "execute_result",
          "data": {
            "text/plain": [
              "[0.0025113863638433196,\n",
              " 0.00304895329270125,\n",
              " 0.0025463309626268973,\n",
              " 0.0026533950739640335,\n",
              " 0.0025030527109417503,\n",
              " 0.0025759476861687983,\n",
              " 0.0026382784236754094,\n",
              " 0.002483399065818907,\n",
              " 0.002623063010991824,\n",
              " 0.0027942613547583682,\n",
              " 0.002762420885215936,\n",
              " 0.002496077378565224,\n",
              " 0.0025610494371617575,\n",
              " 0.002659941913804607,\n",
              " 0.002581996628423821]"
            ]
          },
          "metadata": {},
          "execution_count": 8
        }
      ]
    },
    {
      "cell_type": "code",
      "source": [
        "Quasilikelihood"
      ],
      "metadata": {
        "colab": {
          "base_uri": "https://localhost:8080/"
        },
        "id": "-Oe6U2LP_HIO",
        "outputId": "fdd62b9a-9853-4f2a-be8f-fc674f19149c"
      },
      "id": "-Oe6U2LP_HIO",
      "execution_count": 9,
      "outputs": [
        {
          "output_type": "execute_result",
          "data": {
            "text/plain": [
              "[0.08844886975807226,\n",
              " 0.14185338665703812,\n",
              " 0.08957946577482767,\n",
              " 0.11355073532840285,\n",
              " 0.08468584769185454,\n",
              " 0.1011594775658357,\n",
              " 0.11148901069774074,\n",
              " 0.08168049702847431,\n",
              " 0.10868489939351574,\n",
              " 0.133633356317689,\n",
              " 0.11543304622485161,\n",
              " 0.07995908806529436,\n",
              " 0.08938003647445701,\n",
              " 0.10521168398654679,\n",
              " 0.10398559749935643]"
            ]
          },
          "metadata": {},
          "execution_count": 9
        }
      ]
    },
    {
      "cell_type": "code",
      "source": [
        "df_for_date=df[int(len(df['Realised'])*0.7):].reset_index()"
      ],
      "metadata": {
        "id": "g5aTwSbY_L11"
      },
      "id": "g5aTwSbY_L11",
      "execution_count": 10,
      "outputs": []
    },
    {
      "cell_type": "code",
      "source": [
        "# Best model\n",
        "plt.plot(df_for_date[\"Date\"], test)\n",
        "plt.plot(df_for_date[\"Date\"], true_predictions) \n",
        "plt.ylabel(\"DJIA Realized Volatility\")\n",
        "plt.legend(['Actuals', 'Forecasts'])"
      ],
      "metadata": {
        "colab": {
          "base_uri": "https://localhost:8080/",
          "height": 448
        },
        "id": "8bBixTGA_Lpz",
        "outputId": "8565c135-d284-4433-e81d-5a5b29e78f62"
      },
      "id": "8bBixTGA_Lpz",
      "execution_count": 11,
      "outputs": [
        {
          "output_type": "execute_result",
          "data": {
            "text/plain": [
              "<matplotlib.legend.Legend at 0x7f0fa41e1900>"
            ]
          },
          "metadata": {},
          "execution_count": 11
        },
        {
          "output_type": "display_data",
          "data": {
            "text/plain": [
              "<Figure size 640x480 with 1 Axes>"
            ],
            "image/png": "[encoded data removed]"
          },
          "metadata": {}
        }
      ]
    },
    {
      "cell_type": "code",
      "source": [],
      "metadata": {
        "id": "nhg8J8tCAQ5t"
      },
      "id": "nhg8J8tCAQ5t",
      "execution_count": null,
      "outputs": []
    },
    {
      "cell_type": "markdown",
      "source": [
        "# H=3 Forecasts"
      ],
      "metadata": {
        "id": "_VIpjjfcMWN4"
      },
      "id": "_VIpjjfcMWN4"
    },
    {
      "cell_type": "code",
      "source": [
        "RMSE = []\n",
        "Accuracy = []\n",
        "Quasilikelihood=[]"
      ],
      "metadata": {
        "id": "GFnrU5zCMXPG"
      },
      "id": "GFnrU5zCMXPG",
      "execution_count": 12,
      "outputs": []
    },
    {
      "cell_type": "code",
      "source": [
        "def df_to_X_y(window_size,test,scaled_test_input):\n",
        "  X=[]\n",
        "  y=[]\n",
        "  for i in range(int(len(test)/3)):\n",
        "    row = [[a] for a in scaled_test_input[i*3:(i*3)+window_size]]\n",
        "    X.append(row)\n",
        "  return np.array(X)"
      ],
      "metadata": {
        "id": "NE_vRzDDOJRX"
      },
      "id": "NE_vRzDDOJRX",
      "execution_count": 13,
      "outputs": []
    },
    {
      "cell_type": "code",
      "source": [
        "for i in range (15):\n",
        "  n_features = 2\n",
        "  n_input = 126\n",
        "  train = df.iloc[:int(len(df['Realised'])*0.7)]\n",
        "  train = train[int(len(train)*0.5):]\n",
        "  test = df.iloc[int(len(df['Realised'])*0.7)-n_input:]\n",
        "  scaler.fit(train)\n",
        "  scaled_train_input = scaler.transform(train)\n",
        "  scaled_test_input = scaler.transform(test)\n",
        "  train = df[\"Realised\"].iloc[:int(len(df['Realised'])*0.7)]\n",
        "  train = train[int(len(train)*0.5):]\n",
        "  test = df[\"Realised\"].iloc[int(len(df['Realised'])*0.7):]\n",
        "  train = train.array.reshape(-1, 1)\n",
        "  test = test.array.reshape(-1, 1)\n",
        "  scaler.fit(train)\n",
        "  scaled_train_target = scaler.transform(train)\n",
        "  scaled_test_target = scaler.transform(test)\n",
        "  generator = TimeseriesGenerator(scaled_train_input, scaled_train_target, length=n_input, batch_size=32)\n",
        "  model = Sequential()\n",
        "  model.add(LSTM(126, activation='tanh', input_shape=(n_input, n_features)))\n",
        "  model.add(Dense(3))\n",
        "  model.compile(optimizer='adam', loss='mse', metrics=[\"accuracy\", \"mean_absolute_error\"])\n",
        "  model.fit(generator,epochs=7)\n",
        "  X = df_to_X_y(n_input,test,scaled_test_input)\n",
        "  X=X.reshape(int(((len(test)/3))), n_input, n_features)\n",
        "  y_hat=model.predict(X)\n",
        "  y_hat=y_hat.reshape(len(test),1)\n",
        "  true_predictions = scaler.inverse_transform(y_hat)\n",
        "  RMSE.append(np.sum(np.sqrt((test-true_predictions)**2))/len(test))\n",
        "  Accuracy.append((1-np.sum(np.sqrt((test-true_predictions)**2)/test)/(len(test)))*100)\n",
        "  Quasilikelihood.append(np.sum(true_predictions/test-np.log(true_predictions/test)-1)/len(test))"
      ],
      "metadata": {
        "id": "jIkWu6GWMc80",
        "colab": {
          "base_uri": "https://localhost:8080/"
        },
        "outputId": "d5e29665-a186-4766-d442-dfe8637062be"
      },
      "id": "jIkWu6GWMc80",
      "execution_count": 14,
      "outputs": [
        {
          "output_type": "stream",
          "name": "stdout",
          "text": [
            "Epoch 1/7\n",
            "60/60 [==============================] - 3s 10ms/step - loss: 0.0057 - accuracy: 0.4068 - mean_absolute_error: 0.0400\n",
            "Epoch 2/7\n",
            "60/60 [==============================] - 0s 8ms/step - loss: 0.0034 - accuracy: 0.3745 - mean_absolute_error: 0.0347\n",
            "Epoch 3/7\n",
            "60/60 [==============================] - 1s 8ms/step - loss: 0.0033 - accuracy: 0.3484 - mean_absolute_error: 0.0348\n",
            "Epoch 4/7\n",
            "60/60 [==============================] - 0s 8ms/step - loss: 0.0034 - accuracy: 0.2375 - mean_absolute_error: 0.0354\n",
            "Epoch 5/7\n",
            "60/60 [==============================] - 0s 8ms/step - loss: 0.0032 - accuracy: 0.3146 - mean_absolute_error: 0.0338\n",
            "Epoch 6/7\n",
            "60/60 [==============================] - 1s 9ms/step - loss: 0.0030 - accuracy: 0.2682 - mean_absolute_error: 0.0323\n",
            "Epoch 7/7\n",
            "60/60 [==============================] - 0s 8ms/step - loss: 0.0031 - accuracy: 0.2599 - mean_absolute_error: 0.0327\n",
            "19/19 [==============================] - 0s 4ms/step\n",
            "Epoch 1/7\n",
            "60/60 [==============================] - 3s 11ms/step - loss: 0.0040 - accuracy: 0.2339 - mean_absolute_error: 0.0384\n",
            "Epoch 2/7\n",
            "60/60 [==============================] - 1s 9ms/step - loss: 0.0033 - accuracy: 0.2516 - mean_absolute_error: 0.0341\n",
            "Epoch 3/7\n",
            "60/60 [==============================] - 1s 11ms/step - loss: 0.0034 - accuracy: 0.2302 - mean_absolute_error: 0.0350\n",
            "Epoch 4/7\n",
            "60/60 [==============================] - 1s 11ms/step - loss: 0.0029 - accuracy: 0.3432 - mean_absolute_error: 0.0325\n",
            "Epoch 5/7\n",
            "60/60 [==============================] - 1s 9ms/step - loss: 0.0031 - accuracy: 0.3286 - mean_absolute_error: 0.0335\n",
            "Epoch 6/7\n",
            "60/60 [==============================] - 1s 8ms/step - loss: 0.0030 - accuracy: 0.4021 - mean_absolute_error: 0.0326\n",
            "Epoch 7/7\n",
            "60/60 [==============================] - 1s 8ms/step - loss: 0.0030 - accuracy: 0.3219 - mean_absolute_error: 0.0328\n",
            "19/19 [==============================] - 0s 3ms/step\n",
            "Epoch 1/7\n",
            "60/60 [==============================] - 3s 11ms/step - loss: 0.0041 - accuracy: 0.2562 - mean_absolute_error: 0.0383\n",
            "Epoch 2/7\n",
            "60/60 [==============================] - 1s 8ms/step - loss: 0.0037 - accuracy: 0.1391 - mean_absolute_error: 0.0373\n",
            "Epoch 3/7\n",
            "60/60 [==============================] - 0s 8ms/step - loss: 0.0032 - accuracy: 0.2417 - mean_absolute_error: 0.0340\n",
            "Epoch 4/7\n",
            "60/60 [==============================] - 1s 8ms/step - loss: 0.0031 - accuracy: 0.1760 - mean_absolute_error: 0.0328\n",
            "Epoch 5/7\n",
            "60/60 [==============================] - 0s 8ms/step - loss: 0.0030 - accuracy: 0.1693 - mean_absolute_error: 0.0326\n",
            "Epoch 6/7\n",
            "60/60 [==============================] - 1s 8ms/step - loss: 0.0029 - accuracy: 0.2333 - mean_absolute_error: 0.0321\n",
            "Epoch 7/7\n",
            "60/60 [==============================] - 1s 8ms/step - loss: 0.0029 - accuracy: 0.2693 - mean_absolute_error: 0.0321\n",
            "19/19 [==============================] - 0s 3ms/step\n",
            "Epoch 1/7\n",
            "60/60 [==============================] - 4s 10ms/step - loss: 0.0042 - accuracy: 0.4651 - mean_absolute_error: 0.0401\n",
            "Epoch 2/7\n",
            "60/60 [==============================] - 1s 8ms/step - loss: 0.0035 - accuracy: 0.4193 - mean_absolute_error: 0.0350\n",
            "Epoch 3/7\n",
            "60/60 [==============================] - 1s 9ms/step - loss: 0.0032 - accuracy: 0.3891 - mean_absolute_error: 0.0343\n",
            "Epoch 4/7\n",
            "60/60 [==============================] - 0s 8ms/step - loss: 0.0033 - accuracy: 0.3521 - mean_absolute_error: 0.0345\n",
            "Epoch 5/7\n",
            "60/60 [==============================] - 1s 8ms/step - loss: 0.0032 - accuracy: 0.5276 - mean_absolute_error: 0.0339\n",
            "Epoch 6/7\n",
            "60/60 [==============================] - 1s 8ms/step - loss: 0.0029 - accuracy: 0.4391 - mean_absolute_error: 0.0326\n",
            "Epoch 7/7\n",
            "60/60 [==============================] - 1s 8ms/step - loss: 0.0029 - accuracy: 0.4229 - mean_absolute_error: 0.0319\n",
            "19/19 [==============================] - 0s 4ms/step\n",
            "Epoch 1/7\n",
            "60/60 [==============================] - 3s 10ms/step - loss: 0.0042 - accuracy: 0.2708 - mean_absolute_error: 0.0395\n",
            "Epoch 2/7\n",
            "60/60 [==============================] - 1s 8ms/step - loss: 0.0033 - accuracy: 0.2844 - mean_absolute_error: 0.0345\n",
            "Epoch 3/7\n",
            "60/60 [==============================] - 0s 8ms/step - loss: 0.0033 - accuracy: 0.4552 - mean_absolute_error: 0.0355\n",
            "Epoch 4/7\n",
            "60/60 [==============================] - 1s 8ms/step - loss: 0.0030 - accuracy: 0.5078 - mean_absolute_error: 0.0329\n",
            "Epoch 5/7\n",
            "60/60 [==============================] - 1s 9ms/step - loss: 0.0031 - accuracy: 0.3260 - mean_absolute_error: 0.0329\n",
            "Epoch 6/7\n",
            "60/60 [==============================] - 1s 11ms/step - loss: 0.0030 - accuracy: 0.4594 - mean_absolute_error: 0.0326\n",
            "Epoch 7/7\n",
            "60/60 [==============================] - 1s 11ms/step - loss: 0.0029 - accuracy: 0.3536 - mean_absolute_error: 0.0317\n",
            "19/19 [==============================] - 0s 5ms/step\n",
            "Epoch 1/7\n",
            "60/60 [==============================] - 3s 11ms/step - loss: 0.0039 - accuracy: 0.4880 - mean_absolute_error: 0.0384\n",
            "Epoch 2/7\n",
            "60/60 [==============================] - 1s 8ms/step - loss: 0.0033 - accuracy: 0.5906 - mean_absolute_error: 0.0349\n",
            "Epoch 3/7\n",
            "60/60 [==============================] - 1s 8ms/step - loss: 0.0035 - accuracy: 0.4781 - mean_absolute_error: 0.0353\n",
            "Epoch 4/7\n",
            "60/60 [==============================] - 1s 9ms/step - loss: 0.0031 - accuracy: 0.4151 - mean_absolute_error: 0.0328\n",
            "Epoch 5/7\n",
            "60/60 [==============================] - 0s 8ms/step - loss: 0.0031 - accuracy: 0.4344 - mean_absolute_error: 0.0328\n",
            "Epoch 6/7\n",
            "60/60 [==============================] - 1s 8ms/step - loss: 0.0029 - accuracy: 0.3417 - mean_absolute_error: 0.0324\n",
            "Epoch 7/7\n",
            "60/60 [==============================] - 0s 8ms/step - loss: 0.0030 - accuracy: 0.4661 - mean_absolute_error: 0.0331\n",
            "19/19 [==============================] - 0s 3ms/step\n",
            "Epoch 1/7\n",
            "60/60 [==============================] - 3s 13ms/step - loss: 0.0043 - accuracy: 0.3823 - mean_absolute_error: 0.0394\n",
            "Epoch 2/7\n",
            "60/60 [==============================] - 1s 8ms/step - loss: 0.0033 - accuracy: 0.4021 - mean_absolute_error: 0.0338\n",
            "Epoch 3/7\n",
            "60/60 [==============================] - 0s 8ms/step - loss: 0.0032 - accuracy: 0.4635 - mean_absolute_error: 0.0344\n",
            "Epoch 4/7\n",
            "60/60 [==============================] - 1s 8ms/step - loss: 0.0037 - accuracy: 0.3911 - mean_absolute_error: 0.0371\n",
            "Epoch 5/7\n",
            "60/60 [==============================] - 1s 8ms/step - loss: 0.0031 - accuracy: 0.2958 - mean_absolute_error: 0.0333\n",
            "Epoch 6/7\n",
            "60/60 [==============================] - 0s 8ms/step - loss: 0.0029 - accuracy: 0.2849 - mean_absolute_error: 0.0323\n",
            "Epoch 7/7\n",
            "60/60 [==============================] - 1s 8ms/step - loss: 0.0029 - accuracy: 0.1604 - mean_absolute_error: 0.0324\n",
            "19/19 [==============================] - 0s 4ms/step\n",
            "Epoch 1/7\n",
            "60/60 [==============================] - 3s 11ms/step - loss: 0.0044 - accuracy: 0.3589 - mean_absolute_error: 0.0381\n",
            "Epoch 2/7\n",
            "60/60 [==============================] - 1s 8ms/step - loss: 0.0033 - accuracy: 0.3104 - mean_absolute_error: 0.0337\n",
            "Epoch 3/7\n",
            "60/60 [==============================] - 1s 8ms/step - loss: 0.0031 - accuracy: 0.2750 - mean_absolute_error: 0.0331\n",
            "Epoch 4/7\n",
            "60/60 [==============================] - 0s 8ms/step - loss: 0.0032 - accuracy: 0.2542 - mean_absolute_error: 0.0340\n",
            "Epoch 5/7\n",
            "60/60 [==============================] - 1s 8ms/step - loss: 0.0034 - accuracy: 0.2052 - mean_absolute_error: 0.0364\n",
            "Epoch 6/7\n",
            "60/60 [==============================] - 1s 10ms/step - loss: 0.0030 - accuracy: 0.1490 - mean_absolute_error: 0.0327\n",
            "Epoch 7/7\n",
            "60/60 [==============================] - 1s 12ms/step - loss: 0.0029 - accuracy: 0.2865 - mean_absolute_error: 0.0322\n",
            "19/19 [==============================] - 1s 5ms/step\n",
            "Epoch 1/7\n",
            "60/60 [==============================] - 3s 10ms/step - loss: 0.0046 - accuracy: 0.2385 - mean_absolute_error: 0.0410\n",
            "Epoch 2/7\n",
            "60/60 [==============================] - 1s 9ms/step - loss: 0.0036 - accuracy: 0.2703 - mean_absolute_error: 0.0363\n",
            "Epoch 3/7\n",
            "60/60 [==============================] - 1s 8ms/step - loss: 0.0034 - accuracy: 0.3234 - mean_absolute_error: 0.0351\n",
            "Epoch 4/7\n",
            "60/60 [==============================] - 1s 9ms/step - loss: 0.0033 - accuracy: 0.3417 - mean_absolute_error: 0.0344\n",
            "Epoch 5/7\n",
            "60/60 [==============================] - 0s 8ms/step - loss: 0.0031 - accuracy: 0.3740 - mean_absolute_error: 0.0330\n",
            "Epoch 6/7\n",
            "60/60 [==============================] - 1s 8ms/step - loss: 0.0032 - accuracy: 0.3948 - mean_absolute_error: 0.0339\n",
            "Epoch 7/7\n",
            "60/60 [==============================] - 1s 8ms/step - loss: 0.0031 - accuracy: 0.2750 - mean_absolute_error: 0.0328\n",
            "19/19 [==============================] - 0s 3ms/step\n",
            "Epoch 1/7\n",
            "60/60 [==============================] - 3s 12ms/step - loss: 0.0039 - accuracy: 0.3969 - mean_absolute_error: 0.0374\n",
            "Epoch 2/7\n",
            "60/60 [==============================] - 1s 11ms/step - loss: 0.0031 - accuracy: 0.2057 - mean_absolute_error: 0.0336\n",
            "Epoch 3/7\n",
            "60/60 [==============================] - 1s 12ms/step - loss: 0.0030 - accuracy: 0.2906 - mean_absolute_error: 0.0326\n",
            "Epoch 4/7\n",
            "60/60 [==============================] - 1s 9ms/step - loss: 0.0031 - accuracy: 0.3344 - mean_absolute_error: 0.0332\n",
            "Epoch 5/7\n",
            "60/60 [==============================] - 0s 8ms/step - loss: 0.0031 - accuracy: 0.4786 - mean_absolute_error: 0.0332\n",
            "Epoch 6/7\n",
            "60/60 [==============================] - 1s 9ms/step - loss: 0.0030 - accuracy: 0.4354 - mean_absolute_error: 0.0332\n",
            "Epoch 7/7\n",
            "60/60 [==============================] - 1s 9ms/step - loss: 0.0028 - accuracy: 0.1797 - mean_absolute_error: 0.0316\n",
            "19/19 [==============================] - 0s 3ms/step\n",
            "Epoch 1/7\n",
            "60/60 [==============================] - 3s 11ms/step - loss: 0.0046 - accuracy: 0.3974 - mean_absolute_error: 0.0410\n",
            "Epoch 2/7\n",
            "60/60 [==============================] - 1s 9ms/step - loss: 0.0035 - accuracy: 0.3604 - mean_absolute_error: 0.0352\n",
            "Epoch 3/7\n",
            "60/60 [==============================] - 1s 8ms/step - loss: 0.0035 - accuracy: 0.4073 - mean_absolute_error: 0.0361\n",
            "Epoch 4/7\n",
            "60/60 [==============================] - 1s 9ms/step - loss: 0.0033 - accuracy: 0.4766 - mean_absolute_error: 0.0342\n",
            "Epoch 5/7\n",
            "60/60 [==============================] - 1s 9ms/step - loss: 0.0030 - accuracy: 0.4552 - mean_absolute_error: 0.0325\n",
            "Epoch 6/7\n",
            "60/60 [==============================] - 1s 9ms/step - loss: 0.0029 - accuracy: 0.2875 - mean_absolute_error: 0.0321\n",
            "Epoch 7/7\n",
            "60/60 [==============================] - 0s 8ms/step - loss: 0.0030 - accuracy: 0.2318 - mean_absolute_error: 0.0330\n",
            "19/19 [==============================] - 0s 4ms/step\n",
            "Epoch 1/7\n",
            "60/60 [==============================] - 3s 11ms/step - loss: 0.0045 - accuracy: 0.4167 - mean_absolute_error: 0.0397\n",
            "Epoch 2/7\n",
            "60/60 [==============================] - 1s 9ms/step - loss: 0.0035 - accuracy: 0.2682 - mean_absolute_error: 0.0359\n",
            "Epoch 3/7\n",
            "60/60 [==============================] - 1s 9ms/step - loss: 0.0035 - accuracy: 0.1250 - mean_absolute_error: 0.0357\n",
            "Epoch 4/7\n",
            "60/60 [==============================] - 1s 8ms/step - loss: 0.0033 - accuracy: 0.2484 - mean_absolute_error: 0.0342\n",
            "Epoch 5/7\n",
            "60/60 [==============================] - 1s 9ms/step - loss: 0.0031 - accuracy: 0.1729 - mean_absolute_error: 0.0332\n",
            "Epoch 6/7\n",
            "60/60 [==============================] - 1s 9ms/step - loss: 0.0030 - accuracy: 0.1401 - mean_absolute_error: 0.0324\n",
            "Epoch 7/7\n",
            "60/60 [==============================] - 1s 8ms/step - loss: 0.0030 - accuracy: 0.1505 - mean_absolute_error: 0.0325\n",
            "19/19 [==============================] - 0s 4ms/step\n",
            "Epoch 1/7\n",
            "60/60 [==============================] - 3s 11ms/step - loss: 0.0045 - accuracy: 0.3609 - mean_absolute_error: 0.0390\n",
            "Epoch 2/7\n",
            "60/60 [==============================] - 1s 9ms/step - loss: 0.0035 - accuracy: 0.4818 - mean_absolute_error: 0.0362\n",
            "Epoch 3/7\n",
            "60/60 [==============================] - 1s 9ms/step - loss: 0.0031 - accuracy: 0.4469 - mean_absolute_error: 0.0330\n",
            "Epoch 4/7\n",
            "60/60 [==============================] - 1s 8ms/step - loss: 0.0034 - accuracy: 0.4516 - mean_absolute_error: 0.0354\n",
            "Epoch 5/7\n",
            "60/60 [==============================] - 1s 12ms/step - loss: 0.0031 - accuracy: 0.4729 - mean_absolute_error: 0.0326\n",
            "Epoch 6/7\n",
            "60/60 [==============================] - 1s 11ms/step - loss: 0.0030 - accuracy: 0.4427 - mean_absolute_error: 0.0327\n",
            "Epoch 7/7\n",
            "60/60 [==============================] - 1s 10ms/step - loss: 0.0029 - accuracy: 0.4401 - mean_absolute_error: 0.0322\n",
            "19/19 [==============================] - 0s 5ms/step\n",
            "Epoch 1/7\n",
            "60/60 [==============================] - 3s 11ms/step - loss: 0.0041 - accuracy: 0.0531 - mean_absolute_error: 0.0400\n",
            "Epoch 2/7\n",
            "60/60 [==============================] - 1s 8ms/step - loss: 0.0033 - accuracy: 0.0542 - mean_absolute_error: 0.0335\n",
            "Epoch 3/7\n",
            "60/60 [==============================] - 1s 9ms/step - loss: 0.0032 - accuracy: 0.0714 - mean_absolute_error: 0.0349\n",
            "Epoch 4/7\n",
            "60/60 [==============================] - 1s 9ms/step - loss: 0.0031 - accuracy: 0.1083 - mean_absolute_error: 0.0326\n",
            "Epoch 5/7\n",
            "60/60 [==============================] - 1s 8ms/step - loss: 0.0031 - accuracy: 0.4984 - mean_absolute_error: 0.0329\n",
            "Epoch 6/7\n",
            "60/60 [==============================] - 0s 8ms/step - loss: 0.0030 - accuracy: 0.4755 - mean_absolute_error: 0.0327\n",
            "Epoch 7/7\n",
            "60/60 [==============================] - 1s 9ms/step - loss: 0.0030 - accuracy: 0.4682 - mean_absolute_error: 0.0332\n",
            "19/19 [==============================] - 0s 4ms/step\n",
            "Epoch 1/7\n",
            "60/60 [==============================] - 3s 14ms/step - loss: 0.0047 - accuracy: 0.3823 - mean_absolute_error: 0.0405\n",
            "Epoch 2/7\n",
            "60/60 [==============================] - 1s 9ms/step - loss: 0.0034 - accuracy: 0.5411 - mean_absolute_error: 0.0345\n",
            "Epoch 3/7\n",
            "60/60 [==============================] - 1s 8ms/step - loss: 0.0032 - accuracy: 0.4036 - mean_absolute_error: 0.0336\n",
            "Epoch 4/7\n",
            "60/60 [==============================] - 1s 8ms/step - loss: 0.0034 - accuracy: 0.3505 - mean_absolute_error: 0.0362\n",
            "Epoch 5/7\n",
            "60/60 [==============================] - 1s 8ms/step - loss: 0.0031 - accuracy: 0.3526 - mean_absolute_error: 0.0327\n",
            "Epoch 6/7\n",
            "60/60 [==============================] - 1s 8ms/step - loss: 0.0029 - accuracy: 0.3042 - mean_absolute_error: 0.0322\n",
            "Epoch 7/7\n",
            "60/60 [==============================] - 1s 8ms/step - loss: 0.0030 - accuracy: 0.3677 - mean_absolute_error: 0.0329\n",
            "19/19 [==============================] - 0s 3ms/step\n"
          ]
        }
      ]
    },
    {
      "cell_type": "code",
      "source": [
        "RMSE"
      ],
      "metadata": {
        "id": "TdcbO27cMc1p",
        "colab": {
          "base_uri": "https://localhost:8080/"
        },
        "outputId": "82cb0ac4-8f14-41c3-9a8b-a3e802d92d86"
      },
      "id": "TdcbO27cMc1p",
      "execution_count": 15,
      "outputs": [
        {
          "output_type": "execute_result",
          "data": {
            "text/plain": [
              "[0.0031293493357524116,\n",
              " 0.0026995863277132536,\n",
              " 0.0026275412901334808,\n",
              " 0.002636940208494018,\n",
              " 0.0026386329837133366,\n",
              " 0.0027521793004828647,\n",
              " 0.0027268947150338274,\n",
              " 0.0027582688703000776,\n",
              " 0.002833829281219983,\n",
              " 0.00273895158969963,\n",
              " 0.0026608838310112604,\n",
              " 0.0028658326695344288,\n",
              " 0.00279798388162996,\n",
              " 0.0030379319822536055,\n",
              " 0.0027112117871639805]"
            ]
          },
          "metadata": {},
          "execution_count": 15
        }
      ]
    },
    {
      "cell_type": "code",
      "source": [
        "Accuracy"
      ],
      "metadata": {
        "id": "GVd-Um5uMcu-",
        "colab": {
          "base_uri": "https://localhost:8080/"
        },
        "outputId": "a94a18fa-4059-4259-e4ad-b575f597b33d"
      },
      "id": "GVd-Um5uMcu-",
      "execution_count": 16,
      "outputs": [
        {
          "output_type": "execute_result",
          "data": {
            "text/plain": [
              "[48.4555947616378,\n",
              " 63.06962794399348,\n",
              " 64.18495855067694,\n",
              " 62.49014948628189,\n",
              " 63.19559416276059,\n",
              " 67.20066536167688,\n",
              " 64.95496493475213,\n",
              " 67.12918769600766,\n",
              " 56.14685231534619,\n",
              " 57.41311825328835,\n",
              " 64.22491971335408,\n",
              " 52.712761074734836,\n",
              " 54.67078321024352,\n",
              " 65.57472594586125,\n",
              " 66.80302464145461]"
            ]
          },
          "metadata": {},
          "execution_count": 16
        }
      ]
    },
    {
      "cell_type": "code",
      "source": [
        "Quasilikelihood"
      ],
      "metadata": {
        "id": "fHmTLqrlM5-b",
        "colab": {
          "base_uri": "https://localhost:8080/"
        },
        "outputId": "b7a1542c-3584-42eb-d43e-b629530db88c"
      },
      "id": "fHmTLqrlM5-b",
      "execution_count": 17,
      "outputs": [
        {
          "output_type": "execute_result",
          "data": {
            "text/plain": [
              "[0.150806413752104,\n",
              " 0.10083825408481024,\n",
              " 0.09584626856056293,\n",
              " 0.10015910250134125,\n",
              " 0.098620029053268,\n",
              " 0.09996770968828302,\n",
              " 0.10015142181020444,\n",
              " 0.09859581385963062,\n",
              " 0.12189025920564904,\n",
              " 0.11636757229937983,\n",
              " 0.09632140453881813,\n",
              " 0.13526385671498542,\n",
              " 0.12782101196583787,\n",
              " 0.12336290318639723,\n",
              " 0.09570743130984281]"
            ]
          },
          "metadata": {},
          "execution_count": 17
        }
      ]
    },
    {
      "cell_type": "code",
      "source": [
        "# Best model\n",
        "plt.plot(df_for_date[\"Date\"], test)\n",
        "plt.plot(df_for_date[\"Date\"], true_predictions) \n",
        "plt.ylabel(\"DJIA Realized Volatility\")\n",
        "plt.legend(['Actuals', 'Forecasts'])"
      ],
      "metadata": {
        "id": "4mT4gD5hM-Wp",
        "colab": {
          "base_uri": "https://localhost:8080/",
          "height": 448
        },
        "outputId": "abdc1ac2-aec6-43df-8328-7d259cde4b9f"
      },
      "id": "4mT4gD5hM-Wp",
      "execution_count": 18,
      "outputs": [
        {
          "output_type": "execute_result",
          "data": {
            "text/plain": [
              "<matplotlib.legend.Legend at 0x7f0fa585a9e0>"
            ]
          },
          "metadata": {},
          "execution_count": 18
        },
        {
          "output_type": "display_data",
          "data": {
            "text/plain": [
              "<Figure size 640x480 with 1 Axes>"
            ],
            "image/png": "[encoded data removed]"
          },
          "metadata": {}
        }
      ]
    },
    {
      "cell_type": "markdown",
      "source": [
        "# H=5 Forecasts"
      ],
      "metadata": {
        "id": "tkQ3qCtJMXsM"
      },
      "id": "tkQ3qCtJMXsM"
    },
    {
      "cell_type": "code",
      "source": [
        "RMSE = []\n",
        "Accuracy = []\n",
        "Quasilikelihood=[]"
      ],
      "metadata": {
        "id": "JG9Yqf1XMYeE"
      },
      "id": "JG9Yqf1XMYeE",
      "execution_count": 19,
      "outputs": []
    },
    {
      "cell_type": "code",
      "source": [
        "def df_to_X_y(window_size,test,scaled_test_input):\n",
        "  X=[]\n",
        "  y=[]\n",
        "  for i in range(int(len(test)/5)):\n",
        "    row = [[a] for a in scaled_test_input[i*5:(i*5)+window_size]]\n",
        "    X.append(row)\n",
        "  return np.array(X)"
      ],
      "metadata": {
        "id": "70CG2n0CORAr"
      },
      "id": "70CG2n0CORAr",
      "execution_count": 20,
      "outputs": []
    },
    {
      "cell_type": "code",
      "source": [
        "for i in range (15):\n",
        "  n_features = 2\n",
        "  n_input = 126\n",
        "  train = df.iloc[:int(len(df['Realised'])*0.7)]\n",
        "  train = train[int(len(train)*0.5):]\n",
        "  test = df.iloc[int(len(df['Realised'])*0.7)-n_input:]\n",
        "  scaler.fit(train)\n",
        "  scaled_train_input = scaler.transform(train)\n",
        "  scaled_test_input = scaler.transform(test)\n",
        "  train = df[\"Realised\"].iloc[:int(len(df['Realised'])*0.7)]\n",
        "  train = train[int(len(train)*0.5):]\n",
        "  test = df[\"Realised\"].iloc[int(len(df['Realised'])*0.7):]\n",
        "  train = train.array.reshape(-1, 1)\n",
        "  test = test.array.reshape(-1, 1)\n",
        "  scaler.fit(train)\n",
        "  scaled_train_target = scaler.transform(train)\n",
        "  scaled_test_target = scaler.transform(test)\n",
        "  generator = TimeseriesGenerator(scaled_train_input, scaled_train_target, length=n_input, batch_size=32)\n",
        "  model = Sequential()\n",
        "  model.add(LSTM(126, activation='tanh', input_shape=(n_input, n_features)))\n",
        "  model.add(Dense(5))\n",
        "  model.compile(optimizer='adam', loss='mse', metrics=[\"accuracy\", \"mean_absolute_error\"])\n",
        "  model.fit(generator,epochs=7)\n",
        "  X = df_to_X_y(n_input,test,scaled_test_input)\n",
        "  X=X.reshape(int(((len(test)/5))), n_input, n_features)\n",
        "  y_hat=model.predict(X)\n",
        "  y_hat=y_hat.reshape(len(test),1)\n",
        "  true_predictions = scaler.inverse_transform(y_hat)\n",
        "  RMSE.append(np.sum(np.sqrt((test-true_predictions)**2))/len(test))\n",
        "  Accuracy.append((1-np.sum(np.sqrt((test-true_predictions)**2)/test)/(len(test)))*100)\n",
        "  Quasilikelihood.append(np.sum(true_predictions/test-np.log(true_predictions/test)-1)/len(test))"
      ],
      "metadata": {
        "id": "VBKy5MKsMdk-",
        "colab": {
          "base_uri": "https://localhost:8080/"
        },
        "outputId": "a194cfa5-bd02-46c4-d4da-69933d430166"
      },
      "id": "VBKy5MKsMdk-",
      "execution_count": 21,
      "outputs": [
        {
          "output_type": "stream",
          "name": "stdout",
          "text": [
            "Epoch 1/7\n",
            "60/60 [==============================] - 3s 11ms/step - loss: 0.0042 - accuracy: 0.0167 - mean_absolute_error: 0.0403\n",
            "Epoch 2/7\n",
            "60/60 [==============================] - 0s 8ms/step - loss: 0.0035 - accuracy: 0.1312 - mean_absolute_error: 0.0347\n",
            "Epoch 3/7\n",
            "60/60 [==============================] - 0s 8ms/step - loss: 0.0037 - accuracy: 0.0812 - mean_absolute_error: 0.0361\n",
            "Epoch 4/7\n",
            "60/60 [==============================] - 1s 8ms/step - loss: 0.0031 - accuracy: 0.1312 - mean_absolute_error: 0.0333\n",
            "Epoch 5/7\n",
            "60/60 [==============================] - 1s 9ms/step - loss: 0.0030 - accuracy: 0.1187 - mean_absolute_error: 0.0321\n",
            "Epoch 6/7\n",
            "60/60 [==============================] - 1s 11ms/step - loss: 0.0029 - accuracy: 0.2438 - mean_absolute_error: 0.0322\n",
            "Epoch 7/7\n",
            "60/60 [==============================] - 1s 12ms/step - loss: 0.0031 - accuracy: 0.2885 - mean_absolute_error: 0.0338\n",
            "11/11 [==============================] - 1s 4ms/step\n",
            "Epoch 1/7\n",
            "60/60 [==============================] - 3s 11ms/step - loss: 0.0046 - accuracy: 0.1688 - mean_absolute_error: 0.0408\n",
            "Epoch 2/7\n",
            "60/60 [==============================] - 0s 8ms/step - loss: 0.0034 - accuracy: 0.2510 - mean_absolute_error: 0.0345\n",
            "Epoch 3/7\n",
            "60/60 [==============================] - 1s 8ms/step - loss: 0.0034 - accuracy: 0.2688 - mean_absolute_error: 0.0355\n",
            "Epoch 4/7\n",
            "60/60 [==============================] - 1s 9ms/step - loss: 0.0031 - accuracy: 0.2432 - mean_absolute_error: 0.0329\n",
            "Epoch 5/7\n",
            "60/60 [==============================] - 1s 8ms/step - loss: 0.0030 - accuracy: 0.3281 - mean_absolute_error: 0.0325\n",
            "Epoch 6/7\n",
            "60/60 [==============================] - 0s 8ms/step - loss: 0.0030 - accuracy: 0.2880 - mean_absolute_error: 0.0329\n",
            "Epoch 7/7\n",
            "60/60 [==============================] - 1s 8ms/step - loss: 0.0029 - accuracy: 0.1344 - mean_absolute_error: 0.0325\n",
            "11/11 [==============================] - 0s 3ms/step\n",
            "Epoch 1/7\n",
            "60/60 [==============================] - 3s 13ms/step - loss: 0.0047 - accuracy: 0.1083 - mean_absolute_error: 0.0417\n",
            "Epoch 2/7\n",
            "60/60 [==============================] - 1s 11ms/step - loss: 0.0036 - accuracy: 0.1172 - mean_absolute_error: 0.0346\n",
            "Epoch 3/7\n",
            "60/60 [==============================] - 1s 9ms/step - loss: 0.0032 - accuracy: 0.2865 - mean_absolute_error: 0.0340\n",
            "Epoch 4/7\n",
            "60/60 [==============================] - 1s 8ms/step - loss: 0.0032 - accuracy: 0.4094 - mean_absolute_error: 0.0329\n",
            "Epoch 5/7\n",
            "60/60 [==============================] - 1s 8ms/step - loss: 0.0032 - accuracy: 0.2599 - mean_absolute_error: 0.0338\n",
            "Epoch 6/7\n",
            "60/60 [==============================] - 1s 9ms/step - loss: 0.0031 - accuracy: 0.1464 - mean_absolute_error: 0.0327\n",
            "Epoch 7/7\n",
            "60/60 [==============================] - 1s 9ms/step - loss: 0.0030 - accuracy: 0.3193 - mean_absolute_error: 0.0322\n",
            "11/11 [==============================] - 0s 4ms/step\n",
            "Epoch 1/7\n",
            "60/60 [==============================] - 3s 11ms/step - loss: 0.0041 - accuracy: 0.1443 - mean_absolute_error: 0.0385\n",
            "Epoch 2/7\n",
            "60/60 [==============================] - 1s 8ms/step - loss: 0.0035 - accuracy: 0.3443 - mean_absolute_error: 0.0359\n",
            "Epoch 3/7\n",
            "60/60 [==============================] - 0s 8ms/step - loss: 0.0033 - accuracy: 0.3536 - mean_absolute_error: 0.0338\n",
            "Epoch 4/7\n",
            "60/60 [==============================] - 1s 8ms/step - loss: 0.0033 - accuracy: 0.2984 - mean_absolute_error: 0.0343\n",
            "Epoch 5/7\n",
            "60/60 [==============================] - 1s 9ms/step - loss: 0.0031 - accuracy: 0.2109 - mean_absolute_error: 0.0335\n",
            "Epoch 6/7\n",
            "60/60 [==============================] - 0s 8ms/step - loss: 0.0030 - accuracy: 0.3849 - mean_absolute_error: 0.0327\n",
            "Epoch 7/7\n",
            "60/60 [==============================] - 1s 11ms/step - loss: 0.0030 - accuracy: 0.1750 - mean_absolute_error: 0.0331\n",
            "11/11 [==============================] - 1s 6ms/step\n",
            "Epoch 1/7\n",
            "60/60 [==============================] - 3s 12ms/step - loss: 0.0045 - accuracy: 0.3464 - mean_absolute_error: 0.0405\n",
            "Epoch 2/7\n",
            "60/60 [==============================] - 1s 8ms/step - loss: 0.0035 - accuracy: 0.1635 - mean_absolute_error: 0.0355\n",
            "Epoch 3/7\n",
            "60/60 [==============================] - 0s 8ms/step - loss: 0.0032 - accuracy: 0.1078 - mean_absolute_error: 0.0337\n",
            "Epoch 4/7\n",
            "60/60 [==============================] - 1s 8ms/step - loss: 0.0030 - accuracy: 0.1135 - mean_absolute_error: 0.0325\n",
            "Epoch 5/7\n",
            "60/60 [==============================] - 1s 8ms/step - loss: 0.0029 - accuracy: 0.0484 - mean_absolute_error: 0.0321\n",
            "Epoch 6/7\n",
            "60/60 [==============================] - 0s 8ms/step - loss: 0.0032 - accuracy: 0.0797 - mean_absolute_error: 0.0343\n",
            "Epoch 7/7\n",
            "60/60 [==============================] - 1s 8ms/step - loss: 0.0029 - accuracy: 0.1307 - mean_absolute_error: 0.0322\n",
            "11/11 [==============================] - 0s 3ms/step\n",
            "Epoch 1/7\n",
            "60/60 [==============================] - 3s 11ms/step - loss: 0.0042 - accuracy: 0.1130 - mean_absolute_error: 0.0382\n",
            "Epoch 2/7\n",
            "60/60 [==============================] - 1s 9ms/step - loss: 0.0036 - accuracy: 0.1240 - mean_absolute_error: 0.0358\n",
            "Epoch 3/7\n",
            "60/60 [==============================] - 1s 12ms/step - loss: 0.0033 - accuracy: 0.1245 - mean_absolute_error: 0.0342\n",
            "Epoch 4/7\n",
            "60/60 [==============================] - 1s 12ms/step - loss: 0.0030 - accuracy: 0.2911 - mean_absolute_error: 0.0327\n",
            "Epoch 5/7\n",
            "60/60 [==============================] - 1s 10ms/step - loss: 0.0034 - accuracy: 0.2661 - mean_absolute_error: 0.0354\n",
            "Epoch 6/7\n",
            "60/60 [==============================] - 1s 8ms/step - loss: 0.0031 - accuracy: 0.1813 - mean_absolute_error: 0.0333\n",
            "Epoch 7/7\n",
            "60/60 [==============================] - 1s 8ms/step - loss: 0.0029 - accuracy: 0.3349 - mean_absolute_error: 0.0322\n",
            "11/11 [==============================] - 0s 3ms/step\n",
            "Epoch 1/7\n",
            "60/60 [==============================] - 3s 11ms/step - loss: 0.0038 - accuracy: 0.0635 - mean_absolute_error: 0.0369\n",
            "Epoch 2/7\n",
            "60/60 [==============================] - 1s 8ms/step - loss: 0.0035 - accuracy: 0.0703 - mean_absolute_error: 0.0363\n",
            "Epoch 3/7\n",
            "60/60 [==============================] - 1s 8ms/step - loss: 0.0033 - accuracy: 0.0995 - mean_absolute_error: 0.0341\n",
            "Epoch 4/7\n",
            "60/60 [==============================] - 1s 9ms/step - loss: 0.0031 - accuracy: 0.0859 - mean_absolute_error: 0.0330\n",
            "Epoch 5/7\n",
            "60/60 [==============================] - 1s 8ms/step - loss: 0.0033 - accuracy: 0.2438 - mean_absolute_error: 0.0344\n",
            "Epoch 6/7\n",
            "60/60 [==============================] - 1s 8ms/step - loss: 0.0030 - accuracy: 0.2615 - mean_absolute_error: 0.0326\n",
            "Epoch 7/7\n",
            "60/60 [==============================] - 1s 9ms/step - loss: 0.0029 - accuracy: 0.2385 - mean_absolute_error: 0.0326\n",
            "11/11 [==============================] - 0s 5ms/step\n",
            "Epoch 1/7\n",
            "60/60 [==============================] - 4s 11ms/step - loss: 0.0042 - accuracy: 0.0490 - mean_absolute_error: 0.0392\n",
            "Epoch 2/7\n",
            "60/60 [==============================] - 1s 8ms/step - loss: 0.0034 - accuracy: 0.2271 - mean_absolute_error: 0.0345\n",
            "Epoch 3/7\n",
            "60/60 [==============================] - 1s 9ms/step - loss: 0.0032 - accuracy: 0.2062 - mean_absolute_error: 0.0339\n",
            "Epoch 4/7\n",
            "60/60 [==============================] - 1s 9ms/step - loss: 0.0032 - accuracy: 0.0484 - mean_absolute_error: 0.0335\n",
            "Epoch 5/7\n",
            "60/60 [==============================] - 1s 9ms/step - loss: 0.0033 - accuracy: 0.0135 - mean_absolute_error: 0.0362\n",
            "Epoch 6/7\n",
            "60/60 [==============================] - 0s 8ms/step - loss: 0.0030 - accuracy: 0.1557 - mean_absolute_error: 0.0325\n",
            "Epoch 7/7\n",
            "60/60 [==============================] - 1s 9ms/step - loss: 0.0030 - accuracy: 0.0594 - mean_absolute_error: 0.0326\n",
            "11/11 [==============================] - 0s 3ms/step\n",
            "Epoch 1/7\n",
            "60/60 [==============================] - 3s 10ms/step - loss: 0.0039 - accuracy: 0.0583 - mean_absolute_error: 0.0371\n",
            "Epoch 2/7\n",
            "60/60 [==============================] - 1s 9ms/step - loss: 0.0035 - accuracy: 0.3229 - mean_absolute_error: 0.0353\n",
            "Epoch 3/7\n",
            "60/60 [==============================] - 1s 8ms/step - loss: 0.0033 - accuracy: 0.4995 - mean_absolute_error: 0.0333\n",
            "Epoch 4/7\n",
            "60/60 [==============================] - 1s 8ms/step - loss: 0.0030 - accuracy: 0.3641 - mean_absolute_error: 0.0324\n",
            "Epoch 5/7\n",
            "60/60 [==============================] - 1s 8ms/step - loss: 0.0031 - accuracy: 0.1224 - mean_absolute_error: 0.0329\n",
            "Epoch 6/7\n",
            "60/60 [==============================] - 1s 10ms/step - loss: 0.0030 - accuracy: 0.4823 - mean_absolute_error: 0.0325\n",
            "Epoch 7/7\n",
            "60/60 [==============================] - 1s 12ms/step - loss: 0.0030 - accuracy: 0.2771 - mean_absolute_error: 0.0323\n",
            "11/11 [==============================] - 1s 8ms/step\n",
            "Epoch 1/7\n",
            "60/60 [==============================] - 3s 11ms/step - loss: 0.0040 - accuracy: 0.0078 - mean_absolute_error: 0.0396\n",
            "Epoch 2/7\n",
            "60/60 [==============================] - 1s 9ms/step - loss: 0.0034 - accuracy: 0.0953 - mean_absolute_error: 0.0352\n",
            "Epoch 3/7\n",
            "60/60 [==============================] - 1s 9ms/step - loss: 0.0031 - accuracy: 0.0891 - mean_absolute_error: 0.0333\n",
            "Epoch 4/7\n",
            "60/60 [==============================] - 1s 9ms/step - loss: 0.0033 - accuracy: 0.3604 - mean_absolute_error: 0.0344\n",
            "Epoch 5/7\n",
            "60/60 [==============================] - 1s 9ms/step - loss: 0.0031 - accuracy: 0.1745 - mean_absolute_error: 0.0335\n",
            "Epoch 6/7\n",
            "60/60 [==============================] - 1s 9ms/step - loss: 0.0030 - accuracy: 0.1286 - mean_absolute_error: 0.0329\n",
            "Epoch 7/7\n",
            "60/60 [==============================] - 1s 8ms/step - loss: 0.0029 - accuracy: 0.1182 - mean_absolute_error: 0.0320\n",
            "11/11 [==============================] - 0s 4ms/step\n",
            "Epoch 1/7\n",
            "60/60 [==============================] - 3s 13ms/step - loss: 0.0042 - accuracy: 0.2359 - mean_absolute_error: 0.0393\n",
            "Epoch 2/7\n",
            "60/60 [==============================] - 1s 12ms/step - loss: 0.0035 - accuracy: 0.3120 - mean_absolute_error: 0.0346\n",
            "Epoch 3/7\n",
            "60/60 [==============================] - 1s 11ms/step - loss: 0.0033 - accuracy: 0.2599 - mean_absolute_error: 0.0340\n",
            "Epoch 4/7\n",
            "60/60 [==============================] - 1s 9ms/step - loss: 0.0035 - accuracy: 0.2818 - mean_absolute_error: 0.0370\n",
            "Epoch 5/7\n",
            "60/60 [==============================] - 1s 9ms/step - loss: 0.0033 - accuracy: 0.1958 - mean_absolute_error: 0.0341\n",
            "Epoch 6/7\n",
            "60/60 [==============================] - 1s 8ms/step - loss: 0.0030 - accuracy: 0.3552 - mean_absolute_error: 0.0321\n",
            "Epoch 7/7\n",
            "60/60 [==============================] - 1s 8ms/step - loss: 0.0030 - accuracy: 0.3474 - mean_absolute_error: 0.0324\n",
            "11/11 [==============================] - 0s 4ms/step\n",
            "Epoch 1/7\n",
            "60/60 [==============================] - 3s 11ms/step - loss: 0.0041 - accuracy: 0.0427 - mean_absolute_error: 0.0402\n",
            "Epoch 2/7\n",
            "60/60 [==============================] - 1s 9ms/step - loss: 0.0034 - accuracy: 0.0417 - mean_absolute_error: 0.0346\n",
            "Epoch 3/7\n",
            "60/60 [==============================] - 1s 9ms/step - loss: 0.0033 - accuracy: 0.3073 - mean_absolute_error: 0.0343\n",
            "Epoch 4/7\n",
            "60/60 [==============================] - 1s 9ms/step - loss: 0.0032 - accuracy: 0.1615 - mean_absolute_error: 0.0337\n",
            "Epoch 5/7\n",
            "60/60 [==============================] - 1s 9ms/step - loss: 0.0031 - accuracy: 0.2651 - mean_absolute_error: 0.0335\n",
            "Epoch 6/7\n",
            "60/60 [==============================] - 1s 8ms/step - loss: 0.0031 - accuracy: 0.3302 - mean_absolute_error: 0.0332\n",
            "Epoch 7/7\n",
            "60/60 [==============================] - 1s 9ms/step - loss: 0.0030 - accuracy: 0.1620 - mean_absolute_error: 0.0331\n",
            "11/11 [==============================] - 0s 4ms/step\n",
            "Epoch 1/7\n",
            "60/60 [==============================] - 3s 11ms/step - loss: 0.0045 - accuracy: 0.1865 - mean_absolute_error: 0.0395\n",
            "Epoch 2/7\n",
            "60/60 [==============================] - 1s 9ms/step - loss: 0.0035 - accuracy: 0.4938 - mean_absolute_error: 0.0351\n",
            "Epoch 3/7\n",
            "60/60 [==============================] - 1s 9ms/step - loss: 0.0033 - accuracy: 0.1198 - mean_absolute_error: 0.0349\n",
            "Epoch 4/7\n",
            "60/60 [==============================] - 1s 9ms/step - loss: 0.0032 - accuracy: 0.2911 - mean_absolute_error: 0.0339\n",
            "Epoch 5/7\n",
            "60/60 [==============================] - 1s 8ms/step - loss: 0.0030 - accuracy: 0.2245 - mean_absolute_error: 0.0329\n",
            "Epoch 6/7\n",
            "60/60 [==============================] - 1s 9ms/step - loss: 0.0031 - accuracy: 0.1755 - mean_absolute_error: 0.0335\n",
            "Epoch 7/7\n",
            "60/60 [==============================] - 1s 9ms/step - loss: 0.0030 - accuracy: 0.1177 - mean_absolute_error: 0.0322\n",
            "11/11 [==============================] - 0s 3ms/step\n",
            "Epoch 1/7\n",
            "60/60 [==============================] - 3s 12ms/step - loss: 0.0037 - accuracy: 0.1516 - mean_absolute_error: 0.0367\n",
            "Epoch 2/7\n",
            "60/60 [==============================] - 1s 9ms/step - loss: 0.0039 - accuracy: 0.0964 - mean_absolute_error: 0.0381\n",
            "Epoch 3/7\n",
            "60/60 [==============================] - 1s 13ms/step - loss: 0.0033 - accuracy: 0.1760 - mean_absolute_error: 0.0349\n",
            "Epoch 4/7\n",
            "60/60 [==============================] - 1s 12ms/step - loss: 0.0030 - accuracy: 0.2057 - mean_absolute_error: 0.0327\n",
            "Epoch 5/7\n",
            "60/60 [==============================] - 1s 9ms/step - loss: 0.0030 - accuracy: 0.2010 - mean_absolute_error: 0.0326\n",
            "Epoch 6/7\n",
            "60/60 [==============================] - 1s 10ms/step - loss: 0.0030 - accuracy: 0.1365 - mean_absolute_error: 0.0327\n",
            "Epoch 7/7\n",
            "60/60 [==============================] - 1s 9ms/step - loss: 0.0029 - accuracy: 0.2120 - mean_absolute_error: 0.0325\n",
            "11/11 [==============================] - 0s 4ms/step\n",
            "Epoch 1/7\n",
            "60/60 [==============================] - 3s 11ms/step - loss: 0.0042 - accuracy: 0.2214 - mean_absolute_error: 0.0383\n",
            "Epoch 2/7\n",
            "60/60 [==============================] - 1s 9ms/step - loss: 0.0034 - accuracy: 0.4281 - mean_absolute_error: 0.0354\n",
            "Epoch 3/7\n",
            "60/60 [==============================] - 1s 10ms/step - loss: 0.0034 - accuracy: 0.3380 - mean_absolute_error: 0.0346\n",
            "Epoch 4/7\n",
            "60/60 [==============================] - 1s 9ms/step - loss: 0.0032 - accuracy: 0.2172 - mean_absolute_error: 0.0336\n",
            "Epoch 5/7\n",
            "60/60 [==============================] - 1s 9ms/step - loss: 0.0031 - accuracy: 0.2250 - mean_absolute_error: 0.0335\n",
            "Epoch 6/7\n",
            "60/60 [==============================] - 1s 9ms/step - loss: 0.0030 - accuracy: 0.3396 - mean_absolute_error: 0.0322\n",
            "Epoch 7/7\n",
            "60/60 [==============================] - 1s 9ms/step - loss: 0.0031 - accuracy: 0.3182 - mean_absolute_error: 0.0329\n",
            "11/11 [==============================] - 0s 4ms/step\n"
          ]
        }
      ]
    },
    {
      "cell_type": "code",
      "source": [
        "RMSE"
      ],
      "metadata": {
        "id": "lLKjv00ZMdfi",
        "colab": {
          "base_uri": "https://localhost:8080/"
        },
        "outputId": "9c66ced1-8874-4f64-fa07-241d9dbabc09"
      },
      "id": "lLKjv00ZMdfi",
      "execution_count": 22,
      "outputs": [
        {
          "output_type": "execute_result",
          "data": {
            "text/plain": [
              "[0.002809694384198792,\n",
              " 0.002779980783364326,\n",
              " 0.002872476629162093,\n",
              " 0.0029826240063574364,\n",
              " 0.002998652490056597,\n",
              " 0.0027641842024577873,\n",
              " 0.0028516249236754916,\n",
              " 0.0028512000731001842,\n",
              " 0.002790153146054097,\n",
              " 0.002731237115729365,\n",
              " 0.0028842240042805467,\n",
              " 0.0027491100990020578,\n",
              " 0.002856903574236894,\n",
              " 0.0027245471935422945,\n",
              " 0.002746344503779221]"
            ]
          },
          "metadata": {},
          "execution_count": 22
        }
      ]
    },
    {
      "cell_type": "code",
      "source": [
        "Accuracy"
      ],
      "metadata": {
        "id": "cn33BJZfMdbP",
        "colab": {
          "base_uri": "https://localhost:8080/"
        },
        "outputId": "7007879e-7aa9-49dd-ddd9-4e4cd6037e68"
      },
      "id": "cn33BJZfMdbP",
      "execution_count": 23,
      "outputs": [
        {
          "output_type": "execute_result",
          "data": {
            "text/plain": [
              "[59.31334716828687,\n",
              " 61.47994547410607,\n",
              " 60.17491842967877,\n",
              " 66.00365103070304,\n",
              " 53.126561693837985,\n",
              " 65.6347160407894,\n",
              " 59.81110826753123,\n",
              " 56.69961887964568,\n",
              " 59.92503516327612,\n",
              " 61.58002126197246,\n",
              " 56.37393650864768,\n",
              " 60.80154524542822,\n",
              " 54.573042440396314,\n",
              " 62.38180792831246,\n",
              " 62.415975013572286]"
            ]
          },
          "metadata": {},
          "execution_count": 23
        }
      ]
    },
    {
      "cell_type": "code",
      "source": [
        "Quasilikelihood"
      ],
      "metadata": {
        "id": "kTIU0pPgNjwU",
        "colab": {
          "base_uri": "https://localhost:8080/"
        },
        "outputId": "518fd7e1-16c7-4fa0-e0db-265c3bc436a8"
      },
      "id": "kTIU0pPgNjwU",
      "execution_count": 24,
      "outputs": [
        {
          "output_type": "execute_result",
          "data": {
            "text/plain": [
              "[0.11432100711328076,\n",
              " 0.10751536225546265,\n",
              " 0.11475701333400197,\n",
              " 0.11463414363187607,\n",
              " 0.1350527748023805,\n",
              " 0.10104385530591206,\n",
              " 0.11549629478319516,\n",
              " 0.12189940188784272,\n",
              " 0.11129551289644772,\n",
              " 0.10655626809566314,\n",
              " 0.12391220625705142,\n",
              " 0.10886596091984548,\n",
              " 0.1313170217698541,\n",
              " 0.10415657050015209,\n",
              " 0.10498466765164594]"
            ]
          },
          "metadata": {},
          "execution_count": 24
        }
      ]
    },
    {
      "cell_type": "code",
      "source": [
        "# Best model\n",
        "plt.plot(df_for_date[\"Date\"], test)\n",
        "plt.plot(df_for_date[\"Date\"], true_predictions) \n",
        "plt.ylabel(\"NASDAQ Realized Volatility\")\n",
        "plt.legend(['Actuals', 'Forecasts'])"
      ],
      "metadata": {
        "id": "Q3ZjF0c2Njqe",
        "colab": {
          "base_uri": "https://localhost:8080/",
          "height": 448
        },
        "outputId": "6b1a464c-f695-45d1-d26b-1ae39d4b8066"
      },
      "id": "Q3ZjF0c2Njqe",
      "execution_count": 25,
      "outputs": [
        {
          "output_type": "execute_result",
          "data": {
            "text/plain": [
              "<matplotlib.legend.Legend at 0x7f0f9cf49780>"
            ]
          },
          "metadata": {},
          "execution_count": 25
        },
        {
          "output_type": "display_data",
          "data": {
            "text/plain": [
              "<Figure size 640x480 with 1 Axes>"
            ],
            "image/png": "[encoded data removed]"
          },
          "metadata": {}
        }
      ]
    },
    {
      "cell_type": "markdown",
      "source": [
        "# H=10 Forecasts"
      ],
      "metadata": {
        "id": "AFsZU1ByMY3U"
      },
      "id": "AFsZU1ByMY3U"
    },
    {
      "cell_type": "code",
      "source": [
        "RMSE = []\n",
        "Accuracy = []\n",
        "Quasilikelihood=[]"
      ],
      "metadata": {
        "id": "0e5F_L4QMZ0k"
      },
      "id": "0e5F_L4QMZ0k",
      "execution_count": 26,
      "outputs": []
    },
    {
      "cell_type": "code",
      "source": [
        "def df_to_X_y(window_size,test,scaled_test_input):\n",
        "  X=[]\n",
        "  y=[]\n",
        "  for i in range(int(len(test)/10)):\n",
        "    row = [[a] for a in scaled_test_input[i*10:(i*10)+window_size]]\n",
        "    X.append(row)\n",
        "  return np.array(X)"
      ],
      "metadata": {
        "id": "Ot-zW5HWOYDR"
      },
      "id": "Ot-zW5HWOYDR",
      "execution_count": 27,
      "outputs": []
    },
    {
      "cell_type": "code",
      "source": [
        "for i in range (15):\n",
        "  n_features = 2\n",
        "  n_input = 126\n",
        "  train = df.iloc[:int(len(df['Realised'])*0.7)]\n",
        "  train = train[int(len(train)*0.5):]\n",
        "  test = df.iloc[int(len(df['Realised'])*0.7)-n_input:]\n",
        "  scaler.fit(train)\n",
        "  scaled_train_input = scaler.transform(train)\n",
        "  scaled_test_input = scaler.transform(test)\n",
        "  train = df[\"Realised\"].iloc[:int(len(df['Realised'])*0.7)]\n",
        "  train = train[int(len(train)*0.5):]\n",
        "  test = df[\"Realised\"].iloc[int(len(df['Realised'])*0.7):]\n",
        "  train = train.array.reshape(-1, 1)\n",
        "  test = test.array.reshape(-1, 1)\n",
        "  scaler.fit(train)\n",
        "  scaled_train_target = scaler.transform(train)\n",
        "  scaled_test_target = scaler.transform(test)\n",
        "  generator = TimeseriesGenerator(scaled_train_input, scaled_train_target, length=n_input, batch_size=32)\n",
        "  model = Sequential()\n",
        "  model.add(LSTM(126, activation='tanh', input_shape=(n_input, n_features)))\n",
        "  model.add(Dense(10))\n",
        "  model.compile(optimizer='adam', loss='mse', metrics=[\"accuracy\", \"mean_absolute_error\"])\n",
        "  model.fit(generator,epochs=7)\n",
        "  test=test[:len(test)-5]\n",
        "  X = df_to_X_y(n_input,test,scaled_test_input)\n",
        "  X=X.reshape(int(((len(test)/10))), n_input, n_features)\n",
        "  y_hat=model.predict(X)\n",
        "  y_hat=y_hat.reshape(len(test),1)\n",
        "  true_predictions = scaler.inverse_transform(y_hat)\n",
        "  RMSE.append(np.sum(np.sqrt((test-true_predictions)**2))/len(test))\n",
        "  Accuracy.append((1-np.sum(np.sqrt((test-true_predictions)**2)/test)/(len(test)))*100)\n",
        "  Quasilikelihood.append(np.sum(true_predictions/test-np.log(true_predictions/test)-1)/len(test))"
      ],
      "metadata": {
        "id": "2Yj8S586MeXK",
        "colab": {
          "base_uri": "https://localhost:8080/"
        },
        "outputId": "8eab5e21-d350-47f7-ca32-4e08ec92c7bb"
      },
      "id": "2Yj8S586MeXK",
      "execution_count": 28,
      "outputs": [
        {
          "output_type": "stream",
          "name": "stdout",
          "text": [
            "Epoch 1/7\n",
            "60/60 [==============================] - 3s 11ms/step - loss: 0.0049 - accuracy: 0.1964 - mean_absolute_error: 0.0384\n",
            "Epoch 2/7\n",
            "60/60 [==============================] - 1s 10ms/step - loss: 0.0035 - accuracy: 0.0635 - mean_absolute_error: 0.0347\n",
            "Epoch 3/7\n",
            "60/60 [==============================] - 1s 9ms/step - loss: 0.0035 - accuracy: 0.1490 - mean_absolute_error: 0.0358\n",
            "Epoch 4/7\n",
            "60/60 [==============================] - 1s 9ms/step - loss: 0.0032 - accuracy: 0.3000 - mean_absolute_error: 0.0336\n",
            "Epoch 5/7\n",
            "60/60 [==============================] - 1s 9ms/step - loss: 0.0032 - accuracy: 0.2896 - mean_absolute_error: 0.0334\n",
            "Epoch 6/7\n",
            "60/60 [==============================] - 1s 9ms/step - loss: 0.0032 - accuracy: 0.2214 - mean_absolute_error: 0.0340\n",
            "Epoch 7/7\n",
            "60/60 [==============================] - 1s 9ms/step - loss: 0.0030 - accuracy: 0.2203 - mean_absolute_error: 0.0330\n",
            "6/6 [==============================] - 0s 4ms/step\n",
            "Epoch 1/7\n",
            "60/60 [==============================] - 3s 11ms/step - loss: 0.0048 - accuracy: 0.0063 - mean_absolute_error: 0.0408\n",
            "Epoch 2/7\n",
            "60/60 [==============================] - 1s 9ms/step - loss: 0.0036 - accuracy: 0.2490 - mean_absolute_error: 0.0351\n",
            "Epoch 3/7\n",
            "60/60 [==============================] - 1s 9ms/step - loss: 0.0033 - accuracy: 0.1568 - mean_absolute_error: 0.0337\n",
            "Epoch 4/7\n",
            "60/60 [==============================] - 1s 12ms/step - loss: 0.0035 - accuracy: 0.1104 - mean_absolute_error: 0.0357\n",
            "Epoch 5/7\n",
            "60/60 [==============================] - 1s 12ms/step - loss: 0.0036 - accuracy: 0.0573 - mean_absolute_error: 0.0354\n",
            "Epoch 6/7\n",
            "60/60 [==============================] - 1s 12ms/step - loss: 0.0031 - accuracy: 0.1906 - mean_absolute_error: 0.0331\n",
            "Epoch 7/7\n",
            "60/60 [==============================] - 1s 13ms/step - loss: 0.0032 - accuracy: 0.0182 - mean_absolute_error: 0.0335\n",
            "6/6 [==============================] - 0s 5ms/step\n",
            "Epoch 1/7\n",
            "60/60 [==============================] - 3s 11ms/step - loss: 0.0057 - accuracy: 0.1156 - mean_absolute_error: 0.0440\n",
            "Epoch 2/7\n",
            "60/60 [==============================] - 1s 9ms/step - loss: 0.0038 - accuracy: 0.4193 - mean_absolute_error: 0.0363\n",
            "Epoch 3/7\n",
            "60/60 [==============================] - 1s 9ms/step - loss: 0.0034 - accuracy: 0.2531 - mean_absolute_error: 0.0342\n",
            "Epoch 4/7\n",
            "60/60 [==============================] - 1s 8ms/step - loss: 0.0033 - accuracy: 0.1823 - mean_absolute_error: 0.0343\n",
            "Epoch 5/7\n",
            "60/60 [==============================] - 1s 9ms/step - loss: 0.0030 - accuracy: 0.1297 - mean_absolute_error: 0.0326\n",
            "Epoch 6/7\n",
            "60/60 [==============================] - 1s 9ms/step - loss: 0.0033 - accuracy: 0.0839 - mean_absolute_error: 0.0349\n",
            "Epoch 7/7\n",
            "60/60 [==============================] - 1s 9ms/step - loss: 0.0032 - accuracy: 0.0698 - mean_absolute_error: 0.0341\n",
            "6/6 [==============================] - 0s 4ms/step\n",
            "Epoch 1/7\n",
            "60/60 [==============================] - 4s 14ms/step - loss: 0.0040 - accuracy: 0.0344 - mean_absolute_error: 0.0385\n",
            "Epoch 2/7\n",
            "60/60 [==============================] - 1s 10ms/step - loss: 0.0035 - accuracy: 0.0000e+00 - mean_absolute_error: 0.0349\n",
            "Epoch 3/7\n",
            "60/60 [==============================] - 1s 9ms/step - loss: 0.0032 - accuracy: 0.0047 - mean_absolute_error: 0.0340\n",
            "Epoch 4/7\n",
            "60/60 [==============================] - 1s 9ms/step - loss: 0.0032 - accuracy: 0.0234 - mean_absolute_error: 0.0336\n",
            "Epoch 5/7\n",
            "60/60 [==============================] - 1s 9ms/step - loss: 0.0031 - accuracy: 0.0474 - mean_absolute_error: 0.0329\n",
            "Epoch 6/7\n",
            "60/60 [==============================] - 1s 9ms/step - loss: 0.0030 - accuracy: 0.0094 - mean_absolute_error: 0.0323\n",
            "Epoch 7/7\n",
            "60/60 [==============================] - 1s 9ms/step - loss: 0.0031 - accuracy: 0.0208 - mean_absolute_error: 0.0328\n",
            "6/6 [==============================] - 0s 6ms/step\n",
            "Epoch 1/7\n",
            "60/60 [==============================] - 3s 11ms/step - loss: 0.0051 - accuracy: 0.0969 - mean_absolute_error: 0.0439\n",
            "Epoch 2/7\n",
            "60/60 [==============================] - 1s 9ms/step - loss: 0.0036 - accuracy: 0.0995 - mean_absolute_error: 0.0361\n",
            "Epoch 3/7\n",
            "60/60 [==============================] - 1s 9ms/step - loss: 0.0033 - accuracy: 0.1958 - mean_absolute_error: 0.0342\n",
            "Epoch 4/7\n",
            "60/60 [==============================] - 1s 9ms/step - loss: 0.0032 - accuracy: 0.2479 - mean_absolute_error: 0.0332\n",
            "Epoch 5/7\n",
            "60/60 [==============================] - 1s 9ms/step - loss: 0.0032 - accuracy: 0.2302 - mean_absolute_error: 0.0338\n",
            "Epoch 6/7\n",
            "60/60 [==============================] - 1s 9ms/step - loss: 0.0033 - accuracy: 0.2010 - mean_absolute_error: 0.0339\n",
            "Epoch 7/7\n",
            "60/60 [==============================] - 1s 12ms/step - loss: 0.0032 - accuracy: 0.3469 - mean_absolute_error: 0.0342\n",
            "6/6 [==============================] - 1s 6ms/step\n",
            "Epoch 1/7\n",
            "60/60 [==============================] - 3s 11ms/step - loss: 0.0040 - accuracy: 0.1354 - mean_absolute_error: 0.0393\n",
            "Epoch 2/7\n",
            "60/60 [==============================] - 1s 8ms/step - loss: 0.0037 - accuracy: 0.1458 - mean_absolute_error: 0.0347\n",
            "Epoch 3/7\n",
            "60/60 [==============================] - 1s 9ms/step - loss: 0.0033 - accuracy: 0.1745 - mean_absolute_error: 0.0345\n",
            "Epoch 4/7\n",
            "60/60 [==============================] - 1s 9ms/step - loss: 0.0033 - accuracy: 0.1422 - mean_absolute_error: 0.0343\n",
            "Epoch 5/7\n",
            "60/60 [==============================] - 1s 8ms/step - loss: 0.0031 - accuracy: 0.1063 - mean_absolute_error: 0.0331\n",
            "Epoch 6/7\n",
            "60/60 [==============================] - 1s 9ms/step - loss: 0.0029 - accuracy: 0.1453 - mean_absolute_error: 0.0328\n",
            "Epoch 7/7\n",
            "60/60 [==============================] - 1s 9ms/step - loss: 0.0031 - accuracy: 0.1318 - mean_absolute_error: 0.0340\n",
            "6/6 [==============================] - 0s 4ms/step\n",
            "Epoch 1/7\n",
            "60/60 [==============================] - 3s 13ms/step - loss: 0.0057 - accuracy: 0.0615 - mean_absolute_error: 0.0434\n",
            "Epoch 2/7\n",
            "60/60 [==============================] - 1s 12ms/step - loss: 0.0039 - accuracy: 0.0812 - mean_absolute_error: 0.0372\n",
            "Epoch 3/7\n",
            "60/60 [==============================] - 1s 12ms/step - loss: 0.0037 - accuracy: 0.0724 - mean_absolute_error: 0.0362\n",
            "Epoch 4/7\n",
            "60/60 [==============================] - 1s 9ms/step - loss: 0.0035 - accuracy: 0.0453 - mean_absolute_error: 0.0343\n",
            "Epoch 5/7\n",
            "60/60 [==============================] - 1s 8ms/step - loss: 0.0031 - accuracy: 0.0818 - mean_absolute_error: 0.0326\n",
            "Epoch 6/7\n",
            "60/60 [==============================] - 1s 8ms/step - loss: 0.0032 - accuracy: 0.0844 - mean_absolute_error: 0.0338\n",
            "Epoch 7/7\n",
            "60/60 [==============================] - 1s 9ms/step - loss: 0.0031 - accuracy: 0.0193 - mean_absolute_error: 0.0337\n",
            "6/6 [==============================] - 0s 4ms/step\n",
            "Epoch 1/7\n",
            "60/60 [==============================] - 3s 11ms/step - loss: 0.0043 - accuracy: 0.1005 - mean_absolute_error: 0.0395\n",
            "Epoch 2/7\n",
            "60/60 [==============================] - 1s 9ms/step - loss: 0.0035 - accuracy: 0.0141 - mean_absolute_error: 0.0351\n",
            "Epoch 3/7\n",
            "60/60 [==============================] - 1s 9ms/step - loss: 0.0033 - accuracy: 0.0698 - mean_absolute_error: 0.0340\n",
            "Epoch 4/7\n",
            "60/60 [==============================] - 0s 8ms/step - loss: 0.0031 - accuracy: 0.0833 - mean_absolute_error: 0.0335\n",
            "Epoch 5/7\n",
            "60/60 [==============================] - 1s 8ms/step - loss: 0.0032 - accuracy: 0.0589 - mean_absolute_error: 0.0333\n",
            "Epoch 6/7\n",
            "60/60 [==============================] - 1s 8ms/step - loss: 0.0031 - accuracy: 0.1625 - mean_absolute_error: 0.0330\n",
            "Epoch 7/7\n",
            "60/60 [==============================] - 1s 9ms/step - loss: 0.0029 - accuracy: 0.1437 - mean_absolute_error: 0.0324\n",
            "6/6 [==============================] - 0s 4ms/step\n",
            "Epoch 1/7\n",
            "60/60 [==============================] - 4s 10ms/step - loss: 0.0045 - accuracy: 0.0000e+00 - mean_absolute_error: 0.0402\n",
            "Epoch 2/7\n",
            "60/60 [==============================] - 1s 9ms/step - loss: 0.0035 - accuracy: 0.0198 - mean_absolute_error: 0.0349\n",
            "Epoch 3/7\n",
            "60/60 [==============================] - 1s 8ms/step - loss: 0.0031 - accuracy: 0.0875 - mean_absolute_error: 0.0334\n",
            "Epoch 4/7\n",
            "60/60 [==============================] - 1s 9ms/step - loss: 0.0033 - accuracy: 0.1766 - mean_absolute_error: 0.0344\n",
            "Epoch 5/7\n",
            "60/60 [==============================] - 0s 8ms/step - loss: 0.0032 - accuracy: 0.1703 - mean_absolute_error: 0.0332\n",
            "Epoch 6/7\n",
            "60/60 [==============================] - 1s 9ms/step - loss: 0.0031 - accuracy: 0.1120 - mean_absolute_error: 0.0339\n",
            "Epoch 7/7\n",
            "60/60 [==============================] - 1s 8ms/step - loss: 0.0030 - accuracy: 0.0208 - mean_absolute_error: 0.0318\n",
            "6/6 [==============================] - 0s 4ms/step\n",
            "Epoch 1/7\n",
            "60/60 [==============================] - 3s 11ms/step - loss: 0.0046 - accuracy: 0.1859 - mean_absolute_error: 0.0398\n",
            "Epoch 2/7\n",
            "60/60 [==============================] - 1s 9ms/step - loss: 0.0034 - accuracy: 0.0458 - mean_absolute_error: 0.0347\n",
            "Epoch 3/7\n",
            "60/60 [==============================] - 1s 8ms/step - loss: 0.0034 - accuracy: 0.0766 - mean_absolute_error: 0.0355\n",
            "Epoch 4/7\n",
            "60/60 [==============================] - 0s 8ms/step - loss: 0.0032 - accuracy: 0.0328 - mean_absolute_error: 0.0330\n",
            "Epoch 5/7\n",
            "60/60 [==============================] - 1s 10ms/step - loss: 0.0030 - accuracy: 0.0255 - mean_absolute_error: 0.0331\n",
            "Epoch 6/7\n",
            "60/60 [==============================] - 1s 11ms/step - loss: 0.0032 - accuracy: 0.0271 - mean_absolute_error: 0.0336\n",
            "Epoch 7/7\n",
            "60/60 [==============================] - 1s 9ms/step - loss: 0.0031 - accuracy: 0.0391 - mean_absolute_error: 0.0333\n",
            "6/6 [==============================] - 0s 4ms/step\n",
            "Epoch 1/7\n",
            "60/60 [==============================] - 3s 11ms/step - loss: 0.0046 - accuracy: 0.0656 - mean_absolute_error: 0.0408\n",
            "Epoch 2/7\n",
            "60/60 [==============================] - 0s 8ms/step - loss: 0.0036 - accuracy: 0.0193 - mean_absolute_error: 0.0355\n",
            "Epoch 3/7\n",
            "60/60 [==============================] - 0s 8ms/step - loss: 0.0033 - accuracy: 0.0125 - mean_absolute_error: 0.0342\n",
            "Epoch 4/7\n",
            "60/60 [==============================] - 0s 8ms/step - loss: 0.0032 - accuracy: 0.0047 - mean_absolute_error: 0.0337\n",
            "Epoch 5/7\n",
            "60/60 [==============================] - 1s 9ms/step - loss: 0.0030 - accuracy: 0.0073 - mean_absolute_error: 0.0328\n",
            "Epoch 6/7\n",
            "60/60 [==============================] - 1s 8ms/step - loss: 0.0032 - accuracy: 0.0203 - mean_absolute_error: 0.0340\n",
            "Epoch 7/7\n",
            "60/60 [==============================] - 1s 9ms/step - loss: 0.0031 - accuracy: 0.0323 - mean_absolute_error: 0.0329\n",
            "6/6 [==============================] - 0s 4ms/step\n",
            "Epoch 1/7\n",
            "60/60 [==============================] - 4s 12ms/step - loss: 0.0050 - accuracy: 0.0500 - mean_absolute_error: 0.0440\n",
            "Epoch 2/7\n",
            "60/60 [==============================] - 1s 9ms/step - loss: 0.0035 - accuracy: 0.0333 - mean_absolute_error: 0.0355\n",
            "Epoch 3/7\n",
            "60/60 [==============================] - 0s 8ms/step - loss: 0.0035 - accuracy: 0.0359 - mean_absolute_error: 0.0356\n",
            "Epoch 4/7\n",
            "60/60 [==============================] - 1s 9ms/step - loss: 0.0037 - accuracy: 0.2349 - mean_absolute_error: 0.0354\n",
            "Epoch 5/7\n",
            "60/60 [==============================] - 1s 8ms/step - loss: 0.0031 - accuracy: 0.1396 - mean_absolute_error: 0.0331\n",
            "Epoch 6/7\n",
            "60/60 [==============================] - 1s 8ms/step - loss: 0.0030 - accuracy: 0.1036 - mean_absolute_error: 0.0322\n",
            "Epoch 7/7\n",
            "60/60 [==============================] - 1s 8ms/step - loss: 0.0030 - accuracy: 0.0057 - mean_absolute_error: 0.0324\n",
            "6/6 [==============================] - 0s 4ms/step\n",
            "Epoch 1/7\n",
            "60/60 [==============================] - 3s 11ms/step - loss: 0.0045 - accuracy: 5.2083e-04 - mean_absolute_error: 0.0404\n",
            "Epoch 2/7\n",
            "60/60 [==============================] - 0s 8ms/step - loss: 0.0035 - accuracy: 0.0490 - mean_absolute_error: 0.0358\n",
            "Epoch 3/7\n",
            "60/60 [==============================] - 1s 9ms/step - loss: 0.0034 - accuracy: 0.0339 - mean_absolute_error: 0.0357\n",
            "Epoch 4/7\n",
            "60/60 [==============================] - 1s 9ms/step - loss: 0.0033 - accuracy: 0.1161 - mean_absolute_error: 0.0343\n",
            "Epoch 5/7\n",
            "60/60 [==============================] - 1s 8ms/step - loss: 0.0032 - accuracy: 0.0214 - mean_absolute_error: 0.0334\n",
            "Epoch 6/7\n",
            "60/60 [==============================] - 1s 9ms/step - loss: 0.0031 - accuracy: 0.0901 - mean_absolute_error: 0.0328\n",
            "Epoch 7/7\n",
            "60/60 [==============================] - 1s 12ms/step - loss: 0.0031 - accuracy: 0.0672 - mean_absolute_error: 0.0331\n",
            "6/6 [==============================] - 1s 6ms/step\n",
            "Epoch 1/7\n",
            "60/60 [==============================] - 3s 12ms/step - loss: 0.0044 - accuracy: 0.0547 - mean_absolute_error: 0.0405\n",
            "Epoch 2/7\n",
            "60/60 [==============================] - 1s 8ms/step - loss: 0.0036 - accuracy: 0.0896 - mean_absolute_error: 0.0355\n",
            "Epoch 3/7\n",
            "60/60 [==============================] - 1s 9ms/step - loss: 0.0036 - accuracy: 0.0406 - mean_absolute_error: 0.0360\n",
            "Epoch 4/7\n",
            "60/60 [==============================] - 1s 8ms/step - loss: 0.0034 - accuracy: 0.0328 - mean_absolute_error: 0.0346\n",
            "Epoch 5/7\n",
            "60/60 [==============================] - 1s 9ms/step - loss: 0.0031 - accuracy: 0.0021 - mean_absolute_error: 0.0327\n",
            "Epoch 6/7\n",
            "60/60 [==============================] - 0s 8ms/step - loss: 0.0030 - accuracy: 0.0177 - mean_absolute_error: 0.0334\n",
            "Epoch 7/7\n",
            "60/60 [==============================] - 1s 9ms/step - loss: 0.0032 - accuracy: 0.0464 - mean_absolute_error: 0.0330\n",
            "6/6 [==============================] - 0s 5ms/step\n",
            "Epoch 1/7\n",
            "60/60 [==============================] - 3s 13ms/step - loss: 0.0047 - accuracy: 0.1146 - mean_absolute_error: 0.0407\n",
            "Epoch 2/7\n",
            "60/60 [==============================] - 1s 12ms/step - loss: 0.0035 - accuracy: 0.0104 - mean_absolute_error: 0.0350\n",
            "Epoch 3/7\n",
            "60/60 [==============================] - 1s 11ms/step - loss: 0.0034 - accuracy: 0.0307 - mean_absolute_error: 0.0351\n",
            "Epoch 4/7\n",
            "60/60 [==============================] - 1s 8ms/step - loss: 0.0033 - accuracy: 0.0000e+00 - mean_absolute_error: 0.0344\n",
            "Epoch 5/7\n",
            "60/60 [==============================] - 1s 9ms/step - loss: 0.0032 - accuracy: 0.0828 - mean_absolute_error: 0.0336\n",
            "Epoch 6/7\n",
            "60/60 [==============================] - 0s 8ms/step - loss: 0.0029 - accuracy: 0.0172 - mean_absolute_error: 0.0319\n",
            "Epoch 7/7\n",
            "60/60 [==============================] - 1s 9ms/step - loss: 0.0030 - accuracy: 0.0229 - mean_absolute_error: 0.0329\n",
            "6/6 [==============================] - 0s 5ms/step\n"
          ]
        }
      ]
    },
    {
      "cell_type": "code",
      "source": [
        "RMSE"
      ],
      "metadata": {
        "id": "QBsvY2njMeSd",
        "colab": {
          "base_uri": "https://localhost:8080/"
        },
        "outputId": "f53c2d1a-c789-4b4a-dd21-145795ccf549"
      },
      "id": "QBsvY2njMeSd",
      "execution_count": 29,
      "outputs": [
        {
          "output_type": "execute_result",
          "data": {
            "text/plain": [
              "[0.0029562344548735757,\n",
              " 0.003390103560026484,\n",
              " 0.0029750504867838887,\n",
              " 0.0029169913829548847,\n",
              " 0.0030763748213660865,\n",
              " 0.002909836800823472,\n",
              " 0.003012054391690794,\n",
              " 0.003004586256432762,\n",
              " 0.003130393475191189,\n",
              " 0.0029528137270686773,\n",
              " 0.0031359985839917682,\n",
              " 0.0036761273818225575,\n",
              " 0.0029869547525584027,\n",
              " 0.0029951476926126795,\n",
              " 0.002922179731807263]"
            ]
          },
          "metadata": {},
          "execution_count": 29
        }
      ]
    },
    {
      "cell_type": "code",
      "source": [
        "Accuracy"
      ],
      "metadata": {
        "id": "_j2RncCzMeO7",
        "colab": {
          "base_uri": "https://localhost:8080/"
        },
        "outputId": "f0cecd85-755b-40cc-d237-ba22d2ebad2f"
      },
      "id": "_j2RncCzMeO7",
      "execution_count": 30,
      "outputs": [
        {
          "output_type": "execute_result",
          "data": {
            "text/plain": [
              "[58.9594188258167,\n",
              " 39.559787346930044,\n",
              " 54.663865017207215,\n",
              " 61.290184947800796,\n",
              " 61.41432612267689,\n",
              " 60.495532245390585,\n",
              " 55.9401924404615,\n",
              " 62.26093310525664,\n",
              " 49.89838781428251,\n",
              " 63.137306780940236,\n",
              " 50.737050319109386,\n",
              " 37.18220339020688,\n",
              " 63.450295328482895,\n",
              " 54.361687813865146,\n",
              " 60.53508690752302]"
            ]
          },
          "metadata": {},
          "execution_count": 30
        }
      ]
    },
    {
      "cell_type": "code",
      "source": [
        "Quasilikelihood"
      ],
      "metadata": {
        "id": "MfCHfcYMMeLo",
        "colab": {
          "base_uri": "https://localhost:8080/"
        },
        "outputId": "dfd80873-5358-4abb-aa9d-3d612032aa84"
      },
      "id": "MfCHfcYMMeLo",
      "execution_count": 31,
      "outputs": [
        {
          "output_type": "execute_result",
          "data": {
            "text/plain": [
              "[0.12282595891485601,\n",
              " 0.19873084107160496,\n",
              " 0.13671975352045415,\n",
              " 0.11797461057829721,\n",
              " 0.1319633052103956,\n",
              " 0.11841007198882851,\n",
              " 0.1331002779989034,\n",
              " 0.12061879172379986,\n",
              " 0.1541089412845746,\n",
              " 0.11577963613328214,\n",
              " 0.15059008520762482,\n",
              " 0.20696443528373148,\n",
              " 0.11893283213798404,\n",
              " 0.13816603745721429,\n",
              " 0.1188229353699852]"
            ]
          },
          "metadata": {},
          "execution_count": 31
        }
      ]
    },
    {
      "cell_type": "code",
      "source": [
        "# Best model\n",
        "plt.plot(df_for_date[\"Date\"][:1750], test)\n",
        "plt.plot(df_for_date[\"Date\"][:1750], true_predictions) \n",
        "plt.ylabel(\"DJIA Realized Volatility\")\n",
        "plt.legend(['Actuals', 'Forecasts'])"
      ],
      "metadata": {
        "id": "f5ej3NeNNiLS",
        "colab": {
          "base_uri": "https://localhost:8080/",
          "height": 448
        },
        "outputId": "37e6bbfd-862c-44dd-d3a5-6af84e07cbd3"
      },
      "id": "f5ej3NeNNiLS",
      "execution_count": 32,
      "outputs": [
        {
          "output_type": "execute_result",
          "data": {
            "text/plain": [
              "<matplotlib.legend.Legend at 0x7f108dd34d30>"
            ]
          },
          "metadata": {},
          "execution_count": 32
        },
        {
          "output_type": "display_data",
          "data": {
            "text/plain": [
              "<Figure size 640x480 with 1 Axes>"
            ],
            "image/png": "[encoded data removed]"
          },
          "metadata": {}
        }
      ]
    },
    {
      "cell_type": "markdown",
      "source": [
        "# H=22 Forecasts"
      ],
      "metadata": {
        "id": "yV4GA4bNMaR5"
      },
      "id": "yV4GA4bNMaR5"
    },
    {
      "cell_type": "code",
      "source": [
        "RMSE = []\n",
        "Accuracy = []\n",
        "Quasilikelihood=[]"
      ],
      "metadata": {
        "id": "4F7qvLYFMbOU"
      },
      "id": "4F7qvLYFMbOU",
      "execution_count": 33,
      "outputs": []
    },
    {
      "cell_type": "code",
      "source": [
        "def df_to_X_y(window_size,test,scaled_test_input):\n",
        "  X=[]\n",
        "  y=[]\n",
        "  for i in range(int(len(test)/22)):\n",
        "    row = [[a] for a in scaled_test_input[i*22:(i*22)+window_size]]\n",
        "    X.append(row)\n",
        "  return np.array(X)"
      ],
      "metadata": {
        "id": "2lCywvLAOf3e"
      },
      "id": "2lCywvLAOf3e",
      "execution_count": 34,
      "outputs": []
    },
    {
      "cell_type": "code",
      "source": [
        "for i in range (15):\n",
        "  n_features = 2\n",
        "  n_input = 126\n",
        "  train = df.iloc[:int(len(df['Realised'])*0.7)]\n",
        "  train = train[int(len(train)*0.5):]\n",
        "  test = df.iloc[int(len(df['Realised'])*0.7)-n_input:]\n",
        "  scaler.fit(train)\n",
        "  scaled_train_input = scaler.transform(train)\n",
        "  scaled_test_input = scaler.transform(test)\n",
        "  train = df[\"Realised\"].iloc[:int(len(df['Realised'])*0.7)]\n",
        "  train = train[int(len(train)*0.5):]\n",
        "  test = df[\"Realised\"].iloc[int(len(df['Realised'])*0.7):]\n",
        "  train = train.array.reshape(-1, 1)\n",
        "  test = test.array.reshape(-1, 1)\n",
        "  scaler.fit(train)\n",
        "  scaled_train_target = scaler.transform(train)\n",
        "  scaled_test_target = scaler.transform(test)\n",
        "  generator = TimeseriesGenerator(scaled_train_input, scaled_train_target, length=n_input, batch_size=32)\n",
        "  model = Sequential()\n",
        "  model.add(LSTM(126, activation='tanh', input_shape=(n_input, n_features)))\n",
        "  model.add(Dense(22))\n",
        "  model.compile(optimizer='adam', loss='mse', metrics=[\"accuracy\", \"mean_absolute_error\"])\n",
        "  model.fit(generator,epochs=7)\n",
        "  test=test[:len(test)-17]\n",
        "  X = df_to_X_y(n_input,test,scaled_test_input)\n",
        "  X=X.reshape(int(((len(test)/22))), n_input, n_features)\n",
        "  y_hat=model.predict(X)\n",
        "  y_hat=y_hat.reshape(len(test),1)\n",
        "  true_predictions = scaler.inverse_transform(y_hat)\n",
        "  RMSE.append(np.sum(np.sqrt((test-true_predictions)**2))/len(test))\n",
        "  Accuracy.append((1-np.sum(np.sqrt((test-true_predictions)**2)/test)/(len(test)))*100)\n",
        "  Quasilikelihood.append(np.sum(true_predictions/test-np.log(true_predictions/test)-1)/len(test))"
      ],
      "metadata": {
        "id": "MksWiGm6Me86",
        "colab": {
          "base_uri": "https://localhost:8080/"
        },
        "outputId": "e6053c6f-35b4-4fc1-8669-4eb84fd82912"
      },
      "id": "MksWiGm6Me86",
      "execution_count": 35,
      "outputs": [
        {
          "output_type": "stream",
          "name": "stdout",
          "text": [
            "Epoch 1/7\n",
            "60/60 [==============================] - 3s 12ms/step - loss: 0.0053 - accuracy: 0.0333 - mean_absolute_error: 0.0447\n",
            "Epoch 2/7\n",
            "60/60 [==============================] - 1s 9ms/step - loss: 0.0040 - accuracy: 0.0964 - mean_absolute_error: 0.0358\n",
            "Epoch 3/7\n",
            "60/60 [==============================] - 1s 8ms/step - loss: 0.0039 - accuracy: 0.0036 - mean_absolute_error: 0.0365\n",
            "Epoch 4/7\n",
            "60/60 [==============================] - 1s 8ms/step - loss: 0.0034 - accuracy: 0.0250 - mean_absolute_error: 0.0347\n",
            "Epoch 5/7\n",
            "60/60 [==============================] - 1s 9ms/step - loss: 0.0033 - accuracy: 0.0229 - mean_absolute_error: 0.0337\n",
            "Epoch 6/7\n",
            "60/60 [==============================] - 0s 8ms/step - loss: 0.0031 - accuracy: 0.0135 - mean_absolute_error: 0.0332\n",
            "Epoch 7/7\n",
            "60/60 [==============================] - 1s 8ms/step - loss: 0.0031 - accuracy: 0.0161 - mean_absolute_error: 0.0332\n",
            "3/3 [==============================] - 0s 9ms/step\n",
            "Epoch 1/7\n",
            "60/60 [==============================] - 3s 11ms/step - loss: 0.0050 - accuracy: 0.1146 - mean_absolute_error: 0.0432\n",
            "Epoch 2/7\n",
            "60/60 [==============================] - 1s 8ms/step - loss: 0.0042 - accuracy: 0.0474 - mean_absolute_error: 0.0370\n",
            "Epoch 3/7\n",
            "60/60 [==============================] - 1s 8ms/step - loss: 0.0033 - accuracy: 0.0224 - mean_absolute_error: 0.0341\n",
            "Epoch 4/7\n",
            "60/60 [==============================] - 1s 8ms/step - loss: 0.0032 - accuracy: 0.0672 - mean_absolute_error: 0.0339\n",
            "Epoch 5/7\n",
            "60/60 [==============================] - 0s 8ms/step - loss: 0.0032 - accuracy: 0.1047 - mean_absolute_error: 0.0342\n",
            "Epoch 6/7\n",
            "60/60 [==============================] - 1s 8ms/step - loss: 0.0030 - accuracy: 0.0359 - mean_absolute_error: 0.0326\n",
            "Epoch 7/7\n",
            "60/60 [==============================] - 1s 8ms/step - loss: 0.0030 - accuracy: 0.0443 - mean_absolute_error: 0.0328\n",
            "3/3 [==============================] - 0s 6ms/step\n",
            "Epoch 1/7\n",
            "60/60 [==============================] - 3s 11ms/step - loss: 0.0043 - accuracy: 0.0172 - mean_absolute_error: 0.0409\n",
            "Epoch 2/7\n",
            "60/60 [==============================] - 1s 9ms/step - loss: 0.0039 - accuracy: 0.0172 - mean_absolute_error: 0.0370\n",
            "Epoch 3/7\n",
            "60/60 [==============================] - 1s 9ms/step - loss: 0.0032 - accuracy: 0.1073 - mean_absolute_error: 0.0335\n",
            "Epoch 4/7\n",
            "60/60 [==============================] - 1s 8ms/step - loss: 0.0031 - accuracy: 0.0469 - mean_absolute_error: 0.0331\n",
            "Epoch 5/7\n",
            "60/60 [==============================] - 1s 9ms/step - loss: 0.0032 - accuracy: 0.1667 - mean_absolute_error: 0.0333\n",
            "Epoch 6/7\n",
            "60/60 [==============================] - 1s 12ms/step - loss: 0.0030 - accuracy: 0.0359 - mean_absolute_error: 0.0326\n",
            "Epoch 7/7\n",
            "60/60 [==============================] - 1s 11ms/step - loss: 0.0031 - accuracy: 0.0016 - mean_absolute_error: 0.0331\n",
            "3/3 [==============================] - 0s 7ms/step\n",
            "Epoch 1/7\n",
            "60/60 [==============================] - 3s 11ms/step - loss: 0.0043 - accuracy: 0.0063 - mean_absolute_error: 0.0394\n",
            "Epoch 2/7\n",
            "60/60 [==============================] - 1s 8ms/step - loss: 0.0040 - accuracy: 0.0130 - mean_absolute_error: 0.0378\n",
            "Epoch 3/7\n",
            "60/60 [==============================] - 1s 9ms/step - loss: 0.0032 - accuracy: 0.1109 - mean_absolute_error: 0.0335\n",
            "Epoch 4/7\n",
            "60/60 [==============================] - 1s 9ms/step - loss: 0.0033 - accuracy: 0.0766 - mean_absolute_error: 0.0341\n",
            "Epoch 5/7\n",
            "60/60 [==============================] - 1s 9ms/step - loss: 0.0031 - accuracy: 0.0990 - mean_absolute_error: 0.0328\n",
            "Epoch 6/7\n",
            "60/60 [==============================] - 1s 8ms/step - loss: 0.0030 - accuracy: 0.1198 - mean_absolute_error: 0.0326\n",
            "Epoch 7/7\n",
            "60/60 [==============================] - 1s 8ms/step - loss: 0.0030 - accuracy: 0.1396 - mean_absolute_error: 0.0329\n"
          ]
        },
        {
          "output_type": "stream",
          "name": "stderr",
          "text": [
            "WARNING:tensorflow:5 out of the last 16 calls to <function Model.make_predict_function.<locals>.predict_function at 0x7f0f9cf3a290> triggered tf.function retracing. Tracing is expensive and the excessive number of tracings could be due to (1) creating @tf.function repeatedly in a loop, (2) passing tensors with different shapes, (3) passing Python objects instead of tensors. For (1), please define your @tf.function outside of the loop. For (2), @tf.function has reduce_retracing=True option that can avoid unnecessary retracing. For (3), please refer to https://www.tensorflow.org/guide/function#controlling_retracing and https://www.tensorflow.org/api_docs/python/tf/function for  more details.\n"
          ]
        },
        {
          "output_type": "stream",
          "name": "stdout",
          "text": [
            "3/3 [==============================] - 0s 6ms/step\n",
            "Epoch 1/7\n",
            "60/60 [==============================] - 3s 13ms/step - loss: 0.0048 - accuracy: 0.0031 - mean_absolute_error: 0.0416\n",
            "Epoch 2/7\n",
            "60/60 [==============================] - 1s 8ms/step - loss: 0.0036 - accuracy: 0.0130 - mean_absolute_error: 0.0351\n",
            "Epoch 3/7\n",
            "60/60 [==============================] - 0s 8ms/step - loss: 0.0050 - accuracy: 0.0125 - mean_absolute_error: 0.0408\n",
            "Epoch 4/7\n",
            "60/60 [==============================] - 0s 8ms/step - loss: 0.0036 - accuracy: 0.1099 - mean_absolute_error: 0.0349\n",
            "Epoch 5/7\n",
            "60/60 [==============================] - 1s 8ms/step - loss: 0.0032 - accuracy: 0.0276 - mean_absolute_error: 0.0333\n",
            "Epoch 6/7\n",
            "60/60 [==============================] - 1s 8ms/step - loss: 0.0032 - accuracy: 0.0359 - mean_absolute_error: 0.0335\n",
            "Epoch 7/7\n",
            "60/60 [==============================] - 1s 8ms/step - loss: 0.0032 - accuracy: 0.0010 - mean_absolute_error: 0.0343\n"
          ]
        },
        {
          "output_type": "stream",
          "name": "stderr",
          "text": [
            "WARNING:tensorflow:5 out of the last 13 calls to <function Model.make_predict_function.<locals>.predict_function at 0x7f0fa47c12d0> triggered tf.function retracing. Tracing is expensive and the excessive number of tracings could be due to (1) creating @tf.function repeatedly in a loop, (2) passing tensors with different shapes, (3) passing Python objects instead of tensors. For (1), please define your @tf.function outside of the loop. For (2), @tf.function has reduce_retracing=True option that can avoid unnecessary retracing. For (3), please refer to https://www.tensorflow.org/guide/function#controlling_retracing and https://www.tensorflow.org/api_docs/python/tf/function for  more details.\n"
          ]
        },
        {
          "output_type": "stream",
          "name": "stdout",
          "text": [
            "3/3 [==============================] - 0s 7ms/step\n",
            "Epoch 1/7\n",
            "60/60 [==============================] - 3s 10ms/step - loss: 0.0046 - accuracy: 0.0484 - mean_absolute_error: 0.0403\n",
            "Epoch 2/7\n",
            "60/60 [==============================] - 1s 8ms/step - loss: 0.0038 - accuracy: 0.0141 - mean_absolute_error: 0.0359\n",
            "Epoch 3/7\n",
            "60/60 [==============================] - 1s 9ms/step - loss: 0.0036 - accuracy: 0.0500 - mean_absolute_error: 0.0355\n",
            "Epoch 4/7\n",
            "60/60 [==============================] - 1s 8ms/step - loss: 0.0032 - accuracy: 0.1036 - mean_absolute_error: 0.0335\n",
            "Epoch 5/7\n",
            "60/60 [==============================] - 0s 8ms/step - loss: 0.0032 - accuracy: 0.0568 - mean_absolute_error: 0.0338\n",
            "Epoch 6/7\n",
            "60/60 [==============================] - 1s 8ms/step - loss: 0.0032 - accuracy: 0.0276 - mean_absolute_error: 0.0335\n",
            "Epoch 7/7\n",
            "60/60 [==============================] - 1s 9ms/step - loss: 0.0031 - accuracy: 0.0307 - mean_absolute_error: 0.0334\n",
            "3/3 [==============================] - 1s 6ms/step\n",
            "Epoch 1/7\n",
            "60/60 [==============================] - 3s 11ms/step - loss: 0.0052 - accuracy: 0.0000e+00 - mean_absolute_error: 0.0430\n",
            "Epoch 2/7\n",
            "60/60 [==============================] - 1s 9ms/step - loss: 0.0044 - accuracy: 5.2083e-04 - mean_absolute_error: 0.0385\n",
            "Epoch 3/7\n",
            "60/60 [==============================] - 1s 8ms/step - loss: 0.0035 - accuracy: 0.0198 - mean_absolute_error: 0.0360\n",
            "Epoch 4/7\n",
            "60/60 [==============================] - 1s 9ms/step - loss: 0.0033 - accuracy: 0.1083 - mean_absolute_error: 0.0339\n",
            "Epoch 5/7\n",
            "60/60 [==============================] - 0s 8ms/step - loss: 0.0033 - accuracy: 5.2083e-04 - mean_absolute_error: 0.0343\n",
            "Epoch 6/7\n",
            "60/60 [==============================] - 1s 8ms/step - loss: 0.0031 - accuracy: 0.0089 - mean_absolute_error: 0.0332\n",
            "Epoch 7/7\n",
            "60/60 [==============================] - 0s 8ms/step - loss: 0.0031 - accuracy: 5.2083e-04 - mean_absolute_error: 0.0324\n",
            "3/3 [==============================] - 0s 6ms/step\n",
            "Epoch 1/7\n",
            "60/60 [==============================] - 3s 10ms/step - loss: 0.0059 - accuracy: 0.0516 - mean_absolute_error: 0.0461\n",
            "Epoch 2/7\n",
            "60/60 [==============================] - 1s 9ms/step - loss: 0.0042 - accuracy: 0.0651 - mean_absolute_error: 0.0380\n",
            "Epoch 3/7\n",
            "60/60 [==============================] - 1s 11ms/step - loss: 0.0048 - accuracy: 0.2781 - mean_absolute_error: 0.0410\n",
            "Epoch 4/7\n",
            "60/60 [==============================] - 1s 11ms/step - loss: 0.0035 - accuracy: 0.0172 - mean_absolute_error: 0.0345\n",
            "Epoch 5/7\n",
            "60/60 [==============================] - 1s 11ms/step - loss: 0.0033 - accuracy: 0.0359 - mean_absolute_error: 0.0339\n",
            "Epoch 6/7\n",
            "60/60 [==============================] - 1s 8ms/step - loss: 0.0033 - accuracy: 0.0755 - mean_absolute_error: 0.0340\n",
            "Epoch 7/7\n",
            "60/60 [==============================] - 0s 8ms/step - loss: 0.0031 - accuracy: 0.0755 - mean_absolute_error: 0.0330\n",
            "3/3 [==============================] - 0s 7ms/step\n",
            "Epoch 1/7\n",
            "60/60 [==============================] - 3s 10ms/step - loss: 0.0056 - accuracy: 0.0000e+00 - mean_absolute_error: 0.0442\n",
            "Epoch 2/7\n",
            "60/60 [==============================] - 1s 9ms/step - loss: 0.0039 - accuracy: 0.0078 - mean_absolute_error: 0.0354\n",
            "Epoch 3/7\n",
            "60/60 [==============================] - 1s 8ms/step - loss: 0.0040 - accuracy: 0.0188 - mean_absolute_error: 0.0383\n",
            "Epoch 4/7\n",
            "60/60 [==============================] - 1s 9ms/step - loss: 0.0032 - accuracy: 0.0182 - mean_absolute_error: 0.0340\n",
            "Epoch 5/7\n",
            "60/60 [==============================] - 0s 8ms/step - loss: 0.0033 - accuracy: 0.0063 - mean_absolute_error: 0.0340\n",
            "Epoch 6/7\n",
            "60/60 [==============================] - 1s 9ms/step - loss: 0.0034 - accuracy: 0.1271 - mean_absolute_error: 0.0344\n",
            "Epoch 7/7\n",
            "60/60 [==============================] - 1s 8ms/step - loss: 0.0031 - accuracy: 0.2073 - mean_absolute_error: 0.0333\n",
            "3/3 [==============================] - 0s 6ms/step\n",
            "Epoch 1/7\n",
            "60/60 [==============================] - 3s 13ms/step - loss: 0.0041 - accuracy: 0.0771 - mean_absolute_error: 0.0403\n",
            "Epoch 2/7\n",
            "60/60 [==============================] - 1s 8ms/step - loss: 0.0038 - accuracy: 0.0000e+00 - mean_absolute_error: 0.0362\n",
            "Epoch 3/7\n",
            "60/60 [==============================] - 1s 9ms/step - loss: 0.0035 - accuracy: 0.0016 - mean_absolute_error: 0.0342\n",
            "Epoch 4/7\n",
            "60/60 [==============================] - 1s 8ms/step - loss: 0.0032 - accuracy: 0.0125 - mean_absolute_error: 0.0342\n",
            "Epoch 5/7\n",
            "60/60 [==============================] - 1s 8ms/step - loss: 0.0029 - accuracy: 0.0219 - mean_absolute_error: 0.0317\n",
            "Epoch 6/7\n",
            "60/60 [==============================] - 1s 8ms/step - loss: 0.0030 - accuracy: 0.0073 - mean_absolute_error: 0.0330\n",
            "Epoch 7/7\n",
            "60/60 [==============================] - 1s 9ms/step - loss: 0.0029 - accuracy: 0.0036 - mean_absolute_error: 0.0320\n",
            "3/3 [==============================] - 0s 7ms/step\n",
            "Epoch 1/7\n",
            "60/60 [==============================] - 3s 10ms/step - loss: 0.0045 - accuracy: 0.0000e+00 - mean_absolute_error: 0.0414\n",
            "Epoch 2/7\n",
            "60/60 [==============================] - 1s 9ms/step - loss: 0.0037 - accuracy: 0.0083 - mean_absolute_error: 0.0367\n",
            "Epoch 3/7\n",
            "60/60 [==============================] - 1s 8ms/step - loss: 0.0037 - accuracy: 0.0401 - mean_absolute_error: 0.0354\n",
            "Epoch 4/7\n",
            "60/60 [==============================] - 1s 8ms/step - loss: 0.0034 - accuracy: 0.0042 - mean_absolute_error: 0.0348\n",
            "Epoch 5/7\n",
            "60/60 [==============================] - 0s 8ms/step - loss: 0.0032 - accuracy: 0.0078 - mean_absolute_error: 0.0334\n",
            "Epoch 6/7\n",
            "60/60 [==============================] - 1s 8ms/step - loss: 0.0033 - accuracy: 0.0099 - mean_absolute_error: 0.0340\n",
            "Epoch 7/7\n",
            "60/60 [==============================] - 1s 10ms/step - loss: 0.0030 - accuracy: 0.0516 - mean_absolute_error: 0.0332\n",
            "3/3 [==============================] - 1s 9ms/step\n",
            "Epoch 1/7\n",
            "60/60 [==============================] - 4s 11ms/step - loss: 0.0045 - accuracy: 0.0323 - mean_absolute_error: 0.0418\n",
            "Epoch 2/7\n",
            "60/60 [==============================] - 1s 9ms/step - loss: 0.0042 - accuracy: 0.0031 - mean_absolute_error: 0.0371\n",
            "Epoch 3/7\n",
            "60/60 [==============================] - 1s 9ms/step - loss: 0.0042 - accuracy: 0.0000e+00 - mean_absolute_error: 0.0387\n",
            "Epoch 4/7\n",
            "60/60 [==============================] - 1s 9ms/step - loss: 0.0033 - accuracy: 0.0016 - mean_absolute_error: 0.0345\n",
            "Epoch 5/7\n",
            "60/60 [==============================] - 1s 8ms/step - loss: 0.0031 - accuracy: 0.0542 - mean_absolute_error: 0.0325\n",
            "Epoch 6/7\n",
            "60/60 [==============================] - 1s 9ms/step - loss: 0.0031 - accuracy: 0.0286 - mean_absolute_error: 0.0331\n",
            "Epoch 7/7\n",
            "60/60 [==============================] - 1s 8ms/step - loss: 0.0032 - accuracy: 0.0167 - mean_absolute_error: 0.0330\n",
            "3/3 [==============================] - 0s 6ms/step\n",
            "Epoch 1/7\n",
            "60/60 [==============================] - 3s 11ms/step - loss: 0.0049 - accuracy: 0.0214 - mean_absolute_error: 0.0407\n",
            "Epoch 2/7\n",
            "60/60 [==============================] - 1s 10ms/step - loss: 0.0038 - accuracy: 0.1703 - mean_absolute_error: 0.0373\n",
            "Epoch 3/7\n",
            "60/60 [==============================] - 1s 11ms/step - loss: 0.0035 - accuracy: 0.1365 - mean_absolute_error: 0.0348\n",
            "Epoch 4/7\n",
            "60/60 [==============================] - 1s 11ms/step - loss: 0.0034 - accuracy: 0.0469 - mean_absolute_error: 0.0351\n",
            "Epoch 5/7\n",
            "60/60 [==============================] - 1s 9ms/step - loss: 0.0031 - accuracy: 0.0146 - mean_absolute_error: 0.0329\n",
            "Epoch 6/7\n",
            "60/60 [==============================] - 1s 9ms/step - loss: 0.0034 - accuracy: 0.0359 - mean_absolute_error: 0.0353\n",
            "Epoch 7/7\n",
            "60/60 [==============================] - 1s 8ms/step - loss: 0.0030 - accuracy: 0.0182 - mean_absolute_error: 0.0325\n",
            "3/3 [==============================] - 0s 6ms/step\n",
            "Epoch 1/7\n",
            "60/60 [==============================] - 3s 11ms/step - loss: 0.0054 - accuracy: 5.2083e-04 - mean_absolute_error: 0.0416\n",
            "Epoch 2/7\n",
            "60/60 [==============================] - 1s 9ms/step - loss: 0.0042 - accuracy: 0.0031 - mean_absolute_error: 0.0379\n",
            "Epoch 3/7\n",
            "60/60 [==============================] - 1s 8ms/step - loss: 0.0044 - accuracy: 0.0000e+00 - mean_absolute_error: 0.0383\n",
            "Epoch 4/7\n",
            "60/60 [==============================] - 1s 9ms/step - loss: 0.0036 - accuracy: 0.0370 - mean_absolute_error: 0.0370\n",
            "Epoch 5/7\n",
            "60/60 [==============================] - 1s 9ms/step - loss: 0.0032 - accuracy: 0.0391 - mean_absolute_error: 0.0342\n",
            "Epoch 6/7\n",
            "60/60 [==============================] - 1s 9ms/step - loss: 0.0032 - accuracy: 0.0333 - mean_absolute_error: 0.0335\n",
            "Epoch 7/7\n",
            "60/60 [==============================] - 1s 8ms/step - loss: 0.0031 - accuracy: 0.0135 - mean_absolute_error: 0.0332\n",
            "3/3 [==============================] - 0s 6ms/step\n",
            "Epoch 1/7\n",
            "60/60 [==============================] - 3s 11ms/step - loss: 0.0045 - accuracy: 0.0000e+00 - mean_absolute_error: 0.0418\n",
            "Epoch 2/7\n",
            "60/60 [==============================] - 1s 9ms/step - loss: 0.0036 - accuracy: 0.0000e+00 - mean_absolute_error: 0.0368\n",
            "Epoch 3/7\n",
            "60/60 [==============================] - 1s 8ms/step - loss: 0.0035 - accuracy: 0.0052 - mean_absolute_error: 0.0359\n",
            "Epoch 4/7\n",
            "60/60 [==============================] - 1s 8ms/step - loss: 0.0033 - accuracy: 0.0130 - mean_absolute_error: 0.0344\n",
            "Epoch 5/7\n",
            "60/60 [==============================] - 1s 9ms/step - loss: 0.0032 - accuracy: 0.0151 - mean_absolute_error: 0.0329\n",
            "Epoch 6/7\n",
            "60/60 [==============================] - 1s 8ms/step - loss: 0.0033 - accuracy: 0.0000e+00 - mean_absolute_error: 0.0344\n",
            "Epoch 7/7\n",
            "60/60 [==============================] - 1s 8ms/step - loss: 0.0031 - accuracy: 0.0245 - mean_absolute_error: 0.0329\n",
            "3/3 [==============================] - 0s 6ms/step\n"
          ]
        }
      ]
    },
    {
      "cell_type": "code",
      "source": [
        "RMSE"
      ],
      "metadata": {
        "id": "iOh59PD7Me5z",
        "colab": {
          "base_uri": "https://localhost:8080/"
        },
        "outputId": "fc190281-a7da-48f7-d52a-18cc305f399a"
      },
      "id": "iOh59PD7Me5z",
      "execution_count": 36,
      "outputs": [
        {
          "output_type": "execute_result",
          "data": {
            "text/plain": [
              "[0.003226040168194333,\n",
              " 0.0033317710624826496,\n",
              " 0.003539618982320911,\n",
              " 0.003354631803435772,\n",
              " 0.003262988408139391,\n",
              " 0.003344559534522512,\n",
              " 0.0033324276646357906,\n",
              " 0.0033325555656617497,\n",
              " 0.003210035677712677,\n",
              " 0.003613563189087096,\n",
              " 0.003263000262717218,\n",
              " 0.0036893984662559266,\n",
              " 0.0032685897907280843,\n",
              " 0.0032647943081006384,\n",
              " 0.0033181892768227566]"
            ]
          },
          "metadata": {},
          "execution_count": 36
        }
      ]
    },
    {
      "cell_type": "code",
      "source": [
        "Accuracy"
      ],
      "metadata": {
        "id": "r1wBg0mBMe2x",
        "colab": {
          "base_uri": "https://localhost:8080/"
        },
        "outputId": "8b764d1e-63b6-4b53-ff0f-fe3552d74643"
      },
      "id": "r1wBg0mBMe2x",
      "execution_count": 37,
      "outputs": [
        {
          "output_type": "execute_result",
          "data": {
            "text/plain": [
              "[60.901591693961834,\n",
              " 51.7567788226266,\n",
              " 49.50126675404518,\n",
              " 58.73253084044777,\n",
              " 61.00294665944469,\n",
              " 58.12812092943194,\n",
              " 51.96871732668242,\n",
              " 53.00484178517833,\n",
              " 57.55490739923913,\n",
              " 43.11139546460572,\n",
              " 56.92091984147394,\n",
              " 42.47970169372513,\n",
              " 56.370239614283555,\n",
              " 56.59677932181842,\n",
              " 50.45223506320162]"
            ]
          },
          "metadata": {},
          "execution_count": 37
        }
      ]
    },
    {
      "cell_type": "code",
      "source": [
        "Quasilikelihood"
      ],
      "metadata": {
        "id": "DETomuRGMe0L",
        "colab": {
          "base_uri": "https://localhost:8080/"
        },
        "outputId": "1f345c40-bcec-4b6d-c2e4-fd7a814d85f5"
      },
      "id": "DETomuRGMe0L",
      "execution_count": 38,
      "outputs": [
        {
          "output_type": "execute_result",
          "data": {
            "text/plain": [
              "[0.13175474164703596,\n",
              " 0.15332036868887172,\n",
              " 0.16398469168400187,\n",
              " 0.13788625002792965,\n",
              " 0.13612474705435976,\n",
              " 0.14069210768781357,\n",
              " 0.15208518628402187,\n",
              " 0.14977832144826228,\n",
              " 0.13636810847156233,\n",
              " 0.1862643355131847,\n",
              " 0.13833907404402093,\n",
              " 0.19028301968612965,\n",
              " 0.138978572476362,\n",
              " 0.13865921038169574,\n",
              " 0.15792608783605772]"
            ]
          },
          "metadata": {},
          "execution_count": 38
        }
      ]
    },
    {
      "cell_type": "code",
      "source": [
        "# Best model\n",
        "plt.plot(df_for_date[\"Date\"][:1738], test)\n",
        "plt.plot(df_for_date[\"Date\"][:1738], true_predictions) \n",
        "plt.ylabel(\"DJIA Realized Volatility\")\n",
        "plt.legend(['Actuals', 'Forecasts'])"
      ],
      "metadata": {
        "id": "1__CSxioN1nB",
        "colab": {
          "base_uri": "https://localhost:8080/",
          "height": 448
        },
        "outputId": "b7a0dfa9-95a4-4c55-f8e2-9c50b54ca766"
      },
      "id": "1__CSxioN1nB",
      "execution_count": 39,
      "outputs": [
        {
          "output_type": "execute_result",
          "data": {
            "text/plain": [
              "<matplotlib.legend.Legend at 0x7f0f9cc23220>"
            ]
          },
          "metadata": {},
          "execution_count": 39
        },
        {
          "output_type": "display_data",
          "data": {
            "text/plain": [
              "<Figure size 640x480 with 1 Axes>"
            ],
            "image/png": "[encoded data removed]"
          },
          "metadata": {}
        }
      ]
    },
    {
      "cell_type": "code",
      "source": [],
      "metadata": {
        "id": "3XyEP_guyqCm"
      },
      "id": "3XyEP_guyqCm",
      "execution_count": null,
      "outputs": []
    }
  ],
  "metadata": {
    "kernelspec": {
      "display_name": "Python 3 (ipykernel)",
      "language": "python",
      "name": "python3"
    },
    "language_info": {
      "codemirror_mode": {
        "name": "ipython",
        "version": 3
      },
      "file_extension": ".py",
      "mimetype": "text/x-python",
      "name": "python",
      "nbconvert_exporter": "python",
      "pygments_lexer": "ipython3",
      "version": "3.9.12"
    },
    "colab": {
      "provenance": [],
      "gpuType": "T4"
    },
    "gpuClass": "standard",
    "accelerator": "GPU"
  },
  "nbformat": 4,
  "nbformat_minor": 5
}