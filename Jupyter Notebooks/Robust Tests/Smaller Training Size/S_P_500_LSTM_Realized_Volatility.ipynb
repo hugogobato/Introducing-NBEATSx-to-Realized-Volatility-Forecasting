{
  "cells": [
    {
      "cell_type": "code",
      "execution_count": null,
      "id": "79f12d44",
      "metadata": {
        "id": "79f12d44"
      },
      "outputs": [],
      "source": [
        "import pandas as pd\n",
        "import numpy as np\n",
        "import matplotlib.pyplot as plt\n",
        "import scipy\n",
        "import scipy.stats"
      ]
    },
    {
      "cell_type": "code",
      "source": [
        "from google.colab import drive\n",
        "drive.mount(\"/content/drive\")"
      ],
      "metadata": {
        "id": "a445-einAEll"
      },
      "id": "a445-einAEll",
      "execution_count": null,
      "outputs": []
    },
    {
      "cell_type": "code",
      "execution_count": null,
      "id": "ec788e16",
      "metadata": {
        "id": "ec788e16"
      },
      "outputs": [],
      "source": [
        "df = pd.read_excel(\"/content/drive/MyDrive/Hugo's Portfolio/Introducing NBEATSx to Realized Volatility Forecasting (Research)/S&P 500 Realized Volatility.xlsx\",index_col='Date',parse_dates=True)\n"
      ]
    },
    {
      "cell_type": "code",
      "source": [
        "df = pd.read_excel(\"S&P 500 Realized Volatility.xlsx\",index_col='Date',parse_dates=True)\n",
        "df_for_date=df[int(len(df['Realised'])*0.7):].reset_index()\n",
        "def df_to_X_y(window_size,test,scaled_test_input):\n",
        "  X=[]\n",
        "  for i in range(len(test)):\n",
        "    row = [[a] for a in scaled_test_input[i:i+window_size]]\n",
        "    X.append(row)\n",
        "  return np.array(X)"
      ],
      "metadata": {
        "id": "zUCQKTifAGCx"
      },
      "id": "zUCQKTifAGCx",
      "execution_count": null,
      "outputs": []
    },
    {
      "cell_type": "code",
      "execution_count": null,
      "id": "e79941fc",
      "metadata": {
        "id": "e79941fc"
      },
      "outputs": [],
      "source": [
        "from sklearn.preprocessing import MinMaxScaler\n",
        "from keras.preprocessing.sequence import TimeseriesGenerator\n",
        "from keras.models import Sequential\n",
        "from keras.layers import Dense, Dropout\n",
        "from keras.layers import LSTM"
      ]
    },
    {
      "cell_type": "code",
      "source": [
        "scaler = MinMaxScaler()"
      ],
      "metadata": {
        "id": "byYqNf_owmXh"
      },
      "id": "byYqNf_owmXh",
      "execution_count": null,
      "outputs": []
    },
    {
      "cell_type": "code",
      "execution_count": null,
      "id": "61e4fda6",
      "metadata": {
        "id": "61e4fda6"
      },
      "outputs": [],
      "source": [
        "n_inputs = [21,63,84,126,189,252]\n",
        "n_neurons = [14,42,56,84,126,168]\n",
        "epochs=[1,3,5,7]\n",
        "dropouts=[0,0.2,0.4]\n",
        "losses=['mse','mae','huber_loss']\n",
        "RMSE = []\n",
        "Accuracy = []\n"
      ]
    },
    {
      "cell_type": "markdown",
      "source": [
        "Best hyperparameters\n",
        "\n",
        "Epoch: 7 | Inputs: 189 | Nodes: 56 | Dropout: 0 | Loss: mse \n",
        "\n",
        "\n"
      ],
      "metadata": {
        "id": "FzvPu66H7xg1"
      },
      "id": "FzvPu66H7xg1"
    },
    {
      "cell_type": "markdown",
      "source": [
        "# H=1 Forecasts"
      ],
      "metadata": {
        "id": "gyDJu9xz2953"
      },
      "id": "gyDJu9xz2953"
    },
    {
      "cell_type": "code",
      "source": [
        "RMSE = []\n",
        "Accuracy = []\n",
        "Quasilikelihood=[]"
      ],
      "metadata": {
        "id": "NVIHgVQ73wvr"
      },
      "id": "NVIHgVQ73wvr",
      "execution_count": null,
      "outputs": []
    },
    {
      "cell_type": "code",
      "execution_count": null,
      "id": "3fabc48e",
      "metadata": {
        "scrolled": true,
        "colab": {
          "base_uri": "https://localhost:8080/"
        },
        "id": "3fabc48e",
        "outputId": "2fb77772-66a4-40cc-906f-265e9240e563"
      },
      "outputs": [
        {
          "output_type": "stream",
          "name": "stdout",
          "text": [
            "Epoch 1/7\n",
            "59/59 [==============================] - 3s 10ms/step - loss: 0.0031 - accuracy: 5.3821e-04 - mean_absolute_error: 0.0383\n",
            "Epoch 2/7\n",
            "59/59 [==============================] - 1s 8ms/step - loss: 0.0027 - accuracy: 5.3821e-04 - mean_absolute_error: 0.0350\n",
            "Epoch 3/7\n",
            "59/59 [==============================] - 1s 9ms/step - loss: 0.0025 - accuracy: 5.3821e-04 - mean_absolute_error: 0.0335\n",
            "Epoch 4/7\n",
            "59/59 [==============================] - 1s 8ms/step - loss: 0.0024 - accuracy: 5.3821e-04 - mean_absolute_error: 0.0328\n",
            "Epoch 5/7\n",
            "59/59 [==============================] - 1s 9ms/step - loss: 0.0024 - accuracy: 5.3821e-04 - mean_absolute_error: 0.0329\n",
            "Epoch 6/7\n",
            "59/59 [==============================] - 1s 8ms/step - loss: 0.0024 - accuracy: 5.3821e-04 - mean_absolute_error: 0.0323\n",
            "Epoch 7/7\n",
            "59/59 [==============================] - 0s 8ms/step - loss: 0.0023 - accuracy: 5.3821e-04 - mean_absolute_error: 0.0323\n",
            "55/55 [==============================] - 1s 4ms/step\n",
            "Epoch 1/7\n",
            "59/59 [==============================] - 4s 13ms/step - loss: 0.0029 - accuracy: 5.3821e-04 - mean_absolute_error: 0.0371\n",
            "Epoch 2/7\n",
            "59/59 [==============================] - 1s 9ms/step - loss: 0.0025 - accuracy: 5.3821e-04 - mean_absolute_error: 0.0333\n",
            "Epoch 3/7\n",
            "59/59 [==============================] - 1s 8ms/step - loss: 0.0025 - accuracy: 5.3821e-04 - mean_absolute_error: 0.0331\n",
            "Epoch 4/7\n",
            "59/59 [==============================] - 0s 8ms/step - loss: 0.0025 - accuracy: 5.3821e-04 - mean_absolute_error: 0.0335\n",
            "Epoch 5/7\n",
            "59/59 [==============================] - 1s 9ms/step - loss: 0.0023 - accuracy: 5.3821e-04 - mean_absolute_error: 0.0324\n",
            "Epoch 6/7\n",
            "59/59 [==============================] - 0s 8ms/step - loss: 0.0024 - accuracy: 5.3821e-04 - mean_absolute_error: 0.0326\n",
            "Epoch 7/7\n",
            "59/59 [==============================] - 1s 9ms/step - loss: 0.0023 - accuracy: 5.3821e-04 - mean_absolute_error: 0.0320\n",
            "55/55 [==============================] - 1s 4ms/step\n",
            "Epoch 1/7\n",
            "59/59 [==============================] - 3s 12ms/step - loss: 0.0046 - accuracy: 5.3821e-04 - mean_absolute_error: 0.0417\n",
            "Epoch 2/7\n",
            "59/59 [==============================] - 1s 8ms/step - loss: 0.0026 - accuracy: 5.3821e-04 - mean_absolute_error: 0.0337\n",
            "Epoch 3/7\n",
            "59/59 [==============================] - 1s 9ms/step - loss: 0.0025 - accuracy: 5.3821e-04 - mean_absolute_error: 0.0332\n",
            "Epoch 4/7\n",
            "59/59 [==============================] - 1s 9ms/step - loss: 0.0025 - accuracy: 5.3821e-04 - mean_absolute_error: 0.0336\n",
            "Epoch 5/7\n",
            "59/59 [==============================] - 0s 8ms/step - loss: 0.0024 - accuracy: 5.3821e-04 - mean_absolute_error: 0.0327\n",
            "Epoch 6/7\n",
            "59/59 [==============================] - 1s 11ms/step - loss: 0.0024 - accuracy: 5.3821e-04 - mean_absolute_error: 0.0328\n",
            "Epoch 7/7\n",
            "59/59 [==============================] - 1s 13ms/step - loss: 0.0024 - accuracy: 5.3821e-04 - mean_absolute_error: 0.0329\n",
            "55/55 [==============================] - 1s 5ms/step\n",
            "Epoch 1/7\n",
            "59/59 [==============================] - 3s 10ms/step - loss: 0.0031 - accuracy: 5.3821e-04 - mean_absolute_error: 0.0364\n",
            "Epoch 2/7\n",
            "59/59 [==============================] - 1s 8ms/step - loss: 0.0026 - accuracy: 5.3821e-04 - mean_absolute_error: 0.0344\n",
            "Epoch 3/7\n",
            "59/59 [==============================] - 1s 9ms/step - loss: 0.0025 - accuracy: 5.3821e-04 - mean_absolute_error: 0.0334\n",
            "Epoch 4/7\n",
            "59/59 [==============================] - 1s 9ms/step - loss: 0.0024 - accuracy: 5.3821e-04 - mean_absolute_error: 0.0327\n",
            "Epoch 5/7\n",
            "59/59 [==============================] - 1s 8ms/step - loss: 0.0024 - accuracy: 5.3821e-04 - mean_absolute_error: 0.0327\n",
            "Epoch 6/7\n",
            "59/59 [==============================] - 0s 8ms/step - loss: 0.0023 - accuracy: 5.3821e-04 - mean_absolute_error: 0.0319\n",
            "Epoch 7/7\n",
            "59/59 [==============================] - 1s 8ms/step - loss: 0.0023 - accuracy: 5.3821e-04 - mean_absolute_error: 0.0322\n",
            "55/55 [==============================] - 1s 4ms/step\n",
            "Epoch 1/7\n",
            "59/59 [==============================] - 4s 14ms/step - loss: 0.0062 - accuracy: 5.3821e-04 - mean_absolute_error: 0.0487\n",
            "Epoch 2/7\n",
            "59/59 [==============================] - 1s 9ms/step - loss: 0.0027 - accuracy: 5.3821e-04 - mean_absolute_error: 0.0351\n",
            "Epoch 3/7\n",
            "59/59 [==============================] - 0s 8ms/step - loss: 0.0027 - accuracy: 5.3821e-04 - mean_absolute_error: 0.0346\n",
            "Epoch 4/7\n",
            "59/59 [==============================] - 1s 9ms/step - loss: 0.0026 - accuracy: 5.3821e-04 - mean_absolute_error: 0.0340\n",
            "Epoch 5/7\n",
            "59/59 [==============================] - 0s 8ms/step - loss: 0.0026 - accuracy: 5.3821e-04 - mean_absolute_error: 0.0338\n",
            "Epoch 6/7\n",
            "59/59 [==============================] - 1s 8ms/step - loss: 0.0026 - accuracy: 5.3821e-04 - mean_absolute_error: 0.0339\n",
            "Epoch 7/7\n",
            "59/59 [==============================] - 1s 8ms/step - loss: 0.0025 - accuracy: 5.3821e-04 - mean_absolute_error: 0.0338\n",
            "55/55 [==============================] - 1s 3ms/step\n",
            "Epoch 1/7\n",
            "59/59 [==============================] - 3s 11ms/step - loss: 0.0073 - accuracy: 5.3821e-04 - mean_absolute_error: 0.0500\n",
            "Epoch 2/7\n",
            "59/59 [==============================] - 0s 8ms/step - loss: 0.0029 - accuracy: 5.3821e-04 - mean_absolute_error: 0.0361\n",
            "Epoch 3/7\n",
            "59/59 [==============================] - 1s 8ms/step - loss: 0.0028 - accuracy: 5.3821e-04 - mean_absolute_error: 0.0350\n",
            "Epoch 4/7\n",
            "59/59 [==============================] - 1s 8ms/step - loss: 0.0027 - accuracy: 5.3821e-04 - mean_absolute_error: 0.0345\n",
            "Epoch 5/7\n",
            "59/59 [==============================] - 1s 9ms/step - loss: 0.0027 - accuracy: 5.3821e-04 - mean_absolute_error: 0.0351\n",
            "Epoch 6/7\n",
            "59/59 [==============================] - 1s 13ms/step - loss: 0.0026 - accuracy: 5.3821e-04 - mean_absolute_error: 0.0337\n",
            "Epoch 7/7\n",
            "59/59 [==============================] - 1s 12ms/step - loss: 0.0026 - accuracy: 5.3821e-04 - mean_absolute_error: 0.0338\n",
            "55/55 [==============================] - 1s 5ms/step\n",
            "Epoch 1/7\n",
            "59/59 [==============================] - 3s 11ms/step - loss: 0.0034 - accuracy: 5.3821e-04 - mean_absolute_error: 0.0401\n",
            "Epoch 2/7\n",
            "59/59 [==============================] - 1s 9ms/step - loss: 0.0027 - accuracy: 5.3821e-04 - mean_absolute_error: 0.0346\n",
            "Epoch 3/7\n",
            "59/59 [==============================] - 1s 9ms/step - loss: 0.0025 - accuracy: 5.3821e-04 - mean_absolute_error: 0.0335\n",
            "Epoch 4/7\n",
            "59/59 [==============================] - 1s 9ms/step - loss: 0.0025 - accuracy: 5.3821e-04 - mean_absolute_error: 0.0339\n",
            "Epoch 5/7\n",
            "59/59 [==============================] - 1s 9ms/step - loss: 0.0024 - accuracy: 5.3821e-04 - mean_absolute_error: 0.0326\n",
            "Epoch 6/7\n",
            "59/59 [==============================] - 1s 9ms/step - loss: 0.0024 - accuracy: 5.3821e-04 - mean_absolute_error: 0.0326\n",
            "Epoch 7/7\n",
            "59/59 [==============================] - 1s 9ms/step - loss: 0.0023 - accuracy: 5.3821e-04 - mean_absolute_error: 0.0323\n",
            "55/55 [==============================] - 1s 4ms/step\n",
            "Epoch 1/7\n",
            "59/59 [==============================] - 4s 11ms/step - loss: 0.0043 - accuracy: 5.3821e-04 - mean_absolute_error: 0.0433\n",
            "Epoch 2/7\n",
            "59/59 [==============================] - 1s 9ms/step - loss: 0.0025 - accuracy: 5.3821e-04 - mean_absolute_error: 0.0337\n",
            "Epoch 3/7\n",
            "59/59 [==============================] - 1s 9ms/step - loss: 0.0025 - accuracy: 5.3821e-04 - mean_absolute_error: 0.0337\n",
            "Epoch 4/7\n",
            "59/59 [==============================] - 1s 9ms/step - loss: 0.0024 - accuracy: 5.3821e-04 - mean_absolute_error: 0.0328\n",
            "Epoch 5/7\n",
            "59/59 [==============================] - 1s 9ms/step - loss: 0.0024 - accuracy: 5.3821e-04 - mean_absolute_error: 0.0328\n",
            "Epoch 6/7\n",
            "59/59 [==============================] - 1s 9ms/step - loss: 0.0024 - accuracy: 5.3821e-04 - mean_absolute_error: 0.0327\n",
            "Epoch 7/7\n",
            "59/59 [==============================] - 1s 9ms/step - loss: 0.0023 - accuracy: 5.3821e-04 - mean_absolute_error: 0.0323\n",
            "55/55 [==============================] - 1s 4ms/step\n",
            "Epoch 1/7\n",
            "59/59 [==============================] - 3s 11ms/step - loss: 0.0055 - accuracy: 5.3821e-04 - mean_absolute_error: 0.0495\n",
            "Epoch 2/7\n",
            "59/59 [==============================] - 1s 9ms/step - loss: 0.0027 - accuracy: 5.3821e-04 - mean_absolute_error: 0.0347\n",
            "Epoch 3/7\n",
            "59/59 [==============================] - 1s 9ms/step - loss: 0.0026 - accuracy: 5.3821e-04 - mean_absolute_error: 0.0342\n",
            "Epoch 4/7\n",
            "59/59 [==============================] - 1s 9ms/step - loss: 0.0026 - accuracy: 5.3821e-04 - mean_absolute_error: 0.0337\n",
            "Epoch 5/7\n",
            "59/59 [==============================] - 1s 13ms/step - loss: 0.0026 - accuracy: 5.3821e-04 - mean_absolute_error: 0.0340\n",
            "Epoch 6/7\n",
            "59/59 [==============================] - 1s 13ms/step - loss: 0.0024 - accuracy: 5.3821e-04 - mean_absolute_error: 0.0328\n",
            "Epoch 7/7\n",
            "59/59 [==============================] - 1s 10ms/step - loss: 0.0024 - accuracy: 5.3821e-04 - mean_absolute_error: 0.0327\n",
            "55/55 [==============================] - 1s 5ms/step\n",
            "Epoch 1/7\n",
            "59/59 [==============================] - 3s 10ms/step - loss: 0.0029 - accuracy: 5.3821e-04 - mean_absolute_error: 0.0358\n",
            "Epoch 2/7\n",
            "59/59 [==============================] - 1s 9ms/step - loss: 0.0026 - accuracy: 5.3821e-04 - mean_absolute_error: 0.0338\n",
            "Epoch 3/7\n",
            "59/59 [==============================] - 0s 8ms/step - loss: 0.0024 - accuracy: 5.3821e-04 - mean_absolute_error: 0.0329\n",
            "Epoch 4/7\n",
            "59/59 [==============================] - 1s 8ms/step - loss: 0.0024 - accuracy: 5.3821e-04 - mean_absolute_error: 0.0330\n",
            "Epoch 5/7\n",
            "59/59 [==============================] - 1s 9ms/step - loss: 0.0024 - accuracy: 5.3821e-04 - mean_absolute_error: 0.0324\n",
            "Epoch 6/7\n",
            "59/59 [==============================] - 1s 9ms/step - loss: 0.0023 - accuracy: 5.3821e-04 - mean_absolute_error: 0.0321\n",
            "Epoch 7/7\n",
            "59/59 [==============================] - 1s 9ms/step - loss: 0.0023 - accuracy: 5.3821e-04 - mean_absolute_error: 0.0322\n",
            "55/55 [==============================] - 1s 5ms/step\n",
            "Epoch 1/7\n",
            "59/59 [==============================] - 3s 11ms/step - loss: 0.0041 - accuracy: 5.3821e-04 - mean_absolute_error: 0.0428\n",
            "Epoch 2/7\n",
            "59/59 [==============================] - 1s 9ms/step - loss: 0.0027 - accuracy: 5.3821e-04 - mean_absolute_error: 0.0349\n",
            "Epoch 3/7\n",
            "59/59 [==============================] - 0s 8ms/step - loss: 0.0026 - accuracy: 5.3821e-04 - mean_absolute_error: 0.0345\n",
            "Epoch 4/7\n",
            "59/59 [==============================] - 1s 8ms/step - loss: 0.0025 - accuracy: 5.3821e-04 - mean_absolute_error: 0.0334\n",
            "Epoch 5/7\n",
            "59/59 [==============================] - 1s 8ms/step - loss: 0.0025 - accuracy: 5.3821e-04 - mean_absolute_error: 0.0335\n",
            "Epoch 6/7\n",
            "59/59 [==============================] - 1s 9ms/step - loss: 0.0024 - accuracy: 5.3821e-04 - mean_absolute_error: 0.0325\n",
            "Epoch 7/7\n",
            "59/59 [==============================] - 0s 8ms/step - loss: 0.0024 - accuracy: 5.3821e-04 - mean_absolute_error: 0.0328\n",
            "55/55 [==============================] - 1s 4ms/step\n",
            "Epoch 1/7\n",
            "59/59 [==============================] - 3s 11ms/step - loss: 0.0032 - accuracy: 5.3821e-04 - mean_absolute_error: 0.0393\n",
            "Epoch 2/7\n",
            "59/59 [==============================] - 1s 8ms/step - loss: 0.0026 - accuracy: 5.3821e-04 - mean_absolute_error: 0.0340\n",
            "Epoch 3/7\n",
            "59/59 [==============================] - 1s 11ms/step - loss: 0.0025 - accuracy: 5.3821e-04 - mean_absolute_error: 0.0337\n",
            "Epoch 4/7\n",
            "59/59 [==============================] - 1s 12ms/step - loss: 0.0024 - accuracy: 5.3821e-04 - mean_absolute_error: 0.0327\n",
            "Epoch 5/7\n",
            "59/59 [==============================] - 1s 9ms/step - loss: 0.0024 - accuracy: 5.3821e-04 - mean_absolute_error: 0.0331\n",
            "Epoch 6/7\n",
            "59/59 [==============================] - 1s 8ms/step - loss: 0.0024 - accuracy: 5.3821e-04 - mean_absolute_error: 0.0326\n",
            "Epoch 7/7\n",
            "59/59 [==============================] - 0s 8ms/step - loss: 0.0023 - accuracy: 5.3821e-04 - mean_absolute_error: 0.0323\n",
            "55/55 [==============================] - 1s 4ms/step\n",
            "Epoch 1/7\n",
            "59/59 [==============================] - 3s 11ms/step - loss: 0.0027 - accuracy: 5.3821e-04 - mean_absolute_error: 0.0353\n",
            "Epoch 2/7\n",
            "59/59 [==============================] - 1s 8ms/step - loss: 0.0024 - accuracy: 5.3821e-04 - mean_absolute_error: 0.0327\n",
            "Epoch 3/7\n",
            "59/59 [==============================] - 1s 9ms/step - loss: 0.0024 - accuracy: 5.3821e-04 - mean_absolute_error: 0.0329\n",
            "Epoch 4/7\n",
            "59/59 [==============================] - 1s 9ms/step - loss: 0.0024 - accuracy: 5.3821e-04 - mean_absolute_error: 0.0329\n",
            "Epoch 5/7\n",
            "59/59 [==============================] - 1s 9ms/step - loss: 0.0023 - accuracy: 5.3821e-04 - mean_absolute_error: 0.0323\n",
            "Epoch 6/7\n",
            "59/59 [==============================] - 1s 9ms/step - loss: 0.0023 - accuracy: 5.3821e-04 - mean_absolute_error: 0.0317\n",
            "Epoch 7/7\n",
            "59/59 [==============================] - 1s 8ms/step - loss: 0.0022 - accuracy: 5.3821e-04 - mean_absolute_error: 0.0318\n",
            "55/55 [==============================] - 1s 5ms/step\n",
            "Epoch 1/7\n",
            "59/59 [==============================] - 3s 11ms/step - loss: 0.0041 - accuracy: 5.3821e-04 - mean_absolute_error: 0.0426\n",
            "Epoch 2/7\n",
            "59/59 [==============================] - 1s 8ms/step - loss: 0.0026 - accuracy: 5.3821e-04 - mean_absolute_error: 0.0344\n",
            "Epoch 3/7\n",
            "59/59 [==============================] - 1s 8ms/step - loss: 0.0026 - accuracy: 5.3821e-04 - mean_absolute_error: 0.0339\n",
            "Epoch 4/7\n",
            "59/59 [==============================] - 1s 9ms/step - loss: 0.0025 - accuracy: 5.3821e-04 - mean_absolute_error: 0.0331\n",
            "Epoch 5/7\n",
            "59/59 [==============================] - 1s 8ms/step - loss: 0.0025 - accuracy: 5.3821e-04 - mean_absolute_error: 0.0331\n",
            "Epoch 6/7\n",
            "59/59 [==============================] - 1s 8ms/step - loss: 0.0025 - accuracy: 5.3821e-04 - mean_absolute_error: 0.0338\n",
            "Epoch 7/7\n",
            "59/59 [==============================] - 0s 8ms/step - loss: 0.0024 - accuracy: 5.3821e-04 - mean_absolute_error: 0.0326\n",
            "55/55 [==============================] - 1s 4ms/step\n"
          ]
        }
      ],
      "source": [
        "for i in range (14):\n",
        "  n_features = 2\n",
        "  n_input = 189\n",
        "  train = df.iloc[:int(len(df['Realised'])*0.7)]\n",
        "  train = train[int(len(train)*0.5):]\n",
        "  test = df.iloc[int(len(df['Realised'])*0.7)-n_input:]\n",
        "  scaler.fit(train)\n",
        "  scaled_train_input = scaler.transform(train)\n",
        "  scaled_test_input = scaler.transform(test)\n",
        "  train = df[\"Realised\"].iloc[:int(len(df['Realised'])*0.7)]\n",
        "  train = train[int(len(train)*0.5):]\n",
        "  test = df[\"Realised\"].iloc[int(len(df['Realised'])*0.7):]\n",
        "  train = train.array.reshape(-1, 1)\n",
        "  test = test.array.reshape(-1, 1)\n",
        "  scaler.fit(train)\n",
        "  scaled_train_target = scaler.transform(train)\n",
        "  scaled_test_target = scaler.transform(test)\n",
        "  generator = TimeseriesGenerator(scaled_train_input, scaled_train_target, length=n_input, batch_size=32)\n",
        "  model = Sequential()\n",
        "  model.add(LSTM(56, activation='tanh', input_shape=(n_input, n_features)))\n",
        "  model.add(Dense(1))\n",
        "  model.compile(optimizer='adam', loss='mse', metrics=[\"accuracy\", \"mean_absolute_error\"])\n",
        "  model.fit(generator,epochs=7)\n",
        "  X = df_to_X_y(n_input,test,scaled_test_input)\n",
        "  X=X.reshape(len(test), n_input, n_features)\n",
        "  y_hat=model.predict(X)\n",
        "  true_predictions = scaler.inverse_transform(y_hat)\n",
        "  RMSE.append(np.sum(np.sqrt((test-true_predictions)**2))/len(test))\n",
        "  a=np.sqrt((test-true_predictions)**2)\n",
        "  a=np.delete(a,1754)\n",
        "  test1=np.delete(test,1754) #needed since this value equals 0\n",
        "  Accuracy.append((1-np.sum(a/test1)/(len(test)-1))*100)\n",
        "  Quasilikelihood.append(np.sum(true_predictions/test-np.log(true_predictions/test)-1)/len(test))"
      ]
    },
    {
      "cell_type": "code",
      "source": [
        "RMSE"
      ],
      "metadata": {
        "colab": {
          "base_uri": "https://localhost:8080/"
        },
        "id": "JFekTbkoF2uC",
        "outputId": "f694db1f-bb38-4890-bef3-5119b2d52f11"
      },
      "id": "JFekTbkoF2uC",
      "execution_count": null,
      "outputs": [
        {
          "output_type": "execute_result",
          "data": {
            "text/plain": [
              "[0.0025641874337831803,\n",
              " 0.0026161039344749287,\n",
              " 0.0025788377321835764,\n",
              " 0.0026794507862608146,\n",
              " 0.0025991825935508433,\n",
              " 0.0027971372630723403,\n",
              " 0.002786463247376094,\n",
              " 0.0026996506763493494,\n",
              " 0.002661376022738765,\n",
              " 0.0026700753561481696,\n",
              " 0.0025808540106389156,\n",
              " 0.0026241321391671114,\n",
              " 0.0026159447982325506,\n",
              " 0.002567556292460999,\n",
              " 0.0029126557623891576]"
            ]
          },
          "metadata": {},
          "execution_count": 81
        }
      ]
    },
    {
      "cell_type": "code",
      "source": [
        "Accuracy"
      ],
      "metadata": {
        "colab": {
          "base_uri": "https://localhost:8080/"
        },
        "id": "fbv1q-AxF1VT",
        "outputId": "23e61f60-6eda-43cb-e019-a2dc9e5e0db7"
      },
      "id": "fbv1q-AxF1VT",
      "execution_count": null,
      "outputs": [
        {
          "output_type": "execute_result",
          "data": {
            "text/plain": [
              "[62.75302920061101,\n",
              " 64.98489868175665,\n",
              " 65.40606900210048,\n",
              " 60.12805127665424,\n",
              " 63.15090323101731,\n",
              " 57.043762351275994,\n",
              " 59.45186922426471,\n",
              " 57.97501312900326,\n",
              " 60.944845747840844,\n",
              " 61.38030068783754,\n",
              " 64.51381396321034,\n",
              " 62.775428550176294,\n",
              " 62.72598443370326,\n",
              " 63.043424132964134,\n",
              " 49.390074977628196]"
            ]
          },
          "metadata": {},
          "execution_count": 82
        }
      ]
    },
    {
      "cell_type": "code",
      "source": [
        "Quasilikelihood"
      ],
      "metadata": {
        "colab": {
          "base_uri": "https://localhost:8080/"
        },
        "id": "60O2gTT0F1By",
        "outputId": "0263dc09-e435-4e1e-81e0-15816a12bf59"
      },
      "id": "60O2gTT0F1By",
      "execution_count": null,
      "outputs": [
        {
          "output_type": "execute_result",
          "data": {
            "text/plain": [
              "[0.09635731892715052,\n",
              " 0.09179917436236544,\n",
              " 0.08950119067637928,\n",
              " 0.10709534287499492,\n",
              " 0.09632352869739874,\n",
              " 0.12099091979758293,\n",
              " 0.1131760440221489,\n",
              " 0.11505123024991565,\n",
              " 0.10499074893382543,\n",
              " 0.10353363311748788,\n",
              " 0.0919567434503736,\n",
              " 0.09799899481650906,\n",
              " 0.09784943987283493,\n",
              " 0.09564292723990643,\n",
              " 0.14985353623536887]"
            ]
          },
          "metadata": {},
          "execution_count": 83
        }
      ]
    },
    {
      "cell_type": "code",
      "execution_count": null,
      "id": "44f85a97",
      "metadata": {
        "colab": {
          "base_uri": "https://localhost:8080/",
          "height": 448
        },
        "id": "44f85a97",
        "outputId": "01e75f74-f37e-41d3-a4e6-2eb43f9b0bd7"
      },
      "outputs": [
        {
          "output_type": "execute_result",
          "data": {
            "text/plain": [
              "<matplotlib.legend.Legend at 0x7fc170278ac0>"
            ]
          },
          "metadata": {},
          "execution_count": 70
        },
        {
          "output_type": "display_data",
          "data": {
            "text/plain": [
              "<Figure size 640x480 with 1 Axes>"
            ],
            "image/png": "[encoded data removed]"
          },
          "metadata": {}
        }
      ],
      "source": [
        "# Best model\n",
        "plt.plot(df_for_date[\"Date\"][:len(test)], test)\n",
        "plt.plot(df_for_date[\"Date\"][:len(test)], true_predictions) \n",
        "plt.ylabel(\"S&P 500 Realized Volatility\")\n",
        "plt.legend(['Actuals', 'Forecasts'])"
      ]
    },
    {
      "cell_type": "markdown",
      "source": [
        "# H=3 Forecasts"
      ],
      "metadata": {
        "id": "RUNuZNQ_Sjhe"
      },
      "id": "RUNuZNQ_Sjhe"
    },
    {
      "cell_type": "code",
      "execution_count": 87,
      "id": "b5f74db6",
      "metadata": {
        "id": "b5f74db6"
      },
      "outputs": [],
      "source": [
        "RMSE = []\n",
        "Accuracy = []\n",
        "Quasilikelihood=[]"
      ]
    },
    {
      "cell_type": "code",
      "source": [
        "def df_to_X_y(window_size,test,scaled_test_input):\n",
        "  X=[]\n",
        "  y=[]\n",
        "  for i in range(int(len(test)/3)):\n",
        "    row = [[a] for a in scaled_test_input[i*3:(i*3)+window_size]]\n",
        "    X.append(row)\n",
        "  return np.array(X)"
      ],
      "metadata": {
        "id": "lJRw2vpJ-2xG"
      },
      "id": "lJRw2vpJ-2xG",
      "execution_count": 88,
      "outputs": []
    },
    {
      "cell_type": "code",
      "source": [
        "for i in range (15):\n",
        "  n_features = 2\n",
        "  n_input = 189\n",
        "  train = df.iloc[:int(len(df['Realised'])*0.7)]\n",
        "  train = train[int(len(train)*0.5):]\n",
        "  test = df.iloc[int(len(df['Realised'])*0.7)-n_input:]\n",
        "  scaler.fit(train)\n",
        "  scaled_train_input = scaler.transform(train)\n",
        "  scaled_test_input = scaler.transform(test)\n",
        "  train = df[\"Realised\"].iloc[:int(len(df['Realised'])*0.7)]\n",
        "  train = train[int(len(train)*0.5):]\n",
        "  test = df[\"Realised\"].iloc[int(len(df['Realised'])*0.7):]\n",
        "  train = train.array.reshape(-1, 1)\n",
        "  test = test.array.reshape(-1, 1)\n",
        "  scaler.fit(train)\n",
        "  scaled_train_target = scaler.transform(train)\n",
        "  scaled_test_target = scaler.transform(test)\n",
        "  generator = TimeseriesGenerator(scaled_train_input, scaled_train_target, length=n_input, batch_size=32)\n",
        "  model = Sequential()\n",
        "  model.add(LSTM(56, activation='tanh', input_shape=(n_input, n_features)))\n",
        "  model.add(Dense(3))\n",
        "  model.compile(optimizer='adam', loss='mse', metrics=[\"accuracy\", \"mean_absolute_error\"])\n",
        "  model.fit(generator,epochs=7)\n",
        "  X = df_to_X_y(n_input,test,scaled_test_input)\n",
        "  X=X.reshape(int(((len(test)/3))), n_input, n_features)\n",
        "  y_hat=model.predict(X)\n",
        "  y_hat=y_hat.reshape(len(test),1)\n",
        "  true_predictions = scaler.inverse_transform(y_hat)\n",
        "  RMSE.append(np.sum(np.sqrt((test-true_predictions)**2))/len(test))\n",
        "  a=np.sqrt((test-true_predictions)**2)\n",
        "  a=np.delete(a,1754)\n",
        "  test1=np.delete(test,1754) #needed since this value equals 0\n",
        "  Accuracy.append((1-np.sum(a/test1)/(len(test)-1))*100)\n",
        "  Quasilikelihood.append(np.sum(true_predictions/test-np.log(true_predictions/test)-1)/len(test))"
      ],
      "metadata": {
        "colab": {
          "base_uri": "https://localhost:8080/"
        },
        "id": "08h0LWc2Klyf",
        "outputId": "50e70d39-6d07-403a-c05c-5b963445e224"
      },
      "id": "08h0LWc2Klyf",
      "execution_count": 90,
      "outputs": [
        {
          "output_type": "stream",
          "name": "stdout",
          "text": [
            "Epoch 1/7\n",
            "59/59 [==============================] - 3s 11ms/step - loss: 0.0061 - accuracy: 0.1496 - mean_absolute_error: 0.0517\n",
            "Epoch 2/7\n",
            "59/59 [==============================] - 1s 9ms/step - loss: 0.0027 - accuracy: 0.2207 - mean_absolute_error: 0.0348\n",
            "Epoch 3/7\n",
            "59/59 [==============================] - 1s 9ms/step - loss: 0.0027 - accuracy: 0.2713 - mean_absolute_error: 0.0342\n",
            "Epoch 4/7\n",
            "59/59 [==============================] - 1s 9ms/step - loss: 0.0027 - accuracy: 0.1179 - mean_absolute_error: 0.0349\n",
            "Epoch 5/7\n",
            "59/59 [==============================] - 1s 12ms/step - loss: 0.0026 - accuracy: 0.2395 - mean_absolute_error: 0.0336\n",
            "Epoch 6/7\n",
            "59/59 [==============================] - 1s 13ms/step - loss: 0.0025 - accuracy: 0.2896 - mean_absolute_error: 0.0339\n",
            "Epoch 7/7\n",
            "59/59 [==============================] - 1s 9ms/step - loss: 0.0025 - accuracy: 0.2417 - mean_absolute_error: 0.0330\n",
            "19/19 [==============================] - 1s 6ms/step\n",
            "Epoch 1/7\n",
            "59/59 [==============================] - 3s 11ms/step - loss: 0.0032 - accuracy: 0.1200 - mean_absolute_error: 0.0396\n",
            "Epoch 2/7\n",
            "59/59 [==============================] - 1s 9ms/step - loss: 0.0026 - accuracy: 0.1884 - mean_absolute_error: 0.0336\n",
            "Epoch 3/7\n",
            "59/59 [==============================] - 1s 9ms/step - loss: 0.0025 - accuracy: 0.1690 - mean_absolute_error: 0.0338\n",
            "Epoch 4/7\n",
            "59/59 [==============================] - 1s 9ms/step - loss: 0.0024 - accuracy: 0.3283 - mean_absolute_error: 0.0328\n",
            "Epoch 5/7\n",
            "59/59 [==============================] - 1s 9ms/step - loss: 0.0024 - accuracy: 0.3439 - mean_absolute_error: 0.0326\n",
            "Epoch 6/7\n",
            "59/59 [==============================] - 1s 9ms/step - loss: 0.0024 - accuracy: 0.3541 - mean_absolute_error: 0.0329\n",
            "Epoch 7/7\n",
            "59/59 [==============================] - 1s 9ms/step - loss: 0.0024 - accuracy: 0.2949 - mean_absolute_error: 0.0322\n",
            "19/19 [==============================] - 0s 4ms/step\n",
            "Epoch 1/7\n",
            "59/59 [==============================] - 5s 17ms/step - loss: 0.0038 - accuracy: 0.2987 - mean_absolute_error: 0.0407\n",
            "Epoch 2/7\n",
            "59/59 [==============================] - 1s 12ms/step - loss: 0.0027 - accuracy: 0.3708 - mean_absolute_error: 0.0348\n",
            "Epoch 3/7\n",
            "59/59 [==============================] - 1s 9ms/step - loss: 0.0026 - accuracy: 0.4381 - mean_absolute_error: 0.0343\n",
            "Epoch 4/7\n",
            "59/59 [==============================] - 1s 9ms/step - loss: 0.0025 - accuracy: 0.4160 - mean_absolute_error: 0.0335\n",
            "Epoch 5/7\n",
            "59/59 [==============================] - 1s 9ms/step - loss: 0.0025 - accuracy: 0.3251 - mean_absolute_error: 0.0331\n",
            "Epoch 6/7\n",
            "59/59 [==============================] - 1s 9ms/step - loss: 0.0024 - accuracy: 0.3654 - mean_absolute_error: 0.0328\n",
            "Epoch 7/7\n",
            "59/59 [==============================] - 1s 9ms/step - loss: 0.0024 - accuracy: 0.3434 - mean_absolute_error: 0.0332\n",
            "19/19 [==============================] - 0s 4ms/step\n",
            "Epoch 1/7\n",
            "59/59 [==============================] - 4s 15ms/step - loss: 0.0051 - accuracy: 0.3590 - mean_absolute_error: 0.0449\n",
            "Epoch 2/7\n",
            "59/59 [==============================] - 1s 10ms/step - loss: 0.0027 - accuracy: 0.3563 - mean_absolute_error: 0.0348\n",
            "Epoch 3/7\n",
            "59/59 [==============================] - 1s 10ms/step - loss: 0.0026 - accuracy: 0.3175 - mean_absolute_error: 0.0340\n",
            "Epoch 4/7\n",
            "59/59 [==============================] - 1s 9ms/step - loss: 0.0026 - accuracy: 0.2546 - mean_absolute_error: 0.0343\n",
            "Epoch 5/7\n",
            "59/59 [==============================] - 1s 9ms/step - loss: 0.0025 - accuracy: 0.2922 - mean_absolute_error: 0.0337\n",
            "Epoch 6/7\n",
            "59/59 [==============================] - 1s 9ms/step - loss: 0.0024 - accuracy: 0.3741 - mean_absolute_error: 0.0328\n",
            "Epoch 7/7\n",
            "59/59 [==============================] - 1s 9ms/step - loss: 0.0024 - accuracy: 0.4020 - mean_absolute_error: 0.0332\n",
            "19/19 [==============================] - 0s 4ms/step\n",
            "Epoch 1/7\n",
            "59/59 [==============================] - 5s 14ms/step - loss: 0.0036 - accuracy: 0.2853 - mean_absolute_error: 0.0400\n",
            "Epoch 2/7\n",
            "59/59 [==============================] - 1s 13ms/step - loss: 0.0026 - accuracy: 0.3724 - mean_absolute_error: 0.0338\n",
            "Epoch 3/7\n",
            "59/59 [==============================] - 1s 12ms/step - loss: 0.0025 - accuracy: 0.2072 - mean_absolute_error: 0.0334\n",
            "Epoch 4/7\n",
            "59/59 [==============================] - 1s 9ms/step - loss: 0.0024 - accuracy: 0.4209 - mean_absolute_error: 0.0328\n",
            "Epoch 5/7\n",
            "59/59 [==============================] - 1s 9ms/step - loss: 0.0024 - accuracy: 0.3649 - mean_absolute_error: 0.0329\n",
            "Epoch 6/7\n",
            "59/59 [==============================] - 1s 9ms/step - loss: 0.0024 - accuracy: 0.1206 - mean_absolute_error: 0.0330\n",
            "Epoch 7/7\n",
            "59/59 [==============================] - 1s 9ms/step - loss: 0.0023 - accuracy: 0.1529 - mean_absolute_error: 0.0323\n",
            "19/19 [==============================] - 0s 4ms/step\n",
            "Epoch 1/7\n",
            "59/59 [==============================] - 3s 10ms/step - loss: 0.0030 - accuracy: 0.0506 - mean_absolute_error: 0.0378\n",
            "Epoch 2/7\n",
            "59/59 [==============================] - 1s 9ms/step - loss: 0.0025 - accuracy: 0.2255 - mean_absolute_error: 0.0333\n",
            "Epoch 3/7\n",
            "59/59 [==============================] - 1s 9ms/step - loss: 0.0024 - accuracy: 0.1841 - mean_absolute_error: 0.0334\n",
            "Epoch 4/7\n",
            "59/59 [==============================] - 1s 9ms/step - loss: 0.0024 - accuracy: 0.1690 - mean_absolute_error: 0.0324\n",
            "Epoch 5/7\n",
            "59/59 [==============================] - 0s 8ms/step - loss: 0.0024 - accuracy: 0.1518 - mean_absolute_error: 0.0327\n",
            "Epoch 6/7\n",
            "59/59 [==============================] - 1s 9ms/step - loss: 0.0024 - accuracy: 0.1087 - mean_absolute_error: 0.0328\n",
            "Epoch 7/7\n",
            "59/59 [==============================] - 1s 9ms/step - loss: 0.0023 - accuracy: 0.1302 - mean_absolute_error: 0.0324\n",
            "19/19 [==============================] - 1s 5ms/step\n",
            "Epoch 1/7\n",
            "59/59 [==============================] - 3s 10ms/step - loss: 0.0047 - accuracy: 0.2088 - mean_absolute_error: 0.0429\n",
            "Epoch 2/7\n",
            "59/59 [==============================] - 1s 8ms/step - loss: 0.0027 - accuracy: 0.2250 - mean_absolute_error: 0.0347\n",
            "Epoch 3/7\n",
            "59/59 [==============================] - 1s 9ms/step - loss: 0.0026 - accuracy: 0.3202 - mean_absolute_error: 0.0342\n",
            "Epoch 4/7\n",
            "59/59 [==============================] - 1s 14ms/step - loss: 0.0026 - accuracy: 0.2885 - mean_absolute_error: 0.0344\n",
            "Epoch 5/7\n",
            "59/59 [==============================] - 1s 9ms/step - loss: 0.0025 - accuracy: 0.3956 - mean_absolute_error: 0.0338\n",
            "Epoch 6/7\n",
            "59/59 [==============================] - 1s 9ms/step - loss: 0.0025 - accuracy: 0.4397 - mean_absolute_error: 0.0331\n",
            "Epoch 7/7\n",
            "59/59 [==============================] - 1s 9ms/step - loss: 0.0025 - accuracy: 0.4752 - mean_absolute_error: 0.0335\n",
            "19/19 [==============================] - 0s 4ms/step\n",
            "Epoch 1/7\n",
            "59/59 [==============================] - 3s 12ms/step - loss: 0.0029 - accuracy: 0.2121 - mean_absolute_error: 0.0363\n",
            "Epoch 2/7\n",
            "59/59 [==============================] - 1s 9ms/step - loss: 0.0025 - accuracy: 0.1668 - mean_absolute_error: 0.0333\n",
            "Epoch 3/7\n",
            "59/59 [==============================] - 1s 9ms/step - loss: 0.0025 - accuracy: 0.0974 - mean_absolute_error: 0.0332\n",
            "Epoch 4/7\n",
            "59/59 [==============================] - 1s 12ms/step - loss: 0.0024 - accuracy: 0.1496 - mean_absolute_error: 0.0325\n",
            "Epoch 5/7\n",
            "59/59 [==============================] - 1s 13ms/step - loss: 0.0024 - accuracy: 0.2594 - mean_absolute_error: 0.0328\n",
            "Epoch 6/7\n",
            "59/59 [==============================] - 1s 10ms/step - loss: 0.0024 - accuracy: 0.1507 - mean_absolute_error: 0.0323\n",
            "Epoch 7/7\n",
            "59/59 [==============================] - 1s 9ms/step - loss: 0.0023 - accuracy: 0.2551 - mean_absolute_error: 0.0323\n",
            "19/19 [==============================] - 0s 4ms/step\n",
            "Epoch 1/7\n",
            "59/59 [==============================] - 3s 11ms/step - loss: 0.0032 - accuracy: 0.4715 - mean_absolute_error: 0.0392\n",
            "Epoch 2/7\n",
            "59/59 [==============================] - 1s 8ms/step - loss: 0.0027 - accuracy: 0.3423 - mean_absolute_error: 0.0345\n",
            "Epoch 3/7\n",
            "59/59 [==============================] - 1s 9ms/step - loss: 0.0026 - accuracy: 0.3967 - mean_absolute_error: 0.0340\n",
            "Epoch 4/7\n",
            "59/59 [==============================] - 1s 8ms/step - loss: 0.0025 - accuracy: 0.3310 - mean_absolute_error: 0.0334\n",
            "Epoch 5/7\n",
            "59/59 [==============================] - 1s 8ms/step - loss: 0.0024 - accuracy: 0.5183 - mean_absolute_error: 0.0335\n",
            "Epoch 6/7\n",
            "59/59 [==============================] - 1s 9ms/step - loss: 0.0024 - accuracy: 0.4042 - mean_absolute_error: 0.0327\n",
            "Epoch 7/7\n",
            "59/59 [==============================] - 1s 9ms/step - loss: 0.0024 - accuracy: 0.5086 - mean_absolute_error: 0.0328\n",
            "19/19 [==============================] - 0s 4ms/step\n",
            "Epoch 1/7\n",
            "59/59 [==============================] - 3s 11ms/step - loss: 0.0053 - accuracy: 0.1765 - mean_absolute_error: 0.0464\n",
            "Epoch 2/7\n",
            "59/59 [==============================] - 1s 8ms/step - loss: 0.0027 - accuracy: 0.1432 - mean_absolute_error: 0.0347\n",
            "Epoch 3/7\n",
            "59/59 [==============================] - 1s 9ms/step - loss: 0.0026 - accuracy: 0.1163 - mean_absolute_error: 0.0343\n",
            "Epoch 4/7\n",
            "59/59 [==============================] - 1s 9ms/step - loss: 0.0026 - accuracy: 0.2519 - mean_absolute_error: 0.0337\n",
            "Epoch 5/7\n",
            "59/59 [==============================] - 1s 9ms/step - loss: 0.0025 - accuracy: 0.1340 - mean_absolute_error: 0.0332\n",
            "Epoch 6/7\n",
            "59/59 [==============================] - 1s 9ms/step - loss: 0.0024 - accuracy: 0.1900 - mean_absolute_error: 0.0329\n",
            "Epoch 7/7\n",
            "59/59 [==============================] - 1s 9ms/step - loss: 0.0024 - accuracy: 0.1889 - mean_absolute_error: 0.0329\n",
            "19/19 [==============================] - 0s 4ms/step\n",
            "Epoch 1/7\n",
            "59/59 [==============================] - 3s 11ms/step - loss: 0.0035 - accuracy: 0.5022 - mean_absolute_error: 0.0408\n",
            "Epoch 2/7\n",
            "59/59 [==============================] - 1s 9ms/step - loss: 0.0026 - accuracy: 0.2540 - mean_absolute_error: 0.0343\n",
            "Epoch 3/7\n",
            "59/59 [==============================] - 1s 9ms/step - loss: 0.0025 - accuracy: 0.3805 - mean_absolute_error: 0.0338\n",
            "Epoch 4/7\n",
            "59/59 [==============================] - 1s 9ms/step - loss: 0.0025 - accuracy: 0.3358 - mean_absolute_error: 0.0332\n",
            "Epoch 5/7\n",
            "59/59 [==============================] - 1s 14ms/step - loss: 0.0025 - accuracy: 0.4661 - mean_absolute_error: 0.0334\n",
            "Epoch 6/7\n",
            "59/59 [==============================] - 1s 14ms/step - loss: 0.0025 - accuracy: 0.3794 - mean_absolute_error: 0.0334\n",
            "Epoch 7/7\n",
            "59/59 [==============================] - 1s 10ms/step - loss: 0.0024 - accuracy: 0.4085 - mean_absolute_error: 0.0329\n",
            "19/19 [==============================] - 0s 4ms/step\n",
            "Epoch 1/7\n",
            "59/59 [==============================] - 3s 11ms/step - loss: 0.0029 - accuracy: 0.4031 - mean_absolute_error: 0.0370\n",
            "Epoch 2/7\n",
            "59/59 [==============================] - 1s 9ms/step - loss: 0.0026 - accuracy: 0.3073 - mean_absolute_error: 0.0339\n",
            "Epoch 3/7\n",
            "59/59 [==============================] - 1s 12ms/step - loss: 0.0024 - accuracy: 0.3558 - mean_absolute_error: 0.0330\n",
            "Epoch 4/7\n",
            "59/59 [==============================] - 1s 15ms/step - loss: 0.0024 - accuracy: 0.3531 - mean_absolute_error: 0.0327\n",
            "Epoch 5/7\n",
            "59/59 [==============================] - 1s 8ms/step - loss: 0.0024 - accuracy: 0.3262 - mean_absolute_error: 0.0329\n",
            "Epoch 6/7\n",
            "59/59 [==============================] - 1s 9ms/step - loss: 0.0023 - accuracy: 0.2799 - mean_absolute_error: 0.0325\n",
            "Epoch 7/7\n",
            "59/59 [==============================] - 1s 9ms/step - loss: 0.0023 - accuracy: 0.4333 - mean_absolute_error: 0.0323\n",
            "19/19 [==============================] - 0s 5ms/step\n",
            "Epoch 1/7\n",
            "59/59 [==============================] - 3s 11ms/step - loss: 0.0031 - accuracy: 0.2847 - mean_absolute_error: 0.0370\n",
            "Epoch 2/7\n",
            "59/59 [==============================] - 1s 9ms/step - loss: 0.0025 - accuracy: 0.3837 - mean_absolute_error: 0.0331\n",
            "Epoch 3/7\n",
            "59/59 [==============================] - 1s 8ms/step - loss: 0.0024 - accuracy: 0.4284 - mean_absolute_error: 0.0332\n",
            "Epoch 4/7\n",
            "59/59 [==============================] - 1s 9ms/step - loss: 0.0024 - accuracy: 0.4392 - mean_absolute_error: 0.0327\n",
            "Epoch 5/7\n",
            "59/59 [==============================] - 1s 9ms/step - loss: 0.0024 - accuracy: 0.4020 - mean_absolute_error: 0.0326\n",
            "Epoch 6/7\n",
            "59/59 [==============================] - 1s 9ms/step - loss: 0.0023 - accuracy: 0.4101 - mean_absolute_error: 0.0327\n",
            "Epoch 7/7\n",
            "59/59 [==============================] - 1s 9ms/step - loss: 0.0024 - accuracy: 0.3972 - mean_absolute_error: 0.0324\n",
            "19/19 [==============================] - 0s 4ms/step\n",
            "Epoch 1/7\n",
            "59/59 [==============================] - 3s 11ms/step - loss: 0.0032 - accuracy: 0.2508 - mean_absolute_error: 0.0379\n",
            "Epoch 2/7\n",
            "59/59 [==============================] - 1s 9ms/step - loss: 0.0026 - accuracy: 0.3154 - mean_absolute_error: 0.0340\n",
            "Epoch 3/7\n",
            "59/59 [==============================] - 1s 9ms/step - loss: 0.0025 - accuracy: 0.2906 - mean_absolute_error: 0.0338\n",
            "Epoch 4/7\n",
            "59/59 [==============================] - 1s 11ms/step - loss: 0.0025 - accuracy: 0.2207 - mean_absolute_error: 0.0332\n",
            "Epoch 5/7\n",
            "59/59 [==============================] - 1s 13ms/step - loss: 0.0024 - accuracy: 0.2535 - mean_absolute_error: 0.0330\n",
            "Epoch 6/7\n",
            "59/59 [==============================] - 1s 9ms/step - loss: 0.0024 - accuracy: 0.2998 - mean_absolute_error: 0.0328\n",
            "Epoch 7/7\n",
            "59/59 [==============================] - 1s 9ms/step - loss: 0.0024 - accuracy: 0.2492 - mean_absolute_error: 0.0326\n",
            "19/19 [==============================] - 0s 4ms/step\n",
            "Epoch 1/7\n",
            "59/59 [==============================] - 3s 11ms/step - loss: 0.0032 - accuracy: 0.2024 - mean_absolute_error: 0.0382\n",
            "Epoch 2/7\n",
            "59/59 [==============================] - 1s 9ms/step - loss: 0.0026 - accuracy: 0.3811 - mean_absolute_error: 0.0347\n",
            "Epoch 3/7\n",
            "59/59 [==============================] - 1s 9ms/step - loss: 0.0026 - accuracy: 0.2686 - mean_absolute_error: 0.0344\n",
            "Epoch 4/7\n",
            "59/59 [==============================] - 1s 9ms/step - loss: 0.0025 - accuracy: 0.3337 - mean_absolute_error: 0.0330\n",
            "Epoch 5/7\n",
            "59/59 [==============================] - 1s 9ms/step - loss: 0.0024 - accuracy: 0.3767 - mean_absolute_error: 0.0330\n",
            "Epoch 6/7\n",
            "59/59 [==============================] - 1s 9ms/step - loss: 0.0024 - accuracy: 0.3240 - mean_absolute_error: 0.0329\n",
            "Epoch 7/7\n",
            "59/59 [==============================] - 1s 8ms/step - loss: 0.0024 - accuracy: 0.5350 - mean_absolute_error: 0.0325\n",
            "19/19 [==============================] - 0s 4ms/step\n"
          ]
        }
      ]
    },
    {
      "cell_type": "code",
      "source": [
        "Accuracy"
      ],
      "metadata": {
        "id": "Evr0r9-ZKoya",
        "colab": {
          "base_uri": "https://localhost:8080/"
        },
        "outputId": "722cd8f1-70e2-4293-f45b-af167b8f43d4"
      },
      "id": "Evr0r9-ZKoya",
      "execution_count": 91,
      "outputs": [
        {
          "output_type": "execute_result",
          "data": {
            "text/plain": [
              "[57.710148411706896,\n",
              " 60.442921897253264,\n",
              " 60.875933681952745,\n",
              " 59.384281713331575,\n",
              " 56.660042367455546,\n",
              " 58.475708575971794,\n",
              " 55.49791885659702,\n",
              " 53.78660935361677,\n",
              " 55.87498275504752,\n",
              " 56.81949011514021,\n",
              " 62.138003980490396,\n",
              " 65.45328039298589,\n",
              " 63.738070074708354,\n",
              " 59.00959755213354,\n",
              " 61.34640463541095]"
            ]
          },
          "metadata": {},
          "execution_count": 91
        }
      ]
    },
    {
      "cell_type": "code",
      "source": [
        "RMSE"
      ],
      "metadata": {
        "id": "BE3dGqh6Kr-W",
        "colab": {
          "base_uri": "https://localhost:8080/"
        },
        "outputId": "e1990a8b-b4eb-4f6b-e5d8-7c3e5eb33006"
      },
      "id": "BE3dGqh6Kr-W",
      "execution_count": 92,
      "outputs": [
        {
          "output_type": "execute_result",
          "data": {
            "text/plain": [
              "[0.0028642297007777516,\n",
              " 0.002762946022048737,\n",
              " 0.0028067770796517777,\n",
              " 0.0028305771205278957,\n",
              " 0.00283201066823305,\n",
              " 0.00278668997722149,\n",
              " 0.002904774432415429,\n",
              " 0.002883483455091358,\n",
              " 0.0028623022801083204,\n",
              " 0.0028633133990983283,\n",
              " 0.0027813091345003423,\n",
              " 0.002812709540335331,\n",
              " 0.002753299895078149,\n",
              " 0.002802507221545922,\n",
              " 0.002774894703140037]"
            ]
          },
          "metadata": {},
          "execution_count": 92
        }
      ]
    },
    {
      "cell_type": "code",
      "source": [
        "Quasilikelihood"
      ],
      "metadata": {
        "id": "EnAR6m9VKs2V",
        "colab": {
          "base_uri": "https://localhost:8080/"
        },
        "outputId": "f081048a-01a6-483c-ba2c-fef7688c3199"
      },
      "id": "EnAR6m9VKs2V",
      "execution_count": 93,
      "outputs": [
        {
          "output_type": "execute_result",
          "data": {
            "text/plain": [
              "[0.12042259970501815,\n",
              " 0.10957349409332225,\n",
              " 0.10931959988702789,\n",
              " 0.11463987708492868,\n",
              " 0.1220849875300688,\n",
              " 0.11533261523924118,\n",
              " 0.1291529281148624,\n",
              " 0.1327403230551553,\n",
              " 0.12614046986319752,\n",
              " 0.12329287084685911,\n",
              " 0.10524360444003746,\n",
              " 0.0973305534363611,\n",
              " 0.09972292080826482,\n",
              " 0.1145520029145475,\n",
              " 0.10709060417747411]"
            ]
          },
          "metadata": {},
          "execution_count": 93
        }
      ]
    },
    {
      "cell_type": "code",
      "source": [
        "# Best model\n",
        "plt.plot(df_for_date[\"Date\"][:len(test)], test)\n",
        "plt.plot(df_for_date[\"Date\"][:len(test)], true_predictions) \n",
        "plt.ylabel(\"S&P 500 Realized Volatility\")\n",
        "plt.legend(['Actuals', 'Forecasts'])"
      ],
      "metadata": {
        "id": "dVHclPtwMZvR",
        "colab": {
          "base_uri": "https://localhost:8080/",
          "height": 448
        },
        "outputId": "f06c20fc-84c3-48c9-837a-866fe37dff81"
      },
      "id": "dVHclPtwMZvR",
      "execution_count": 94,
      "outputs": [
        {
          "output_type": "execute_result",
          "data": {
            "text/plain": [
              "<matplotlib.legend.Legend at 0x7fc0f163c5e0>"
            ]
          },
          "metadata": {},
          "execution_count": 94
        },
        {
          "output_type": "display_data",
          "data": {
            "text/plain": [
              "<Figure size 640x480 with 1 Axes>"
            ],
            "image/png": "[encoded data removed]"
          },
          "metadata": {}
        }
      ]
    },
    {
      "cell_type": "code",
      "source": [],
      "metadata": {
        "id": "cWA4y7fkO226"
      },
      "id": "cWA4y7fkO226",
      "execution_count": null,
      "outputs": []
    },
    {
      "cell_type": "markdown",
      "source": [
        "# H=5 Forecasts"
      ],
      "metadata": {
        "id": "1XELAbp9Sma7"
      },
      "id": "1XELAbp9Sma7"
    },
    {
      "cell_type": "code",
      "source": [
        "RMSE = []\n",
        "Accuracy = []\n",
        "Quasilikelihood=[]"
      ],
      "metadata": {
        "id": "zRxm1H1KSoLe"
      },
      "id": "zRxm1H1KSoLe",
      "execution_count": 95,
      "outputs": []
    },
    {
      "cell_type": "code",
      "source": [
        "def df_to_X_y(window_size,test,scaled_test_input):\n",
        "  X=[]\n",
        "  y=[]\n",
        "  for i in range(int(len(test)/5)):\n",
        "    row = [[a] for a in scaled_test_input[i*5:(i*5)+window_size]]\n",
        "    X.append(row)\n",
        "  return np.array(X)"
      ],
      "metadata": {
        "id": "52bLLdAg_V4T"
      },
      "id": "52bLLdAg_V4T",
      "execution_count": 96,
      "outputs": []
    },
    {
      "cell_type": "code",
      "source": [
        "for i in range (15):\n",
        "  n_features = 2\n",
        "  n_input = 189\n",
        "  train = df.iloc[:int(len(df['Realised'])*0.7)]\n",
        "  train = train[int(len(train)*0.5):]\n",
        "  test = df.iloc[int(len(df['Realised'])*0.7)-n_input:]\n",
        "  scaler.fit(train)\n",
        "  scaled_train_input = scaler.transform(train)\n",
        "  scaled_test_input = scaler.transform(test)\n",
        "  train = df[\"Realised\"].iloc[:int(len(df['Realised'])*0.7)]\n",
        "  train = train[int(len(train)*0.5):]\n",
        "  test = df[\"Realised\"].iloc[int(len(df['Realised'])*0.7):]\n",
        "  train = train.array.reshape(-1, 1)\n",
        "  test = test.array.reshape(-1, 1)\n",
        "  scaler.fit(train)\n",
        "  scaled_train_target = scaler.transform(train)\n",
        "  scaled_test_target = scaler.transform(test)\n",
        "  generator = TimeseriesGenerator(scaled_train_input, scaled_train_target, length=n_input, batch_size=32)\n",
        "  model = Sequential()\n",
        "  model.add(LSTM(56, activation='tanh', input_shape=(n_input, n_features)))\n",
        "  model.add(Dense(5))\n",
        "  model.compile(optimizer='adam', loss='mse', metrics=[\"accuracy\", \"mean_absolute_error\"])\n",
        "  model.fit(generator,epochs=7)\n",
        "  X = df_to_X_y(n_input,test,scaled_test_input)\n",
        "  X=X.reshape(int(((len(test)/5))), n_input, n_features)\n",
        "  y_hat=model.predict(X)\n",
        "  y_hat=y_hat.reshape(len(test),1)\n",
        "  true_predictions = scaler.inverse_transform(y_hat)\n",
        "  RMSE.append(np.sum(np.sqrt((test-true_predictions)**2))/len(test))\n",
        "  a=np.sqrt((test-true_predictions)**2)\n",
        "  a=np.delete(a,1754)\n",
        "  test1=np.delete(test,1754) #needed since this value equals 0\n",
        "  Accuracy.append((1-np.sum(a/test1)/(len(test)-1))*100)\n",
        "  Quasilikelihood.append(np.sum(true_predictions/test-np.log(true_predictions/test)-1)/len(test))"
      ],
      "metadata": {
        "id": "Q5ijFylJSqd4",
        "colab": {
          "base_uri": "https://localhost:8080/"
        },
        "outputId": "951537ea-f477-457a-c79c-ee1453e3b1d8"
      },
      "id": "Q5ijFylJSqd4",
      "execution_count": 97,
      "outputs": [
        {
          "output_type": "stream",
          "name": "stdout",
          "text": [
            "Epoch 1/7\n",
            "59/59 [==============================] - 4s 11ms/step - loss: 0.0045 - accuracy: 0.0151 - mean_absolute_error: 0.0442\n",
            "Epoch 2/7\n",
            "59/59 [==============================] - 1s 9ms/step - loss: 0.0031 - accuracy: 0.1588 - mean_absolute_error: 0.0358\n",
            "Epoch 3/7\n",
            "59/59 [==============================] - 1s 9ms/step - loss: 0.0027 - accuracy: 0.2330 - mean_absolute_error: 0.0353\n",
            "Epoch 4/7\n",
            "59/59 [==============================] - 1s 9ms/step - loss: 0.0025 - accuracy: 0.2869 - mean_absolute_error: 0.0337\n",
            "Epoch 5/7\n",
            "59/59 [==============================] - 1s 9ms/step - loss: 0.0025 - accuracy: 0.2126 - mean_absolute_error: 0.0334\n",
            "Epoch 6/7\n",
            "59/59 [==============================] - 1s 9ms/step - loss: 0.0025 - accuracy: 0.3025 - mean_absolute_error: 0.0331\n",
            "Epoch 7/7\n",
            "59/59 [==============================] - 1s 9ms/step - loss: 0.0024 - accuracy: 0.3036 - mean_absolute_error: 0.0330\n",
            "11/11 [==============================] - 0s 4ms/step\n",
            "Epoch 1/7\n",
            "59/59 [==============================] - 3s 11ms/step - loss: 0.0033 - accuracy: 0.0377 - mean_absolute_error: 0.0392\n",
            "Epoch 2/7\n",
            "59/59 [==============================] - 1s 9ms/step - loss: 0.0026 - accuracy: 0.1932 - mean_absolute_error: 0.0341\n",
            "Epoch 3/7\n",
            "59/59 [==============================] - 1s 9ms/step - loss: 0.0028 - accuracy: 0.2460 - mean_absolute_error: 0.0351\n",
            "Epoch 4/7\n",
            "59/59 [==============================] - 1s 9ms/step - loss: 0.0025 - accuracy: 0.1200 - mean_absolute_error: 0.0334\n",
            "Epoch 5/7\n",
            "59/59 [==============================] - 1s 12ms/step - loss: 0.0024 - accuracy: 0.2745 - mean_absolute_error: 0.0332\n",
            "Epoch 6/7\n",
            "59/59 [==============================] - 1s 13ms/step - loss: 0.0024 - accuracy: 0.2600 - mean_absolute_error: 0.0326\n",
            "Epoch 7/7\n",
            "59/59 [==============================] - 1s 11ms/step - loss: 0.0024 - accuracy: 0.3418 - mean_absolute_error: 0.0327\n",
            "11/11 [==============================] - 0s 4ms/step\n",
            "Epoch 1/7\n",
            "59/59 [==============================] - 3s 11ms/step - loss: 0.0030 - accuracy: 0.3956 - mean_absolute_error: 0.0377\n",
            "Epoch 2/7\n",
            "59/59 [==============================] - 1s 9ms/step - loss: 0.0026 - accuracy: 0.1954 - mean_absolute_error: 0.0348\n",
            "Epoch 3/7\n",
            "59/59 [==============================] - 1s 9ms/step - loss: 0.0025 - accuracy: 0.2702 - mean_absolute_error: 0.0336\n",
            "Epoch 4/7\n",
            "59/59 [==============================] - 1s 9ms/step - loss: 0.0025 - accuracy: 0.1674 - mean_absolute_error: 0.0335\n",
            "Epoch 5/7\n",
            "59/59 [==============================] - 1s 9ms/step - loss: 0.0025 - accuracy: 0.1825 - mean_absolute_error: 0.0335\n",
            "Epoch 6/7\n",
            "59/59 [==============================] - 1s 9ms/step - loss: 0.0024 - accuracy: 0.1233 - mean_absolute_error: 0.0326\n",
            "Epoch 7/7\n",
            "59/59 [==============================] - 1s 9ms/step - loss: 0.0024 - accuracy: 0.2099 - mean_absolute_error: 0.0328\n",
            "11/11 [==============================] - 0s 4ms/step\n",
            "Epoch 1/7\n",
            "59/59 [==============================] - 4s 14ms/step - loss: 0.0033 - accuracy: 0.1927 - mean_absolute_error: 0.0387\n",
            "Epoch 2/7\n",
            "59/59 [==============================] - 1s 9ms/step - loss: 0.0026 - accuracy: 0.2406 - mean_absolute_error: 0.0346\n",
            "Epoch 3/7\n",
            "59/59 [==============================] - 1s 9ms/step - loss: 0.0025 - accuracy: 0.1798 - mean_absolute_error: 0.0336\n",
            "Epoch 4/7\n",
            "59/59 [==============================] - 1s 9ms/step - loss: 0.0024 - accuracy: 0.2664 - mean_absolute_error: 0.0329\n",
            "Epoch 5/7\n",
            "59/59 [==============================] - 1s 9ms/step - loss: 0.0024 - accuracy: 0.2293 - mean_absolute_error: 0.0330\n",
            "Epoch 6/7\n",
            "59/59 [==============================] - 1s 9ms/step - loss: 0.0024 - accuracy: 0.0953 - mean_absolute_error: 0.0332\n",
            "Epoch 7/7\n",
            "59/59 [==============================] - 1s 9ms/step - loss: 0.0023 - accuracy: 0.3025 - mean_absolute_error: 0.0324\n",
            "11/11 [==============================] - 0s 4ms/step\n",
            "Epoch 1/7\n",
            "59/59 [==============================] - 3s 11ms/step - loss: 0.0047 - accuracy: 0.1265 - mean_absolute_error: 0.0447\n",
            "Epoch 2/7\n",
            "59/59 [==============================] - 1s 9ms/step - loss: 0.0028 - accuracy: 0.0926 - mean_absolute_error: 0.0350\n",
            "Epoch 3/7\n",
            "59/59 [==============================] - 1s 9ms/step - loss: 0.0026 - accuracy: 0.1114 - mean_absolute_error: 0.0343\n",
            "Epoch 4/7\n",
            "59/59 [==============================] - 1s 10ms/step - loss: 0.0027 - accuracy: 0.0910 - mean_absolute_error: 0.0343\n",
            "Epoch 5/7\n",
            "59/59 [==============================] - 1s 11ms/step - loss: 0.0025 - accuracy: 0.0199 - mean_absolute_error: 0.0333\n",
            "Epoch 6/7\n",
            "59/59 [==============================] - 1s 14ms/step - loss: 0.0025 - accuracy: 0.0129 - mean_absolute_error: 0.0332\n",
            "Epoch 7/7\n",
            "59/59 [==============================] - 1s 14ms/step - loss: 0.0025 - accuracy: 0.0215 - mean_absolute_error: 0.0337\n",
            "11/11 [==============================] - 0s 6ms/step\n",
            "Epoch 1/7\n",
            "59/59 [==============================] - 3s 11ms/step - loss: 0.0033 - accuracy: 0.2271 - mean_absolute_error: 0.0382\n",
            "Epoch 2/7\n",
            "59/59 [==============================] - 1s 9ms/step - loss: 0.0026 - accuracy: 0.0501 - mean_absolute_error: 0.0341\n",
            "Epoch 3/7\n",
            "59/59 [==============================] - 1s 9ms/step - loss: 0.0025 - accuracy: 0.1356 - mean_absolute_error: 0.0335\n",
            "Epoch 4/7\n",
            "59/59 [==============================] - 1s 9ms/step - loss: 0.0024 - accuracy: 0.1152 - mean_absolute_error: 0.0329\n",
            "Epoch 5/7\n",
            "59/59 [==============================] - 1s 9ms/step - loss: 0.0024 - accuracy: 0.1738 - mean_absolute_error: 0.0327\n",
            "Epoch 6/7\n",
            "59/59 [==============================] - 1s 18ms/step - loss: 0.0024 - accuracy: 0.0883 - mean_absolute_error: 0.0326\n",
            "Epoch 7/7\n",
            "59/59 [==============================] - 1s 13ms/step - loss: 0.0024 - accuracy: 0.1281 - mean_absolute_error: 0.0328\n",
            "11/11 [==============================] - 0s 4ms/step\n",
            "Epoch 1/7\n",
            "59/59 [==============================] - 4s 12ms/step - loss: 0.0040 - accuracy: 0.5291 - mean_absolute_error: 0.0424\n",
            "Epoch 2/7\n",
            "59/59 [==============================] - 1s 9ms/step - loss: 0.0027 - accuracy: 0.2788 - mean_absolute_error: 0.0345\n",
            "Epoch 3/7\n",
            "59/59 [==============================] - 1s 9ms/step - loss: 0.0027 - accuracy: 0.4645 - mean_absolute_error: 0.0345\n",
            "Epoch 4/7\n",
            "59/59 [==============================] - 1s 9ms/step - loss: 0.0026 - accuracy: 0.3283 - mean_absolute_error: 0.0339\n",
            "Epoch 5/7\n",
            "59/59 [==============================] - 1s 9ms/step - loss: 0.0025 - accuracy: 0.4290 - mean_absolute_error: 0.0333\n",
            "Epoch 6/7\n",
            "59/59 [==============================] - 1s 9ms/step - loss: 0.0025 - accuracy: 0.2912 - mean_absolute_error: 0.0332\n",
            "Epoch 7/7\n",
            "59/59 [==============================] - 1s 9ms/step - loss: 0.0024 - accuracy: 0.5022 - mean_absolute_error: 0.0332\n",
            "11/11 [==============================] - 0s 4ms/step\n",
            "Epoch 1/7\n",
            "59/59 [==============================] - 3s 11ms/step - loss: 0.0033 - accuracy: 0.1421 - mean_absolute_error: 0.0391\n",
            "Epoch 2/7\n",
            "59/59 [==============================] - 1s 9ms/step - loss: 0.0027 - accuracy: 0.1868 - mean_absolute_error: 0.0347\n",
            "Epoch 3/7\n",
            "59/59 [==============================] - 1s 9ms/step - loss: 0.0026 - accuracy: 0.2309 - mean_absolute_error: 0.0344\n",
            "Epoch 4/7\n",
            "59/59 [==============================] - 1s 9ms/step - loss: 0.0025 - accuracy: 0.3681 - mean_absolute_error: 0.0337\n",
            "Epoch 5/7\n",
            "59/59 [==============================] - 1s 12ms/step - loss: 0.0025 - accuracy: 0.1970 - mean_absolute_error: 0.0333\n",
            "Epoch 6/7\n",
            "59/59 [==============================] - 1s 13ms/step - loss: 0.0025 - accuracy: 0.4612 - mean_absolute_error: 0.0336\n",
            "Epoch 7/7\n",
            "59/59 [==============================] - 1s 12ms/step - loss: 0.0024 - accuracy: 0.1561 - mean_absolute_error: 0.0332\n",
            "11/11 [==============================] - 0s 4ms/step\n",
            "Epoch 1/7\n",
            "59/59 [==============================] - 3s 11ms/step - loss: 0.0036 - accuracy: 0.1604 - mean_absolute_error: 0.0408\n",
            "Epoch 2/7\n",
            "59/59 [==============================] - 1s 9ms/step - loss: 0.0025 - accuracy: 0.1916 - mean_absolute_error: 0.0332\n",
            "Epoch 3/7\n",
            "59/59 [==============================] - 1s 9ms/step - loss: 0.0025 - accuracy: 0.1938 - mean_absolute_error: 0.0335\n",
            "Epoch 4/7\n",
            "59/59 [==============================] - 1s 9ms/step - loss: 0.0025 - accuracy: 0.2228 - mean_absolute_error: 0.0329\n",
            "Epoch 5/7\n",
            "59/59 [==============================] - 1s 9ms/step - loss: 0.0024 - accuracy: 0.1835 - mean_absolute_error: 0.0333\n",
            "Epoch 6/7\n",
            "59/59 [==============================] - 1s 9ms/step - loss: 0.0024 - accuracy: 0.1803 - mean_absolute_error: 0.0326\n",
            "Epoch 7/7\n",
            "59/59 [==============================] - 1s 9ms/step - loss: 0.0023 - accuracy: 0.1722 - mean_absolute_error: 0.0323\n",
            "11/11 [==============================] - 0s 4ms/step\n",
            "Epoch 1/7\n",
            "59/59 [==============================] - 4s 13ms/step - loss: 0.0029 - accuracy: 0.2185 - mean_absolute_error: 0.0369\n",
            "Epoch 2/7\n",
            "59/59 [==============================] - 1s 9ms/step - loss: 0.0025 - accuracy: 0.1636 - mean_absolute_error: 0.0332\n",
            "Epoch 3/7\n",
            "59/59 [==============================] - 1s 9ms/step - loss: 0.0024 - accuracy: 0.1728 - mean_absolute_error: 0.0335\n",
            "Epoch 4/7\n",
            "59/59 [==============================] - 1s 9ms/step - loss: 0.0024 - accuracy: 0.1302 - mean_absolute_error: 0.0327\n",
            "Epoch 5/7\n",
            "59/59 [==============================] - 1s 9ms/step - loss: 0.0024 - accuracy: 0.1787 - mean_absolute_error: 0.0330\n",
            "Epoch 6/7\n",
            "59/59 [==============================] - 1s 9ms/step - loss: 0.0023 - accuracy: 0.1459 - mean_absolute_error: 0.0322\n",
            "Epoch 7/7\n",
            "59/59 [==============================] - 1s 9ms/step - loss: 0.0023 - accuracy: 0.2352 - mean_absolute_error: 0.0324\n",
            "11/11 [==============================] - 0s 4ms/step\n",
            "Epoch 1/7\n",
            "59/59 [==============================] - 3s 11ms/step - loss: 0.0031 - accuracy: 0.2766 - mean_absolute_error: 0.0365\n",
            "Epoch 2/7\n",
            "59/59 [==============================] - 1s 9ms/step - loss: 0.0025 - accuracy: 0.3321 - mean_absolute_error: 0.0333\n",
            "Epoch 3/7\n",
            "59/59 [==============================] - 1s 9ms/step - loss: 0.0024 - accuracy: 0.3832 - mean_absolute_error: 0.0330\n",
            "Epoch 4/7\n",
            "59/59 [==============================] - 1s 9ms/step - loss: 0.0024 - accuracy: 0.2998 - mean_absolute_error: 0.0325\n",
            "Epoch 5/7\n",
            "59/59 [==============================] - 1s 13ms/step - loss: 0.0025 - accuracy: 0.2519 - mean_absolute_error: 0.0332\n",
            "Epoch 6/7\n",
            "59/59 [==============================] - 1s 14ms/step - loss: 0.0024 - accuracy: 0.2298 - mean_absolute_error: 0.0325\n",
            "Epoch 7/7\n",
            "59/59 [==============================] - 1s 10ms/step - loss: 0.0023 - accuracy: 0.3369 - mean_absolute_error: 0.0324\n",
            "11/11 [==============================] - 0s 4ms/step\n",
            "Epoch 1/7\n",
            "59/59 [==============================] - 3s 11ms/step - loss: 0.0037 - accuracy: 0.1216 - mean_absolute_error: 0.0421\n",
            "Epoch 2/7\n",
            "59/59 [==============================] - 1s 9ms/step - loss: 0.0028 - accuracy: 0.2411 - mean_absolute_error: 0.0348\n",
            "Epoch 3/7\n",
            "59/59 [==============================] - 1s 9ms/step - loss: 0.0026 - accuracy: 0.1545 - mean_absolute_error: 0.0340\n",
            "Epoch 4/7\n",
            "59/59 [==============================] - 1s 9ms/step - loss: 0.0025 - accuracy: 0.1760 - mean_absolute_error: 0.0335\n",
            "Epoch 5/7\n",
            "59/59 [==============================] - 1s 9ms/step - loss: 0.0025 - accuracy: 0.2341 - mean_absolute_error: 0.0337\n",
            "Epoch 6/7\n",
            "59/59 [==============================] - 1s 9ms/step - loss: 0.0024 - accuracy: 0.1819 - mean_absolute_error: 0.0329\n",
            "Epoch 7/7\n",
            "59/59 [==============================] - 1s 9ms/step - loss: 0.0024 - accuracy: 0.0829 - mean_absolute_error: 0.0328\n",
            "11/11 [==============================] - 0s 5ms/step\n",
            "Epoch 1/7\n",
            "59/59 [==============================] - 4s 15ms/step - loss: 0.0039 - accuracy: 0.0242 - mean_absolute_error: 0.0410\n",
            "Epoch 2/7\n",
            "59/59 [==============================] - 1s 10ms/step - loss: 0.0027 - accuracy: 0.1566 - mean_absolute_error: 0.0346\n",
            "Epoch 3/7\n",
            "59/59 [==============================] - 1s 9ms/step - loss: 0.0027 - accuracy: 0.2530 - mean_absolute_error: 0.0346\n",
            "Epoch 4/7\n",
            "59/59 [==============================] - 1s 9ms/step - loss: 0.0025 - accuracy: 0.4198 - mean_absolute_error: 0.0337\n",
            "Epoch 5/7\n",
            "59/59 [==============================] - 1s 10ms/step - loss: 0.0024 - accuracy: 0.2433 - mean_absolute_error: 0.0328\n",
            "Epoch 6/7\n",
            "59/59 [==============================] - 1s 9ms/step - loss: 0.0024 - accuracy: 0.3364 - mean_absolute_error: 0.0327\n",
            "Epoch 7/7\n",
            "59/59 [==============================] - 1s 9ms/step - loss: 0.0025 - accuracy: 0.1825 - mean_absolute_error: 0.0336\n",
            "11/11 [==============================] - 0s 4ms/step\n",
            "Epoch 1/7\n",
            "59/59 [==============================] - 3s 11ms/step - loss: 0.0042 - accuracy: 0.3364 - mean_absolute_error: 0.0416\n",
            "Epoch 2/7\n",
            "59/59 [==============================] - 1s 9ms/step - loss: 0.0026 - accuracy: 0.2094 - mean_absolute_error: 0.0344\n",
            "Epoch 3/7\n",
            "59/59 [==============================] - 1s 10ms/step - loss: 0.0026 - accuracy: 0.4064 - mean_absolute_error: 0.0338\n",
            "Epoch 4/7\n",
            "59/59 [==============================] - 1s 9ms/step - loss: 0.0025 - accuracy: 0.2406 - mean_absolute_error: 0.0341\n",
            "Epoch 5/7\n",
            "59/59 [==============================] - 1s 12ms/step - loss: 0.0025 - accuracy: 0.2277 - mean_absolute_error: 0.0337\n",
            "Epoch 6/7\n",
            "59/59 [==============================] - 1s 13ms/step - loss: 0.0024 - accuracy: 0.3149 - mean_absolute_error: 0.0329\n",
            "Epoch 7/7\n",
            "59/59 [==============================] - 1s 12ms/step - loss: 0.0024 - accuracy: 0.2158 - mean_absolute_error: 0.0327\n",
            "11/11 [==============================] - 0s 4ms/step\n",
            "Epoch 1/7\n",
            "59/59 [==============================] - 3s 12ms/step - loss: 0.0040 - accuracy: 0.3590 - mean_absolute_error: 0.0413\n",
            "Epoch 2/7\n",
            "59/59 [==============================] - 1s 9ms/step - loss: 0.0026 - accuracy: 0.3299 - mean_absolute_error: 0.0340\n",
            "Epoch 3/7\n",
            "59/59 [==============================] - 1s 9ms/step - loss: 0.0026 - accuracy: 0.3116 - mean_absolute_error: 0.0342\n",
            "Epoch 4/7\n",
            "59/59 [==============================] - 1s 9ms/step - loss: 0.0027 - accuracy: 0.4424 - mean_absolute_error: 0.0341\n",
            "Epoch 5/7\n",
            "59/59 [==============================] - 1s 9ms/step - loss: 0.0025 - accuracy: 0.3719 - mean_absolute_error: 0.0332\n",
            "Epoch 6/7\n",
            "59/59 [==============================] - 1s 9ms/step - loss: 0.0024 - accuracy: 0.3380 - mean_absolute_error: 0.0328\n",
            "Epoch 7/7\n",
            "59/59 [==============================] - 1s 9ms/step - loss: 0.0024 - accuracy: 0.2320 - mean_absolute_error: 0.0327\n",
            "11/11 [==============================] - 0s 4ms/step\n"
          ]
        }
      ]
    },
    {
      "cell_type": "code",
      "source": [
        "Accuracy"
      ],
      "metadata": {
        "id": "zSyMbQOOS01b",
        "colab": {
          "base_uri": "https://localhost:8080/"
        },
        "outputId": "28cd3d3d-baf4-47d8-f407-4d9df65345e0"
      },
      "id": "zSyMbQOOS01b",
      "execution_count": 98,
      "outputs": [
        {
          "output_type": "execute_result",
          "data": {
            "text/plain": [
              "[53.97585455195166,\n",
              " 55.936412590927944,\n",
              " 57.06429663098157,\n",
              " 60.811645455216336,\n",
              " 60.978033604977064,\n",
              " 57.7827892811859,\n",
              " 60.93528442196418,\n",
              " 62.83982392628786,\n",
              " 57.0719426790171,\n",
              " 62.85573951498412,\n",
              " 59.99894946329884,\n",
              " 53.78188120803627,\n",
              " 53.87731011685186,\n",
              " 52.234800871473894,\n",
              " 53.433920435274786]"
            ]
          },
          "metadata": {},
          "execution_count": 98
        }
      ]
    },
    {
      "cell_type": "code",
      "source": [
        "RMSE"
      ],
      "metadata": {
        "id": "lx3G3_soS2uX",
        "colab": {
          "base_uri": "https://localhost:8080/"
        },
        "outputId": "2eca94ea-e9d7-4ce3-c8db-051d01e995af"
      },
      "id": "lx3G3_soS2uX",
      "execution_count": 99,
      "outputs": [
        {
          "output_type": "execute_result",
          "data": {
            "text/plain": [
              "[0.0029935875666975927,\n",
              " 0.0029092492847155936,\n",
              " 0.002931746252229064,\n",
              " 0.002879395018898954,\n",
              " 0.0028785593415240063,\n",
              " 0.0028706947582405567,\n",
              " 0.002880098219106323,\n",
              " 0.0028797331789545957,\n",
              " 0.002867263809408351,\n",
              " 0.0028297941693613037,\n",
              " 0.002829943486086625,\n",
              " 0.0029519601251739008,\n",
              " 0.00297086354143069,\n",
              " 0.002979490847390431,\n",
              " 0.002962233454016835]"
            ]
          },
          "metadata": {},
          "execution_count": 99
        }
      ]
    },
    {
      "cell_type": "code",
      "source": [
        "Quasilikelihood"
      ],
      "metadata": {
        "id": "sIE-N19kS3Uz",
        "colab": {
          "base_uri": "https://localhost:8080/"
        },
        "outputId": "b2ef8143-a99b-414f-c7a4-cc8e0974902e"
      },
      "id": "sIE-N19kS3Uz",
      "execution_count": 100,
      "outputs": [
        {
          "output_type": "execute_result",
          "data": {
            "text/plain": [
              "[0.1365464404357162,\n",
              " 0.12880051243714882,\n",
              " 0.12732640783407703,\n",
              " 0.1127199500883882,\n",
              " 0.11316788502474275,\n",
              " 0.12184256237406912,\n",
              " 0.113283444305611,\n",
              " 0.10763675844717138,\n",
              " 0.12335569163645924,\n",
              " 0.10619332809674241,\n",
              " 0.11399613609273496,\n",
              " 0.13723099896985744,\n",
              " 0.13589943377268268,\n",
              " 0.14268175586210657,\n",
              " 0.13811588022071997]"
            ]
          },
          "metadata": {},
          "execution_count": 100
        }
      ]
    },
    {
      "cell_type": "code",
      "source": [
        "# Best model\n",
        "plt.plot(df_for_date[\"Date\"][:len(test)], test)\n",
        "plt.plot(df_for_date[\"Date\"][:len(test)], true_predictions) \n",
        "plt.ylabel(\"S&P 500 Realized Volatility\")\n",
        "plt.legend(['Actuals', 'Forecasts'])"
      ],
      "metadata": {
        "id": "o2Cr_8rFS5H5",
        "colab": {
          "base_uri": "https://localhost:8080/",
          "height": 448
        },
        "outputId": "65a63a0e-a8ed-46b9-ed12-7d9ac38e8945"
      },
      "id": "o2Cr_8rFS5H5",
      "execution_count": 101,
      "outputs": [
        {
          "output_type": "execute_result",
          "data": {
            "text/plain": [
              "<matplotlib.legend.Legend at 0x7fc0f169e170>"
            ]
          },
          "metadata": {},
          "execution_count": 101
        },
        {
          "output_type": "display_data",
          "data": {
            "text/plain": [
              "<Figure size 640x480 with 1 Axes>"
            ],
            "image/png": "[encoded data removed]"
          },
          "metadata": {}
        }
      ]
    },
    {
      "cell_type": "code",
      "source": [],
      "metadata": {
        "id": "bS0K2Q3US7AA"
      },
      "id": "bS0K2Q3US7AA",
      "execution_count": null,
      "outputs": []
    },
    {
      "cell_type": "markdown",
      "source": [
        "# H=10 Forecasts"
      ],
      "metadata": {
        "id": "T0W3_pqk--_v"
      },
      "id": "T0W3_pqk--_v"
    },
    {
      "cell_type": "code",
      "source": [
        "RMSE = []\n",
        "Accuracy = []\n",
        "Quasilikelihood=[]"
      ],
      "metadata": {
        "id": "m7FYa-Xm_AeR"
      },
      "id": "m7FYa-Xm_AeR",
      "execution_count": 102,
      "outputs": []
    },
    {
      "cell_type": "code",
      "source": [
        "def df_to_X_y(window_size,test,scaled_test_input):\n",
        "  X=[]\n",
        "  y=[]\n",
        "  for i in range(int(len(test)/10)):\n",
        "    row = [[a] for a in scaled_test_input[i*10:(i*10)+window_size]]\n",
        "    X.append(row)\n",
        "  return np.array(X)"
      ],
      "metadata": {
        "id": "sdMpjeNb_dAF"
      },
      "id": "sdMpjeNb_dAF",
      "execution_count": 120,
      "outputs": []
    },
    {
      "cell_type": "code",
      "source": [
        "for i in range (15):\n",
        "  n_features = 2\n",
        "  n_input = 189\n",
        "  train = df.iloc[:int(len(df['Realised'])*0.7)]\n",
        "  train = train[int(len(train)*0.5):]\n",
        "  test = df.iloc[int(len(df['Realised'])*0.7)-n_input:]\n",
        "  scaler.fit(train)\n",
        "  scaled_train_input = scaler.transform(train)\n",
        "  scaled_test_input = scaler.transform(test)\n",
        "  train = df[\"Realised\"].iloc[:int(len(df['Realised'])*0.7)]\n",
        "  train = train[int(len(train)*0.5):]\n",
        "  test = df[\"Realised\"].iloc[int(len(df['Realised'])*0.7):]\n",
        "  train = train.array.reshape(-1, 1)\n",
        "  test = test.array.reshape(-1, 1)\n",
        "  scaler.fit(train)\n",
        "  scaled_train_target = scaler.transform(train)\n",
        "  scaled_test_target = scaler.transform(test)\n",
        "  generator = TimeseriesGenerator(scaled_train_input, scaled_train_target, length=n_input, batch_size=32)\n",
        "  model = Sequential()\n",
        "  model.add(LSTM(56, activation='tanh', input_shape=(n_input, n_features)))\n",
        "  model.add(Dense(10))\n",
        "  model.compile(optimizer='adam', loss='mse', metrics=[\"accuracy\", \"mean_absolute_error\"])\n",
        "  model.fit(generator,epochs=7)\n",
        "  test=test[:len(test)-5]\n",
        "  X = df_to_X_y(n_input,test,scaled_test_input)\n",
        "  X=X.reshape(int(((len(test)/10))), n_input, n_features)\n",
        "  y_hat=model.predict(X)\n",
        "  y_hat=y_hat.reshape(len(test),1)\n",
        "  true_predictions = scaler.inverse_transform(y_hat)\n",
        "  RMSE.append(np.sum(np.sqrt((test-true_predictions)**2))/len(test))\n",
        "  Accuracy.append((1-np.sum(np.sqrt((test-true_predictions)**2)/test)/(len(test)))*100)\n",
        "  Quasilikelihood.append(np.sum(true_predictions/test-np.log(true_predictions/test)-1)/len(test))"
      ],
      "metadata": {
        "id": "0TIhDaY2_Dk1",
        "colab": {
          "base_uri": "https://localhost:8080/"
        },
        "outputId": "074122a3-483c-43af-d2ca-30a073ad645d"
      },
      "id": "0TIhDaY2_Dk1",
      "execution_count": 121,
      "outputs": [
        {
          "output_type": "stream",
          "name": "stdout",
          "text": [
            "Epoch 1/7\n",
            "59/59 [==============================] - 3s 11ms/step - loss: 0.0039 - accuracy: 0.0727 - mean_absolute_error: 0.0425\n",
            "Epoch 2/7\n",
            "59/59 [==============================] - 1s 9ms/step - loss: 0.0027 - accuracy: 0.0463 - mean_absolute_error: 0.0344\n",
            "Epoch 3/7\n",
            "59/59 [==============================] - 1s 10ms/step - loss: 0.0026 - accuracy: 0.0318 - mean_absolute_error: 0.0340\n",
            "Epoch 4/7\n",
            "59/59 [==============================] - 1s 13ms/step - loss: 0.0026 - accuracy: 0.0307 - mean_absolute_error: 0.0338\n",
            "Epoch 5/7\n",
            "59/59 [==============================] - 1s 13ms/step - loss: 0.0025 - accuracy: 0.0258 - mean_absolute_error: 0.0336\n",
            "Epoch 6/7\n",
            "59/59 [==============================] - 1s 13ms/step - loss: 0.0025 - accuracy: 0.0371 - mean_absolute_error: 0.0331\n",
            "Epoch 7/7\n",
            "59/59 [==============================] - 1s 14ms/step - loss: 0.0024 - accuracy: 0.0533 - mean_absolute_error: 0.0328\n",
            "6/6 [==============================] - 0s 4ms/step\n",
            "Epoch 1/7\n",
            "59/59 [==============================] - 3s 11ms/step - loss: 0.0046 - accuracy: 0.1071 - mean_absolute_error: 0.0449\n",
            "Epoch 2/7\n",
            "59/59 [==============================] - 1s 8ms/step - loss: 0.0028 - accuracy: 0.0834 - mean_absolute_error: 0.0355\n",
            "Epoch 3/7\n",
            "59/59 [==============================] - 1s 9ms/step - loss: 0.0026 - accuracy: 0.0468 - mean_absolute_error: 0.0342\n",
            "Epoch 4/7\n",
            "59/59 [==============================] - 1s 9ms/step - loss: 0.0026 - accuracy: 0.1093 - mean_absolute_error: 0.0344\n",
            "Epoch 5/7\n",
            "59/59 [==============================] - 1s 9ms/step - loss: 0.0025 - accuracy: 0.1184 - mean_absolute_error: 0.0330\n",
            "Epoch 6/7\n",
            "59/59 [==============================] - 1s 9ms/step - loss: 0.0026 - accuracy: 0.0883 - mean_absolute_error: 0.0342\n",
            "Epoch 7/7\n",
            "59/59 [==============================] - 1s 9ms/step - loss: 0.0024 - accuracy: 0.0915 - mean_absolute_error: 0.0329\n",
            "6/6 [==============================] - 0s 7ms/step\n",
            "Epoch 1/7\n",
            "59/59 [==============================] - 3s 11ms/step - loss: 0.0037 - accuracy: 0.0183 - mean_absolute_error: 0.0400\n",
            "Epoch 2/7\n",
            "59/59 [==============================] - 1s 9ms/step - loss: 0.0025 - accuracy: 0.2158 - mean_absolute_error: 0.0335\n",
            "Epoch 3/7\n",
            "59/59 [==============================] - 1s 9ms/step - loss: 0.0025 - accuracy: 0.1044 - mean_absolute_error: 0.0331\n",
            "Epoch 4/7\n",
            "59/59 [==============================] - 1s 9ms/step - loss: 0.0025 - accuracy: 0.1416 - mean_absolute_error: 0.0335\n",
            "Epoch 5/7\n",
            "59/59 [==============================] - 1s 9ms/step - loss: 0.0025 - accuracy: 0.0490 - mean_absolute_error: 0.0333\n",
            "Epoch 6/7\n",
            "59/59 [==============================] - 1s 9ms/step - loss: 0.0024 - accuracy: 0.0344 - mean_absolute_error: 0.0326\n",
            "Epoch 7/7\n",
            "59/59 [==============================] - 1s 9ms/step - loss: 0.0023 - accuracy: 0.1195 - mean_absolute_error: 0.0321\n",
            "6/6 [==============================] - 0s 4ms/step\n",
            "Epoch 1/7\n",
            "59/59 [==============================] - 3s 11ms/step - loss: 0.0046 - accuracy: 0.0016 - mean_absolute_error: 0.0438\n",
            "Epoch 2/7\n",
            "59/59 [==============================] - 1s 9ms/step - loss: 0.0028 - accuracy: 0.0102 - mean_absolute_error: 0.0352\n",
            "Epoch 3/7\n",
            "59/59 [==============================] - 1s 9ms/step - loss: 0.0028 - accuracy: 5.3821e-04 - mean_absolute_error: 0.0347\n",
            "Epoch 4/7\n",
            "59/59 [==============================] - 1s 9ms/step - loss: 0.0028 - accuracy: 0.0183 - mean_absolute_error: 0.0366\n",
            "Epoch 5/7\n",
            "59/59 [==============================] - 1s 12ms/step - loss: 0.0026 - accuracy: 0.0662 - mean_absolute_error: 0.0341\n",
            "Epoch 6/7\n",
            "59/59 [==============================] - 1s 12ms/step - loss: 0.0025 - accuracy: 0.0269 - mean_absolute_error: 0.0336\n",
            "Epoch 7/7\n",
            "59/59 [==============================] - 1s 9ms/step - loss: 0.0025 - accuracy: 0.0323 - mean_absolute_error: 0.0333\n",
            "6/6 [==============================] - 0s 4ms/step\n",
            "Epoch 1/7\n",
            "59/59 [==============================] - 3s 11ms/step - loss: 0.0041 - accuracy: 0.0554 - mean_absolute_error: 0.0435\n",
            "Epoch 2/7\n",
            "59/59 [==============================] - 1s 9ms/step - loss: 0.0028 - accuracy: 0.0000e+00 - mean_absolute_error: 0.0351\n",
            "Epoch 3/7\n",
            "59/59 [==============================] - 1s 9ms/step - loss: 0.0027 - accuracy: 0.1803 - mean_absolute_error: 0.0355\n",
            "Epoch 4/7\n",
            "59/59 [==============================] - 1s 9ms/step - loss: 0.0027 - accuracy: 0.1744 - mean_absolute_error: 0.0345\n",
            "Epoch 5/7\n",
            "59/59 [==============================] - 1s 9ms/step - loss: 0.0026 - accuracy: 0.2250 - mean_absolute_error: 0.0340\n",
            "Epoch 6/7\n",
            "59/59 [==============================] - 1s 9ms/step - loss: 0.0025 - accuracy: 0.0807 - mean_absolute_error: 0.0335\n",
            "Epoch 7/7\n",
            "59/59 [==============================] - 1s 9ms/step - loss: 0.0025 - accuracy: 0.2083 - mean_absolute_error: 0.0331\n",
            "6/6 [==============================] - 0s 5ms/step\n",
            "Epoch 1/7\n",
            "59/59 [==============================] - 4s 12ms/step - loss: 0.0063 - accuracy: 0.1609 - mean_absolute_error: 0.0511\n",
            "Epoch 2/7\n",
            "59/59 [==============================] - 1s 9ms/step - loss: 0.0031 - accuracy: 0.0770 - mean_absolute_error: 0.0377\n",
            "Epoch 3/7\n",
            "59/59 [==============================] - 1s 9ms/step - loss: 0.0029 - accuracy: 0.0727 - mean_absolute_error: 0.0360\n",
            "Epoch 4/7\n",
            "59/59 [==============================] - 1s 9ms/step - loss: 0.0028 - accuracy: 0.0936 - mean_absolute_error: 0.0356\n",
            "Epoch 5/7\n",
            "59/59 [==============================] - 1s 10ms/step - loss: 0.0026 - accuracy: 0.0640 - mean_absolute_error: 0.0338\n",
            "Epoch 6/7\n",
            "59/59 [==============================] - 1s 10ms/step - loss: 0.0026 - accuracy: 0.0657 - mean_absolute_error: 0.0339\n",
            "Epoch 7/7\n",
            "59/59 [==============================] - 1s 9ms/step - loss: 0.0025 - accuracy: 0.0597 - mean_absolute_error: 0.0336\n",
            "6/6 [==============================] - 0s 5ms/step\n",
            "Epoch 1/7\n",
            "59/59 [==============================] - 3s 11ms/step - loss: 0.0032 - accuracy: 0.0086 - mean_absolute_error: 0.0388\n",
            "Epoch 2/7\n",
            "59/59 [==============================] - 1s 9ms/step - loss: 0.0025 - accuracy: 0.0581 - mean_absolute_error: 0.0335\n",
            "Epoch 3/7\n",
            "59/59 [==============================] - 1s 9ms/step - loss: 0.0027 - accuracy: 0.0786 - mean_absolute_error: 0.0342\n",
            "Epoch 4/7\n",
            "59/59 [==============================] - 1s 10ms/step - loss: 0.0026 - accuracy: 0.0194 - mean_absolute_error: 0.0340\n",
            "Epoch 5/7\n",
            "59/59 [==============================] - 1s 12ms/step - loss: 0.0024 - accuracy: 0.0398 - mean_absolute_error: 0.0332\n",
            "Epoch 6/7\n",
            "59/59 [==============================] - 1s 14ms/step - loss: 0.0024 - accuracy: 0.0178 - mean_absolute_error: 0.0328\n",
            "Epoch 7/7\n",
            "59/59 [==============================] - 1s 13ms/step - loss: 0.0024 - accuracy: 0.0404 - mean_absolute_error: 0.0324\n",
            "6/6 [==============================] - 0s 5ms/step\n",
            "Epoch 1/7\n",
            "59/59 [==============================] - 4s 11ms/step - loss: 0.0038 - accuracy: 0.1082 - mean_absolute_error: 0.0429\n",
            "Epoch 2/7\n",
            "59/59 [==============================] - 1s 10ms/step - loss: 0.0027 - accuracy: 0.1055 - mean_absolute_error: 0.0348\n",
            "Epoch 3/7\n",
            "59/59 [==============================] - 1s 9ms/step - loss: 0.0026 - accuracy: 0.2121 - mean_absolute_error: 0.0336\n",
            "Epoch 4/7\n",
            "59/59 [==============================] - 1s 9ms/step - loss: 0.0025 - accuracy: 0.2293 - mean_absolute_error: 0.0335\n",
            "Epoch 5/7\n",
            "59/59 [==============================] - 1s 9ms/step - loss: 0.0025 - accuracy: 0.1146 - mean_absolute_error: 0.0335\n",
            "Epoch 6/7\n",
            "59/59 [==============================] - 1s 9ms/step - loss: 0.0024 - accuracy: 0.1109 - mean_absolute_error: 0.0331\n",
            "Epoch 7/7\n",
            "59/59 [==============================] - 1s 9ms/step - loss: 0.0024 - accuracy: 0.1394 - mean_absolute_error: 0.0332\n",
            "6/6 [==============================] - 0s 5ms/step\n",
            "Epoch 1/7\n",
            "59/59 [==============================] - 4s 11ms/step - loss: 0.0040 - accuracy: 0.0377 - mean_absolute_error: 0.0417\n",
            "Epoch 2/7\n",
            "59/59 [==============================] - 1s 9ms/step - loss: 0.0027 - accuracy: 0.1529 - mean_absolute_error: 0.0350\n",
            "Epoch 3/7\n",
            "59/59 [==============================] - 1s 9ms/step - loss: 0.0026 - accuracy: 0.0823 - mean_absolute_error: 0.0342\n",
            "Epoch 4/7\n",
            "59/59 [==============================] - 1s 8ms/step - loss: 0.0025 - accuracy: 0.0495 - mean_absolute_error: 0.0335\n",
            "Epoch 5/7\n",
            "59/59 [==============================] - 1s 9ms/step - loss: 0.0025 - accuracy: 0.0312 - mean_absolute_error: 0.0331\n",
            "Epoch 6/7\n",
            "59/59 [==============================] - 1s 9ms/step - loss: 0.0025 - accuracy: 0.0705 - mean_absolute_error: 0.0332\n",
            "Epoch 7/7\n",
            "59/59 [==============================] - 1s 10ms/step - loss: 0.0024 - accuracy: 0.0640 - mean_absolute_error: 0.0327\n",
            "6/6 [==============================] - 0s 4ms/step\n",
            "Epoch 1/7\n",
            "59/59 [==============================] - 3s 11ms/step - loss: 0.0032 - accuracy: 0.1825 - mean_absolute_error: 0.0383\n",
            "Epoch 2/7\n",
            "59/59 [==============================] - 1s 9ms/step - loss: 0.0026 - accuracy: 0.0242 - mean_absolute_error: 0.0343\n",
            "Epoch 3/7\n",
            "59/59 [==============================] - 1s 9ms/step - loss: 0.0025 - accuracy: 0.0737 - mean_absolute_error: 0.0335\n",
            "Epoch 4/7\n",
            "59/59 [==============================] - 1s 9ms/step - loss: 0.0024 - accuracy: 0.1346 - mean_absolute_error: 0.0328\n",
            "Epoch 5/7\n",
            "59/59 [==============================] - 1s 9ms/step - loss: 0.0024 - accuracy: 0.1351 - mean_absolute_error: 0.0327\n",
            "Epoch 6/7\n",
            "59/59 [==============================] - 1s 11ms/step - loss: 0.0024 - accuracy: 0.0603 - mean_absolute_error: 0.0326\n",
            "Epoch 7/7\n",
            "59/59 [==============================] - 1s 12ms/step - loss: 0.0023 - accuracy: 0.1884 - mean_absolute_error: 0.0322\n",
            "6/6 [==============================] - 0s 5ms/step\n",
            "Epoch 1/7\n",
            "59/59 [==============================] - 3s 11ms/step - loss: 0.0036 - accuracy: 0.0388 - mean_absolute_error: 0.0402\n",
            "Epoch 2/7\n",
            "59/59 [==============================] - 1s 9ms/step - loss: 0.0028 - accuracy: 0.0716 - mean_absolute_error: 0.0350\n",
            "Epoch 3/7\n",
            "59/59 [==============================] - 1s 9ms/step - loss: 0.0026 - accuracy: 0.1507 - mean_absolute_error: 0.0341\n",
            "Epoch 4/7\n",
            "59/59 [==============================] - 1s 9ms/step - loss: 0.0025 - accuracy: 0.2099 - mean_absolute_error: 0.0333\n",
            "Epoch 5/7\n",
            "59/59 [==============================] - 1s 9ms/step - loss: 0.0026 - accuracy: 0.0829 - mean_absolute_error: 0.0339\n",
            "Epoch 6/7\n",
            "59/59 [==============================] - 1s 9ms/step - loss: 0.0024 - accuracy: 0.2513 - mean_absolute_error: 0.0326\n",
            "Epoch 7/7\n",
            "59/59 [==============================] - 1s 9ms/step - loss: 0.0024 - accuracy: 0.2648 - mean_absolute_error: 0.0326\n",
            "6/6 [==============================] - 0s 5ms/step\n",
            "Epoch 1/7\n",
            "59/59 [==============================] - 3s 14ms/step - loss: 0.0041 - accuracy: 0.0996 - mean_absolute_error: 0.0436\n",
            "Epoch 2/7\n",
            "59/59 [==============================] - 1s 9ms/step - loss: 0.0026 - accuracy: 0.0517 - mean_absolute_error: 0.0342\n",
            "Epoch 3/7\n",
            "59/59 [==============================] - 1s 11ms/step - loss: 0.0025 - accuracy: 0.1028 - mean_absolute_error: 0.0339\n",
            "Epoch 4/7\n",
            "59/59 [==============================] - 1s 13ms/step - loss: 0.0024 - accuracy: 0.0953 - mean_absolute_error: 0.0332\n",
            "Epoch 5/7\n",
            "59/59 [==============================] - 1s 17ms/step - loss: 0.0024 - accuracy: 0.1033 - mean_absolute_error: 0.0331\n",
            "Epoch 6/7\n",
            "59/59 [==============================] - 1s 9ms/step - loss: 0.0024 - accuracy: 0.2530 - mean_absolute_error: 0.0331\n",
            "Epoch 7/7\n",
            "59/59 [==============================] - 1s 9ms/step - loss: 0.0024 - accuracy: 0.1545 - mean_absolute_error: 0.0327\n",
            "6/6 [==============================] - 0s 5ms/step\n",
            "Epoch 1/7\n",
            "59/59 [==============================] - 3s 11ms/step - loss: 0.0048 - accuracy: 0.2099 - mean_absolute_error: 0.0437\n",
            "Epoch 2/7\n",
            "59/59 [==============================] - 1s 9ms/step - loss: 0.0028 - accuracy: 0.2503 - mean_absolute_error: 0.0352\n",
            "Epoch 3/7\n",
            "59/59 [==============================] - 1s 9ms/step - loss: 0.0028 - accuracy: 0.1900 - mean_absolute_error: 0.0350\n",
            "Epoch 4/7\n",
            "59/59 [==============================] - 1s 9ms/step - loss: 0.0026 - accuracy: 0.1469 - mean_absolute_error: 0.0340\n",
            "Epoch 5/7\n",
            "59/59 [==============================] - 1s 9ms/step - loss: 0.0026 - accuracy: 0.2018 - mean_absolute_error: 0.0343\n",
            "Epoch 6/7\n",
            "59/59 [==============================] - 1s 14ms/step - loss: 0.0026 - accuracy: 0.1394 - mean_absolute_error: 0.0339\n",
            "Epoch 7/7\n",
            "59/59 [==============================] - 1s 25ms/step - loss: 0.0024 - accuracy: 0.2589 - mean_absolute_error: 0.0331\n",
            "6/6 [==============================] - 0s 5ms/step\n",
            "Epoch 1/7\n",
            "59/59 [==============================] - 3s 12ms/step - loss: 0.0046 - accuracy: 0.0086 - mean_absolute_error: 0.0430\n",
            "Epoch 2/7\n",
            "59/59 [==============================] - 1s 10ms/step - loss: 0.0026 - accuracy: 0.0425 - mean_absolute_error: 0.0344\n",
            "Epoch 3/7\n",
            "59/59 [==============================] - 1s 9ms/step - loss: 0.0025 - accuracy: 0.0124 - mean_absolute_error: 0.0336\n",
            "Epoch 4/7\n",
            "59/59 [==============================] - 1s 10ms/step - loss: 0.0025 - accuracy: 0.0420 - mean_absolute_error: 0.0337\n",
            "Epoch 5/7\n",
            "59/59 [==============================] - 1s 9ms/step - loss: 0.0025 - accuracy: 0.0447 - mean_absolute_error: 0.0331\n",
            "Epoch 6/7\n",
            "59/59 [==============================] - 1s 9ms/step - loss: 0.0025 - accuracy: 0.1098 - mean_absolute_error: 0.0331\n",
            "Epoch 7/7\n",
            "59/59 [==============================] - 1s 9ms/step - loss: 0.0024 - accuracy: 0.1302 - mean_absolute_error: 0.0327\n",
            "6/6 [==============================] - 0s 6ms/step\n",
            "Epoch 1/7\n",
            "59/59 [==============================] - 3s 14ms/step - loss: 0.0050 - accuracy: 0.0059 - mean_absolute_error: 0.0445\n",
            "Epoch 2/7\n",
            "59/59 [==============================] - 1s 10ms/step - loss: 0.0028 - accuracy: 0.0425 - mean_absolute_error: 0.0356\n",
            "Epoch 3/7\n",
            "59/59 [==============================] - 1s 9ms/step - loss: 0.0027 - accuracy: 0.0253 - mean_absolute_error: 0.0345\n",
            "Epoch 4/7\n",
            "59/59 [==============================] - 1s 10ms/step - loss: 0.0026 - accuracy: 0.0474 - mean_absolute_error: 0.0336\n",
            "Epoch 5/7\n",
            "59/59 [==============================] - 1s 10ms/step - loss: 0.0025 - accuracy: 0.0398 - mean_absolute_error: 0.0336\n",
            "Epoch 6/7\n",
            "59/59 [==============================] - 1s 9ms/step - loss: 0.0025 - accuracy: 0.0264 - mean_absolute_error: 0.0338\n",
            "Epoch 7/7\n",
            "59/59 [==============================] - 1s 9ms/step - loss: 0.0025 - accuracy: 0.0355 - mean_absolute_error: 0.0331\n",
            "6/6 [==============================] - 0s 5ms/step\n"
          ]
        }
      ]
    },
    {
      "cell_type": "code",
      "source": [
        "Accuracy"
      ],
      "metadata": {
        "id": "MNr7XOQK_Dhu",
        "colab": {
          "base_uri": "https://localhost:8080/"
        },
        "outputId": "fca0e081-c9e4-4ffd-971f-3ae2bb0be94a"
      },
      "id": "MNr7XOQK_Dhu",
      "execution_count": 122,
      "outputs": [
        {
          "output_type": "execute_result",
          "data": {
            "text/plain": [
              "[58.68214396264144,\n",
              " 53.27347261441264,\n",
              " 53.64951677010594,\n",
              " 58.69121663722282,\n",
              " 50.500467149836645,\n",
              " 48.72557701823473,\n",
              " 54.14035965995612,\n",
              " 57.794149913736014,\n",
              " 53.47844562838462,\n",
              " 60.79356523988222,\n",
              " 56.18464752445662,\n",
              " 51.97032675118221,\n",
              " 57.707694076332835,\n",
              " 51.85704914903645,\n",
              " 62.1825779396028]"
            ]
          },
          "metadata": {},
          "execution_count": 122
        }
      ]
    },
    {
      "cell_type": "code",
      "source": [
        "RMSE"
      ],
      "metadata": {
        "id": "Du-FhKl5_Mkv",
        "colab": {
          "base_uri": "https://localhost:8080/"
        },
        "outputId": "71cc2a7f-5e09-4412-9169-2e5fc12e30c2"
      },
      "id": "Du-FhKl5_Mkv",
      "execution_count": 123,
      "outputs": [
        {
          "output_type": "execute_result",
          "data": {
            "text/plain": [
              "[0.0030155346658981086,\n",
              " 0.0031051380749277024,\n",
              " 0.0030590204649545904,\n",
              " 0.0030393153489874283,\n",
              " 0.003173426831001715,\n",
              " 0.003211251255128219,\n",
              " 0.0030625655590990225,\n",
              " 0.0030143868225360336,\n",
              " 0.003061828774130859,\n",
              " 0.0030133976181736734,\n",
              " 0.003041250541015052,\n",
              " 0.0031058728698891615,\n",
              " 0.003035743532632238,\n",
              " 0.003118910589921772,\n",
              " 0.003138571350994346]"
            ]
          },
          "metadata": {},
          "execution_count": 123
        }
      ]
    },
    {
      "cell_type": "code",
      "source": [
        "Quasilikelihood"
      ],
      "metadata": {
        "id": "gBhrIf6X_MiK",
        "colab": {
          "base_uri": "https://localhost:8080/"
        },
        "outputId": "f8b4c6d8-910d-4928-b868-f5b18336c443"
      },
      "id": "gBhrIf6X_MiK",
      "execution_count": 124,
      "outputs": [
        {
          "output_type": "execute_result",
          "data": {
            "text/plain": [
              "[0.12612684747271274,\n",
              " 0.14455017591319352,\n",
              " 0.14251973883522562,\n",
              " 0.1268496599182038,\n",
              " 0.15467383086650457,\n",
              " 0.16166495389796498,\n",
              " 0.14112936447627827,\n",
              " 0.12812418381119342,\n",
              " 0.14371264210760876,\n",
              " 0.12089311195569397,\n",
              " 0.13394363838688866,\n",
              " 0.14885512426699263,\n",
              " 0.1292328975976968,\n",
              " 0.1484144031789606,\n",
              " 0.12072253281717844]"
            ]
          },
          "metadata": {},
          "execution_count": 124
        }
      ]
    },
    {
      "cell_type": "code",
      "source": [
        "# Best model\n",
        "plt.plot(df_for_date[\"Date\"][:len(test)], test)\n",
        "plt.plot(df_for_date[\"Date\"][:len(test)], true_predictions)  \n",
        "plt.ylabel(\"S&P 500 Realized Volatility\")\n",
        "plt.legend(['Actuals', 'Forecasts'])"
      ],
      "metadata": {
        "id": "VXvzEG89_DfF",
        "colab": {
          "base_uri": "https://localhost:8080/",
          "height": 448
        },
        "outputId": "0a903f18-7f0f-4880-9081-cf96a2dc3855"
      },
      "id": "VXvzEG89_DfF",
      "execution_count": 125,
      "outputs": [
        {
          "output_type": "execute_result",
          "data": {
            "text/plain": [
              "<matplotlib.legend.Legend at 0x7fc0f3c44c10>"
            ]
          },
          "metadata": {},
          "execution_count": 125
        },
        {
          "output_type": "display_data",
          "data": {
            "text/plain": [
              "<Figure size 640x480 with 1 Axes>"
            ],
            "image/png": "[encoded data removed]"
          },
          "metadata": {}
        }
      ]
    },
    {
      "cell_type": "markdown",
      "source": [
        "# H=22 Forecasts"
      ],
      "metadata": {
        "id": "XQncAgX5_BJy"
      },
      "id": "XQncAgX5_BJy"
    },
    {
      "cell_type": "code",
      "source": [
        "len(test)%22"
      ],
      "metadata": {
        "id": "82z16c5cAmYb",
        "colab": {
          "base_uri": "https://localhost:8080/"
        },
        "outputId": "685e32e3-5acb-4f5a-becb-44180847df4a"
      },
      "id": "82z16c5cAmYb",
      "execution_count": 126,
      "outputs": [
        {
          "output_type": "execute_result",
          "data": {
            "text/plain": [
              "12"
            ]
          },
          "metadata": {},
          "execution_count": 126
        }
      ]
    },
    {
      "cell_type": "code",
      "source": [
        "RMSE = []\n",
        "Accuracy = []\n",
        "Quasilikelihood=[]"
      ],
      "metadata": {
        "id": "zl3k9qGE_DF3"
      },
      "id": "zl3k9qGE_DF3",
      "execution_count": 127,
      "outputs": []
    },
    {
      "cell_type": "code",
      "source": [
        "def df_to_X_y(window_size,test,scaled_test_input):\n",
        "  X=[]\n",
        "  y=[]\n",
        "  for i in range(int(len(test)/22)):\n",
        "    row = [[a] for a in scaled_test_input[i*22:(i*22)+window_size]]\n",
        "    X.append(row)\n",
        "  return np.array(X)"
      ],
      "metadata": {
        "id": "d78MXXhK_nta"
      },
      "id": "d78MXXhK_nta",
      "execution_count": 128,
      "outputs": []
    },
    {
      "cell_type": "code",
      "source": [
        "for i in range (15):\n",
        "  n_features = 2\n",
        "  n_input = 189\n",
        "  train = df.iloc[:int(len(df['Realised'])*0.7)]\n",
        "  train = train[int(len(train)*0.5):]\n",
        "  test = df.iloc[int(len(df['Realised'])*0.7)-n_input:]\n",
        "  scaler.fit(train)\n",
        "  scaled_train_input = scaler.transform(train)\n",
        "  scaled_test_input = scaler.transform(test)\n",
        "  train = df[\"Realised\"].iloc[:int(len(df['Realised'])*0.7)]\n",
        "  train = train[int(len(train)*0.5):]\n",
        "  test = df[\"Realised\"].iloc[int(len(df['Realised'])*0.7):]\n",
        "  train = train.array.reshape(-1, 1)\n",
        "  test = test.array.reshape(-1, 1)\n",
        "  scaler.fit(train)\n",
        "  scaled_train_target = scaler.transform(train)\n",
        "  scaled_test_target = scaler.transform(test)\n",
        "  generator = TimeseriesGenerator(scaled_train_input, scaled_train_target, length=n_input, batch_size=32)\n",
        "  model = Sequential()\n",
        "  model.add(LSTM(56, activation='tanh', input_shape=(n_input, n_features)))\n",
        "  model.add(Dense(22))\n",
        "  model.compile(optimizer='adam', loss='mse', metrics=[\"accuracy\", \"mean_absolute_error\"])\n",
        "  model.fit(generator,epochs=7)\n",
        "  test=test[:len(test)-17]\n",
        "  X = df_to_X_y(n_input,test,scaled_test_input)\n",
        "  X=X.reshape(int(((len(test)/22))), n_input, n_features)\n",
        "  y_hat=model.predict(X)\n",
        "  y_hat=y_hat.reshape(len(test),1)\n",
        "  true_predictions = scaler.inverse_transform(y_hat)\n",
        "  RMSE.append(np.sum(np.sqrt((test-true_predictions)**2))/len(test))\n",
        "  Accuracy.append((1-np.sum(np.sqrt((test-true_predictions)**2)/test)/(len(test)))*100)\n",
        "  Quasilikelihood.append(np.sum(true_predictions/test-np.log(true_predictions/test)-1)/len(test))"
      ],
      "metadata": {
        "id": "J72QzSOk_Xfd",
        "colab": {
          "base_uri": "https://localhost:8080/"
        },
        "outputId": "1691a66b-dde5-4f85-a324-e9a0cb447374"
      },
      "id": "J72QzSOk_Xfd",
      "execution_count": 130,
      "outputs": [
        {
          "output_type": "stream",
          "name": "stdout",
          "text": [
            "Epoch 1/7\n",
            "59/59 [==============================] - 3s 13ms/step - loss: 0.0057 - accuracy: 0.0361 - mean_absolute_error: 0.0487\n",
            "Epoch 2/7\n",
            "59/59 [==============================] - 1s 13ms/step - loss: 0.0030 - accuracy: 0.0226 - mean_absolute_error: 0.0361\n",
            "Epoch 3/7\n",
            "59/59 [==============================] - 1s 13ms/step - loss: 0.0026 - accuracy: 0.0097 - mean_absolute_error: 0.0343\n",
            "Epoch 4/7\n",
            "59/59 [==============================] - 1s 9ms/step - loss: 0.0026 - accuracy: 0.0145 - mean_absolute_error: 0.0336\n",
            "Epoch 5/7\n",
            "59/59 [==============================] - 1s 9ms/step - loss: 0.0026 - accuracy: 0.0097 - mean_absolute_error: 0.0338\n",
            "Epoch 6/7\n",
            "59/59 [==============================] - 1s 9ms/step - loss: 0.0025 - accuracy: 0.0161 - mean_absolute_error: 0.0333\n",
            "Epoch 7/7\n",
            "59/59 [==============================] - 1s 9ms/step - loss: 0.0025 - accuracy: 0.0258 - mean_absolute_error: 0.0334\n",
            "3/3 [==============================] - 0s 6ms/step\n",
            "Epoch 1/7\n",
            "59/59 [==============================] - 3s 11ms/step - loss: 0.0041 - accuracy: 0.0000e+00 - mean_absolute_error: 0.0440\n",
            "Epoch 2/7\n",
            "59/59 [==============================] - 1s 9ms/step - loss: 0.0031 - accuracy: 0.0000e+00 - mean_absolute_error: 0.0366\n",
            "Epoch 3/7\n",
            "59/59 [==============================] - 1s 9ms/step - loss: 0.0027 - accuracy: 0.0016 - mean_absolute_error: 0.0355\n",
            "Epoch 4/7\n",
            "59/59 [==============================] - 1s 9ms/step - loss: 0.0026 - accuracy: 5.3821e-04 - mean_absolute_error: 0.0341\n",
            "Epoch 5/7\n",
            "59/59 [==============================] - 1s 9ms/step - loss: 0.0025 - accuracy: 0.0000e+00 - mean_absolute_error: 0.0337\n",
            "Epoch 6/7\n",
            "59/59 [==============================] - 1s 9ms/step - loss: 0.0025 - accuracy: 0.0000e+00 - mean_absolute_error: 0.0335\n",
            "Epoch 7/7\n",
            "59/59 [==============================] - 1s 9ms/step - loss: 0.0025 - accuracy: 0.0016 - mean_absolute_error: 0.0334\n",
            "3/3 [==============================] - 0s 5ms/step\n",
            "Epoch 1/7\n",
            "59/59 [==============================] - 3s 11ms/step - loss: 0.0050 - accuracy: 0.0000e+00 - mean_absolute_error: 0.0461\n",
            "Epoch 2/7\n",
            "59/59 [==============================] - 1s 9ms/step - loss: 0.0027 - accuracy: 0.0156 - mean_absolute_error: 0.0351\n",
            "Epoch 3/7\n",
            "59/59 [==============================] - 1s 9ms/step - loss: 0.0027 - accuracy: 0.1475 - mean_absolute_error: 0.0345\n",
            "Epoch 4/7\n",
            "59/59 [==============================] - 1s 9ms/step - loss: 0.0027 - accuracy: 0.0145 - mean_absolute_error: 0.0348\n",
            "Epoch 5/7\n",
            "59/59 [==============================] - 1s 9ms/step - loss: 0.0025 - accuracy: 0.0780 - mean_absolute_error: 0.0337\n",
            "Epoch 6/7\n",
            "59/59 [==============================] - 1s 9ms/step - loss: 0.0025 - accuracy: 0.1308 - mean_absolute_error: 0.0333\n",
            "Epoch 7/7\n",
            "59/59 [==============================] - 1s 9ms/step - loss: 0.0024 - accuracy: 0.0307 - mean_absolute_error: 0.0330\n",
            "3/3 [==============================] - 0s 7ms/step\n",
            "Epoch 1/7\n",
            "59/59 [==============================] - 3s 11ms/step - loss: 0.0048 - accuracy: 0.0000e+00 - mean_absolute_error: 0.0459\n",
            "Epoch 2/7\n",
            "59/59 [==============================] - 1s 9ms/step - loss: 0.0028 - accuracy: 0.0188 - mean_absolute_error: 0.0358\n",
            "Epoch 3/7\n",
            "59/59 [==============================] - 1s 9ms/step - loss: 0.0026 - accuracy: 0.0576 - mean_absolute_error: 0.0343\n",
            "Epoch 4/7\n",
            "59/59 [==============================] - 1s 13ms/step - loss: 0.0026 - accuracy: 0.0140 - mean_absolute_error: 0.0340\n",
            "Epoch 5/7\n",
            "59/59 [==============================] - 1s 14ms/step - loss: 0.0025 - accuracy: 0.1023 - mean_absolute_error: 0.0333\n",
            "Epoch 6/7\n",
            "59/59 [==============================] - 1s 13ms/step - loss: 0.0025 - accuracy: 0.0662 - mean_absolute_error: 0.0337\n",
            "Epoch 7/7\n",
            "59/59 [==============================] - 1s 9ms/step - loss: 0.0025 - accuracy: 0.0463 - mean_absolute_error: 0.0333\n"
          ]
        },
        {
          "output_type": "stream",
          "name": "stderr",
          "text": [
            "WARNING:tensorflow:5 out of the last 16 calls to <function Model.make_predict_function.<locals>.predict_function at 0x7fc0e00a5990> triggered tf.function retracing. Tracing is expensive and the excessive number of tracings could be due to (1) creating @tf.function repeatedly in a loop, (2) passing tensors with different shapes, (3) passing Python objects instead of tensors. For (1), please define your @tf.function outside of the loop. For (2), @tf.function has reduce_retracing=True option that can avoid unnecessary retracing. For (3), please refer to https://www.tensorflow.org/guide/function#controlling_retracing and https://www.tensorflow.org/api_docs/python/tf/function for  more details.\n"
          ]
        },
        {
          "output_type": "stream",
          "name": "stdout",
          "text": [
            "3/3 [==============================] - 0s 7ms/step\n",
            "Epoch 1/7\n",
            "59/59 [==============================] - 3s 11ms/step - loss: 0.0050 - accuracy: 0.0689 - mean_absolute_error: 0.0478\n",
            "Epoch 2/7\n",
            "59/59 [==============================] - 1s 9ms/step - loss: 0.0030 - accuracy: 0.0743 - mean_absolute_error: 0.0363\n",
            "Epoch 3/7\n",
            "59/59 [==============================] - 1s 9ms/step - loss: 0.0027 - accuracy: 0.0102 - mean_absolute_error: 0.0351\n",
            "Epoch 4/7\n",
            "59/59 [==============================] - 1s 9ms/step - loss: 0.0026 - accuracy: 0.0027 - mean_absolute_error: 0.0341\n",
            "Epoch 5/7\n",
            "59/59 [==============================] - 1s 9ms/step - loss: 0.0026 - accuracy: 5.3821e-04 - mean_absolute_error: 0.0336\n",
            "Epoch 6/7\n",
            "59/59 [==============================] - 1s 9ms/step - loss: 0.0025 - accuracy: 0.0210 - mean_absolute_error: 0.0333\n",
            "Epoch 7/7\n",
            "59/59 [==============================] - 1s 9ms/step - loss: 0.0024 - accuracy: 0.0027 - mean_absolute_error: 0.0327\n"
          ]
        },
        {
          "output_type": "stream",
          "name": "stderr",
          "text": [
            "WARNING:tensorflow:5 out of the last 13 calls to <function Model.make_predict_function.<locals>.predict_function at 0x7fc0f15b0790> triggered tf.function retracing. Tracing is expensive and the excessive number of tracings could be due to (1) creating @tf.function repeatedly in a loop, (2) passing tensors with different shapes, (3) passing Python objects instead of tensors. For (1), please define your @tf.function outside of the loop. For (2), @tf.function has reduce_retracing=True option that can avoid unnecessary retracing. For (3), please refer to https://www.tensorflow.org/guide/function#controlling_retracing and https://www.tensorflow.org/api_docs/python/tf/function for  more details.\n"
          ]
        },
        {
          "output_type": "stream",
          "name": "stdout",
          "text": [
            "3/3 [==============================] - 0s 6ms/step\n",
            "Epoch 1/7\n",
            "59/59 [==============================] - 3s 15ms/step - loss: 0.0047 - accuracy: 0.0560 - mean_absolute_error: 0.0459\n",
            "Epoch 2/7\n",
            "59/59 [==============================] - 1s 9ms/step - loss: 0.0029 - accuracy: 0.0054 - mean_absolute_error: 0.0358\n",
            "Epoch 3/7\n",
            "59/59 [==============================] - 1s 10ms/step - loss: 0.0029 - accuracy: 0.0759 - mean_absolute_error: 0.0361\n",
            "Epoch 4/7\n",
            "59/59 [==============================] - 1s 9ms/step - loss: 0.0026 - accuracy: 0.0307 - mean_absolute_error: 0.0346\n",
            "Epoch 5/7\n",
            "59/59 [==============================] - 1s 9ms/step - loss: 0.0025 - accuracy: 0.0888 - mean_absolute_error: 0.0335\n",
            "Epoch 6/7\n",
            "59/59 [==============================] - 1s 9ms/step - loss: 0.0025 - accuracy: 0.0657 - mean_absolute_error: 0.0333\n",
            "Epoch 7/7\n",
            "59/59 [==============================] - 1s 10ms/step - loss: 0.0025 - accuracy: 0.0667 - mean_absolute_error: 0.0331\n",
            "3/3 [==============================] - 0s 6ms/step\n",
            "Epoch 1/7\n",
            "59/59 [==============================] - 3s 11ms/step - loss: 0.0041 - accuracy: 0.0097 - mean_absolute_error: 0.0427\n",
            "Epoch 2/7\n",
            "59/59 [==============================] - 1s 8ms/step - loss: 0.0026 - accuracy: 0.0657 - mean_absolute_error: 0.0342\n",
            "Epoch 3/7\n",
            "59/59 [==============================] - 1s 9ms/step - loss: 0.0026 - accuracy: 0.1410 - mean_absolute_error: 0.0344\n",
            "Epoch 4/7\n",
            "59/59 [==============================] - 1s 9ms/step - loss: 0.0027 - accuracy: 0.2508 - mean_absolute_error: 0.0344\n",
            "Epoch 5/7\n",
            "59/59 [==============================] - 1s 9ms/step - loss: 0.0025 - accuracy: 0.1378 - mean_absolute_error: 0.0334\n",
            "Epoch 6/7\n",
            "59/59 [==============================] - 1s 10ms/step - loss: 0.0025 - accuracy: 0.1954 - mean_absolute_error: 0.0335\n",
            "Epoch 7/7\n",
            "59/59 [==============================] - 1s 13ms/step - loss: 0.0024 - accuracy: 0.1566 - mean_absolute_error: 0.0329\n",
            "3/3 [==============================] - 0s 6ms/step\n",
            "Epoch 1/7\n",
            "59/59 [==============================] - 3s 11ms/step - loss: 0.0041 - accuracy: 0.0043 - mean_absolute_error: 0.0442\n",
            "Epoch 2/7\n",
            "59/59 [==============================] - 1s 9ms/step - loss: 0.0028 - accuracy: 0.0544 - mean_absolute_error: 0.0349\n",
            "Epoch 3/7\n",
            "59/59 [==============================] - 1s 8ms/step - loss: 0.0026 - accuracy: 0.0684 - mean_absolute_error: 0.0338\n",
            "Epoch 4/7\n",
            "59/59 [==============================] - 1s 9ms/step - loss: 0.0027 - accuracy: 0.0571 - mean_absolute_error: 0.0353\n",
            "Epoch 5/7\n",
            "59/59 [==============================] - 1s 9ms/step - loss: 0.0025 - accuracy: 0.0377 - mean_absolute_error: 0.0336\n",
            "Epoch 6/7\n",
            "59/59 [==============================] - 1s 9ms/step - loss: 0.0024 - accuracy: 0.0721 - mean_absolute_error: 0.0335\n",
            "Epoch 7/7\n",
            "59/59 [==============================] - 1s 9ms/step - loss: 0.0026 - accuracy: 0.0414 - mean_absolute_error: 0.0337\n",
            "3/3 [==============================] - 0s 6ms/step\n",
            "Epoch 1/7\n",
            "59/59 [==============================] - 3s 15ms/step - loss: 0.0040 - accuracy: 0.1593 - mean_absolute_error: 0.0421\n",
            "Epoch 2/7\n",
            "59/59 [==============================] - 1s 9ms/step - loss: 0.0028 - accuracy: 0.0673 - mean_absolute_error: 0.0356\n",
            "Epoch 3/7\n",
            "59/59 [==============================] - 1s 9ms/step - loss: 0.0029 - accuracy: 0.2664 - mean_absolute_error: 0.0351\n",
            "Epoch 4/7\n",
            "59/59 [==============================] - 1s 9ms/step - loss: 0.0029 - accuracy: 0.1781 - mean_absolute_error: 0.0365\n",
            "Epoch 5/7\n",
            "59/59 [==============================] - 1s 9ms/step - loss: 0.0026 - accuracy: 0.1141 - mean_absolute_error: 0.0338\n",
            "Epoch 6/7\n",
            "59/59 [==============================] - 1s 9ms/step - loss: 0.0025 - accuracy: 0.1173 - mean_absolute_error: 0.0333\n",
            "Epoch 7/7\n",
            "59/59 [==============================] - 1s 9ms/step - loss: 0.0025 - accuracy: 0.0775 - mean_absolute_error: 0.0336\n",
            "3/3 [==============================] - 0s 6ms/step\n",
            "Epoch 1/7\n",
            "59/59 [==============================] - 3s 11ms/step - loss: 0.0054 - accuracy: 0.0102 - mean_absolute_error: 0.0480\n",
            "Epoch 2/7\n",
            "59/59 [==============================] - 1s 9ms/step - loss: 0.0027 - accuracy: 0.0145 - mean_absolute_error: 0.0349\n",
            "Epoch 3/7\n",
            "59/59 [==============================] - 1s 8ms/step - loss: 0.0027 - accuracy: 0.0226 - mean_absolute_error: 0.0347\n",
            "Epoch 4/7\n",
            "59/59 [==============================] - 1s 9ms/step - loss: 0.0026 - accuracy: 0.0091 - mean_absolute_error: 0.0337\n",
            "Epoch 5/7\n",
            "59/59 [==============================] - 1s 8ms/step - loss: 0.0027 - accuracy: 0.0538 - mean_absolute_error: 0.0343\n",
            "Epoch 6/7\n",
            "59/59 [==============================] - 1s 9ms/step - loss: 0.0026 - accuracy: 0.0624 - mean_absolute_error: 0.0346\n",
            "Epoch 7/7\n",
            "59/59 [==============================] - 1s 12ms/step - loss: 0.0025 - accuracy: 0.0463 - mean_absolute_error: 0.0332\n",
            "3/3 [==============================] - 0s 6ms/step\n",
            "Epoch 1/7\n",
            "59/59 [==============================] - 3s 11ms/step - loss: 0.0054 - accuracy: 0.0205 - mean_absolute_error: 0.0468\n",
            "Epoch 2/7\n",
            "59/59 [==============================] - 1s 9ms/step - loss: 0.0032 - accuracy: 0.0000e+00 - mean_absolute_error: 0.0369\n",
            "Epoch 3/7\n",
            "59/59 [==============================] - 1s 9ms/step - loss: 0.0029 - accuracy: 0.0038 - mean_absolute_error: 0.0369\n",
            "Epoch 4/7\n",
            "59/59 [==============================] - 1s 9ms/step - loss: 0.0026 - accuracy: 0.0011 - mean_absolute_error: 0.0342\n",
            "Epoch 5/7\n",
            "59/59 [==============================] - 1s 9ms/step - loss: 0.0025 - accuracy: 5.3821e-04 - mean_absolute_error: 0.0339\n",
            "Epoch 6/7\n",
            "59/59 [==============================] - 1s 9ms/step - loss: 0.0025 - accuracy: 0.0000e+00 - mean_absolute_error: 0.0333\n",
            "Epoch 7/7\n",
            "59/59 [==============================] - 1s 9ms/step - loss: 0.0025 - accuracy: 0.0000e+00 - mean_absolute_error: 0.0333\n",
            "3/3 [==============================] - 0s 6ms/step\n",
            "Epoch 1/7\n",
            "59/59 [==============================] - 3s 11ms/step - loss: 0.0043 - accuracy: 0.1534 - mean_absolute_error: 0.0455\n",
            "Epoch 2/7\n",
            "59/59 [==============================] - 1s 9ms/step - loss: 0.0027 - accuracy: 0.1302 - mean_absolute_error: 0.0343\n",
            "Epoch 3/7\n",
            "59/59 [==============================] - 1s 13ms/step - loss: 0.0034 - accuracy: 0.0264 - mean_absolute_error: 0.0393\n",
            "Epoch 4/7\n",
            "59/59 [==============================] - 1s 13ms/step - loss: 0.0027 - accuracy: 0.0673 - mean_absolute_error: 0.0347\n",
            "Epoch 5/7\n",
            "59/59 [==============================] - 1s 11ms/step - loss: 0.0026 - accuracy: 0.0802 - mean_absolute_error: 0.0338\n",
            "Epoch 6/7\n",
            "59/59 [==============================] - 1s 9ms/step - loss: 0.0025 - accuracy: 0.0748 - mean_absolute_error: 0.0336\n",
            "Epoch 7/7\n",
            "59/59 [==============================] - 1s 9ms/step - loss: 0.0025 - accuracy: 0.0732 - mean_absolute_error: 0.0341\n",
            "3/3 [==============================] - 0s 6ms/step\n",
            "Epoch 1/7\n",
            "59/59 [==============================] - 3s 11ms/step - loss: 0.0047 - accuracy: 0.0065 - mean_absolute_error: 0.0454\n",
            "Epoch 2/7\n",
            "59/59 [==============================] - 1s 9ms/step - loss: 0.0028 - accuracy: 0.0178 - mean_absolute_error: 0.0348\n",
            "Epoch 3/7\n",
            "59/59 [==============================] - 1s 9ms/step - loss: 0.0026 - accuracy: 0.0000e+00 - mean_absolute_error: 0.0347\n",
            "Epoch 4/7\n",
            "59/59 [==============================] - 1s 9ms/step - loss: 0.0026 - accuracy: 0.0043 - mean_absolute_error: 0.0342\n",
            "Epoch 5/7\n",
            "59/59 [==============================] - 1s 9ms/step - loss: 0.0025 - accuracy: 0.0043 - mean_absolute_error: 0.0336\n",
            "Epoch 6/7\n",
            "59/59 [==============================] - 1s 10ms/step - loss: 0.0025 - accuracy: 0.0011 - mean_absolute_error: 0.0338\n",
            "Epoch 7/7\n",
            "59/59 [==============================] - 1s 9ms/step - loss: 0.0025 - accuracy: 0.0118 - mean_absolute_error: 0.0331\n",
            "3/3 [==============================] - 0s 6ms/step\n",
            "Epoch 1/7\n",
            "59/59 [==============================] - 4s 13ms/step - loss: 0.0054 - accuracy: 0.0840 - mean_absolute_error: 0.0484\n",
            "Epoch 2/7\n",
            "59/59 [==============================] - 1s 9ms/step - loss: 0.0029 - accuracy: 0.0000e+00 - mean_absolute_error: 0.0358\n",
            "Epoch 3/7\n",
            "59/59 [==============================] - 1s 9ms/step - loss: 0.0027 - accuracy: 0.0000e+00 - mean_absolute_error: 0.0352\n",
            "Epoch 4/7\n",
            "59/59 [==============================] - 1s 9ms/step - loss: 0.0026 - accuracy: 0.0000e+00 - mean_absolute_error: 0.0341\n",
            "Epoch 5/7\n",
            "59/59 [==============================] - 1s 9ms/step - loss: 0.0026 - accuracy: 0.0016 - mean_absolute_error: 0.0339\n",
            "Epoch 6/7\n",
            "59/59 [==============================] - 1s 9ms/step - loss: 0.0025 - accuracy: 0.0022 - mean_absolute_error: 0.0340\n",
            "Epoch 7/7\n",
            "59/59 [==============================] - 1s 9ms/step - loss: 0.0025 - accuracy: 0.0188 - mean_absolute_error: 0.0333\n",
            "3/3 [==============================] - 0s 7ms/step\n",
            "Epoch 1/7\n",
            "59/59 [==============================] - 3s 11ms/step - loss: 0.0038 - accuracy: 0.0016 - mean_absolute_error: 0.0428\n",
            "Epoch 2/7\n",
            "59/59 [==============================] - 1s 10ms/step - loss: 0.0029 - accuracy: 0.0000e+00 - mean_absolute_error: 0.0367\n",
            "Epoch 3/7\n",
            "59/59 [==============================] - 1s 9ms/step - loss: 0.0027 - accuracy: 0.0388 - mean_absolute_error: 0.0350\n",
            "Epoch 4/7\n",
            "59/59 [==============================] - 1s 9ms/step - loss: 0.0025 - accuracy: 0.0231 - mean_absolute_error: 0.0336\n",
            "Epoch 5/7\n",
            "59/59 [==============================] - 1s 11ms/step - loss: 0.0024 - accuracy: 0.0054 - mean_absolute_error: 0.0330\n",
            "Epoch 6/7\n",
            "59/59 [==============================] - 1s 14ms/step - loss: 0.0025 - accuracy: 0.0248 - mean_absolute_error: 0.0331\n",
            "Epoch 7/7\n",
            "59/59 [==============================] - 1s 13ms/step - loss: 0.0024 - accuracy: 0.0242 - mean_absolute_error: 0.0329\n",
            "3/3 [==============================] - 0s 7ms/step\n"
          ]
        }
      ]
    },
    {
      "cell_type": "code",
      "source": [
        "Accuracy"
      ],
      "metadata": {
        "id": "Of7LScIx_XZ3",
        "colab": {
          "base_uri": "https://localhost:8080/"
        },
        "outputId": "c601e0eb-7400-4a54-969a-64b84c94b323"
      },
      "id": "Of7LScIx_XZ3",
      "execution_count": 131,
      "outputs": [
        {
          "output_type": "execute_result",
          "data": {
            "text/plain": [
              "[55.01792053455078,\n",
              " 53.16677648208936,\n",
              " 46.65869467481565,\n",
              " 53.911556169444495,\n",
              " 46.75428664048115,\n",
              " 51.47801604530069,\n",
              " 49.58178945594792,\n",
              " 48.45442378733675,\n",
              " 50.60835982503071,\n",
              " 56.25291392538705,\n",
              " 52.11031486248776,\n",
              " 59.77548348063246,\n",
              " 56.145497734410974,\n",
              " 56.540204665306845,\n",
              " 51.266721633158795]"
            ]
          },
          "metadata": {},
          "execution_count": 131
        }
      ]
    },
    {
      "cell_type": "code",
      "source": [
        "RMSE"
      ],
      "metadata": {
        "id": "JakJ5sME_i3r",
        "colab": {
          "base_uri": "https://localhost:8080/"
        },
        "outputId": "0d910a94-17b4-4d36-ea48-37d0253ce8fb"
      },
      "id": "JakJ5sME_i3r",
      "execution_count": 132,
      "outputs": [
        {
          "output_type": "execute_result",
          "data": {
            "text/plain": [
              "[0.0033296372250202003,\n",
              " 0.003317788013068226,\n",
              " 0.0035436150129694375,\n",
              " 0.0033147579402472097,\n",
              " 0.003455208452020352,\n",
              " 0.0033734081172661114,\n",
              " 0.0034525280780987634,\n",
              " 0.0033974670470118366,\n",
              " 0.0033928750478896285,\n",
              " 0.003281227842588777,\n",
              " 0.0033656044471107862,\n",
              " 0.0032904799902305337,\n",
              " 0.003273144581139633,\n",
              " 0.0032801515160642463,\n",
              " 0.003332868715726916]"
            ]
          },
          "metadata": {},
          "execution_count": 132
        }
      ]
    },
    {
      "cell_type": "code",
      "source": [
        "Quasilikelihood"
      ],
      "metadata": {
        "id": "CIYuM7lB_XQA",
        "colab": {
          "base_uri": "https://localhost:8080/"
        },
        "outputId": "b08023d4-b12a-4726-a264-a050d14a62dc"
      },
      "id": "CIYuM7lB_XQA",
      "execution_count": 133,
      "outputs": [
        {
          "output_type": "execute_result",
          "data": {
            "text/plain": [
              "[0.14487983572528895,\n",
              " 0.15009593991572284,\n",
              " 0.1755745173304809,\n",
              " 0.14791870972411797,\n",
              " 0.17388058636325285,\n",
              " 0.15704595834350843,\n",
              " 0.16445266356644084,\n",
              " 0.16784240130340458,\n",
              " 0.15968857698922073,\n",
              " 0.14086059224206857,\n",
              " 0.15503245875917315,\n",
              " 0.1341544745508453,\n",
              " 0.14110086082537218,\n",
              " 0.14053705959708504,\n",
              " 0.1579717320113305]"
            ]
          },
          "metadata": {},
          "execution_count": 133
        }
      ]
    },
    {
      "cell_type": "code",
      "source": [
        "# Best model\n",
        "plt.plot(df_for_date[\"Date\"][:len(test)], test)\n",
        "plt.plot(df_for_date[\"Date\"][:len(test)], true_predictions)  \n",
        "plt.ylabel(\"S&P 500 Realized Volatility\")\n",
        "plt.legend(['Actuals', 'Forecasts'])"
      ],
      "metadata": {
        "id": "6L-QjSUh_XM4",
        "colab": {
          "base_uri": "https://localhost:8080/",
          "height": 448
        },
        "outputId": "f866392e-bedd-4129-b674-593db95ef938"
      },
      "id": "6L-QjSUh_XM4",
      "execution_count": 134,
      "outputs": [
        {
          "output_type": "execute_result",
          "data": {
            "text/plain": [
              "<matplotlib.legend.Legend at 0x7fc0f3903be0>"
            ]
          },
          "metadata": {},
          "execution_count": 134
        },
        {
          "output_type": "display_data",
          "data": {
            "text/plain": [
              "<Figure size 640x480 with 1 Axes>"
            ],
            "image/png": "[encoded data removed]"
          },
          "metadata": {}
        }
      ]
    },
    {
      "cell_type": "code",
      "source": [],
      "metadata": {
        "id": "ylvbnMehKVop"
      },
      "id": "ylvbnMehKVop",
      "execution_count": null,
      "outputs": []
    }
  ],
  "metadata": {
    "kernelspec": {
      "display_name": "Python 3 (ipykernel)",
      "language": "python",
      "name": "python3"
    },
    "language_info": {
      "codemirror_mode": {
        "name": "ipython",
        "version": 3
      },
      "file_extension": ".py",
      "mimetype": "text/x-python",
      "name": "python",
      "nbconvert_exporter": "python",
      "pygments_lexer": "ipython3",
      "version": "3.9.12"
    },
    "colab": {
      "provenance": [],
      "gpuType": "T4"
    },
    "gpuClass": "standard",
    "accelerator": "GPU"
  },
  "nbformat": 4,
  "nbformat_minor": 5
}