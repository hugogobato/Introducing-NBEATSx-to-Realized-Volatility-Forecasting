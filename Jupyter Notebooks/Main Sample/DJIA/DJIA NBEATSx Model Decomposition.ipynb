{
 "cells": [
  {
   "cell_type": "code",
   "execution_count": 1,
   "id": "4984b7d3",
   "metadata": {},
   "outputs": [],
   "source": [
    "import pandas as pd\n",
    "import numpy as np\n",
    "import matplotlib.pyplot as plt\n",
    "import random"
   ]
  },
  {
   "cell_type": "code",
   "execution_count": 2,
   "id": "9922c45c",
   "metadata": {},
   "outputs": [],
   "source": [
    "from ray import tune"
   ]
  },
  {
   "cell_type": "code",
   "execution_count": 3,
   "id": "be034bcf",
   "metadata": {},
   "outputs": [
    {
     "name": "stderr",
     "output_type": "stream",
     "text": [
      "C:\\Users\\GobatoH\\Anaconda3\\lib\\site-packages\\torchvision\\io\\image.py:13: UserWarning: Failed to load image Python extension: '[WinError 127] Kan opgegeven procedure niet vinden'If you don't plan on using image functionality from `torchvision.io`, you can ignore this warning. Otherwise, there might be something wrong with your environment. Did you have `libjpeg` or `libpng` installed before building `torchvision` from source?\n",
      "  warn(\n"
     ]
    }
   ],
   "source": [
    "from neuralforecast import NeuralForecast\n",
    "from neuralforecast.models import NBEATSx\n",
    "from neuralforecast.losses.pytorch import MQLoss, DistributionLoss, MAE, MSE, RMSE\n",
    "from neuralforecast.tsdataset import TimeSeriesDataset\n",
    "from neuralforecast.losses.numpy import rmse, mape\n",
    "from pandas.tseries.holiday import USFederalHolidayCalendar\n",
    "from pandas.tseries.offsets import CustomBusinessDay"
   ]
  },
  {
   "cell_type": "code",
   "execution_count": 4,
   "id": "b1fa69be",
   "metadata": {},
   "outputs": [],
   "source": [
    "from neuralforecast.models import NHITS"
   ]
  },
  {
   "cell_type": "code",
   "execution_count": 5,
   "id": "66445f54",
   "metadata": {},
   "outputs": [],
   "source": [
    "from neuralforecast.utils import AirPassengers, AirPassengersPanel, AirPassengersStatic"
   ]
  },
  {
   "cell_type": "code",
   "execution_count": 6,
   "id": "3e12b6ea",
   "metadata": {},
   "outputs": [],
   "source": [
    "df = pd.read_excel('DJIA Realized Volatility (NBEATSx).xlsx',index_col='Date',parse_dates=True)"
   ]
  },
  {
   "cell_type": "code",
   "execution_count": 15,
   "id": "a43dc937",
   "metadata": {},
   "outputs": [],
   "source": [
    "Y_train_df = df[:1005]\n",
    "Y_train_df.reset_index(inplace=True)\n",
    "Y_train_df.rename(columns={'Date':'ds'}, inplace=True)\n",
    "Y_train_df.rename(columns={'Realised':'y'}, inplace=True)"
   ]
  },
  {
   "cell_type": "code",
   "execution_count": 16,
   "id": "32cde1f5",
   "metadata": {},
   "outputs": [],
   "source": [
    "Y_test_df = df[1005:1005+15]\n",
    "Y_test_df.reset_index(inplace=True)\n",
    "Y_test_df.rename(columns={'Date':'ds'}, inplace=True)\n",
    "Y_test_df.rename(columns={'Realised':'y'}, inplace=True)"
   ]
  },
  {
   "cell_type": "code",
   "execution_count": 17,
   "id": "dd34555b",
   "metadata": {},
   "outputs": [],
   "source": [
    "dataset, *_ = TimeSeriesDataset.from_df(df = Y_train_df)"
   ]
  },
  {
   "cell_type": "code",
   "execution_count": 18,
   "id": "07e00f29",
   "metadata": {},
   "outputs": [
    {
     "data": {
      "text/html": [
       "<div>\n",
       "<style scoped>\n",
       "    .dataframe tbody tr th:only-of-type {\n",
       "        vertical-align: middle;\n",
       "    }\n",
       "\n",
       "    .dataframe tbody tr th {\n",
       "        vertical-align: top;\n",
       "    }\n",
       "\n",
       "    .dataframe thead th {\n",
       "        text-align: right;\n",
       "    }\n",
       "</style>\n",
       "<table border=\"1\" class=\"dataframe\">\n",
       "  <thead>\n",
       "    <tr style=\"text-align: right;\">\n",
       "      <th></th>\n",
       "      <th>ds</th>\n",
       "      <th>unique_id</th>\n",
       "      <th>y</th>\n",
       "      <th>US Financial Turbulence</th>\n",
       "      <th>Covid</th>\n",
       "      <th>VIX</th>\n",
       "    </tr>\n",
       "  </thead>\n",
       "  <tbody>\n",
       "    <tr>\n",
       "      <th>0</th>\n",
       "      <td>2017-11-02</td>\n",
       "      <td>Airline1</td>\n",
       "      <td>0.005718</td>\n",
       "      <td>806.442547</td>\n",
       "      <td>0</td>\n",
       "      <td>9.93</td>\n",
       "    </tr>\n",
       "    <tr>\n",
       "      <th>1</th>\n",
       "      <td>2017-11-03</td>\n",
       "      <td>Airline1</td>\n",
       "      <td>0.002881</td>\n",
       "      <td>702.337034</td>\n",
       "      <td>0</td>\n",
       "      <td>9.14</td>\n",
       "    </tr>\n",
       "    <tr>\n",
       "      <th>2</th>\n",
       "      <td>2017-11-06</td>\n",
       "      <td>Airline1</td>\n",
       "      <td>0.001528</td>\n",
       "      <td>529.197112</td>\n",
       "      <td>0</td>\n",
       "      <td>9.40</td>\n",
       "    </tr>\n",
       "    <tr>\n",
       "      <th>3</th>\n",
       "      <td>2017-11-07</td>\n",
       "      <td>Airline1</td>\n",
       "      <td>0.003651</td>\n",
       "      <td>512.157114</td>\n",
       "      <td>0</td>\n",
       "      <td>9.89</td>\n",
       "    </tr>\n",
       "    <tr>\n",
       "      <th>4</th>\n",
       "      <td>2017-11-08</td>\n",
       "      <td>Airline1</td>\n",
       "      <td>0.001921</td>\n",
       "      <td>493.752126</td>\n",
       "      <td>0</td>\n",
       "      <td>9.78</td>\n",
       "    </tr>\n",
       "    <tr>\n",
       "      <th>...</th>\n",
       "      <td>...</td>\n",
       "      <td>...</td>\n",
       "      <td>...</td>\n",
       "      <td>...</td>\n",
       "      <td>...</td>\n",
       "      <td>...</td>\n",
       "    </tr>\n",
       "    <tr>\n",
       "      <th>1000</th>\n",
       "      <td>2021-10-25</td>\n",
       "      <td>Airline1</td>\n",
       "      <td>0.002847</td>\n",
       "      <td>404.686444</td>\n",
       "      <td>0</td>\n",
       "      <td>15.24</td>\n",
       "    </tr>\n",
       "    <tr>\n",
       "      <th>1001</th>\n",
       "      <td>2021-10-26</td>\n",
       "      <td>Airline1</td>\n",
       "      <td>0.003484</td>\n",
       "      <td>616.042317</td>\n",
       "      <td>0</td>\n",
       "      <td>15.98</td>\n",
       "    </tr>\n",
       "    <tr>\n",
       "      <th>1002</th>\n",
       "      <td>2021-10-27</td>\n",
       "      <td>Airline1</td>\n",
       "      <td>0.004295</td>\n",
       "      <td>739.161544</td>\n",
       "      <td>0</td>\n",
       "      <td>16.98</td>\n",
       "    </tr>\n",
       "    <tr>\n",
       "      <th>1003</th>\n",
       "      <td>2021-10-28</td>\n",
       "      <td>Airline1</td>\n",
       "      <td>0.002801</td>\n",
       "      <td>679.375691</td>\n",
       "      <td>0</td>\n",
       "      <td>16.53</td>\n",
       "    </tr>\n",
       "    <tr>\n",
       "      <th>1004</th>\n",
       "      <td>2021-10-29</td>\n",
       "      <td>Airline1</td>\n",
       "      <td>0.003812</td>\n",
       "      <td>596.161184</td>\n",
       "      <td>0</td>\n",
       "      <td>16.26</td>\n",
       "    </tr>\n",
       "  </tbody>\n",
       "</table>\n",
       "<p>1005 rows × 6 columns</p>\n",
       "</div>"
      ],
      "text/plain": [
       "             ds unique_id         y  US Financial Turbulence  Covid    VIX\n",
       "0    2017-11-02  Airline1  0.005718               806.442547      0   9.93\n",
       "1    2017-11-03  Airline1  0.002881               702.337034      0   9.14\n",
       "2    2017-11-06  Airline1  0.001528               529.197112      0   9.40\n",
       "3    2017-11-07  Airline1  0.003651               512.157114      0   9.89\n",
       "4    2017-11-08  Airline1  0.001921               493.752126      0   9.78\n",
       "...         ...       ...       ...                      ...    ...    ...\n",
       "1000 2021-10-25  Airline1  0.002847               404.686444      0  15.24\n",
       "1001 2021-10-26  Airline1  0.003484               616.042317      0  15.98\n",
       "1002 2021-10-27  Airline1  0.004295               739.161544      0  16.98\n",
       "1003 2021-10-28  Airline1  0.002801               679.375691      0  16.53\n",
       "1004 2021-10-29  Airline1  0.003812               596.161184      0  16.26\n",
       "\n",
       "[1005 rows x 6 columns]"
      ]
     },
     "execution_count": 18,
     "metadata": {},
     "output_type": "execute_result"
    }
   ],
   "source": [
    "Y_train_df"
   ]
  },
  {
   "cell_type": "code",
   "execution_count": 24,
   "id": "f8e7016c",
   "metadata": {},
   "outputs": [
    {
     "name": "stderr",
     "output_type": "stream",
     "text": [
      "Global seed set to 993759\n"
     ]
    },
    {
     "data": {
      "application/vnd.jupyter.widget-view+json": {
       "model_id": "",
       "version_major": 2,
       "version_minor": 0
      },
      "text/plain": [
       "Sanity Checking: 0it [00:00, ?it/s]"
      ]
     },
     "metadata": {},
     "output_type": "display_data"
    },
    {
     "data": {
      "application/vnd.jupyter.widget-view+json": {
       "model_id": "70c8e37371c24899907439d84070a915",
       "version_major": 2,
       "version_minor": 0
      },
      "text/plain": [
       "Training: 0it [00:00, ?it/s]"
      ]
     },
     "metadata": {},
     "output_type": "display_data"
    },
    {
     "data": {
      "application/vnd.jupyter.widget-view+json": {
       "model_id": "",
       "version_major": 2,
       "version_minor": 0
      },
      "text/plain": [
       "Validation: 0it [00:00, ?it/s]"
      ]
     },
     "metadata": {},
     "output_type": "display_data"
    },
    {
     "data": {
      "application/vnd.jupyter.widget-view+json": {
       "model_id": "",
       "version_major": 2,
       "version_minor": 0
      },
      "text/plain": [
       "Validation: 0it [00:00, ?it/s]"
      ]
     },
     "metadata": {},
     "output_type": "display_data"
    },
    {
     "data": {
      "application/vnd.jupyter.widget-view+json": {
       "model_id": "",
       "version_major": 2,
       "version_minor": 0
      },
      "text/plain": [
       "Validation: 0it [00:00, ?it/s]"
      ]
     },
     "metadata": {},
     "output_type": "display_data"
    },
    {
     "data": {
      "application/vnd.jupyter.widget-view+json": {
       "model_id": "",
       "version_major": 2,
       "version_minor": 0
      },
      "text/plain": [
       "Validation: 0it [00:00, ?it/s]"
      ]
     },
     "metadata": {},
     "output_type": "display_data"
    },
    {
     "data": {
      "application/vnd.jupyter.widget-view+json": {
       "model_id": "",
       "version_major": 2,
       "version_minor": 0
      },
      "text/plain": [
       "Validation: 0it [00:00, ?it/s]"
      ]
     },
     "metadata": {},
     "output_type": "display_data"
    },
    {
     "data": {
      "application/vnd.jupyter.widget-view+json": {
       "model_id": "6bcd8d060d1e43ef812eb096d883713b",
       "version_major": 2,
       "version_minor": 0
      },
      "text/plain": [
       "Predicting: 0it [00:00, ?it/s]"
      ]
     },
     "metadata": {},
     "output_type": "display_data"
    }
   ],
   "source": [
    "model = NBEATSx(h=1, input_size=84,\n",
    "                loss=MSE(),\n",
    "                scaler_type='robust',\n",
    "                learning_rate=0.0001,\n",
    "                stack_types=['identity','identity'],\n",
    "                n_blocks=[1, 1],\n",
    "                mlp_units=[[712, 712], [712, 712]],\n",
    "                windows_batch_size=30,\n",
    "                num_lr_decays=4,\n",
    "                val_check_steps=100,\n",
    "                n_harmonics=0, n_polynomials=0,\n",
    "                hist_exog_list=['VIX', 'US Financial Turbulence', 'Covid'],\n",
    "                max_steps=50,\n",
    "                early_stop_patience_steps=0,\n",
    "                random_seed=random.randint(0, 1000000))\n",
    "model.fit(dataset=dataset)\n",
    "dataset2 = dataset.update_dataset(dataset, Y_test_df)\n",
    "model.set_test_size(15)\n",
    "y_hat = model.predict(dataset=dataset2)\n"
   ]
  },
  {
   "cell_type": "code",
   "execution_count": 25,
   "id": "b2f2a7d6",
   "metadata": {},
   "outputs": [
    {
     "data": {
      "text/plain": [
       "<AxesSubplot:xlabel='ds'>"
      ]
     },
     "execution_count": 25,
     "metadata": {},
     "output_type": "execute_result"
    },
    {
     "data": {
      "image/png": "[encoded data removed]",
      "text/plain": [
       "<Figure size 432x288 with 1 Axes>"
      ]
     },
     "metadata": {
      "needs_background": "light"
     },
     "output_type": "display_data"
    }
   ],
   "source": [
    "Y_test_df['NBEATSx'] = y_hat\n",
    "\n",
    "pd.concat([Y_test_df]).drop(['unique_id','VIX', 'US Financial Turbulence', 'Covid'], axis=1).set_index('ds').plot()"
   ]
  },
  {
   "cell_type": "code",
   "execution_count": 36,
   "id": "97fa4bb4",
   "metadata": {},
   "outputs": [
    {
     "data": {
      "application/vnd.jupyter.widget-view+json": {
       "model_id": "5c50a07ec5404d42be434f3cd8911175",
       "version_major": 2,
       "version_minor": 0
      },
      "text/plain": [
       "Predicting: 0it [00:00, ?it/s]"
      ]
     },
     "metadata": {},
     "output_type": "display_data"
    }
   ],
   "source": [
    "y_hat = model.decompose(dataset=dataset2)"
   ]
  },
  {
   "cell_type": "code",
   "execution_count": 33,
   "id": "e516c21b",
   "metadata": {},
   "outputs": [
    {
     "data": {
      "application/vnd.jupyter.widget-view+json": {
       "model_id": "f034ea3312564a63a6a01568e75ead14",
       "version_major": 2,
       "version_minor": 0
      },
      "text/plain": [
       "Predicting: 0it [00:00, ?it/s]"
      ]
     },
     "metadata": {},
     "output_type": "display_data"
    }
   ],
   "source": [
    "y_hat = model.predict(dataset=dataset2)"
   ]
  },
  {
   "cell_type": "code",
   "execution_count": 31,
   "id": "fa274b6e",
   "metadata": {},
   "outputs": [
    {
     "data": {
      "text/plain": [
       "(15, 3, 1)"
      ]
     },
     "execution_count": 31,
     "metadata": {},
     "output_type": "execute_result"
    }
   ],
   "source": [
    "y_hat.shape"
   ]
  },
  {
   "cell_type": "code",
   "execution_count": 38,
   "id": "baabc108",
   "metadata": {},
   "outputs": [
    {
     "data": {
      "text/plain": [
       "Text(0, 0.5, 'Exogenous')"
      ]
     },
     "execution_count": 38,
     "metadata": {},
     "output_type": "execute_result"
    },
    {
     "data": {
      "image/png": "[encoded data removed]",
      "text/plain": [
       "<Figure size 720x720 with 4 Axes>"
      ]
     },
     "metadata": {
      "needs_background": "light"
     },
     "output_type": "display_data"
    }
   ],
   "source": [
    "fig, ax = plt.subplots(4, 1, figsize=(10, 10))\n",
    "\n",
    "ax[0].plot(Y_test_df['y'].values, label='True', color=\"#9C9DB2\", linewidth=4)\n",
    "ax[0].plot(y_hat.sum(axis=1).flatten()/3, label='Forecast', color=\"#7B3841\")\n",
    "ax[0].grid()\n",
    "ax[0].legend(prop={'size': 20})\n",
    "for label in (ax[0].get_xticklabels() + ax[0].get_yticklabels()):\n",
    "    label.set_fontsize(18)\n",
    "ax[0].set_ylabel('y', fontsize=20)\n",
    "\n",
    "ax[1].plot(y_hat[:,0], label='level', color=\"#7B3841\")\n",
    "ax[1].grid()\n",
    "ax[1].set_ylabel('Identity 1', fontsize=20)\n",
    "\n",
    "ax[2].plot(y_hat[:,1], label='stack1', color=\"#7B3841\")\n",
    "ax[2].grid()\n",
    "ax[2].set_ylabel('Identity 2', fontsize=20)\n",
    "\n",
    "ax[3].plot(y_hat[:,2], label='stack2', color=\"#D9AE9E\")\n",
    "ax[3].grid()\n",
    "ax[3].set_ylabel('Exogenous', fontsize=20)"
   ]
  },
  {
   "cell_type": "code",
   "execution_count": null,
   "id": "dfcb04d2",
   "metadata": {},
   "outputs": [],
   "source": []
  },
  {
   "cell_type": "code",
   "execution_count": 7,
   "id": "d9f9b003",
   "metadata": {},
   "outputs": [],
   "source": [
    "Y_train = df[:1005]"
   ]
  },
  {
   "cell_type": "code",
   "execution_count": 8,
   "id": "6a837566",
   "metadata": {},
   "outputs": [],
   "source": [
    "Y_train.reset_index(inplace=True)"
   ]
  },
  {
   "cell_type": "code",
   "execution_count": 9,
   "id": "19a690ee",
   "metadata": {},
   "outputs": [],
   "source": [
    "Y_train.rename(columns={'Date':'ds'}, inplace=True)"
   ]
  },
  {
   "cell_type": "code",
   "execution_count": 10,
   "id": "8c817b25",
   "metadata": {},
   "outputs": [],
   "source": [
    "Y_train.rename(columns={'Realised':'y'}, inplace=True)"
   ]
  },
  {
   "cell_type": "code",
   "execution_count": 11,
   "id": "2fd1b941",
   "metadata": {},
   "outputs": [
    {
     "data": {
      "text/html": [
       "<div>\n",
       "<style scoped>\n",
       "    .dataframe tbody tr th:only-of-type {\n",
       "        vertical-align: middle;\n",
       "    }\n",
       "\n",
       "    .dataframe tbody tr th {\n",
       "        vertical-align: top;\n",
       "    }\n",
       "\n",
       "    .dataframe thead th {\n",
       "        text-align: right;\n",
       "    }\n",
       "</style>\n",
       "<table border=\"1\" class=\"dataframe\">\n",
       "  <thead>\n",
       "    <tr style=\"text-align: right;\">\n",
       "      <th></th>\n",
       "      <th>ds</th>\n",
       "      <th>unique_id</th>\n",
       "      <th>y</th>\n",
       "      <th>US Financial Turbulence</th>\n",
       "      <th>Covid</th>\n",
       "      <th>VIX</th>\n",
       "    </tr>\n",
       "  </thead>\n",
       "  <tbody>\n",
       "    <tr>\n",
       "      <th>753</th>\n",
       "      <td>2020-10-30</td>\n",
       "      <td>Airline1</td>\n",
       "      <td>0.014551</td>\n",
       "      <td>715.890512</td>\n",
       "      <td>0</td>\n",
       "      <td>38.02</td>\n",
       "    </tr>\n",
       "    <tr>\n",
       "      <th>754</th>\n",
       "      <td>2020-11-02</td>\n",
       "      <td>Airline1</td>\n",
       "      <td>0.010540</td>\n",
       "      <td>615.136341</td>\n",
       "      <td>0</td>\n",
       "      <td>37.13</td>\n",
       "    </tr>\n",
       "    <tr>\n",
       "      <th>755</th>\n",
       "      <td>2020-11-03</td>\n",
       "      <td>Airline1</td>\n",
       "      <td>0.013271</td>\n",
       "      <td>751.131348</td>\n",
       "      <td>0</td>\n",
       "      <td>35.55</td>\n",
       "    </tr>\n",
       "    <tr>\n",
       "      <th>756</th>\n",
       "      <td>2020-11-04</td>\n",
       "      <td>Airline1</td>\n",
       "      <td>0.020328</td>\n",
       "      <td>833.304523</td>\n",
       "      <td>0</td>\n",
       "      <td>29.57</td>\n",
       "    </tr>\n",
       "    <tr>\n",
       "      <th>757</th>\n",
       "      <td>2020-11-05</td>\n",
       "      <td>Airline1</td>\n",
       "      <td>0.011578</td>\n",
       "      <td>780.247181</td>\n",
       "      <td>0</td>\n",
       "      <td>27.58</td>\n",
       "    </tr>\n",
       "    <tr>\n",
       "      <th>...</th>\n",
       "      <td>...</td>\n",
       "      <td>...</td>\n",
       "      <td>...</td>\n",
       "      <td>...</td>\n",
       "      <td>...</td>\n",
       "      <td>...</td>\n",
       "    </tr>\n",
       "    <tr>\n",
       "      <th>1000</th>\n",
       "      <td>2021-10-25</td>\n",
       "      <td>Airline1</td>\n",
       "      <td>0.002847</td>\n",
       "      <td>404.686444</td>\n",
       "      <td>0</td>\n",
       "      <td>15.24</td>\n",
       "    </tr>\n",
       "    <tr>\n",
       "      <th>1001</th>\n",
       "      <td>2021-10-26</td>\n",
       "      <td>Airline1</td>\n",
       "      <td>0.003484</td>\n",
       "      <td>616.042317</td>\n",
       "      <td>0</td>\n",
       "      <td>15.98</td>\n",
       "    </tr>\n",
       "    <tr>\n",
       "      <th>1002</th>\n",
       "      <td>2021-10-27</td>\n",
       "      <td>Airline1</td>\n",
       "      <td>0.004295</td>\n",
       "      <td>739.161544</td>\n",
       "      <td>0</td>\n",
       "      <td>16.98</td>\n",
       "    </tr>\n",
       "    <tr>\n",
       "      <th>1003</th>\n",
       "      <td>2021-10-28</td>\n",
       "      <td>Airline1</td>\n",
       "      <td>0.002801</td>\n",
       "      <td>679.375691</td>\n",
       "      <td>0</td>\n",
       "      <td>16.53</td>\n",
       "    </tr>\n",
       "    <tr>\n",
       "      <th>1004</th>\n",
       "      <td>2021-10-29</td>\n",
       "      <td>Airline1</td>\n",
       "      <td>0.003812</td>\n",
       "      <td>596.161184</td>\n",
       "      <td>0</td>\n",
       "      <td>16.26</td>\n",
       "    </tr>\n",
       "  </tbody>\n",
       "</table>\n",
       "<p>252 rows × 6 columns</p>\n",
       "</div>"
      ],
      "text/plain": [
       "             ds unique_id         y  US Financial Turbulence  Covid    VIX\n",
       "753  2020-10-30  Airline1  0.014551               715.890512      0  38.02\n",
       "754  2020-11-02  Airline1  0.010540               615.136341      0  37.13\n",
       "755  2020-11-03  Airline1  0.013271               751.131348      0  35.55\n",
       "756  2020-11-04  Airline1  0.020328               833.304523      0  29.57\n",
       "757  2020-11-05  Airline1  0.011578               780.247181      0  27.58\n",
       "...         ...       ...       ...                      ...    ...    ...\n",
       "1000 2021-10-25  Airline1  0.002847               404.686444      0  15.24\n",
       "1001 2021-10-26  Airline1  0.003484               616.042317      0  15.98\n",
       "1002 2021-10-27  Airline1  0.004295               739.161544      0  16.98\n",
       "1003 2021-10-28  Airline1  0.002801               679.375691      0  16.53\n",
       "1004 2021-10-29  Airline1  0.003812               596.161184      0  16.26\n",
       "\n",
       "[252 rows x 6 columns]"
      ]
     },
     "execution_count": 11,
     "metadata": {},
     "output_type": "execute_result"
    }
   ],
   "source": [
    "Y_train.tail(252)"
   ]
  },
  {
   "cell_type": "code",
   "execution_count": 12,
   "id": "08c4dea5",
   "metadata": {},
   "outputs": [
    {
     "data": {
      "text/plain": [
       "<AxesSubplot:>"
      ]
     },
     "execution_count": 12,
     "metadata": {},
     "output_type": "execute_result"
    },
    {
     "data": {
      "image/png": "[encoded data removed]",
      "text/plain": [
       "<Figure size 864x432 with 1 Axes>"
      ]
     },
     "metadata": {
      "needs_background": "light"
     },
     "output_type": "display_data"
    }
   ],
   "source": [
    "Y_train[\"y\"].plot(figsize=(12,6))"
   ]
  },
  {
   "cell_type": "markdown",
   "id": "ad1b7f97",
   "metadata": {},
   "source": [
    "# Validation"
   ]
  },
  {
   "cell_type": "code",
   "execution_count": 66,
   "id": "3cb16031",
   "metadata": {},
   "outputs": [],
   "source": [
    "RMSE=[]\n",
    "Accuracy=[]"
   ]
  },
  {
   "cell_type": "code",
   "execution_count": 83,
   "id": "a0f3c253",
   "metadata": {},
   "outputs": [
    {
     "name": "stderr",
     "output_type": "stream",
     "text": [
      "Global seed set to 27621\n"
     ]
    },
    {
     "data": {
      "application/vnd.jupyter.widget-view+json": {
       "model_id": "",
       "version_major": 2,
       "version_minor": 0
      },
      "text/plain": [
       "Sanity Checking: 0it [00:00, ?it/s]"
      ]
     },
     "metadata": {},
     "output_type": "display_data"
    },
    {
     "data": {
      "application/vnd.jupyter.widget-view+json": {
       "model_id": "65729f09a2774897abce83ace11abc36",
       "version_major": 2,
       "version_minor": 0
      },
      "text/plain": [
       "Training: 0it [00:00, ?it/s]"
      ]
     },
     "metadata": {},
     "output_type": "display_data"
    },
    {
     "data": {
      "application/vnd.jupyter.widget-view+json": {
       "model_id": "",
       "version_major": 2,
       "version_minor": 0
      },
      "text/plain": [
       "Validation: 0it [00:00, ?it/s]"
      ]
     },
     "metadata": {},
     "output_type": "display_data"
    },
    {
     "data": {
      "application/vnd.jupyter.widget-view+json": {
       "model_id": "",
       "version_major": 2,
       "version_minor": 0
      },
      "text/plain": [
       "Validation: 0it [00:00, ?it/s]"
      ]
     },
     "metadata": {},
     "output_type": "display_data"
    },
    {
     "data": {
      "application/vnd.jupyter.widget-view+json": {
       "model_id": "",
       "version_major": 2,
       "version_minor": 0
      },
      "text/plain": [
       "Validation: 0it [00:00, ?it/s]"
      ]
     },
     "metadata": {},
     "output_type": "display_data"
    },
    {
     "data": {
      "application/vnd.jupyter.widget-view+json": {
       "model_id": "",
       "version_major": 2,
       "version_minor": 0
      },
      "text/plain": [
       "Validation: 0it [00:00, ?it/s]"
      ]
     },
     "metadata": {},
     "output_type": "display_data"
    },
    {
     "data": {
      "application/vnd.jupyter.widget-view+json": {
       "model_id": "",
       "version_major": 2,
       "version_minor": 0
      },
      "text/plain": [
       "Validation: 0it [00:00, ?it/s]"
      ]
     },
     "metadata": {},
     "output_type": "display_data"
    },
    {
     "data": {
      "application/vnd.jupyter.widget-view+json": {
       "model_id": "",
       "version_major": 2,
       "version_minor": 0
      },
      "text/plain": [
       "Validation: 0it [00:00, ?it/s]"
      ]
     },
     "metadata": {},
     "output_type": "display_data"
    },
    {
     "data": {
      "application/vnd.jupyter.widget-view+json": {
       "model_id": "",
       "version_major": 2,
       "version_minor": 0
      },
      "text/plain": [
       "Validation: 0it [00:00, ?it/s]"
      ]
     },
     "metadata": {},
     "output_type": "display_data"
    },
    {
     "data": {
      "application/vnd.jupyter.widget-view+json": {
       "model_id": "",
       "version_major": 2,
       "version_minor": 0
      },
      "text/plain": [
       "Validation: 0it [00:00, ?it/s]"
      ]
     },
     "metadata": {},
     "output_type": "display_data"
    },
    {
     "data": {
      "application/vnd.jupyter.widget-view+json": {
       "model_id": "",
       "version_major": 2,
       "version_minor": 0
      },
      "text/plain": [
       "Validation: 0it [00:00, ?it/s]"
      ]
     },
     "metadata": {},
     "output_type": "display_data"
    },
    {
     "data": {
      "application/vnd.jupyter.widget-view+json": {
       "model_id": "",
       "version_major": 2,
       "version_minor": 0
      },
      "text/plain": [
       "Validation: 0it [00:00, ?it/s]"
      ]
     },
     "metadata": {},
     "output_type": "display_data"
    },
    {
     "data": {
      "application/vnd.jupyter.widget-view+json": {
       "model_id": "",
       "version_major": 2,
       "version_minor": 0
      },
      "text/plain": [
       "Validation: 0it [00:00, ?it/s]"
      ]
     },
     "metadata": {},
     "output_type": "display_data"
    },
    {
     "data": {
      "application/vnd.jupyter.widget-view+json": {
       "model_id": "",
       "version_major": 2,
       "version_minor": 0
      },
      "text/plain": [
       "Validation: 0it [00:00, ?it/s]"
      ]
     },
     "metadata": {},
     "output_type": "display_data"
    },
    {
     "data": {
      "application/vnd.jupyter.widget-view+json": {
       "model_id": "",
       "version_major": 2,
       "version_minor": 0
      },
      "text/plain": [
       "Validation: 0it [00:00, ?it/s]"
      ]
     },
     "metadata": {},
     "output_type": "display_data"
    },
    {
     "data": {
      "application/vnd.jupyter.widget-view+json": {
       "model_id": "",
       "version_major": 2,
       "version_minor": 0
      },
      "text/plain": [
       "Validation: 0it [00:00, ?it/s]"
      ]
     },
     "metadata": {},
     "output_type": "display_data"
    },
    {
     "data": {
      "application/vnd.jupyter.widget-view+json": {
       "model_id": "",
       "version_major": 2,
       "version_minor": 0
      },
      "text/plain": [
       "Validation: 0it [00:00, ?it/s]"
      ]
     },
     "metadata": {},
     "output_type": "display_data"
    },
    {
     "data": {
      "application/vnd.jupyter.widget-view+json": {
       "model_id": "b2512e07f7094d21aab3377fbc3f9bf7",
       "version_major": 2,
       "version_minor": 0
      },
      "text/plain": [
       "Predicting: 0it [00:00, ?it/s]"
      ]
     },
     "metadata": {},
     "output_type": "display_data"
    }
   ],
   "source": [
    "model = NBEATSx(h=1, input_size=84,\n",
    "                loss=MSE(),\n",
    "                scaler_type='robust',\n",
    "                stat_exog_list=['Covid'],\n",
    "                learning_rate=0.0001,\n",
    "                stack_types=['identity','identity'],\n",
    "                n_blocks=[1, 1],\n",
    "                mlp_units=[[712, 712], [712, 712]],\n",
    "                windows_batch_size=30,\n",
    "                num_lr_decays=4,\n",
    "                val_check_steps=10,\n",
    "                n_harmonics=0, n_polynomials=0,\n",
    "                hist_exog_list=['US Financial Turbulence','VIX'],\n",
    "                max_steps=50,\n",
    "                early_stop_patience_steps=0,\n",
    "                random_seed=27621)\n",
    "fcst = NeuralForecast(\n",
    "    models=[model],\n",
    "    freq=CustomBusinessDay(calendar=USFederalHolidayCalendar())\n",
    ")\n",
    "forecasts = fcst.cross_validation(df=Y_train,val_size=1,static_df=AirPassengersStatic,n_windows=None, test_size=99,step_size=1)"
   ]
  },
  {
   "cell_type": "code",
   "execution_count": 84,
   "id": "75b4722f",
   "metadata": {},
   "outputs": [],
   "source": [
    "Y_hat_df = forecasts.reset_index(drop=False).drop(columns=['unique_id','ds','US Financial Turbulence','VIX','Covid','index','cutoff'])\n",
    "Y_hat=Y_hat_df[\"NBEATSx\"].values\n",
    "Y_true=Y_hat_df[\"y\"].values\n",
    "RMSE.append(rmse(y=Y_true, y_hat=Y_hat))\n",
    "Accuracy.append((1-mape(y=Y_true, y_hat=Y_hat))*100)"
   ]
  },
  {
   "cell_type": "code",
   "execution_count": 85,
   "id": "40930127",
   "metadata": {},
   "outputs": [
    {
     "data": {
      "text/plain": [
       "[0.0010999686346038948,\n",
       " 0.0008799409066722658,\n",
       " 0.0008691956763640826,\n",
       " 0.0008661118545079124,\n",
       " 0.0009775533526908639]"
      ]
     },
     "execution_count": 85,
     "metadata": {},
     "output_type": "execute_result"
    }
   ],
   "source": [
    "RMSE"
   ]
  },
  {
   "cell_type": "code",
   "execution_count": 86,
   "id": "9a3d21c4",
   "metadata": {},
   "outputs": [
    {
     "data": {
      "text/plain": [
       "[82.55739534494553,\n",
       " 88.79299347509274,\n",
       " 90.58889043701075,\n",
       " 90.78196968614989,\n",
       " 84.96007479858618]"
      ]
     },
     "execution_count": 86,
     "metadata": {},
     "output_type": "execute_result"
    }
   ],
   "source": [
    "Accuracy"
   ]
  },
  {
   "cell_type": "markdown",
   "id": "978ce065",
   "metadata": {},
   "source": [
    "Random seed was chosen as the day, month and year of the experiment\n",
    "Input size 21\n",
    "model = NBEATSx(h=1, input_size=21,\n",
    "                loss=MSE(),\n",
    "                scaler_type='robust',\n",
    "                stat_exog_list=['Covid'],\n",
    "                learning_rate=0.0001,\n",
    "                stack_types=['identity','identity'],\n",
    "                n_blocks=[4, 4],\n",
    "                mlp_units=[[712, 712], [712, 712]],\n",
    "                windows_batch_size=30,\n",
    "                num_lr_decays=4,\n",
    "                val_check_steps=10,\n",
    "                n_harmonics=0, n_polynomials=1,\n",
    "                hist_exog_list=['US Financial Turbulence','VIX'],\n",
    "                max_steps=50,\n",
    "                early_stop_patience_steps=0,\n",
    "                random_seed=542023)\n",
    "\n",
    "RMSE=0.0014224637401209096\n",
    "Accuracy=77.11953592852177\n",
    "\n",
    "Input size 63\n",
    "model = NBEATSx(h=1, input_size=63,\n",
    "                loss=MSE(),\n",
    "                scaler_type='robust',\n",
    "                stat_exog_list=['Covid'],\n",
    "                learning_rate=0.0001,\n",
    "                stack_types=['identity','identity'],\n",
    "                n_blocks=[4, 4],\n",
    "                mlp_units=[[712, 712], [712, 712]],\n",
    "                windows_batch_size=30,\n",
    "                num_lr_decays=4,\n",
    "                val_check_steps=10,\n",
    "                n_harmonics=0, n_polynomials=1,\n",
    "                hist_exog_list=['US Financial Turbulence','VIX'],\n",
    "                max_steps=50,\n",
    "                early_stop_patience_steps=0,\n",
    "                random_seed=542023)\n",
    "\n",
    "RMSE=  0.0011565650307235322\n",
    "Accuracy= 81.95014894596436\n",
    "\n",
    "Input size 84\n",
    "model = NBEATSx(h=1, input_size=84,\n",
    "                loss=MSE(),\n",
    "                scaler_type='robust',\n",
    "                stat_exog_list=['Covid'],\n",
    "                learning_rate=0.0001,\n",
    "                stack_types=['identity','identity'],\n",
    "                n_blocks=[4, 4],\n",
    "                mlp_units=[[712, 712], [712, 712]],\n",
    "                windows_batch_size=30,\n",
    "                num_lr_decays=4,\n",
    "                val_check_steps=10,\n",
    "                n_harmonics=0, n_polynomials=1,\n",
    "                hist_exog_list=['US Financial Turbulence','VIX'],\n",
    "                max_steps=50,\n",
    "                early_stop_patience_steps=0,\n",
    "                random_seed=542023)\n",
    "\n",
    "RMSE= 0.0009513329281833965\n",
    "Accuracy= 86.18378420380387\n",
    "\n",
    "Input size 126\n",
    "model = NBEATSx(h=1, input_size=126,\n",
    "                loss=MSE(),\n",
    "                scaler_type='robust',\n",
    "                stat_exog_list=['Covid'],\n",
    "                learning_rate=0.0001,\n",
    "                stack_types=['identity','identity'],\n",
    "                n_blocks=[4, 4],\n",
    "                mlp_units=[[712, 712], [712, 712]],\n",
    "                windows_batch_size=30,\n",
    "                num_lr_decays=4,\n",
    "                val_check_steps=10,\n",
    "                n_harmonics=0, n_polynomials=1,\n",
    "                hist_exog_list=['US Financial Turbulence','VIX'],\n",
    "                max_steps=50,\n",
    "                early_stop_patience_steps=0,\n",
    "                random_seed=542023)\n",
    "\n",
    "RMSE= 0.0010041746984801646\n",
    "Accuracy= 84.98428628645881\n",
    "\n",
    "Input size 189\n",
    "model = NBEATSx(h=1, input_size=189,\n",
    "                loss=MSE(),\n",
    "                scaler_type='robust',\n",
    "                stat_exog_list=['Covid'],\n",
    "                learning_rate=0.0001,\n",
    "                stack_types=['identity','identity'],\n",
    "                n_blocks=[4, 4],\n",
    "                mlp_units=[[712, 712], [712, 712]],\n",
    "                windows_batch_size=30,\n",
    "                num_lr_decays=4,\n",
    "                val_check_steps=10,\n",
    "                n_harmonics=0, n_polynomials=1,\n",
    "                hist_exog_list=['US Financial Turbulence','VIX'],\n",
    "                max_steps=50,\n",
    "                early_stop_patience_steps=0,\n",
    "                random_seed=542023)\n",
    "\n",
    "RMSE= 0.0011199787053421538\n",
    "Accuracy=81.17329908571774\n",
    "\n",
    "Input size 252\n",
    "model = NBEATSx(h=1, input_size=252,\n",
    "                loss=MSE(),\n",
    "                scaler_type='robust',\n",
    "                stat_exog_list=['Covid'],\n",
    "                learning_rate=0.0001,\n",
    "                stack_types=['identity','identity'],\n",
    "                n_blocks=[4, 4],\n",
    "                mlp_units=[[712, 712], [712, 712]],\n",
    "                windows_batch_size=30,\n",
    "                num_lr_decays=4,\n",
    "                val_check_steps=10,\n",
    "                n_harmonics=0, n_polynomials=1,\n",
    "                hist_exog_list=['US Financial Turbulence','VIX'],\n",
    "                max_steps=50,\n",
    "                early_stop_patience_steps=0,\n",
    "                random_seed=542023)\n",
    "\n",
    "RMSE= 0.001040589459814945\n",
    "Accuracy= 83.88190124282649\n",
    "\n",
    "Input size 84 was chosen\n",
    "Changing random seed to 1 for other hyperparameters selection\n",
    "\n",
    "model = NBEATSx(h=1, input_size=84,\n",
    "                loss=MSE(),\n",
    "                scaler_type='robust',\n",
    "                stat_exog_list=['Covid'],\n",
    "                learning_rate=0.0001,\n",
    "                stack_types=['identity','identity'],\n",
    "                n_blocks=[4, 4],\n",
    "                mlp_units=[[712, 712], [712, 712]],\n",
    "                windows_batch_size=30,\n",
    "                num_lr_decays=4,\n",
    "                val_check_steps=10,\n",
    "                n_harmonics=0, n_polynomials=1,\n",
    "                hist_exog_list=['US Financial Turbulence','VIX'],\n",
    "                max_steps=50,\n",
    "                early_stop_patience_steps=0,\n",
    "                random_seed=1)\n",
    "\n",
    "RMSE=0.0011434857978181044\n",
    "Accuracy=81.72393301162977\n",
    "\n",
    "Scaler type = standard\n",
    "model = NBEATSx(h=1, input_size=84,\n",
    "                loss=MSE(),\n",
    "                scaler_type='standard',\n",
    "                stat_exog_list=['Covid'],\n",
    "                learning_rate=0.0001,\n",
    "                stack_types=['identity','identity'],\n",
    "                n_blocks=[4, 4],\n",
    "                mlp_units=[[712, 712], [712, 712]],\n",
    "                windows_batch_size=30,\n",
    "                num_lr_decays=4,\n",
    "                val_check_steps=10,\n",
    "                n_harmonics=0, n_polynomials=1,\n",
    "                hist_exog_list=['US Financial Turbulence','VIX'],\n",
    "                max_steps=50,\n",
    "                early_stop_patience_steps=0,\n",
    "                random_seed=1)\n",
    "\n",
    "RMSE= 0.0011631238331389385\n",
    "Accuracy= 82.65341519722865\n",
    "\n",
    "Robust was chosen as scaler type\n",
    "\n",
    "n_blocks = [1,1]\n",
    "model = NBEATSx(h=1, input_size=84,\n",
    "                loss=MSE(),\n",
    "                scaler_type='robust',\n",
    "                stat_exog_list=['Covid'],\n",
    "                learning_rate=0.0001,\n",
    "                stack_types=['identity','identity'],\n",
    "                n_blocks=[1, 1],\n",
    "                mlp_units=[[712, 712], [712, 712]],\n",
    "                windows_batch_size=30,\n",
    "                num_lr_decays=4,\n",
    "                val_check_steps=10,\n",
    "                n_harmonics=0, n_polynomials=1,\n",
    "                hist_exog_list=['US Financial Turbulence','VIX'],\n",
    "                max_steps=50,\n",
    "                early_stop_patience_steps=0,\n",
    "                random_seed=1)\n",
    "\n",
    "RMSE=0.0009166911728693125\n",
    "Accuracy=88.25705004392843\n",
    "\n",
    "n_blocks = [2,2]\n",
    "model = NBEATSx(h=1, input_size=84,\n",
    "                loss=MSE(),\n",
    "                scaler_type='robust',\n",
    "                stat_exog_list=['Covid'],\n",
    "                learning_rate=0.0001,\n",
    "                stack_types=['identity','identity'],\n",
    "                n_blocks=[2, 2],\n",
    "                mlp_units=[[712, 712], [712, 712]],\n",
    "                windows_batch_size=30,\n",
    "                num_lr_decays=4,\n",
    "                val_check_steps=10,\n",
    "                n_harmonics=0, n_polynomials=1,\n",
    "                hist_exog_list=['US Financial Turbulence','VIX'],\n",
    "                max_steps=50,\n",
    "                early_stop_patience_steps=0,\n",
    "                random_seed=1)\n",
    "\n",
    "RMSE=0.00099139278621615\n",
    "Accuracy=84.84376147268704\n",
    "\n",
    "n_blocks = [3,3]\n",
    "model = NBEATSx(h=1, input_size=84,\n",
    "                loss=MSE(),\n",
    "                scaler_type='robust',\n",
    "                stat_exog_list=['Covid'],\n",
    "                learning_rate=0.0001,\n",
    "                stack_types=['identity','identity'],\n",
    "                n_blocks=[3, 3],\n",
    "                mlp_units=[[712, 712], [712, 712]],\n",
    "                windows_batch_size=30,\n",
    "                num_lr_decays=4,\n",
    "                val_check_steps=10,\n",
    "                n_harmonics=0, n_polynomials=1,\n",
    "                hist_exog_list=['US Financial Turbulence','VIX'],\n",
    "                max_steps=50,\n",
    "                early_stop_patience_steps=0,\n",
    "                random_seed=1)\n",
    "\n",
    "RMSE=0.0010999686346038948\n",
    "Accuracy=82.55739534494553\n",
    "\n",
    "n_blocks = [1,1] was chosen\n",
    "Changing random seed to 27621 for remaning hyperparameters selection\n",
    "\n",
    "model = NBEATSx(h=1, input_size=84,\n",
    "                loss=MSE(),\n",
    "                scaler_type='robust',\n",
    "                stat_exog_list=['Covid'],\n",
    "                learning_rate=0.0001,\n",
    "                stack_types=['identity','identity'],\n",
    "                n_blocks=[4, 4],\n",
    "                mlp_units=[[712, 712], [712, 712]],\n",
    "                windows_batch_size=30,\n",
    "                num_lr_decays=4,\n",
    "                val_check_steps=10,\n",
    "                n_harmonics=0, n_polynomials=1,\n",
    "                hist_exog_list=['US Financial Turbulence','VIX'],\n",
    "                max_steps=50,\n",
    "                early_stop_patience_steps=0,\n",
    "                random_seed=27621)\n",
    "\n",
    "RMSE=0.0008799409066722658\n",
    "Accuracy=88.79299347509274\n",
    "\n",
    "\n",
    "\n",
    "Hyperparameters selection finalized\n"
   ]
  },
  {
   "cell_type": "markdown",
   "id": "e8e2db65",
   "metadata": {},
   "source": [
    "Model choice\n",
    "\n",
    "model = NBEATSx(h=1, input_size=84,\n",
    "                loss=MSE(),\n",
    "                scaler_type='robust',\n",
    "                stat_exog_list=['Covid'],\n",
    "                learning_rate=0.0001,\n",
    "                stack_types=['identity','identity'],\n",
    "                n_blocks=[1, 1],\n",
    "                mlp_units=[[712, 712], [712, 712]],\n",
    "                windows_batch_size=30,\n",
    "                num_lr_decays=4,\n",
    "                val_check_steps=10,\n",
    "                n_harmonics=0, n_polynomials=0,\n",
    "                hist_exog_list=['US Financial Turbulence','VIX'],\n",
    "                max_steps=50,\n",
    "                early_stop_patience_steps=0,\n",
    "                random_seed=27621)"
   ]
  },
  {
   "cell_type": "code",
   "execution_count": 7,
   "id": "5802a89c",
   "metadata": {},
   "outputs": [],
   "source": [
    "Y_train = df\n",
    "Y_train.reset_index(inplace=True)\n",
    "Y_train.rename(columns={'Date':'ds'}, inplace=True)\n",
    "Y_train.rename(columns={'Realised':'y'}, inplace=True)"
   ]
  },
  {
   "cell_type": "code",
   "execution_count": 8,
   "id": "37f18c48",
   "metadata": {},
   "outputs": [],
   "source": [
    "RMSEs=[]\n",
    "Accuracy=[]"
   ]
  },
  {
   "cell_type": "code",
   "execution_count": 9,
   "id": "74cddb3c",
   "metadata": {},
   "outputs": [
    {
     "name": "stderr",
     "output_type": "stream",
     "text": [
      "Global seed set to 310862\n"
     ]
    }
   ],
   "source": [
    "model = NBEATSx(h=1, input_size=84,\n",
    "                loss=MSE(),\n",
    "                scaler_type='robust',\n",
    "                stat_exog_list=['Covid'],\n",
    "                learning_rate=0.0001,\n",
    "                stack_types=['identity','identity'],\n",
    "                n_blocks=[1, 1],\n",
    "                mlp_units=[[712, 712], [712, 712]],\n",
    "                windows_batch_size=30,\n",
    "                num_lr_decays=4,\n",
    "                val_check_steps=10,\n",
    "                n_harmonics=0, n_polynomials=0,\n",
    "                hist_exog_list=['VIX'],\n",
    "                max_steps=50,\n",
    "                early_stop_patience_steps=0,\n",
    "                random_seed=random.randint(0, 1000000))\n",
    "fcst = NeuralForecast(\n",
    "    models=[model],\n",
    "    freq=CustomBusinessDay(calendar=USFederalHolidayCalendar())\n",
    ")\n",
    "\n"
   ]
  },
  {
   "cell_type": "code",
   "execution_count": 180,
   "id": "c8eb4ae3",
   "metadata": {},
   "outputs": [
    {
     "name": "stderr",
     "output_type": "stream",
     "text": [
      "Global seed set to 69124\n"
     ]
    },
    {
     "data": {
      "application/vnd.jupyter.widget-view+json": {
       "model_id": "",
       "version_major": 2,
       "version_minor": 0
      },
      "text/plain": [
       "Sanity Checking: 0it [00:00, ?it/s]"
      ]
     },
     "metadata": {},
     "output_type": "display_data"
    },
    {
     "data": {
      "application/vnd.jupyter.widget-view+json": {
       "model_id": "8d9fd2199c8044d9b1d7bcc00a4e23d1",
       "version_major": 2,
       "version_minor": 0
      },
      "text/plain": [
       "Training: 0it [00:00, ?it/s]"
      ]
     },
     "metadata": {},
     "output_type": "display_data"
    },
    {
     "data": {
      "application/vnd.jupyter.widget-view+json": {
       "model_id": "",
       "version_major": 2,
       "version_minor": 0
      },
      "text/plain": [
       "Validation: 0it [00:00, ?it/s]"
      ]
     },
     "metadata": {},
     "output_type": "display_data"
    },
    {
     "data": {
      "application/vnd.jupyter.widget-view+json": {
       "model_id": "",
       "version_major": 2,
       "version_minor": 0
      },
      "text/plain": [
       "Validation: 0it [00:00, ?it/s]"
      ]
     },
     "metadata": {},
     "output_type": "display_data"
    },
    {
     "data": {
      "application/vnd.jupyter.widget-view+json": {
       "model_id": "",
       "version_major": 2,
       "version_minor": 0
      },
      "text/plain": [
       "Validation: 0it [00:00, ?it/s]"
      ]
     },
     "metadata": {},
     "output_type": "display_data"
    },
    {
     "data": {
      "application/vnd.jupyter.widget-view+json": {
       "model_id": "",
       "version_major": 2,
       "version_minor": 0
      },
      "text/plain": [
       "Validation: 0it [00:00, ?it/s]"
      ]
     },
     "metadata": {},
     "output_type": "display_data"
    },
    {
     "data": {
      "application/vnd.jupyter.widget-view+json": {
       "model_id": "",
       "version_major": 2,
       "version_minor": 0
      },
      "text/plain": [
       "Validation: 0it [00:00, ?it/s]"
      ]
     },
     "metadata": {},
     "output_type": "display_data"
    },
    {
     "data": {
      "application/vnd.jupyter.widget-view+json": {
       "model_id": "",
       "version_major": 2,
       "version_minor": 0
      },
      "text/plain": [
       "Validation: 0it [00:00, ?it/s]"
      ]
     },
     "metadata": {},
     "output_type": "display_data"
    },
    {
     "data": {
      "application/vnd.jupyter.widget-view+json": {
       "model_id": "",
       "version_major": 2,
       "version_minor": 0
      },
      "text/plain": [
       "Validation: 0it [00:00, ?it/s]"
      ]
     },
     "metadata": {},
     "output_type": "display_data"
    },
    {
     "data": {
      "application/vnd.jupyter.widget-view+json": {
       "model_id": "",
       "version_major": 2,
       "version_minor": 0
      },
      "text/plain": [
       "Validation: 0it [00:00, ?it/s]"
      ]
     },
     "metadata": {},
     "output_type": "display_data"
    },
    {
     "data": {
      "application/vnd.jupyter.widget-view+json": {
       "model_id": "",
       "version_major": 2,
       "version_minor": 0
      },
      "text/plain": [
       "Validation: 0it [00:00, ?it/s]"
      ]
     },
     "metadata": {},
     "output_type": "display_data"
    },
    {
     "data": {
      "application/vnd.jupyter.widget-view+json": {
       "model_id": "",
       "version_major": 2,
       "version_minor": 0
      },
      "text/plain": [
       "Validation: 0it [00:00, ?it/s]"
      ]
     },
     "metadata": {},
     "output_type": "display_data"
    },
    {
     "data": {
      "application/vnd.jupyter.widget-view+json": {
       "model_id": "",
       "version_major": 2,
       "version_minor": 0
      },
      "text/plain": [
       "Validation: 0it [00:00, ?it/s]"
      ]
     },
     "metadata": {},
     "output_type": "display_data"
    },
    {
     "data": {
      "application/vnd.jupyter.widget-view+json": {
       "model_id": "",
       "version_major": 2,
       "version_minor": 0
      },
      "text/plain": [
       "Validation: 0it [00:00, ?it/s]"
      ]
     },
     "metadata": {},
     "output_type": "display_data"
    },
    {
     "data": {
      "application/vnd.jupyter.widget-view+json": {
       "model_id": "",
       "version_major": 2,
       "version_minor": 0
      },
      "text/plain": [
       "Validation: 0it [00:00, ?it/s]"
      ]
     },
     "metadata": {},
     "output_type": "display_data"
    },
    {
     "data": {
      "application/vnd.jupyter.widget-view+json": {
       "model_id": "",
       "version_major": 2,
       "version_minor": 0
      },
      "text/plain": [
       "Validation: 0it [00:00, ?it/s]"
      ]
     },
     "metadata": {},
     "output_type": "display_data"
    },
    {
     "data": {
      "application/vnd.jupyter.widget-view+json": {
       "model_id": "",
       "version_major": 2,
       "version_minor": 0
      },
      "text/plain": [
       "Validation: 0it [00:00, ?it/s]"
      ]
     },
     "metadata": {},
     "output_type": "display_data"
    },
    {
     "data": {
      "application/vnd.jupyter.widget-view+json": {
       "model_id": "d64fabd78de0475f99c8d63715f0fb11",
       "version_major": 2,
       "version_minor": 0
      },
      "text/plain": [
       "Predicting: 0it [00:00, ?it/s]"
      ]
     },
     "metadata": {},
     "output_type": "display_data"
    }
   ],
   "source": [
    "model = NBEATSx(h=1, input_size=84,\n",
    "                loss=MSE(),\n",
    "                scaler_type='robust',\n",
    "                stat_exog_list=['Covid'],\n",
    "                learning_rate=0.0001,\n",
    "                stack_types=['identity','identity'],\n",
    "                n_blocks=[1, 1],\n",
    "                mlp_units=[[712, 712], [712, 712]],\n",
    "                windows_batch_size=30,\n",
    "                num_lr_decays=4,\n",
    "                val_check_steps=10,\n",
    "                n_harmonics=0, n_polynomials=0,\n",
    "                hist_exog_list=['VIX'],\n",
    "                max_steps=50,\n",
    "                early_stop_patience_steps=0,\n",
    "                random_seed=random.randint(0, 1000000))\n",
    "fcst = NeuralForecast(\n",
    "    models=[model],\n",
    "    freq=CustomBusinessDay(calendar=USFederalHolidayCalendar())\n",
    ")\n",
    "forecasts = fcst.cross_validation(df=Y_train,val_size=1,static_df=AirPassengersStatic,n_windows=None, test_size=252,step_size=1)"
   ]
  },
  {
   "cell_type": "code",
   "execution_count": 181,
   "id": "c05aa1ca",
   "metadata": {},
   "outputs": [],
   "source": [
    "Y_hat_df = forecasts.reset_index(drop=False).drop(columns=['unique_id','ds','US Financial Turbulence','VIX','Covid','index','cutoff'])\n",
    "Y_hat=Y_hat_df[\"NBEATSx\"].values\n",
    "Y_true=Y_hat_df[\"y\"].values\n",
    "RMSEs.append(rmse(y=Y_true, y_hat=Y_hat))\n",
    "Accuracy.append((1-mape(y=Y_true, y_hat=Y_hat))*100)"
   ]
  },
  {
   "cell_type": "code",
   "execution_count": 192,
   "id": "4c8b19ac",
   "metadata": {},
   "outputs": [
    {
     "data": {
      "text/plain": [
       "[0.0029056234053836724,\n",
       " 0.002936415016351853,\n",
       " 0.002899537560820656,\n",
       " 0.0029137609890778934,\n",
       " 0.002940447089840409,\n",
       " 0.002967435571158036,\n",
       " 0.002960777345100231,\n",
       " 0.0029205792530728504,\n",
       " 0.002953528558115537,\n",
       " 0.002915335287104063,\n",
       " 0.0029586591597438594,\n",
       " 0.002939838800905166,\n",
       " 0.002904184383856103,\n",
       " 0.0029532817523762046,\n",
       " 0.0029431218488099537]"
      ]
     },
     "execution_count": 192,
     "metadata": {},
     "output_type": "execute_result"
    }
   ],
   "source": [
    "RMSEs"
   ]
  },
  {
   "cell_type": "code",
   "execution_count": 193,
   "id": "aee2e5a3",
   "metadata": {},
   "outputs": [
    {
     "data": {
      "text/plain": [
       "[84.66548777904868,\n",
       " 84.4830834874906,\n",
       " 84.15000727664122,\n",
       " 83.70809701280295,\n",
       " 83.49958673753369,\n",
       " 83.98681907697527,\n",
       " 84.13018494585722,\n",
       " 84.83110821033968,\n",
       " 84.15594535157909,\n",
       " 83.54010525401489,\n",
       " 84.05321023261956,\n",
       " 83.71872147060012,\n",
       " 84.33189060886527,\n",
       " 83.38963962006397,\n",
       " 83.59659014634964]"
      ]
     },
     "execution_count": 193,
     "metadata": {},
     "output_type": "execute_result"
    }
   ],
   "source": [
    "Accuracy"
   ]
  },
  {
   "cell_type": "code",
   "execution_count": 147,
   "id": "f7f16825",
   "metadata": {},
   "outputs": [
    {
     "data": {
      "text/plain": [
       "Text(0, 0.5, 'DJIA Realized Volatility')"
      ]
     },
     "execution_count": 147,
     "metadata": {},
     "output_type": "execute_result"
    },
    {
     "data": {
      "image/png": "[encoded data removed]",
      "text/plain": [
       "<Figure size 432x288 with 1 Axes>"
      ]
     },
     "metadata": {
      "needs_background": "light"
     },
     "output_type": "display_data"
    }
   ],
   "source": [
    "plt.plot(range(len(Y_hat)),Y_true)\n",
    "plt.plot(range(len(Y_hat)),Y_hat)\n",
    "plt.ylabel(\"DJIA Realized Volatility\")"
   ]
  },
  {
   "cell_type": "code",
   "execution_count": 194,
   "id": "119348a1",
   "metadata": {},
   "outputs": [],
   "source": [
    "RMSE=RMSEs"
   ]
  },
  {
   "cell_type": "code",
   "execution_count": 195,
   "id": "3e2c8b20",
   "metadata": {},
   "outputs": [
    {
     "name": "stdout",
     "output_type": "stream",
     "text": [
      "mean: 0.293%\n"
     ]
    }
   ],
   "source": [
    "print(\"mean: %s\" %(round(np.mean(RMSE),5)*100)+\"%\")"
   ]
  },
  {
   "cell_type": "code",
   "execution_count": 196,
   "id": "f304f25f",
   "metadata": {},
   "outputs": [
    {
     "name": "stdout",
     "output_type": "stream",
     "text": [
      "stdv: 0.002%\n"
     ]
    }
   ],
   "source": [
    "print(\"stdv: %s\" %(round(np.std(RMSE),5)*100)+\"%\")"
   ]
  },
  {
   "cell_type": "code",
   "execution_count": 197,
   "id": "c16dbc8e",
   "metadata": {},
   "outputs": [
    {
     "name": "stdout",
     "output_type": "stream",
     "text": [
      "95 percent CI lower bound: 0.28900000000000003%\n",
      "95 percent CI upper bound: 0.298%\n"
     ]
    }
   ],
   "source": [
    "RMSE_CI_95_lower_bound=np.mean(RMSE)-2*np.std(RMSE)\n",
    "RMSE_CI_95_upper_bound=np.mean(RMSE)+2*np.std(RMSE)\n",
    "print(\"95 percent CI lower bound: %s\" %(round(RMSE_CI_95_lower_bound,5)*100)+\"%\")\n",
    "print(\"95 percent CI upper bound: %s\" %(round(RMSE_CI_95_upper_bound,5)*100)+\"%\")"
   ]
  },
  {
   "cell_type": "code",
   "execution_count": 198,
   "id": "6670ce18",
   "metadata": {},
   "outputs": [
    {
     "name": "stdout",
     "output_type": "stream",
     "text": [
      "99.7 percent CI lower bound: 0.28700000000000003%\n",
      "99.7 percent CI upper bound: 0.3%\n"
     ]
    }
   ],
   "source": [
    "RMSE_CI_99_lower_bound=np.mean(RMSE)-3*np.std(RMSE)\n",
    "RMSE_CI_99_upper_bound=np.mean(RMSE)+3*np.std(RMSE)\n",
    "print(\"99.7 percent CI lower bound: %s\" %(round(RMSE_CI_99_lower_bound,5)*100)+\"%\")\n",
    "print(\"99.7 percent CI upper bound: %s\" %(round(RMSE_CI_99_upper_bound,5)*100)+\"%\")"
   ]
  },
  {
   "cell_type": "code",
   "execution_count": 199,
   "id": "82a3587f",
   "metadata": {},
   "outputs": [
    {
     "data": {
      "text/plain": [
       "[84.66548777904868,\n",
       " 84.4830834874906,\n",
       " 84.15000727664122,\n",
       " 83.70809701280295,\n",
       " 83.49958673753369,\n",
       " 83.98681907697527,\n",
       " 84.13018494585722,\n",
       " 84.83110821033968,\n",
       " 84.15594535157909,\n",
       " 83.54010525401489,\n",
       " 84.05321023261956,\n",
       " 83.71872147060012,\n",
       " 84.33189060886527,\n",
       " 83.38963962006397,\n",
       " 83.59659014634964]"
      ]
     },
     "execution_count": 199,
     "metadata": {},
     "output_type": "execute_result"
    }
   ],
   "source": [
    "Accuracy"
   ]
  },
  {
   "cell_type": "code",
   "execution_count": 200,
   "id": "0f54f231",
   "metadata": {},
   "outputs": [
    {
     "name": "stdout",
     "output_type": "stream",
     "text": [
      "mean: 84.02%\n"
     ]
    }
   ],
   "source": [
    "print(\"mean: %s\" %(round(np.mean(Accuracy),2))+\"%\")"
   ]
  },
  {
   "cell_type": "code",
   "execution_count": 201,
   "id": "9d84917f",
   "metadata": {},
   "outputs": [
    {
     "name": "stdout",
     "output_type": "stream",
     "text": [
      "stdv: 0.42%\n"
     ]
    }
   ],
   "source": [
    "print(\"stdv: %s\" %(round(np.std(Accuracy),2))+\"%\")"
   ]
  },
  {
   "cell_type": "code",
   "execution_count": 202,
   "id": "99eb3918",
   "metadata": {},
   "outputs": [
    {
     "name": "stdout",
     "output_type": "stream",
     "text": [
      "95 percent CI lower bound: 83.17%\n",
      "95 percent CI upper bound: 84.86%\n"
     ]
    }
   ],
   "source": [
    "Accuracy_CI_95_lower_bound=np.mean(Accuracy)-2*np.std(Accuracy)\n",
    "Accuracy_CI_95_upper_bound=np.mean(Accuracy)+2*np.std(Accuracy)\n",
    "print(\"95 percent CI lower bound: %s\" %round(Accuracy_CI_95_lower_bound,2)+\"%\")\n",
    "print(\"95 percent CI upper bound: %s\" %round(Accuracy_CI_95_upper_bound,2)+\"%\")"
   ]
  },
  {
   "cell_type": "code",
   "execution_count": 203,
   "id": "98cae2ca",
   "metadata": {},
   "outputs": [
    {
     "name": "stdout",
     "output_type": "stream",
     "text": [
      "99.7 percent CI lower bound: 82.74%\n",
      "99.7 percent CI upper bound: 85.29%\n"
     ]
    }
   ],
   "source": [
    "Accuracy_CI_99_lower_bound=np.mean(Accuracy)-3*np.std(Accuracy)\n",
    "Accuracy_CI_99_upper_bound=np.mean(Accuracy)+3*np.std(Accuracy)\n",
    "print(\"99.7 percent CI lower bound: %s\" %round(Accuracy_CI_99_lower_bound,2)+\"%\")\n",
    "print(\"99.7 percent CI upper bound: %s\" %round(Accuracy_CI_99_upper_bound,2)+\"%\")"
   ]
  },
  {
   "cell_type": "code",
   "execution_count": 204,
   "id": "817e4242",
   "metadata": {},
   "outputs": [
    {
     "data": {
      "text/plain": [
       "(array([19012., 19013., 19014., 19015., 19016., 19017., 19018.]),\n",
       " [Text(0, 0, ''),\n",
       "  Text(0, 0, ''),\n",
       "  Text(0, 0, ''),\n",
       "  Text(0, 0, ''),\n",
       "  Text(0, 0, ''),\n",
       "  Text(0, 0, ''),\n",
       "  Text(0, 0, '')])"
      ]
     },
     "execution_count": 204,
     "metadata": {},
     "output_type": "execute_result"
    },
    {
     "data": {
      "image/png": "[encoded data removed]",
      "text/plain": [
       "<Figure size 432x288 with 1 Axes>"
      ]
     },
     "metadata": {
      "needs_background": "light"
     },
     "output_type": "display_data"
    }
   ],
   "source": [
    "plt.plot(forecasts[\"ds\"][55:60],Y_true[55:60])\n",
    "plt.plot(forecasts[\"ds\"][55:60],Y_hat[55:60])\n",
    "plt.xticks(rotation=30)"
   ]
  },
  {
   "cell_type": "code",
   "execution_count": 205,
   "id": "ad6ce738",
   "metadata": {},
   "outputs": [
    {
     "data": {
      "text/plain": [
       "(0.006, 0.028)"
      ]
     },
     "execution_count": 205,
     "metadata": {},
     "output_type": "execute_result"
    },
    {
     "data": {
      "image/png": "[encoded data removed]",
      "text/plain": [
       "<Figure size 432x288 with 1 Axes>"
      ]
     },
     "metadata": {
      "needs_background": "light"
     },
     "output_type": "display_data"
    }
   ],
   "source": [
    "plt.plot(forecasts[\"ds\"][175:180],Y_true[175:180])\n",
    "plt.plot(forecasts[\"ds\"][175:180],Y_hat[175:180])\n",
    "plt.xticks(rotation=30)\n",
    "ax = plt.gca()\n",
    "ax.set_ylim(0.006, 0.028)"
   ]
  },
  {
   "cell_type": "code",
   "execution_count": null,
   "id": "4bf0d683",
   "metadata": {},
   "outputs": [],
   "source": []
  }
 ],
 "metadata": {
  "kernelspec": {
   "display_name": "Python 3 (ipykernel)",
   "language": "python",
   "name": "python3"
  },
  "language_info": {
   "codemirror_mode": {
    "name": "ipython",
    "version": 3
   },
   "file_extension": ".py",
   "mimetype": "text/x-python",
   "name": "python",
   "nbconvert_exporter": "python",
   "pygments_lexer": "ipython3",
   "version": "3.9.12"
  }
 },
 "nbformat": 4,
 "nbformat_minor": 5
}
